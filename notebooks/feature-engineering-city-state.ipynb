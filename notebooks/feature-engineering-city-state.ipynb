{
 "cells": [
  {
   "cell_type": "code",
   "execution_count": 1,
   "id": "c95ab2b8",
   "metadata": {
    "ExecuteTime": {
     "end_time": "2024-10-06T12:18:02.017370Z",
     "start_time": "2024-10-06T12:17:10.068234Z"
    }
   },
   "outputs": [
    {
     "name": "stderr",
     "output_type": "stream",
     "text": [
      "C:\\Users\\HARSHIT JAIN\\anaconda3\\Lib\\site-packages\\pandas\\core\\arrays\\masked.py:60: UserWarning: Pandas requires version '1.3.6' or newer of 'bottleneck' (version '1.3.5' currently installed).\n",
      "  from pandas.core import (\n"
     ]
    }
   ],
   "source": [
    "import pandas as pd\n",
    "import numpy as np\n"
   ]
  },
  {
   "cell_type": "code",
   "execution_count": 2,
   "id": "2a1d5329",
   "metadata": {
    "ExecuteTime": {
     "end_time": "2024-10-06T12:18:02.126537Z",
     "start_time": "2024-10-06T12:18:02.022718Z"
    }
   },
   "outputs": [],
   "source": [
    "pd.set_option('display.max_columns',None)\n",
    "pd.set_option('display.max_rows',None)\n",
    "pd.set_option('display.max_colwidth',None)"
   ]
  },
  {
   "cell_type": "code",
   "execution_count": 3,
   "id": "bbfea331",
   "metadata": {
    "ExecuteTime": {
     "end_time": "2024-10-06T12:18:29.995475Z",
     "start_time": "2024-10-06T12:18:02.126537Z"
    }
   },
   "outputs": [],
   "source": [
    "df = pd.read_csv(r\"C:\\Users\\HARSHIT JAIN\\Desktop\\data science projects\\visit_and_tour_packages_project\\datasets\\merge_city_state.csv\")"
   ]
  },
  {
   "cell_type": "code",
   "execution_count": 4,
   "id": "95e87a44",
   "metadata": {
    "ExecuteTime": {
     "end_time": "2024-10-06T12:18:30.404846Z",
     "start_time": "2024-10-06T12:18:29.995475Z"
    }
   },
   "outputs": [
    {
     "data": {
      "text/html": [
       "<div>\n",
       "<style scoped>\n",
       "    .dataframe tbody tr th:only-of-type {\n",
       "        vertical-align: middle;\n",
       "    }\n",
       "\n",
       "    .dataframe tbody tr th {\n",
       "        vertical-align: top;\n",
       "    }\n",
       "\n",
       "    .dataframe thead th {\n",
       "        text-align: right;\n",
       "    }\n",
       "</style>\n",
       "<table border=\"1\" class=\"dataframe\">\n",
       "  <thead>\n",
       "    <tr style=\"text-align: right;\">\n",
       "      <th></th>\n",
       "      <th>visiting_places</th>\n",
       "      <th>visiting_places_rating</th>\n",
       "      <th>visiting_place_summary</th>\n",
       "      <th>visiting_place_tokenized_summary</th>\n",
       "      <th>distance_from_city_center</th>\n",
       "      <th>cities_name</th>\n",
       "      <th>city_rating</th>\n",
       "      <th>city_summary</th>\n",
       "      <th>city_tokenized_summary</th>\n",
       "      <th>no_of_tourist_attration</th>\n",
       "      <th>best_time_to_visit</th>\n",
       "      <th>states_name</th>\n",
       "    </tr>\n",
       "  </thead>\n",
       "  <tbody>\n",
       "    <tr>\n",
       "      <th>0</th>\n",
       "      <td>borra caves</td>\n",
       "      <td>4.6</td>\n",
       "      <td>borra caves borra guhalu known native language discovered william king george geological survey india 1807</td>\n",
       "      <td>['borra', 'caves', 'borra', 'guhalu', 'known', 'native', 'language', 'discovered', 'william', 'king', 'george', 'geological', 'survey', 'india', '1807']</td>\n",
       "      <td>18.0</td>\n",
       "      <td>araku valley</td>\n",
       "      <td>4.8</td>\n",
       "      <td>araku valley comparatively unexplored hill station mostly visited locals weekend getaway situated 120 kilometres away vishakhapatnam youre tourist looking exclusivity tranquillity vistadome train leaves vishakhapatnam 650 making way 58 tu</td>\n",
       "      <td>['araku', 'valley', 'comparatively', 'unexplored', 'hill', 'station', 'mostly', 'visited', 'locals', 'weekend', 'getaway', 'situated', '120', 'kilometres', 'away', 'vishakhapatnam', 'youre', 'tourist', 'looking', 'exclusivity', 'tranquillity', 'vistadome', 'train', 'leaves', 'vishakhapatnam', '650', 'making', 'way', '58', 'tu']</td>\n",
       "      <td>8.0</td>\n",
       "      <td>september to february</td>\n",
       "      <td>andhra pradesh</td>\n",
       "    </tr>\n",
       "  </tbody>\n",
       "</table>\n",
       "</div>"
      ],
      "text/plain": [
       "  visiting_places  visiting_places_rating  \\\n",
       "0     borra caves                     4.6   \n",
       "\n",
       "                                                                                       visiting_place_summary  \\\n",
       "0  borra caves borra guhalu known native language discovered william king george geological survey india 1807   \n",
       "\n",
       "                                                                                                                           visiting_place_tokenized_summary  \\\n",
       "0  ['borra', 'caves', 'borra', 'guhalu', 'known', 'native', 'language', 'discovered', 'william', 'king', 'george', 'geological', 'survey', 'india', '1807']   \n",
       "\n",
       "   distance_from_city_center   cities_name  city_rating  \\\n",
       "0                       18.0  araku valley          4.8   \n",
       "\n",
       "                                                                                                                                                                                                                                     city_summary  \\\n",
       "0  araku valley comparatively unexplored hill station mostly visited locals weekend getaway situated 120 kilometres away vishakhapatnam youre tourist looking exclusivity tranquillity vistadome train leaves vishakhapatnam 650 making way 58 tu   \n",
       "\n",
       "                                                                                                                                                                                                                                                                                                                      city_tokenized_summary  \\\n",
       "0  ['araku', 'valley', 'comparatively', 'unexplored', 'hill', 'station', 'mostly', 'visited', 'locals', 'weekend', 'getaway', 'situated', '120', 'kilometres', 'away', 'vishakhapatnam', 'youre', 'tourist', 'looking', 'exclusivity', 'tranquillity', 'vistadome', 'train', 'leaves', 'vishakhapatnam', '650', 'making', 'way', '58', 'tu']   \n",
       "\n",
       "   no_of_tourist_attration     best_time_to_visit     states_name  \n",
       "0                      8.0  september to february  andhra pradesh  "
      ]
     },
     "execution_count": 4,
     "metadata": {},
     "output_type": "execute_result"
    }
   ],
   "source": [
    "df.head(1)"
   ]
  },
  {
   "cell_type": "code",
   "execution_count": 5,
   "id": "aec28338",
   "metadata": {
    "ExecuteTime": {
     "end_time": "2024-10-06T12:18:30.974826Z",
     "start_time": "2024-10-06T12:18:30.413462Z"
    }
   },
   "outputs": [
    {
     "name": "stdout",
     "output_type": "stream",
     "text": [
      "<class 'pandas.core.frame.DataFrame'>\n",
      "RangeIndex: 6117 entries, 0 to 6116\n",
      "Data columns (total 12 columns):\n",
      " #   Column                            Non-Null Count  Dtype  \n",
      "---  ------                            --------------  -----  \n",
      " 0   visiting_places                   6117 non-null   object \n",
      " 1   visiting_places_rating            3486 non-null   float64\n",
      " 2   visiting_place_summary            5811 non-null   object \n",
      " 3   visiting_place_tokenized_summary  5811 non-null   object \n",
      " 4   distance_from_city_center         5293 non-null   float64\n",
      " 5   cities_name                       5736 non-null   object \n",
      " 6   city_rating                       5460 non-null   float64\n",
      " 7   city_summary                      5562 non-null   object \n",
      " 8   city_tokenized_summary            5562 non-null   object \n",
      " 9   no_of_tourist_attration           5460 non-null   float64\n",
      " 10  best_time_to_visit                5460 non-null   object \n",
      " 11  states_name                       5562 non-null   object \n",
      "dtypes: float64(4), object(8)\n",
      "memory usage: 573.6+ KB\n"
     ]
    }
   ],
   "source": [
    "df.info()"
   ]
  },
  {
   "cell_type": "code",
   "execution_count": 6,
   "id": "27bc1881",
   "metadata": {
    "ExecuteTime": {
     "end_time": "2024-10-06T12:18:30.983926Z",
     "start_time": "2024-10-06T12:18:30.974826Z"
    }
   },
   "outputs": [
    {
     "data": {
      "text/plain": [
       "(6117, 12)"
      ]
     },
     "execution_count": 6,
     "metadata": {},
     "output_type": "execute_result"
    }
   ],
   "source": [
    "df.shape"
   ]
  },
  {
   "cell_type": "markdown",
   "id": "e6630081",
   "metadata": {},
   "source": [
    "# states_name"
   ]
  },
  {
   "cell_type": "code",
   "execution_count": 7,
   "id": "1f9591be",
   "metadata": {
    "ExecuteTime": {
     "end_time": "2024-10-06T12:19:14.946508Z",
     "start_time": "2024-10-06T12:19:14.914116Z"
    }
   },
   "outputs": [
    {
     "data": {
      "text/plain": [
       "(28,)"
      ]
     },
     "execution_count": 7,
     "metadata": {},
     "output_type": "execute_result"
    }
   ],
   "source": [
    "df['states_name'].value_counts().shape"
   ]
  },
  {
   "cell_type": "code",
   "execution_count": 8,
   "id": "f625f929",
   "metadata": {
    "ExecuteTime": {
     "end_time": "2024-10-06T12:19:15.872049Z",
     "start_time": "2024-10-06T12:19:15.858396Z"
    }
   },
   "outputs": [
    {
     "data": {
      "text/plain": [
       "555"
      ]
     },
     "execution_count": 8,
     "metadata": {},
     "output_type": "execute_result"
    }
   ],
   "source": [
    "df['states_name'].isnull().sum()"
   ]
  },
  {
   "cell_type": "code",
   "execution_count": 9,
   "id": "e68bbeb6",
   "metadata": {
    "ExecuteTime": {
     "end_time": "2024-10-06T12:19:17.398417Z",
     "start_time": "2024-10-06T12:19:17.385917Z"
    }
   },
   "outputs": [
    {
     "data": {
      "text/plain": [
       "states_name\n",
       "kerala               722\n",
       "karnataka            441\n",
       "himachal pradesh     439\n",
       "maharashtra          404\n",
       "rajasthan            357\n",
       "tamil nadu           337\n",
       "gujarat              295\n",
       "uttar pradesh        284\n",
       "uttarakhand          284\n",
       "mp                   277\n",
       "andhra pradesh       248\n",
       "west bengal          212\n",
       "jammu and kashmir    164\n",
       "haryana              150\n",
       "assam                138\n",
       "punjab               133\n",
       "bihar                127\n",
       "telangana            116\n",
       "odisha               105\n",
       "jharkhand             74\n",
       "arunachal pradesh     65\n",
       "sikkim                43\n",
       "chhattisgarh          41\n",
       "meghalaya             40\n",
       "nagaland              20\n",
       "manipur               16\n",
       "mizoram               15\n",
       "tripura               15\n",
       "Name: count, dtype: int64"
      ]
     },
     "execution_count": 9,
     "metadata": {},
     "output_type": "execute_result"
    }
   ],
   "source": [
    "df['states_name'].value_counts()"
   ]
  },
  {
   "cell_type": "code",
   "execution_count": 10,
   "id": "f490d87b",
   "metadata": {
    "ExecuteTime": {
     "end_time": "2024-10-06T12:19:21.767592Z",
     "start_time": "2024-10-06T12:19:21.736151Z"
    }
   },
   "outputs": [],
   "source": [
    "cultural_and_heritage_states = [\n",
    "    \"kerala\",\n",
    "    \"rajasthan\",\n",
    "    \"tamil nadu\",\n",
    "    \"west bengal\",\n",
    "    \"assam\",\n",
    "    \"punjab\",\n",
    "    \"bihar\",\n",
    "    \"haryana\"\n",
    "]\n",
    "\n",
    "\n",
    "natural_and_scenic_states = [\n",
    "    \"himachal pradesh\",\n",
    "    \"uttarakhand\",\n",
    "    \"jammu and kashmir\",\n",
    "    \"meghalaya\",\n",
    "    \"sikkim\",\n",
    "    \"arunachal pradesh\",\n",
    "    \"jharkhand\",\n",
    "    \"nagaland\",\n",
    "    \"tripura\",\n",
    "    \"mizoram\"\n",
    "]\n",
    "\n",
    "\n",
    "commercial_and_technological_states = [\n",
    "    \"maharashtra\",      \n",
    "    \"karnataka\",        \n",
    "    \"telangana\",          \n",
    "    \"gujarat\",           \n",
    "    \"andhra pradesh\",     \n",
    "    \"chhattisgarh\"       \n",
    "]\n",
    "\n",
    "spiritual_and_historical_states = [\n",
    "    \"uttar pradesh\",   \n",
    "    \"odisha\",         \n",
    "    \"mp\",    \n",
    "    \"manipur\"            \n",
    "]"
   ]
  },
  {
   "cell_type": "code",
   "execution_count": 11,
   "id": "6195a71f",
   "metadata": {
    "ExecuteTime": {
     "end_time": "2024-10-06T12:19:35.367899Z",
     "start_time": "2024-10-06T12:19:35.361767Z"
    }
   },
   "outputs": [],
   "source": [
    "def state_type(state_name):\n",
    "    if isinstance(state_name, str): \n",
    "        if state_name in cultural_and_heritage_states:\n",
    "            return 'cultural_and_heritage_state'\n",
    "        elif state_name in natural_and_scenic_states:\n",
    "            return 'natural_and_scenic_state'\n",
    "        elif state_name in commercial_and_technological_states:\n",
    "            return 'commercial_and_technological_state'\n",
    "        elif state_name in spiritual_and_historical_states:\n",
    "            return 'spiritual_and_historical_state'\n",
    "    return None\n"
   ]
  },
  {
   "cell_type": "code",
   "execution_count": 12,
   "id": "8cf285ae",
   "metadata": {
    "ExecuteTime": {
     "end_time": "2024-10-06T12:19:36.108760Z",
     "start_time": "2024-10-06T12:19:36.043205Z"
    }
   },
   "outputs": [],
   "source": [
    "df['state_categories'] = df['states_name'].apply(state_type)"
   ]
  },
  {
   "cell_type": "code",
   "execution_count": 13,
   "id": "1f92d2ec",
   "metadata": {
    "ExecuteTime": {
     "end_time": "2024-10-06T12:19:37.107773Z",
     "start_time": "2024-10-06T12:19:37.085974Z"
    }
   },
   "outputs": [
    {
     "data": {
      "text/html": [
       "<div>\n",
       "<style scoped>\n",
       "    .dataframe tbody tr th:only-of-type {\n",
       "        vertical-align: middle;\n",
       "    }\n",
       "\n",
       "    .dataframe tbody tr th {\n",
       "        vertical-align: top;\n",
       "    }\n",
       "\n",
       "    .dataframe thead th {\n",
       "        text-align: right;\n",
       "    }\n",
       "</style>\n",
       "<table border=\"1\" class=\"dataframe\">\n",
       "  <thead>\n",
       "    <tr style=\"text-align: right;\">\n",
       "      <th></th>\n",
       "      <th>visiting_places</th>\n",
       "      <th>visiting_places_rating</th>\n",
       "      <th>visiting_place_summary</th>\n",
       "      <th>visiting_place_tokenized_summary</th>\n",
       "      <th>distance_from_city_center</th>\n",
       "      <th>cities_name</th>\n",
       "      <th>city_rating</th>\n",
       "      <th>city_summary</th>\n",
       "      <th>city_tokenized_summary</th>\n",
       "      <th>no_of_tourist_attration</th>\n",
       "      <th>best_time_to_visit</th>\n",
       "      <th>states_name</th>\n",
       "      <th>state_categories</th>\n",
       "    </tr>\n",
       "  </thead>\n",
       "  <tbody>\n",
       "    <tr>\n",
       "      <th>0</th>\n",
       "      <td>borra caves</td>\n",
       "      <td>4.6</td>\n",
       "      <td>borra caves borra guhalu known native language discovered william king george geological survey india 1807</td>\n",
       "      <td>['borra', 'caves', 'borra', 'guhalu', 'known', 'native', 'language', 'discovered', 'william', 'king', 'george', 'geological', 'survey', 'india', '1807']</td>\n",
       "      <td>18.0</td>\n",
       "      <td>araku valley</td>\n",
       "      <td>4.8</td>\n",
       "      <td>araku valley comparatively unexplored hill station mostly visited locals weekend getaway situated 120 kilometres away vishakhapatnam youre tourist looking exclusivity tranquillity vistadome train leaves vishakhapatnam 650 making way 58 tu</td>\n",
       "      <td>['araku', 'valley', 'comparatively', 'unexplored', 'hill', 'station', 'mostly', 'visited', 'locals', 'weekend', 'getaway', 'situated', '120', 'kilometres', 'away', 'vishakhapatnam', 'youre', 'tourist', 'looking', 'exclusivity', 'tranquillity', 'vistadome', 'train', 'leaves', 'vishakhapatnam', '650', 'making', 'way', '58', 'tu']</td>\n",
       "      <td>8.0</td>\n",
       "      <td>september to february</td>\n",
       "      <td>andhra pradesh</td>\n",
       "      <td>commercial_and_technological_state</td>\n",
       "    </tr>\n",
       "  </tbody>\n",
       "</table>\n",
       "</div>"
      ],
      "text/plain": [
       "  visiting_places  visiting_places_rating  \\\n",
       "0     borra caves                     4.6   \n",
       "\n",
       "                                                                                       visiting_place_summary  \\\n",
       "0  borra caves borra guhalu known native language discovered william king george geological survey india 1807   \n",
       "\n",
       "                                                                                                                           visiting_place_tokenized_summary  \\\n",
       "0  ['borra', 'caves', 'borra', 'guhalu', 'known', 'native', 'language', 'discovered', 'william', 'king', 'george', 'geological', 'survey', 'india', '1807']   \n",
       "\n",
       "   distance_from_city_center   cities_name  city_rating  \\\n",
       "0                       18.0  araku valley          4.8   \n",
       "\n",
       "                                                                                                                                                                                                                                     city_summary  \\\n",
       "0  araku valley comparatively unexplored hill station mostly visited locals weekend getaway situated 120 kilometres away vishakhapatnam youre tourist looking exclusivity tranquillity vistadome train leaves vishakhapatnam 650 making way 58 tu   \n",
       "\n",
       "                                                                                                                                                                                                                                                                                                                      city_tokenized_summary  \\\n",
       "0  ['araku', 'valley', 'comparatively', 'unexplored', 'hill', 'station', 'mostly', 'visited', 'locals', 'weekend', 'getaway', 'situated', '120', 'kilometres', 'away', 'vishakhapatnam', 'youre', 'tourist', 'looking', 'exclusivity', 'tranquillity', 'vistadome', 'train', 'leaves', 'vishakhapatnam', '650', 'making', 'way', '58', 'tu']   \n",
       "\n",
       "   no_of_tourist_attration     best_time_to_visit     states_name  \\\n",
       "0                      8.0  september to february  andhra pradesh   \n",
       "\n",
       "                     state_categories  \n",
       "0  commercial_and_technological_state  "
      ]
     },
     "execution_count": 13,
     "metadata": {},
     "output_type": "execute_result"
    }
   ],
   "source": [
    "df.head(1)"
   ]
  },
  {
   "cell_type": "code",
   "execution_count": 14,
   "id": "9779b718",
   "metadata": {
    "ExecuteTime": {
     "end_time": "2024-10-06T12:19:44.651125Z",
     "start_time": "2024-10-06T12:19:44.640458Z"
    }
   },
   "outputs": [
    {
     "data": {
      "text/plain": [
       "state_categories\n",
       "cultural_and_heritage_state           2176\n",
       "commercial_and_technological_state    1545\n",
       "natural_and_scenic_state              1159\n",
       "spiritual_and_historical_state         682\n",
       "Name: count, dtype: int64"
      ]
     },
     "execution_count": 14,
     "metadata": {},
     "output_type": "execute_result"
    }
   ],
   "source": [
    "df['state_categories'].value_counts()"
   ]
  },
  {
   "cell_type": "code",
   "execution_count": 15,
   "id": "41c81c77",
   "metadata": {
    "ExecuteTime": {
     "end_time": "2024-10-06T12:19:45.888004Z",
     "start_time": "2024-10-06T12:19:45.878480Z"
    }
   },
   "outputs": [],
   "source": [
    "winter = [\n",
    "    \"kerala\", \n",
    "    \"karnataka\",  \n",
    "    \"rajasthan\", \n",
    "    \"tamil nadu\", \n",
    "    \"gujarat\", \n",
    "    \"uttar pradesh\", \n",
    "    \"west bengal\",\n",
    "    \"andhra pradesh\",\n",
    "    \"mp\",\n",
    "    \"haryana\",\n",
    "    \"punjab\", \"bihar\", \n",
    "    \"telangana\"\n",
    "]\n",
    "\n",
    "monsoon = [\n",
    "    \"maharashtra\"\n",
    "]\n",
    "\n",
    "spring = [ \n",
    "    \"assam\"\n",
    "]\n",
    "\n",
    "autumn = [\n",
    "    \"odisha\", \n",
    "    \"jharkhand\"\n",
    "]\n",
    "\n",
    "summer = [\n",
    "    \"arunachal pradesh\", \n",
    "    \"sikkim\", \n",
    "    \"chhattisgarh\", \n",
    "    \"meghalaya\", \n",
    "    \"nagaland\", \n",
    "    \"manipur\", \n",
    "    \"mizoram\", \n",
    "    \"tripura\",\n",
    "    \"himachal pradesh\",\n",
    "    \"uttarakhand\",\n",
    "    \"jammu and kashmir\"\n",
    "]\n"
   ]
  },
  {
   "cell_type": "code",
   "execution_count": 16,
   "id": "23a3a69a",
   "metadata": {
    "ExecuteTime": {
     "end_time": "2024-10-06T12:19:47.169738Z",
     "start_time": "2024-10-06T12:19:47.161168Z"
    }
   },
   "outputs": [],
   "source": [
    "def state_visit_type(state_name):\n",
    "    if isinstance(state_name, str): \n",
    "        if state_name in winter:\n",
    "            return 'winter'\n",
    "        elif state_name in spring:\n",
    "            return 'spring'\n",
    "        elif state_name in monsoon:\n",
    "            return 'monsoon'\n",
    "        elif state_name in summer:\n",
    "            return 'summer'\n",
    "    return None"
   ]
  },
  {
   "cell_type": "code",
   "execution_count": 17,
   "id": "ccc44428",
   "metadata": {
    "ExecuteTime": {
     "end_time": "2024-10-06T12:19:49.225320Z",
     "start_time": "2024-10-06T12:19:49.205858Z"
    }
   },
   "outputs": [],
   "source": [
    "df['state_visit_type'] = df['states_name'].apply(state_visit_type)"
   ]
  },
  {
   "cell_type": "code",
   "execution_count": 18,
   "id": "6792cfc4",
   "metadata": {
    "ExecuteTime": {
     "end_time": "2024-10-06T12:19:49.548153Z",
     "start_time": "2024-10-06T12:19:49.436717Z"
    }
   },
   "outputs": [
    {
     "data": {
      "text/html": [
       "<div>\n",
       "<style scoped>\n",
       "    .dataframe tbody tr th:only-of-type {\n",
       "        vertical-align: middle;\n",
       "    }\n",
       "\n",
       "    .dataframe tbody tr th {\n",
       "        vertical-align: top;\n",
       "    }\n",
       "\n",
       "    .dataframe thead th {\n",
       "        text-align: right;\n",
       "    }\n",
       "</style>\n",
       "<table border=\"1\" class=\"dataframe\">\n",
       "  <thead>\n",
       "    <tr style=\"text-align: right;\">\n",
       "      <th></th>\n",
       "      <th>visiting_places</th>\n",
       "      <th>visiting_places_rating</th>\n",
       "      <th>visiting_place_summary</th>\n",
       "      <th>visiting_place_tokenized_summary</th>\n",
       "      <th>distance_from_city_center</th>\n",
       "      <th>cities_name</th>\n",
       "      <th>city_rating</th>\n",
       "      <th>city_summary</th>\n",
       "      <th>city_tokenized_summary</th>\n",
       "      <th>no_of_tourist_attration</th>\n",
       "      <th>best_time_to_visit</th>\n",
       "      <th>states_name</th>\n",
       "      <th>state_categories</th>\n",
       "      <th>state_visit_type</th>\n",
       "    </tr>\n",
       "  </thead>\n",
       "  <tbody>\n",
       "    <tr>\n",
       "      <th>0</th>\n",
       "      <td>borra caves</td>\n",
       "      <td>4.6</td>\n",
       "      <td>borra caves borra guhalu known native language discovered william king george geological survey india 1807</td>\n",
       "      <td>['borra', 'caves', 'borra', 'guhalu', 'known', 'native', 'language', 'discovered', 'william', 'king', 'george', 'geological', 'survey', 'india', '1807']</td>\n",
       "      <td>18.0</td>\n",
       "      <td>araku valley</td>\n",
       "      <td>4.8</td>\n",
       "      <td>araku valley comparatively unexplored hill station mostly visited locals weekend getaway situated 120 kilometres away vishakhapatnam youre tourist looking exclusivity tranquillity vistadome train leaves vishakhapatnam 650 making way 58 tu</td>\n",
       "      <td>['araku', 'valley', 'comparatively', 'unexplored', 'hill', 'station', 'mostly', 'visited', 'locals', 'weekend', 'getaway', 'situated', '120', 'kilometres', 'away', 'vishakhapatnam', 'youre', 'tourist', 'looking', 'exclusivity', 'tranquillity', 'vistadome', 'train', 'leaves', 'vishakhapatnam', '650', 'making', 'way', '58', 'tu']</td>\n",
       "      <td>8.0</td>\n",
       "      <td>september to february</td>\n",
       "      <td>andhra pradesh</td>\n",
       "      <td>commercial_and_technological_state</td>\n",
       "      <td>winter</td>\n",
       "    </tr>\n",
       "  </tbody>\n",
       "</table>\n",
       "</div>"
      ],
      "text/plain": [
       "  visiting_places  visiting_places_rating  \\\n",
       "0     borra caves                     4.6   \n",
       "\n",
       "                                                                                       visiting_place_summary  \\\n",
       "0  borra caves borra guhalu known native language discovered william king george geological survey india 1807   \n",
       "\n",
       "                                                                                                                           visiting_place_tokenized_summary  \\\n",
       "0  ['borra', 'caves', 'borra', 'guhalu', 'known', 'native', 'language', 'discovered', 'william', 'king', 'george', 'geological', 'survey', 'india', '1807']   \n",
       "\n",
       "   distance_from_city_center   cities_name  city_rating  \\\n",
       "0                       18.0  araku valley          4.8   \n",
       "\n",
       "                                                                                                                                                                                                                                     city_summary  \\\n",
       "0  araku valley comparatively unexplored hill station mostly visited locals weekend getaway situated 120 kilometres away vishakhapatnam youre tourist looking exclusivity tranquillity vistadome train leaves vishakhapatnam 650 making way 58 tu   \n",
       "\n",
       "                                                                                                                                                                                                                                                                                                                      city_tokenized_summary  \\\n",
       "0  ['araku', 'valley', 'comparatively', 'unexplored', 'hill', 'station', 'mostly', 'visited', 'locals', 'weekend', 'getaway', 'situated', '120', 'kilometres', 'away', 'vishakhapatnam', 'youre', 'tourist', 'looking', 'exclusivity', 'tranquillity', 'vistadome', 'train', 'leaves', 'vishakhapatnam', '650', 'making', 'way', '58', 'tu']   \n",
       "\n",
       "   no_of_tourist_attration     best_time_to_visit     states_name  \\\n",
       "0                      8.0  september to february  andhra pradesh   \n",
       "\n",
       "                     state_categories state_visit_type  \n",
       "0  commercial_and_technological_state           winter  "
      ]
     },
     "execution_count": 18,
     "metadata": {},
     "output_type": "execute_result"
    }
   ],
   "source": [
    "df.head(1)"
   ]
  },
  {
   "cell_type": "code",
   "execution_count": 19,
   "id": "7c69eb15",
   "metadata": {
    "ExecuteTime": {
     "end_time": "2024-10-06T12:19:55.711527Z",
     "start_time": "2024-10-06T12:19:55.693493Z"
    }
   },
   "outputs": [
    {
     "data": {
      "text/plain": [
       "state_visit_type\n",
       "winter     3699\n",
       "summer     1142\n",
       "monsoon     404\n",
       "spring      138\n",
       "Name: count, dtype: int64"
      ]
     },
     "execution_count": 19,
     "metadata": {},
     "output_type": "execute_result"
    }
   ],
   "source": [
    "df['state_visit_type'].value_counts()"
   ]
  },
  {
   "cell_type": "markdown",
   "id": "96b0abab",
   "metadata": {},
   "source": [
    "# best_time_to_visit"
   ]
  },
  {
   "cell_type": "code",
   "execution_count": 20,
   "id": "3b05f293",
   "metadata": {
    "ExecuteTime": {
     "end_time": "2024-10-06T12:19:58.654914Z",
     "start_time": "2024-10-06T12:19:58.638782Z"
    }
   },
   "outputs": [
    {
     "data": {
      "text/plain": [
       "best_time_to_visit\n",
       "october to march                            1626\n",
       "throughout the year                          887\n",
       "july to march                                454\n",
       "october to june                              346\n",
       "september to march                           260\n",
       "october to february                          236\n",
       "november to february                         180\n",
       "september to february                        124\n",
       "september to may                             118\n",
       "november to march                            118\n",
       "october to may                                88\n",
       "april to october                              82\n",
       "october - march                               76\n",
       "october to apr                                72\n",
       "september to june                             69\n",
       "july to april                                 52\n",
       "october - february; april, may                41\n",
       "june to march                                 39\n",
       "december to february                          37\n",
       "september to december, february to march      34\n",
       "october to april                              34\n",
       "february to march, september to december      31\n",
       "march to june                                 29\n",
       "september to apr                              27\n",
       "october-march                                 27\n",
       "march - june; september - november            24\n",
       "november to april                             22\n",
       "april to september                            21\n",
       "mid march to mid november                     20\n",
       "august to march                               20\n",
       "april to june, october to december            20\n",
       "july to february                              20\n",
       "may to october                                19\n",
       "october - february                            18\n",
       "october to january                            17\n",
       "june to september                             14\n",
       "october to november, february to march        14\n",
       "october to december, february to march        14\n",
       "march - june; september - october             13\n",
       "april to june; september, october             12\n",
       "may to september                              12\n",
       "march -june; september - november             11\n",
       "november-february                             10\n",
       "march to june; october - november             10\n",
       "march to may, september to november            9\n",
       "september - november ; march - may             9\n",
       "march to june, september to november           9\n",
       "november to mid march                          8\n",
       "august to april                                8\n",
       "june - august; november - february             7\n",
       "mar to june, october to november               7\n",
       "october - april                                5\n",
       "Name: count, dtype: int64"
      ]
     },
     "execution_count": 20,
     "metadata": {},
     "output_type": "execute_result"
    }
   ],
   "source": [
    "df['best_time_to_visit'].value_counts()"
   ]
  },
  {
   "cell_type": "code",
   "execution_count": 21,
   "id": "ba8a4fc2",
   "metadata": {
    "ExecuteTime": {
     "end_time": "2024-10-06T12:20:02.324889Z",
     "start_time": "2024-10-06T12:20:02.311807Z"
    }
   },
   "outputs": [
    {
     "data": {
      "text/plain": [
       "(52,)"
      ]
     },
     "execution_count": 21,
     "metadata": {},
     "output_type": "execute_result"
    }
   ],
   "source": [
    "df['best_time_to_visit'].value_counts().shape"
   ]
  },
  {
   "cell_type": "code",
   "execution_count": 22,
   "id": "95c6b932",
   "metadata": {
    "ExecuteTime": {
     "end_time": "2024-10-06T12:20:04.073111Z",
     "start_time": "2024-10-06T12:20:03.564667Z"
    }
   },
   "outputs": [],
   "source": [
    "summer_to_autumn = [\"march to june, september to november\",'march to june; october - november',\"march to may, september to november\",\n",
    "                   \"march -june; september - november\",\"may to september\",\"april to june; september, october\",\"march - june; september - october\",\n",
    "                   \"june to september\",\"may to october\",\"mid march to mid november\",\"april to september\",\"march - june; september - november\",\n",
    "                  \"march to june\",\"april to october\"]\n",
    "\n",
    "summer_to_winter = [\"june - august; november - february\",\"july to february\",\"april to june, october to december\"]\n",
    "\n",
    "\n",
    "autumn_to_winter = [\"november to mid march\",\"november-february\",\"october to december, february to march\",\"october to november, february to march\",\n",
    "                    \"october - february\",\"october to january\",\"august to march\",\"october-march\",\"february to march, september to december\",\n",
    "                   \"september to december, february to march\",\"december to february\",\"october - march\",\"november to march\",\n",
    "                   \"september to february\",\"november to february\",\"october to february\",\"september to march\",\"october to march\"]\n",
    "\n",
    "autumn_to_summer = [\"october - april\",\"mar to june, october to november\",\"august to april\",\"september - november ; march - may\",\n",
    "                    \"november to april\",\"september to apr\",\"october to april\",\"october - february; april, may\",\n",
    "                    \"october to apr\",\"october to may\",\"september to may\",\"october to june\"]\n",
    "\n",
    "throughout_the_year = [\"throughout the year\",\"june to march\",\"july to april\",\"september to june\",\"july to march\"]\n",
    "\n"
   ]
  },
  {
   "cell_type": "code",
   "execution_count": 23,
   "id": "5216437f",
   "metadata": {
    "ExecuteTime": {
     "end_time": "2024-10-06T12:20:05.155453Z",
     "start_time": "2024-10-06T12:20:05.142878Z"
    }
   },
   "outputs": [],
   "source": [
    "def best_time_to_visit_city(city_name):\n",
    "    if isinstance(city_name, str): \n",
    "        if city_name in summer_to_autumn:\n",
    "            return 'summer_to_autumn'\n",
    "        elif city_name in summer_to_winter:\n",
    "            return 'summer_to_winter'\n",
    "        elif city_name in autumn_to_winter:\n",
    "            return 'autumn_to_winter'\n",
    "        elif city_name in autumn_to_summer:\n",
    "            return 'autumn_to_summer'\n",
    "        elif city_name in throughout_the_year:\n",
    "            return 'throughout_the_year'\n",
    "    return None"
   ]
  },
  {
   "cell_type": "code",
   "execution_count": 24,
   "id": "1fc9a881",
   "metadata": {
    "ExecuteTime": {
     "end_time": "2024-10-06T12:20:07.560605Z",
     "start_time": "2024-10-06T12:20:07.537143Z"
    }
   },
   "outputs": [],
   "source": [
    "df['city_visit_time']= df['best_time_to_visit'].apply(best_time_to_visit_city)"
   ]
  },
  {
   "cell_type": "code",
   "execution_count": 25,
   "id": "2ef5a5bc",
   "metadata": {
    "ExecuteTime": {
     "end_time": "2024-10-06T12:20:09.129001Z",
     "start_time": "2024-10-06T12:20:09.090885Z"
    }
   },
   "outputs": [
    {
     "data": {
      "text/html": [
       "<div>\n",
       "<style scoped>\n",
       "    .dataframe tbody tr th:only-of-type {\n",
       "        vertical-align: middle;\n",
       "    }\n",
       "\n",
       "    .dataframe tbody tr th {\n",
       "        vertical-align: top;\n",
       "    }\n",
       "\n",
       "    .dataframe thead th {\n",
       "        text-align: right;\n",
       "    }\n",
       "</style>\n",
       "<table border=\"1\" class=\"dataframe\">\n",
       "  <thead>\n",
       "    <tr style=\"text-align: right;\">\n",
       "      <th></th>\n",
       "      <th>visiting_places</th>\n",
       "      <th>visiting_places_rating</th>\n",
       "      <th>visiting_place_summary</th>\n",
       "      <th>visiting_place_tokenized_summary</th>\n",
       "      <th>distance_from_city_center</th>\n",
       "      <th>cities_name</th>\n",
       "      <th>city_rating</th>\n",
       "      <th>city_summary</th>\n",
       "      <th>city_tokenized_summary</th>\n",
       "      <th>no_of_tourist_attration</th>\n",
       "      <th>best_time_to_visit</th>\n",
       "      <th>states_name</th>\n",
       "      <th>state_categories</th>\n",
       "      <th>state_visit_type</th>\n",
       "      <th>city_visit_time</th>\n",
       "    </tr>\n",
       "  </thead>\n",
       "  <tbody>\n",
       "    <tr>\n",
       "      <th>0</th>\n",
       "      <td>borra caves</td>\n",
       "      <td>4.6</td>\n",
       "      <td>borra caves borra guhalu known native language discovered william king george geological survey india 1807</td>\n",
       "      <td>['borra', 'caves', 'borra', 'guhalu', 'known', 'native', 'language', 'discovered', 'william', 'king', 'george', 'geological', 'survey', 'india', '1807']</td>\n",
       "      <td>18.0</td>\n",
       "      <td>araku valley</td>\n",
       "      <td>4.8</td>\n",
       "      <td>araku valley comparatively unexplored hill station mostly visited locals weekend getaway situated 120 kilometres away vishakhapatnam youre tourist looking exclusivity tranquillity vistadome train leaves vishakhapatnam 650 making way 58 tu</td>\n",
       "      <td>['araku', 'valley', 'comparatively', 'unexplored', 'hill', 'station', 'mostly', 'visited', 'locals', 'weekend', 'getaway', 'situated', '120', 'kilometres', 'away', 'vishakhapatnam', 'youre', 'tourist', 'looking', 'exclusivity', 'tranquillity', 'vistadome', 'train', 'leaves', 'vishakhapatnam', '650', 'making', 'way', '58', 'tu']</td>\n",
       "      <td>8.0</td>\n",
       "      <td>september to february</td>\n",
       "      <td>andhra pradesh</td>\n",
       "      <td>commercial_and_technological_state</td>\n",
       "      <td>winter</td>\n",
       "      <td>autumn_to_winter</td>\n",
       "    </tr>\n",
       "  </tbody>\n",
       "</table>\n",
       "</div>"
      ],
      "text/plain": [
       "  visiting_places  visiting_places_rating  \\\n",
       "0     borra caves                     4.6   \n",
       "\n",
       "                                                                                       visiting_place_summary  \\\n",
       "0  borra caves borra guhalu known native language discovered william king george geological survey india 1807   \n",
       "\n",
       "                                                                                                                           visiting_place_tokenized_summary  \\\n",
       "0  ['borra', 'caves', 'borra', 'guhalu', 'known', 'native', 'language', 'discovered', 'william', 'king', 'george', 'geological', 'survey', 'india', '1807']   \n",
       "\n",
       "   distance_from_city_center   cities_name  city_rating  \\\n",
       "0                       18.0  araku valley          4.8   \n",
       "\n",
       "                                                                                                                                                                                                                                     city_summary  \\\n",
       "0  araku valley comparatively unexplored hill station mostly visited locals weekend getaway situated 120 kilometres away vishakhapatnam youre tourist looking exclusivity tranquillity vistadome train leaves vishakhapatnam 650 making way 58 tu   \n",
       "\n",
       "                                                                                                                                                                                                                                                                                                                      city_tokenized_summary  \\\n",
       "0  ['araku', 'valley', 'comparatively', 'unexplored', 'hill', 'station', 'mostly', 'visited', 'locals', 'weekend', 'getaway', 'situated', '120', 'kilometres', 'away', 'vishakhapatnam', 'youre', 'tourist', 'looking', 'exclusivity', 'tranquillity', 'vistadome', 'train', 'leaves', 'vishakhapatnam', '650', 'making', 'way', '58', 'tu']   \n",
       "\n",
       "   no_of_tourist_attration     best_time_to_visit     states_name  \\\n",
       "0                      8.0  september to february  andhra pradesh   \n",
       "\n",
       "                     state_categories state_visit_type   city_visit_time  \n",
       "0  commercial_and_technological_state           winter  autumn_to_winter  "
      ]
     },
     "execution_count": 25,
     "metadata": {},
     "output_type": "execute_result"
    }
   ],
   "source": [
    "df.head(1)"
   ]
  },
  {
   "cell_type": "code",
   "execution_count": 26,
   "id": "44430016",
   "metadata": {
    "ExecuteTime": {
     "end_time": "2024-10-06T12:20:41.768046Z",
     "start_time": "2024-10-06T12:20:41.758925Z"
    }
   },
   "outputs": [],
   "source": [
    "df.rename(columns={'state_visit_type':\"state_visit_time\"},inplace =True)"
   ]
  },
  {
   "cell_type": "code",
   "execution_count": 27,
   "id": "67e9bef5",
   "metadata": {
    "ExecuteTime": {
     "end_time": "2024-10-06T12:20:43.593184Z",
     "start_time": "2024-10-06T12:20:42.541914Z"
    }
   },
   "outputs": [
    {
     "data": {
      "text/html": [
       "<div>\n",
       "<style scoped>\n",
       "    .dataframe tbody tr th:only-of-type {\n",
       "        vertical-align: middle;\n",
       "    }\n",
       "\n",
       "    .dataframe tbody tr th {\n",
       "        vertical-align: top;\n",
       "    }\n",
       "\n",
       "    .dataframe thead th {\n",
       "        text-align: right;\n",
       "    }\n",
       "</style>\n",
       "<table border=\"1\" class=\"dataframe\">\n",
       "  <thead>\n",
       "    <tr style=\"text-align: right;\">\n",
       "      <th></th>\n",
       "      <th>visiting_places</th>\n",
       "      <th>visiting_places_rating</th>\n",
       "      <th>visiting_place_summary</th>\n",
       "      <th>visiting_place_tokenized_summary</th>\n",
       "      <th>distance_from_city_center</th>\n",
       "      <th>cities_name</th>\n",
       "      <th>city_rating</th>\n",
       "      <th>city_summary</th>\n",
       "      <th>city_tokenized_summary</th>\n",
       "      <th>no_of_tourist_attration</th>\n",
       "      <th>best_time_to_visit</th>\n",
       "      <th>states_name</th>\n",
       "      <th>state_categories</th>\n",
       "      <th>state_visit_time</th>\n",
       "      <th>city_visit_time</th>\n",
       "    </tr>\n",
       "  </thead>\n",
       "  <tbody>\n",
       "    <tr>\n",
       "      <th>0</th>\n",
       "      <td>borra caves</td>\n",
       "      <td>4.6</td>\n",
       "      <td>borra caves borra guhalu known native language discovered william king george geological survey india 1807</td>\n",
       "      <td>['borra', 'caves', 'borra', 'guhalu', 'known', 'native', 'language', 'discovered', 'william', 'king', 'george', 'geological', 'survey', 'india', '1807']</td>\n",
       "      <td>18.0</td>\n",
       "      <td>araku valley</td>\n",
       "      <td>4.8</td>\n",
       "      <td>araku valley comparatively unexplored hill station mostly visited locals weekend getaway situated 120 kilometres away vishakhapatnam youre tourist looking exclusivity tranquillity vistadome train leaves vishakhapatnam 650 making way 58 tu</td>\n",
       "      <td>['araku', 'valley', 'comparatively', 'unexplored', 'hill', 'station', 'mostly', 'visited', 'locals', 'weekend', 'getaway', 'situated', '120', 'kilometres', 'away', 'vishakhapatnam', 'youre', 'tourist', 'looking', 'exclusivity', 'tranquillity', 'vistadome', 'train', 'leaves', 'vishakhapatnam', '650', 'making', 'way', '58', 'tu']</td>\n",
       "      <td>8.0</td>\n",
       "      <td>september to february</td>\n",
       "      <td>andhra pradesh</td>\n",
       "      <td>commercial_and_technological_state</td>\n",
       "      <td>winter</td>\n",
       "      <td>autumn_to_winter</td>\n",
       "    </tr>\n",
       "  </tbody>\n",
       "</table>\n",
       "</div>"
      ],
      "text/plain": [
       "  visiting_places  visiting_places_rating  \\\n",
       "0     borra caves                     4.6   \n",
       "\n",
       "                                                                                       visiting_place_summary  \\\n",
       "0  borra caves borra guhalu known native language discovered william king george geological survey india 1807   \n",
       "\n",
       "                                                                                                                           visiting_place_tokenized_summary  \\\n",
       "0  ['borra', 'caves', 'borra', 'guhalu', 'known', 'native', 'language', 'discovered', 'william', 'king', 'george', 'geological', 'survey', 'india', '1807']   \n",
       "\n",
       "   distance_from_city_center   cities_name  city_rating  \\\n",
       "0                       18.0  araku valley          4.8   \n",
       "\n",
       "                                                                                                                                                                                                                                     city_summary  \\\n",
       "0  araku valley comparatively unexplored hill station mostly visited locals weekend getaway situated 120 kilometres away vishakhapatnam youre tourist looking exclusivity tranquillity vistadome train leaves vishakhapatnam 650 making way 58 tu   \n",
       "\n",
       "                                                                                                                                                                                                                                                                                                                      city_tokenized_summary  \\\n",
       "0  ['araku', 'valley', 'comparatively', 'unexplored', 'hill', 'station', 'mostly', 'visited', 'locals', 'weekend', 'getaway', 'situated', '120', 'kilometres', 'away', 'vishakhapatnam', 'youre', 'tourist', 'looking', 'exclusivity', 'tranquillity', 'vistadome', 'train', 'leaves', 'vishakhapatnam', '650', 'making', 'way', '58', 'tu']   \n",
       "\n",
       "   no_of_tourist_attration     best_time_to_visit     states_name  \\\n",
       "0                      8.0  september to february  andhra pradesh   \n",
       "\n",
       "                     state_categories state_visit_time   city_visit_time  \n",
       "0  commercial_and_technological_state           winter  autumn_to_winter  "
      ]
     },
     "execution_count": 27,
     "metadata": {},
     "output_type": "execute_result"
    }
   ],
   "source": [
    "df.head(1)"
   ]
  },
  {
   "cell_type": "code",
   "execution_count": 28,
   "id": "7b47feaa",
   "metadata": {
    "ExecuteTime": {
     "end_time": "2024-10-06T12:20:45.760600Z",
     "start_time": "2024-10-06T12:20:44.867388Z"
    }
   },
   "outputs": [
    {
     "data": {
      "text/plain": [
       "best_time_to_visit                        city_visit_time    \n",
       "october to march                          autumn_to_winter       1626\n",
       "throughout the year                       throughout_the_year     887\n",
       "july to march                             throughout_the_year     454\n",
       "october to june                           autumn_to_summer        346\n",
       "september to march                        autumn_to_winter        260\n",
       "october to february                       autumn_to_winter        236\n",
       "november to february                      autumn_to_winter        180\n",
       "september to february                     autumn_to_winter        124\n",
       "september to may                          autumn_to_summer        118\n",
       "november to march                         autumn_to_winter        118\n",
       "october to may                            autumn_to_summer         88\n",
       "april to october                          summer_to_autumn         82\n",
       "october - march                           autumn_to_winter         76\n",
       "october to apr                            autumn_to_summer         72\n",
       "september to june                         throughout_the_year      69\n",
       "july to april                             throughout_the_year      52\n",
       "october - february; april, may            autumn_to_summer         41\n",
       "june to march                             throughout_the_year      39\n",
       "december to february                      autumn_to_winter         37\n",
       "october to april                          autumn_to_summer         34\n",
       "september to december, february to march  autumn_to_winter         34\n",
       "february to march, september to december  autumn_to_winter         31\n",
       "march to june                             summer_to_autumn         29\n",
       "october-march                             autumn_to_winter         27\n",
       "september to apr                          autumn_to_summer         27\n",
       "march - june; september - november        summer_to_autumn         24\n",
       "november to april                         autumn_to_summer         22\n",
       "april to september                        summer_to_autumn         21\n",
       "august to march                           autumn_to_winter         20\n",
       "april to june, october to december        summer_to_winter         20\n",
       "july to february                          summer_to_winter         20\n",
       "mid march to mid november                 summer_to_autumn         20\n",
       "may to october                            summer_to_autumn         19\n",
       "october - february                        autumn_to_winter         18\n",
       "october to january                        autumn_to_winter         17\n",
       "october to december, february to march    autumn_to_winter         14\n",
       "june to september                         summer_to_autumn         14\n",
       "october to november, february to march    autumn_to_winter         14\n",
       "march - june; september - october         summer_to_autumn         13\n",
       "april to june; september, october         summer_to_autumn         12\n",
       "may to september                          summer_to_autumn         12\n",
       "march -june; september - november         summer_to_autumn         11\n",
       "march to june; october - november         summer_to_autumn         10\n",
       "november-february                         autumn_to_winter         10\n",
       "september - november ; march - may        autumn_to_summer          9\n",
       "march to june, september to november      summer_to_autumn          9\n",
       "march to may, september to november       summer_to_autumn          9\n",
       "august to april                           autumn_to_summer          8\n",
       "november to mid march                     autumn_to_winter          8\n",
       "mar to june, october to november          autumn_to_summer          7\n",
       "june - august; november - february        summer_to_winter          7\n",
       "october - april                           autumn_to_summer          5\n",
       "Name: count, dtype: int64"
      ]
     },
     "execution_count": 28,
     "metadata": {},
     "output_type": "execute_result"
    }
   ],
   "source": [
    "df[['best_time_to_visit','city_visit_time']].value_counts()"
   ]
  },
  {
   "cell_type": "code",
   "execution_count": 29,
   "id": "71cdb3f2",
   "metadata": {
    "ExecuteTime": {
     "end_time": "2024-10-06T12:20:50.156705Z",
     "start_time": "2024-10-06T12:20:50.145846Z"
    }
   },
   "outputs": [
    {
     "data": {
      "text/plain": [
       "city_visit_time\n",
       "autumn_to_winter       2850\n",
       "throughout_the_year    1501\n",
       "autumn_to_summer        777\n",
       "summer_to_autumn        285\n",
       "summer_to_winter         47\n",
       "Name: count, dtype: int64"
      ]
     },
     "execution_count": 29,
     "metadata": {},
     "output_type": "execute_result"
    }
   ],
   "source": [
    "df['city_visit_time'].value_counts()"
   ]
  },
  {
   "cell_type": "code",
   "execution_count": 30,
   "id": "1c665e49",
   "metadata": {
    "ExecuteTime": {
     "end_time": "2024-10-06T12:20:52.576074Z",
     "start_time": "2024-10-06T12:20:52.548234Z"
    }
   },
   "outputs": [
    {
     "data": {
      "text/html": [
       "<div>\n",
       "<style scoped>\n",
       "    .dataframe tbody tr th:only-of-type {\n",
       "        vertical-align: middle;\n",
       "    }\n",
       "\n",
       "    .dataframe tbody tr th {\n",
       "        vertical-align: top;\n",
       "    }\n",
       "\n",
       "    .dataframe thead th {\n",
       "        text-align: right;\n",
       "    }\n",
       "</style>\n",
       "<table border=\"1\" class=\"dataframe\">\n",
       "  <thead>\n",
       "    <tr style=\"text-align: right;\">\n",
       "      <th></th>\n",
       "      <th>visiting_places</th>\n",
       "      <th>visiting_places_rating</th>\n",
       "      <th>visiting_place_summary</th>\n",
       "      <th>visiting_place_tokenized_summary</th>\n",
       "      <th>distance_from_city_center</th>\n",
       "      <th>cities_name</th>\n",
       "      <th>city_rating</th>\n",
       "      <th>city_summary</th>\n",
       "      <th>city_tokenized_summary</th>\n",
       "      <th>no_of_tourist_attration</th>\n",
       "      <th>best_time_to_visit</th>\n",
       "      <th>states_name</th>\n",
       "      <th>state_categories</th>\n",
       "      <th>state_visit_time</th>\n",
       "      <th>city_visit_time</th>\n",
       "    </tr>\n",
       "  </thead>\n",
       "  <tbody>\n",
       "    <tr>\n",
       "      <th>0</th>\n",
       "      <td>borra caves</td>\n",
       "      <td>4.6</td>\n",
       "      <td>borra caves borra guhalu known native language discovered william king george geological survey india 1807</td>\n",
       "      <td>['borra', 'caves', 'borra', 'guhalu', 'known', 'native', 'language', 'discovered', 'william', 'king', 'george', 'geological', 'survey', 'india', '1807']</td>\n",
       "      <td>18.0</td>\n",
       "      <td>araku valley</td>\n",
       "      <td>4.8</td>\n",
       "      <td>araku valley comparatively unexplored hill station mostly visited locals weekend getaway situated 120 kilometres away vishakhapatnam youre tourist looking exclusivity tranquillity vistadome train leaves vishakhapatnam 650 making way 58 tu</td>\n",
       "      <td>['araku', 'valley', 'comparatively', 'unexplored', 'hill', 'station', 'mostly', 'visited', 'locals', 'weekend', 'getaway', 'situated', '120', 'kilometres', 'away', 'vishakhapatnam', 'youre', 'tourist', 'looking', 'exclusivity', 'tranquillity', 'vistadome', 'train', 'leaves', 'vishakhapatnam', '650', 'making', 'way', '58', 'tu']</td>\n",
       "      <td>8.0</td>\n",
       "      <td>september to february</td>\n",
       "      <td>andhra pradesh</td>\n",
       "      <td>commercial_and_technological_state</td>\n",
       "      <td>winter</td>\n",
       "      <td>autumn_to_winter</td>\n",
       "    </tr>\n",
       "  </tbody>\n",
       "</table>\n",
       "</div>"
      ],
      "text/plain": [
       "  visiting_places  visiting_places_rating  \\\n",
       "0     borra caves                     4.6   \n",
       "\n",
       "                                                                                       visiting_place_summary  \\\n",
       "0  borra caves borra guhalu known native language discovered william king george geological survey india 1807   \n",
       "\n",
       "                                                                                                                           visiting_place_tokenized_summary  \\\n",
       "0  ['borra', 'caves', 'borra', 'guhalu', 'known', 'native', 'language', 'discovered', 'william', 'king', 'george', 'geological', 'survey', 'india', '1807']   \n",
       "\n",
       "   distance_from_city_center   cities_name  city_rating  \\\n",
       "0                       18.0  araku valley          4.8   \n",
       "\n",
       "                                                                                                                                                                                                                                     city_summary  \\\n",
       "0  araku valley comparatively unexplored hill station mostly visited locals weekend getaway situated 120 kilometres away vishakhapatnam youre tourist looking exclusivity tranquillity vistadome train leaves vishakhapatnam 650 making way 58 tu   \n",
       "\n",
       "                                                                                                                                                                                                                                                                                                                      city_tokenized_summary  \\\n",
       "0  ['araku', 'valley', 'comparatively', 'unexplored', 'hill', 'station', 'mostly', 'visited', 'locals', 'weekend', 'getaway', 'situated', '120', 'kilometres', 'away', 'vishakhapatnam', 'youre', 'tourist', 'looking', 'exclusivity', 'tranquillity', 'vistadome', 'train', 'leaves', 'vishakhapatnam', '650', 'making', 'way', '58', 'tu']   \n",
       "\n",
       "   no_of_tourist_attration     best_time_to_visit     states_name  \\\n",
       "0                      8.0  september to february  andhra pradesh   \n",
       "\n",
       "                     state_categories state_visit_time   city_visit_time  \n",
       "0  commercial_and_technological_state           winter  autumn_to_winter  "
      ]
     },
     "execution_count": 30,
     "metadata": {},
     "output_type": "execute_result"
    }
   ],
   "source": [
    "df.head(1)"
   ]
  },
  {
   "cell_type": "markdown",
   "id": "660a2d1d",
   "metadata": {},
   "source": [
    "# \tcities_name"
   ]
  },
  {
   "cell_type": "code",
   "execution_count": 31,
   "id": "1c55baef",
   "metadata": {
    "ExecuteTime": {
     "end_time": "2024-10-06T12:20:57.732755Z",
     "start_time": "2024-10-06T12:20:57.715897Z"
    }
   },
   "outputs": [
    {
     "data": {
      "text/plain": [
       "array(['araku valley', 'visakhapatnam', nan, 'tirupati', 'vijayawada',\n",
       "       'anantapur', 'srisailam', 'ananthagiri hills', 'kurnool', 'guntur',\n",
       "       'nellore', 'lepakshi', 'chittoor', 'kakinada', 'srikalahasti',\n",
       "       'mantralayam', 'annavaram', 'puttaparthi', 'vizianagaram',\n",
       "       'tawang', 'ziro', 'bomdila', 'roing', 'itanagar', 'dirang',\n",
       "       'pasighat', 'bhalukpong', 'majuli', 'guwahati', 'dibrugarh',\n",
       "       'jorhat', 'tinsukia', 'silchar', 'goalpara', 'bongaigaon',\n",
       "       'dhemaji', 'tezpur', 'bodh gaya', 'patna', 'nalanda', 'vaishali',\n",
       "       'rajgir', 'bhagalpur', 'muzaffarpur', 'raipur', 'jagdalpur',\n",
       "       'bhilai', 'dwarka', 'somnath', 'diu', 'surat', 'vadodara',\n",
       "       'ahmedabad', 'junagadh', 'rajkot', 'gandhinagar', 'bhavnagar',\n",
       "       'porbandar', 'kutch', 'saputara', 'daman', 'silvassa', 'faridabad',\n",
       "       'gurgaon', 'rohtak', 'panipat', 'karnal', 'kurukshetra', 'manali',\n",
       "       'shimla', 'kasol', 'mcleodganj', 'kasauli', 'dalhousie', 'kullu',\n",
       "       'chail', 'khajjiar', 'kufri', 'parvati valley', 'tirthan valley',\n",
       "       'kaza', 'palampur', 'narkanda', 'kalpa', 'kinnaur', 'kangra',\n",
       "       'shoghi', 'chamba', 'mandi', 'nahan', 'deoghar', 'jamshedpur',\n",
       "       'ranchi', 'netarhat', 'hazaribagh', 'dhanbad', 'coorg', 'badami',\n",
       "       'mysore', 'hampi', 'gokarna', 'udupi', 'chikmagalur',\n",
       "       'murudeshwar', 'bangalore', 'dandeli', 'kabini', 'kudremukh',\n",
       "       'pattadakal', 'devbagh', 'karwar', 'bijapur', 'mangalore',\n",
       "       'srirangapatna', 'dharmasthala', 'br hills', 'sringeri', 'aihole',\n",
       "       'bidar', 'belgaum', 'munnar', 'kochi', 'alleppey', 'wayanad',\n",
       "       'varkala', 'kumarakom', 'vagamon', 'kovalam', 'idukki',\n",
       "       'kozhikode', 'vythiri', 'thekkady', 'thrissur', 'palakkad',\n",
       "       'nelliyampathy', 'nilambur', 'trivandrum', 'kalpetta', 'kollam',\n",
       "       'guruvayur', 'malampuzha', 'kannur', 'thenmala', 'kottayam',\n",
       "       'kumily', 'pathanamthitta', 'ernakulam', 'malappuram', 'bhopal',\n",
       "       'indore', 'ujjain', 'gwalior', 'jabalpur', 'sanchi', 'khajuraho',\n",
       "       'amarkantak', 'maheshwar', 'mandu', 'omkareshwar', 'pachmarhi',\n",
       "       'orchha', 'shivpuri', 'satna', 'burhanpur', 'mumbai', 'pune',\n",
       "       'aurangabad', 'nagpur', 'mahabaleshwar', 'lonavala', 'khandala',\n",
       "       'matheran', 'shirdi', 'malshej ghat', 'bhimashankar',\n",
       "       'chikhaldara', 'panvel', 'murud janjira', 'dapoli', 'imphal',\n",
       "       'bishnupur', 'shillong', 'mawsynram', 'aizawl', 'kohima',\n",
       "       'dimapur', 'bhubaneswar', 'puri', 'konark', 'cuttack', 'rourkela',\n",
       "       'sambalpur', 'ratnagiri', 'rayagada', 'jeypore', 'amritsar',\n",
       "       'chandigarh', 'ludhiana', 'jalandhar', 'patiala', 'pathankot',\n",
       "       'jaipur', 'udaipur', 'jodhpur', 'jaisalmer', 'ajmer', 'pushkar',\n",
       "       'bikaner', 'mount abu', 'kota', 'alwar', 'bharatpur',\n",
       "       'chittorgarh', 'sikar', 'jhunjhunu', 'churu', 'gangtok', 'pelling',\n",
       "       'chennai', 'coimbatore', 'madurai', 'tirunelveli', 'kanyakumari',\n",
       "       'rameshwaram', 'kodaikanal', 'ooty', 'coonoor', 'yercaud',\n",
       "       'yelagiri', 'vellore', 'kanchipuram', 'hyderabad', 'warangal',\n",
       "       'nizamabad', 'khammam', 'adilabad', 'nalgonda', 'agartala', 'agra',\n",
       "       'varanasi', 'lucknow', 'kanpur', 'prayagraj', 'ghaziabad', 'noida',\n",
       "       'meerut', 'aligarh', 'muzaffarnagar', 'jhansi', 'mathura',\n",
       "       'ayodhya', 'sarnath', 'dehradun', 'haridwar', 'rishikesh',\n",
       "       'mussoorie', 'nainital', 'almora', 'pithoragarh', 'chamoli',\n",
       "       'uttarkashi', 'bageshwar', 'champawat', 'dhanaulti', 'haldwani',\n",
       "       'kolkata', 'darjeeling', 'howrah', 'siliguri', 'durgapur',\n",
       "       'bardhaman', 'malda', 'jalpaiguri', 'bankura', 'purulia',\n",
       "       'cooch behar', 'murshidabad', 'port blair', 'neil island',\n",
       "       'srinagar', 'gulmarg', 'pahalgam', 'leh', 'ladakh', 'jammu',\n",
       "       'patnitop', 'anantnag', 'kargil'], dtype=object)"
      ]
     },
     "execution_count": 31,
     "metadata": {},
     "output_type": "execute_result"
    }
   ],
   "source": [
    "df['cities_name'].unique()"
   ]
  },
  {
   "cell_type": "code",
   "execution_count": 32,
   "id": "fc08d328",
   "metadata": {
    "ExecuteTime": {
     "end_time": "2024-10-06T12:20:59.522943Z",
     "start_time": "2024-10-06T12:20:59.495584Z"
    }
   },
   "outputs": [],
   "source": [
    "# Categories of Cities in lowercase\n",
    "spiritual_cities = [\n",
    "    'rishikesh', 'haridwar', 'bodh gaya', 'puttaparthi', 'annavaram', \n",
    "    'srisailam', 'tirupati', 'vaishali', 'rajgir', 'deoghar', 'kashi', \n",
    "    'ayodhya', 'sarnath','mantralayam', 'srikalahasti', 'somnath', 'dwarka', 'bhilai', \n",
    "    'ujjain', 'omkareshwar', 'tirunelveli', 'rameshwaram', \n",
    "    'dehradun', 'haridwar', 'rishikesh', 'mawsynram', 'amritsar','lepakshi', 'gandhinagar', 'bhavnagar', 'saputara', \n",
    "    'hazaribagh', 'pattadakal', 'aihole', 'trivandrum', \n",
    "    'kurukshetra', 'sanchi', 'shivpuri', 'satna', 'nalgonda','sringeri', 'guruvayur','shirdi','guwahati','prayagraj', 'mathura', 'aurangabad',\n",
    "    'aurangabad', 'mathura', 'prayagraj', 'jabalpur', 'bhagalpur',\"varanasi\"\n",
    "\n",
    "]\n",
    "\n",
    "hilly_cities = [\n",
    "    'shimla', 'manali', 'kullu', 'nainital', 'almora', 'mussoorie', \n",
    "    'darjeeling', 'ooty', 'coonoor', 'yercaud', 'munnar', 'gulmarg', \n",
    "    'khandala', 'lonavala', 'mahabaleshwar', 'kasauli', 'chail', \n",
    "    'khajjiar', 'narkanda', 'palampur', 'leh', 'ladakh', 'patnitop',\n",
    "    'araku valley', 'ananthagiri hills', 'mcleodganj', 'dalhousie',\n",
    "    'kufri', 'parvati valley', 'tirthan valley', 'kaza', 'kalpa', \n",
    "    'kinnaur', 'kangra', 'shoghi', 'chamba', 'mandi', 'nahan',\n",
    "    'netarhat', 'badami', 'nainital', 'mussoorie', 'almoara', \n",
    "    'chikhaldara', 'pahalgam', 'kodaikanal', 'ooty', 'yercaud',  'ziro', 'bomdila', 'roing', 'dirang', 'pasighat', \n",
    "    'jagdalpur', 'junagadh', 'karwar', 'idukki', 'vythiri', \n",
    "    'kalpetta', 'thenmala', 'kottayam', 'kumily', \n",
    "    'pathanamthitta', 'ernakulam', 'malappuzha', \n",
    "    'br hills', 'malda', 'sambalpur', 'bhimashankar','kasol','palakkad', 'nelliyampathy', 'malshej ghat', 'utarkashi','uttarkashi','srinagar',\n",
    "    'Shillong','jammu', 'patnitop', 'anantnag', 'kargil','tawang', 'aizawl', 'silchar','tawang', 'aizawl', 'silchar','shillong',\n",
    "    \"siliguri\",'haldwani','jalpaiguri','pathankot','kohima','itanagar','tezpur','champawat'\n",
    "]\n",
    "\n",
    "beach_cities = [\n",
    "    'goa', 'kochi', 'alleppey', 'varkala', 'kumarakom', 'gokarna', \n",
    "    'udupi', 'murudeshwar', 'kovalam', 'puri', 'diu', 'chikmagalur',\n",
    "    'vizianagaram', 'daman', 'silvassa', 'kutch', 'porbandar',\n",
    "    'vagamon', 'kozhikode', 'thekkady', 'thrissur', 'kollam',\n",
    "    'kanyakumari', 'warangal', 'neil island', 'port blair', \n",
    "    'rourkela', 'konark', 'bhubaneswar', 'cuttack', 'durgapur','ratnagiri', 'rayagada', 'jeypore', 'gangtok', \n",
    "    'pelling', 'madurai', 'yelagiri', 'vellore', 'kanchipuram','murud janjira',\"dapoli\"\n",
    "]\n",
    "\n",
    "historical_cities = [\n",
    "    'delhi', 'jaipur', 'agra',  'ludhiana', 'bikaner', \n",
    "    'patiala', 'ajmer', 'udaipur', 'jaisalmer', 'gwalior', 'khajuraho', \n",
    "    'maheshwar', 'orchha', 'amarkantak', 'hampi', 'mandav', 'mandu', \n",
    "   'ranchi', 'patna', 'nalanda', 'burhanpur',\n",
    "    'khajuraho','anantapur', 'vijayawada', 'bijapur', 'mangalore', \n",
    "    'srirangapatna', 'dharmasthala', 'bidar', 'belgaum',\n",
    "    'vijayawada', 'jaipur', 'jodhpur', 'pushkar', \n",
    "     'kota', 'alwar', 'bharatpur', \n",
    "    'chittorgarh', 'sikar', 'jhunjhunu', 'churu','jhansi','panipat'\n",
    "]\n",
    "\n",
    "metropolitan_cities = [\n",
    "    'mumbai', 'delhi', 'bangalore', 'hyderabad', 'kolkata', 'chennai', \n",
    "    'pune', 'ahmedabad', 'surat', 'jaipur', 'lucknow', 'coimbatore', \n",
    "    'kanpur', 'nagpur', 'indore', 'vadodara', 'visakhapatnam', 'gurgaon', \n",
    "    'faridabad', 'noida', 'ghaziabad', 'meerut',\"howrah\"\n",
    "]\n",
    "\n",
    "nature_cities = [\n",
    "    'coorg', 'kabini', 'wayanad', 'chikmagalur', 'kudremukh', 'munnar', \n",
    "    'brahmagiri', 'nagarhole', 'bandipur', 'satyamangalam', 'kanha', \n",
    "    'bandhavgarh', 'nilgiri hills', 'kodaikanal', 'dandeli', 'devbagh', 'nilambur', 'bageshwar', 'dhanaulti', \n",
    "    'bardhaman', 'purulia', 'bishnupur', 'dhanbad','cooch behar', 'chamoli','malampuzha','chandigarh','matheran','pithoragarh', 'tinsukia', 'dibrugarh', 'imphal', 'agartala',\n",
    "    \"dhemaji\",'bongaigaon',\"goalpara\",\"mount abu\",\"pachmarhi\"\n",
    "]\n",
    "\n",
    "\n",
    "adventure_cities = [\n",
    "    'auli', 'manali', 'rishikesh', 'kullu', 'darjeeling', 'gulmarg', \n",
    "    'leh', 'ladakh', 'chikmagalur', 'coorg', 'munnar', 'kodaikanal'\n",
    "]\n",
    "\n",
    "cultural_cities = [\n",
    "    'varanasi', 'kolkata', 'chennai', 'mumbai', 'hyderabad', 'delhi', \n",
    "    'jaipur', 'ahmedabad', 'lucknow', 'indore', 'gwalior', 'bhopal', \n",
    "    'patna', 'agra', 'coimbatore','mysore', 'kannur', 'malappuram'\n",
    "]\n",
    "\n",
    "rural_cities = [\n",
    "    'ananthapur', 'kurnool', 'guntur', 'nellore', 'kakinada', 'chittoor', \n",
    "    'rajkot', 'bhalukpong', 'majuli', 'dimapur', 'bankura', \n",
    "    'murshidabad', 'dhenkanal', 'nandurbar', 'yavatmal'\n",
    "]\n",
    "\n",
    "other_cities = [\n",
    "    'aurangabad', 'nagpur', 'panvel', \n",
    "     'dapoli', 'imphal', 'aizawl', \n",
    "    'kohima', 'itanagar', 'tawang',  'mysore', 'karnal',\n",
    "     'dibrugarh', 'jorhat', 'tinsukia', 'silchar', 'goalpara', \n",
    "    'bongaigaon', 'dhemaji', 'tezpur', 'bhagalpur', 'muzaffarpur',\n",
    "    'raipur', 'jamshedpur', 'shillong', 'jalandhar', 'pathankot', \n",
    "    'nizamabad', 'khammam', 'agartala', 'prayagraj', 'aligarh', \n",
    "    'muzaffarnagar', 'mathura', 'bhopal', 'indore', \n",
    "     'jabalpur', 'pithoragarh', 'champawat', \n",
    "    'haldwani', 'howrah', 'siliguri', 'malda', 'jalpaiguri','rohtak', 'panipat', 'kurukshetra', 'kannur', 'malappuzha', 'malappuram', 'adilabad'\n",
    "    'dhanbad', 'dandeli','adilabad','jamshedpur', 'raipur', 'howrah', 'siliguri'\n",
    "]\n",
    "\n"
   ]
  },
  {
   "cell_type": "code",
   "execution_count": 33,
   "id": "8255b8e9",
   "metadata": {
    "ExecuteTime": {
     "end_time": "2024-10-06T12:21:02.119747Z",
     "start_time": "2024-10-06T12:21:02.109468Z"
    }
   },
   "outputs": [],
   "source": [
    "def city_type(city_name):\n",
    "    if isinstance(city_name, str): \n",
    "        if city_name in spiritual_cities:\n",
    "            return 'spiritual type'\n",
    "        elif city_name in hilly_cities:\n",
    "            return 'hilly type'\n",
    "        elif city_name in beach_cities:\n",
    "            return 'beach type'\n",
    "        elif city_name in historical_cities:\n",
    "            return 'historical type'\n",
    "        elif city_name in metropolitan_cities:\n",
    "            return 'metropolitan type'\n",
    "        elif city_name in nature_cities:\n",
    "            return 'nature type'\n",
    "        elif city_name in adventure_cities:\n",
    "            return 'adventure type'\n",
    "        elif city_name in cultural_cities:\n",
    "            return 'cultural type'\n",
    "        elif city_name in rural_cities:\n",
    "            return 'rural type'\n",
    "        elif city_name in other_cities:\n",
    "            return 'other type'\n",
    "    return None"
   ]
  },
  {
   "cell_type": "code",
   "execution_count": 34,
   "id": "dad394f2",
   "metadata": {
    "ExecuteTime": {
     "end_time": "2024-10-06T12:21:04.492580Z",
     "start_time": "2024-10-06T12:21:04.445969Z"
    }
   },
   "outputs": [],
   "source": [
    "df['city_type'] = df['cities_name'].apply(city_type)"
   ]
  },
  {
   "cell_type": "code",
   "execution_count": 35,
   "id": "7e054b8d",
   "metadata": {
    "ExecuteTime": {
     "end_time": "2024-10-06T12:21:05.552793Z",
     "start_time": "2024-10-06T12:21:05.527494Z"
    }
   },
   "outputs": [
    {
     "data": {
      "text/html": [
       "<div>\n",
       "<style scoped>\n",
       "    .dataframe tbody tr th:only-of-type {\n",
       "        vertical-align: middle;\n",
       "    }\n",
       "\n",
       "    .dataframe tbody tr th {\n",
       "        vertical-align: top;\n",
       "    }\n",
       "\n",
       "    .dataframe thead th {\n",
       "        text-align: right;\n",
       "    }\n",
       "</style>\n",
       "<table border=\"1\" class=\"dataframe\">\n",
       "  <thead>\n",
       "    <tr style=\"text-align: right;\">\n",
       "      <th></th>\n",
       "      <th>visiting_places</th>\n",
       "      <th>visiting_places_rating</th>\n",
       "      <th>visiting_place_summary</th>\n",
       "      <th>visiting_place_tokenized_summary</th>\n",
       "      <th>distance_from_city_center</th>\n",
       "      <th>cities_name</th>\n",
       "      <th>city_rating</th>\n",
       "      <th>city_summary</th>\n",
       "      <th>city_tokenized_summary</th>\n",
       "      <th>no_of_tourist_attration</th>\n",
       "      <th>best_time_to_visit</th>\n",
       "      <th>states_name</th>\n",
       "      <th>state_categories</th>\n",
       "      <th>state_visit_time</th>\n",
       "      <th>city_visit_time</th>\n",
       "      <th>city_type</th>\n",
       "    </tr>\n",
       "  </thead>\n",
       "  <tbody>\n",
       "    <tr>\n",
       "      <th>0</th>\n",
       "      <td>borra caves</td>\n",
       "      <td>4.6</td>\n",
       "      <td>borra caves borra guhalu known native language discovered william king george geological survey india 1807</td>\n",
       "      <td>['borra', 'caves', 'borra', 'guhalu', 'known', 'native', 'language', 'discovered', 'william', 'king', 'george', 'geological', 'survey', 'india', '1807']</td>\n",
       "      <td>18.0</td>\n",
       "      <td>araku valley</td>\n",
       "      <td>4.8</td>\n",
       "      <td>araku valley comparatively unexplored hill station mostly visited locals weekend getaway situated 120 kilometres away vishakhapatnam youre tourist looking exclusivity tranquillity vistadome train leaves vishakhapatnam 650 making way 58 tu</td>\n",
       "      <td>['araku', 'valley', 'comparatively', 'unexplored', 'hill', 'station', 'mostly', 'visited', 'locals', 'weekend', 'getaway', 'situated', '120', 'kilometres', 'away', 'vishakhapatnam', 'youre', 'tourist', 'looking', 'exclusivity', 'tranquillity', 'vistadome', 'train', 'leaves', 'vishakhapatnam', '650', 'making', 'way', '58', 'tu']</td>\n",
       "      <td>8.0</td>\n",
       "      <td>september to february</td>\n",
       "      <td>andhra pradesh</td>\n",
       "      <td>commercial_and_technological_state</td>\n",
       "      <td>winter</td>\n",
       "      <td>autumn_to_winter</td>\n",
       "      <td>hilly type</td>\n",
       "    </tr>\n",
       "  </tbody>\n",
       "</table>\n",
       "</div>"
      ],
      "text/plain": [
       "  visiting_places  visiting_places_rating  \\\n",
       "0     borra caves                     4.6   \n",
       "\n",
       "                                                                                       visiting_place_summary  \\\n",
       "0  borra caves borra guhalu known native language discovered william king george geological survey india 1807   \n",
       "\n",
       "                                                                                                                           visiting_place_tokenized_summary  \\\n",
       "0  ['borra', 'caves', 'borra', 'guhalu', 'known', 'native', 'language', 'discovered', 'william', 'king', 'george', 'geological', 'survey', 'india', '1807']   \n",
       "\n",
       "   distance_from_city_center   cities_name  city_rating  \\\n",
       "0                       18.0  araku valley          4.8   \n",
       "\n",
       "                                                                                                                                                                                                                                     city_summary  \\\n",
       "0  araku valley comparatively unexplored hill station mostly visited locals weekend getaway situated 120 kilometres away vishakhapatnam youre tourist looking exclusivity tranquillity vistadome train leaves vishakhapatnam 650 making way 58 tu   \n",
       "\n",
       "                                                                                                                                                                                                                                                                                                                      city_tokenized_summary  \\\n",
       "0  ['araku', 'valley', 'comparatively', 'unexplored', 'hill', 'station', 'mostly', 'visited', 'locals', 'weekend', 'getaway', 'situated', '120', 'kilometres', 'away', 'vishakhapatnam', 'youre', 'tourist', 'looking', 'exclusivity', 'tranquillity', 'vistadome', 'train', 'leaves', 'vishakhapatnam', '650', 'making', 'way', '58', 'tu']   \n",
       "\n",
       "   no_of_tourist_attration     best_time_to_visit     states_name  \\\n",
       "0                      8.0  september to february  andhra pradesh   \n",
       "\n",
       "                     state_categories state_visit_time   city_visit_time  \\\n",
       "0  commercial_and_technological_state           winter  autumn_to_winter   \n",
       "\n",
       "    city_type  \n",
       "0  hilly type  "
      ]
     },
     "execution_count": 35,
     "metadata": {},
     "output_type": "execute_result"
    }
   ],
   "source": [
    "df.head(1)"
   ]
  },
  {
   "cell_type": "code",
   "execution_count": 36,
   "id": "30ac5a04",
   "metadata": {
    "ExecuteTime": {
     "end_time": "2024-10-06T12:21:18.637118Z",
     "start_time": "2024-10-06T12:21:18.612411Z"
    }
   },
   "outputs": [
    {
     "name": "stdout",
     "output_type": "stream",
     "text": [
      "<class 'pandas.core.frame.DataFrame'>\n",
      "RangeIndex: 6117 entries, 0 to 6116\n",
      "Data columns (total 16 columns):\n",
      " #   Column                            Non-Null Count  Dtype  \n",
      "---  ------                            --------------  -----  \n",
      " 0   visiting_places                   6117 non-null   object \n",
      " 1   visiting_places_rating            3486 non-null   float64\n",
      " 2   visiting_place_summary            5811 non-null   object \n",
      " 3   visiting_place_tokenized_summary  5811 non-null   object \n",
      " 4   distance_from_city_center         5293 non-null   float64\n",
      " 5   cities_name                       5736 non-null   object \n",
      " 6   city_rating                       5460 non-null   float64\n",
      " 7   city_summary                      5562 non-null   object \n",
      " 8   city_tokenized_summary            5562 non-null   object \n",
      " 9   no_of_tourist_attration           5460 non-null   float64\n",
      " 10  best_time_to_visit                5460 non-null   object \n",
      " 11  states_name                       5562 non-null   object \n",
      " 12  state_categories                  5562 non-null   object \n",
      " 13  state_visit_time                  5383 non-null   object \n",
      " 14  city_visit_time                   5460 non-null   object \n",
      " 15  city_type                         5736 non-null   object \n",
      "dtypes: float64(4), object(12)\n",
      "memory usage: 764.8+ KB\n"
     ]
    }
   ],
   "source": [
    "df.info()"
   ]
  },
  {
   "cell_type": "code",
   "execution_count": 37,
   "id": "369aff0e",
   "metadata": {
    "ExecuteTime": {
     "end_time": "2024-10-06T12:21:22.082439Z",
     "start_time": "2024-10-06T12:21:22.058315Z"
    }
   },
   "outputs": [
    {
     "data": {
      "text/html": [
       "<div>\n",
       "<style scoped>\n",
       "    .dataframe tbody tr th:only-of-type {\n",
       "        vertical-align: middle;\n",
       "    }\n",
       "\n",
       "    .dataframe tbody tr th {\n",
       "        vertical-align: top;\n",
       "    }\n",
       "\n",
       "    .dataframe thead th {\n",
       "        text-align: right;\n",
       "    }\n",
       "</style>\n",
       "<table border=\"1\" class=\"dataframe\">\n",
       "  <thead>\n",
       "    <tr style=\"text-align: right;\">\n",
       "      <th></th>\n",
       "      <th>visiting_places</th>\n",
       "      <th>visiting_places_rating</th>\n",
       "      <th>visiting_place_summary</th>\n",
       "      <th>visiting_place_tokenized_summary</th>\n",
       "      <th>distance_from_city_center</th>\n",
       "      <th>cities_name</th>\n",
       "      <th>city_rating</th>\n",
       "      <th>city_summary</th>\n",
       "      <th>city_tokenized_summary</th>\n",
       "      <th>no_of_tourist_attration</th>\n",
       "      <th>best_time_to_visit</th>\n",
       "      <th>states_name</th>\n",
       "      <th>state_categories</th>\n",
       "      <th>state_visit_time</th>\n",
       "      <th>city_visit_time</th>\n",
       "      <th>city_type</th>\n",
       "    </tr>\n",
       "  </thead>\n",
       "  <tbody>\n",
       "    <tr>\n",
       "      <th>0</th>\n",
       "      <td>borra caves</td>\n",
       "      <td>4.6</td>\n",
       "      <td>borra caves borra guhalu known native language discovered william king george geological survey india 1807</td>\n",
       "      <td>['borra', 'caves', 'borra', 'guhalu', 'known', 'native', 'language', 'discovered', 'william', 'king', 'george', 'geological', 'survey', 'india', '1807']</td>\n",
       "      <td>18.0</td>\n",
       "      <td>araku valley</td>\n",
       "      <td>4.8</td>\n",
       "      <td>araku valley comparatively unexplored hill station mostly visited locals weekend getaway situated 120 kilometres away vishakhapatnam youre tourist looking exclusivity tranquillity vistadome train leaves vishakhapatnam 650 making way 58 tu</td>\n",
       "      <td>['araku', 'valley', 'comparatively', 'unexplored', 'hill', 'station', 'mostly', 'visited', 'locals', 'weekend', 'getaway', 'situated', '120', 'kilometres', 'away', 'vishakhapatnam', 'youre', 'tourist', 'looking', 'exclusivity', 'tranquillity', 'vistadome', 'train', 'leaves', 'vishakhapatnam', '650', 'making', 'way', '58', 'tu']</td>\n",
       "      <td>8.0</td>\n",
       "      <td>september to february</td>\n",
       "      <td>andhra pradesh</td>\n",
       "      <td>commercial_and_technological_state</td>\n",
       "      <td>winter</td>\n",
       "      <td>autumn_to_winter</td>\n",
       "      <td>hilly type</td>\n",
       "    </tr>\n",
       "  </tbody>\n",
       "</table>\n",
       "</div>"
      ],
      "text/plain": [
       "  visiting_places  visiting_places_rating  \\\n",
       "0     borra caves                     4.6   \n",
       "\n",
       "                                                                                       visiting_place_summary  \\\n",
       "0  borra caves borra guhalu known native language discovered william king george geological survey india 1807   \n",
       "\n",
       "                                                                                                                           visiting_place_tokenized_summary  \\\n",
       "0  ['borra', 'caves', 'borra', 'guhalu', 'known', 'native', 'language', 'discovered', 'william', 'king', 'george', 'geological', 'survey', 'india', '1807']   \n",
       "\n",
       "   distance_from_city_center   cities_name  city_rating  \\\n",
       "0                       18.0  araku valley          4.8   \n",
       "\n",
       "                                                                                                                                                                                                                                     city_summary  \\\n",
       "0  araku valley comparatively unexplored hill station mostly visited locals weekend getaway situated 120 kilometres away vishakhapatnam youre tourist looking exclusivity tranquillity vistadome train leaves vishakhapatnam 650 making way 58 tu   \n",
       "\n",
       "                                                                                                                                                                                                                                                                                                                      city_tokenized_summary  \\\n",
       "0  ['araku', 'valley', 'comparatively', 'unexplored', 'hill', 'station', 'mostly', 'visited', 'locals', 'weekend', 'getaway', 'situated', '120', 'kilometres', 'away', 'vishakhapatnam', 'youre', 'tourist', 'looking', 'exclusivity', 'tranquillity', 'vistadome', 'train', 'leaves', 'vishakhapatnam', '650', 'making', 'way', '58', 'tu']   \n",
       "\n",
       "   no_of_tourist_attration     best_time_to_visit     states_name  \\\n",
       "0                      8.0  september to february  andhra pradesh   \n",
       "\n",
       "                     state_categories state_visit_time   city_visit_time  \\\n",
       "0  commercial_and_technological_state           winter  autumn_to_winter   \n",
       "\n",
       "    city_type  \n",
       "0  hilly type  "
      ]
     },
     "execution_count": 37,
     "metadata": {},
     "output_type": "execute_result"
    }
   ],
   "source": [
    "df.head(1)"
   ]
  },
  {
   "cell_type": "code",
   "execution_count": 38,
   "id": "590efd38",
   "metadata": {
    "ExecuteTime": {
     "end_time": "2024-10-06T12:21:27.288293Z",
     "start_time": "2024-10-06T12:21:27.276522Z"
    }
   },
   "outputs": [
    {
     "data": {
      "text/plain": [
       "Index(['visiting_places', 'visiting_places_rating', 'visiting_place_summary',\n",
       "       'visiting_place_tokenized_summary', 'distance_from_city_center',\n",
       "       'cities_name', 'city_rating', 'city_summary', 'city_tokenized_summary',\n",
       "       'no_of_tourist_attration', 'best_time_to_visit', 'states_name',\n",
       "       'state_categories', 'state_visit_time', 'city_visit_time', 'city_type'],\n",
       "      dtype='object')"
      ]
     },
     "execution_count": 38,
     "metadata": {},
     "output_type": "execute_result"
    }
   ],
   "source": [
    "df.columns"
   ]
  },
  {
   "cell_type": "code",
   "execution_count": 39,
   "id": "6a3a8623",
   "metadata": {
    "ExecuteTime": {
     "end_time": "2024-10-06T12:21:35.242797Z",
     "start_time": "2024-10-06T12:21:35.231633Z"
    }
   },
   "outputs": [
    {
     "data": {
      "text/plain": [
       "(6117, 16)"
      ]
     },
     "execution_count": 39,
     "metadata": {},
     "output_type": "execute_result"
    }
   ],
   "source": [
    "df.shape"
   ]
  },
  {
   "cell_type": "code",
   "execution_count": 47,
   "id": "4b0ec1de",
   "metadata": {
    "ExecuteTime": {
     "end_time": "2024-10-06T12:31:57.956756Z",
     "start_time": "2024-10-06T12:31:57.938578Z"
    }
   },
   "outputs": [],
   "source": [
    "df = df[['visiting_places','visiting_places_rating','distance_from_city_center',\n",
    "         'cities_name','city_rating','city_type','city_visit_time','no_of_tourist_attration',\n",
    "         'states_name','state_categories','state_visit_time','visiting_place_summary','visiting_place_tokenized_summary',\n",
    "         'city_summary','city_tokenized_summary','best_time_to_visit']]"
   ]
  },
  {
   "cell_type": "code",
   "execution_count": 48,
   "id": "edda30eb",
   "metadata": {
    "ExecuteTime": {
     "end_time": "2024-10-06T12:31:59.100734Z",
     "start_time": "2024-10-06T12:31:58.973093Z"
    }
   },
   "outputs": [
    {
     "data": {
      "text/html": [
       "<div>\n",
       "<style scoped>\n",
       "    .dataframe tbody tr th:only-of-type {\n",
       "        vertical-align: middle;\n",
       "    }\n",
       "\n",
       "    .dataframe tbody tr th {\n",
       "        vertical-align: top;\n",
       "    }\n",
       "\n",
       "    .dataframe thead th {\n",
       "        text-align: right;\n",
       "    }\n",
       "</style>\n",
       "<table border=\"1\" class=\"dataframe\">\n",
       "  <thead>\n",
       "    <tr style=\"text-align: right;\">\n",
       "      <th></th>\n",
       "      <th>visiting_places</th>\n",
       "      <th>visiting_places_rating</th>\n",
       "      <th>distance_from_city_center</th>\n",
       "      <th>cities_name</th>\n",
       "      <th>city_rating</th>\n",
       "      <th>city_type</th>\n",
       "      <th>city_visit_time</th>\n",
       "      <th>no_of_tourist_attration</th>\n",
       "      <th>states_name</th>\n",
       "      <th>state_categories</th>\n",
       "      <th>state_visit_time</th>\n",
       "      <th>visiting_place_summary</th>\n",
       "      <th>visiting_place_tokenized_summary</th>\n",
       "      <th>city_summary</th>\n",
       "      <th>city_tokenized_summary</th>\n",
       "      <th>best_time_to_visit</th>\n",
       "    </tr>\n",
       "  </thead>\n",
       "  <tbody>\n",
       "    <tr>\n",
       "      <th>0</th>\n",
       "      <td>borra caves</td>\n",
       "      <td>4.6</td>\n",
       "      <td>18.0</td>\n",
       "      <td>araku valley</td>\n",
       "      <td>4.8</td>\n",
       "      <td>hilly type</td>\n",
       "      <td>autumn_to_winter</td>\n",
       "      <td>8.0</td>\n",
       "      <td>andhra pradesh</td>\n",
       "      <td>commercial_and_technological_state</td>\n",
       "      <td>winter</td>\n",
       "      <td>borra caves borra guhalu known native language discovered william king george geological survey india 1807</td>\n",
       "      <td>['borra', 'caves', 'borra', 'guhalu', 'known', 'native', 'language', 'discovered', 'william', 'king', 'george', 'geological', 'survey', 'india', '1807']</td>\n",
       "      <td>araku valley comparatively unexplored hill station mostly visited locals weekend getaway situated 120 kilometres away vishakhapatnam youre tourist looking exclusivity tranquillity vistadome train leaves vishakhapatnam 650 making way 58 tu</td>\n",
       "      <td>['araku', 'valley', 'comparatively', 'unexplored', 'hill', 'station', 'mostly', 'visited', 'locals', 'weekend', 'getaway', 'situated', '120', 'kilometres', 'away', 'vishakhapatnam', 'youre', 'tourist', 'looking', 'exclusivity', 'tranquillity', 'vistadome', 'train', 'leaves', 'vishakhapatnam', '650', 'making', 'way', '58', 'tu']</td>\n",
       "      <td>september to february</td>\n",
       "    </tr>\n",
       "  </tbody>\n",
       "</table>\n",
       "</div>"
      ],
      "text/plain": [
       "  visiting_places  visiting_places_rating  distance_from_city_center  \\\n",
       "0     borra caves                     4.6                       18.0   \n",
       "\n",
       "    cities_name  city_rating   city_type   city_visit_time  \\\n",
       "0  araku valley          4.8  hilly type  autumn_to_winter   \n",
       "\n",
       "   no_of_tourist_attration     states_name  \\\n",
       "0                      8.0  andhra pradesh   \n",
       "\n",
       "                     state_categories state_visit_time  \\\n",
       "0  commercial_and_technological_state           winter   \n",
       "\n",
       "                                                                                       visiting_place_summary  \\\n",
       "0  borra caves borra guhalu known native language discovered william king george geological survey india 1807   \n",
       "\n",
       "                                                                                                                           visiting_place_tokenized_summary  \\\n",
       "0  ['borra', 'caves', 'borra', 'guhalu', 'known', 'native', 'language', 'discovered', 'william', 'king', 'george', 'geological', 'survey', 'india', '1807']   \n",
       "\n",
       "                                                                                                                                                                                                                                     city_summary  \\\n",
       "0  araku valley comparatively unexplored hill station mostly visited locals weekend getaway situated 120 kilometres away vishakhapatnam youre tourist looking exclusivity tranquillity vistadome train leaves vishakhapatnam 650 making way 58 tu   \n",
       "\n",
       "                                                                                                                                                                                                                                                                                                                      city_tokenized_summary  \\\n",
       "0  ['araku', 'valley', 'comparatively', 'unexplored', 'hill', 'station', 'mostly', 'visited', 'locals', 'weekend', 'getaway', 'situated', '120', 'kilometres', 'away', 'vishakhapatnam', 'youre', 'tourist', 'looking', 'exclusivity', 'tranquillity', 'vistadome', 'train', 'leaves', 'vishakhapatnam', '650', 'making', 'way', '58', 'tu']   \n",
       "\n",
       "      best_time_to_visit  \n",
       "0  september to february  "
      ]
     },
     "execution_count": 48,
     "metadata": {},
     "output_type": "execute_result"
    }
   ],
   "source": [
    "df.head(1)"
   ]
  },
  {
   "cell_type": "code",
   "execution_count": 49,
   "id": "1355dbee",
   "metadata": {
    "ExecuteTime": {
     "end_time": "2024-10-06T12:32:37.930618Z",
     "start_time": "2024-10-06T12:32:37.917184Z"
    }
   },
   "outputs": [
    {
     "data": {
      "text/plain": [
       "(6117, 16)"
      ]
     },
     "execution_count": 49,
     "metadata": {},
     "output_type": "execute_result"
    }
   ],
   "source": [
    "df.shape"
   ]
  },
  {
   "cell_type": "code",
   "execution_count": 50,
   "id": "b8a4b6eb",
   "metadata": {
    "ExecuteTime": {
     "end_time": "2024-10-06T12:32:39.122810Z",
     "start_time": "2024-10-06T12:32:39.100260Z"
    }
   },
   "outputs": [
    {
     "name": "stdout",
     "output_type": "stream",
     "text": [
      "<class 'pandas.core.frame.DataFrame'>\n",
      "RangeIndex: 6117 entries, 0 to 6116\n",
      "Data columns (total 16 columns):\n",
      " #   Column                            Non-Null Count  Dtype  \n",
      "---  ------                            --------------  -----  \n",
      " 0   visiting_places                   6117 non-null   object \n",
      " 1   visiting_places_rating            3486 non-null   float64\n",
      " 2   distance_from_city_center         5293 non-null   float64\n",
      " 3   cities_name                       5736 non-null   object \n",
      " 4   city_rating                       5460 non-null   float64\n",
      " 5   city_type                         5736 non-null   object \n",
      " 6   city_visit_time                   5460 non-null   object \n",
      " 7   no_of_tourist_attration           5460 non-null   float64\n",
      " 8   states_name                       5562 non-null   object \n",
      " 9   state_categories                  5562 non-null   object \n",
      " 10  state_visit_time                  5383 non-null   object \n",
      " 11  visiting_place_summary            5811 non-null   object \n",
      " 12  visiting_place_tokenized_summary  5811 non-null   object \n",
      " 13  city_summary                      5562 non-null   object \n",
      " 14  city_tokenized_summary            5562 non-null   object \n",
      " 15  best_time_to_visit                5460 non-null   object \n",
      "dtypes: float64(4), object(12)\n",
      "memory usage: 764.8+ KB\n"
     ]
    }
   ],
   "source": [
    "df.info()"
   ]
  },
  {
   "cell_type": "code",
   "execution_count": 51,
   "id": "669de86b",
   "metadata": {
    "ExecuteTime": {
     "end_time": "2024-10-06T12:34:08.250122Z",
     "start_time": "2024-10-06T12:34:06.925415Z"
    }
   },
   "outputs": [],
   "source": [
    "df.to_csv(\"feature-engineering-city-state.csv\",index=False)"
   ]
  },
  {
   "cell_type": "code",
   "execution_count": null,
   "id": "82b881d7",
   "metadata": {},
   "outputs": [],
   "source": []
  }
 ],
 "metadata": {
  "kernelspec": {
   "display_name": "Python 3 (ipykernel)",
   "language": "python",
   "name": "python3"
  },
  "language_info": {
   "codemirror_mode": {
    "name": "ipython",
    "version": 3
   },
   "file_extension": ".py",
   "mimetype": "text/x-python",
   "name": "python",
   "nbconvert_exporter": "python",
   "pygments_lexer": "ipython3",
   "version": "3.11.5"
  },
  "toc": {
   "base_numbering": 1,
   "nav_menu": {},
   "number_sections": true,
   "sideBar": true,
   "skip_h1_title": false,
   "title_cell": "Table of Contents",
   "title_sidebar": "Contents",
   "toc_cell": false,
   "toc_position": {},
   "toc_section_display": true,
   "toc_window_display": false
  }
 },
 "nbformat": 4,
 "nbformat_minor": 5
}
