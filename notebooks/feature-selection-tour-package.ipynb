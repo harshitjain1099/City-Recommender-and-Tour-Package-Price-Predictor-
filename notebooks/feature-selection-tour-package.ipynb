{
 "cells": [
  {
   "cell_type": "code",
   "execution_count": 1,
   "id": "9f432dd1",
   "metadata": {
    "ExecuteTime": {
     "end_time": "2024-10-12T16:27:11.633194Z",
     "start_time": "2024-10-12T16:26:57.619528Z"
    }
   },
   "outputs": [
    {
     "name": "stderr",
     "output_type": "stream",
     "text": [
      "C:\\Users\\HARSHIT JAIN\\anaconda3\\Lib\\site-packages\\pandas\\core\\arrays\\masked.py:60: UserWarning: Pandas requires version '1.3.6' or newer of 'bottleneck' (version '1.3.5' currently installed).\n",
      "  from pandas.core import (\n"
     ]
    }
   ],
   "source": [
    "import pandas as pd\n",
    "import numpy as np\n",
    "import matplotlib.pyplot as plt\n",
    "import seaborn as sns"
   ]
  },
  {
   "cell_type": "code",
   "execution_count": 2,
   "id": "3361acc0",
   "metadata": {
    "ExecuteTime": {
     "end_time": "2024-10-12T16:27:11.682257Z",
     "start_time": "2024-10-12T16:27:11.640739Z"
    }
   },
   "outputs": [],
   "source": [
    "df = pd.read_csv(r'C:\\Users\\HARSHIT JAIN\\Desktop\\data science projects\\visit_and_tour_packages_project\\datasets\\tour-package-outlier-treated.csv')"
   ]
  },
  {
   "cell_type": "code",
   "execution_count": 3,
   "id": "aee017eb",
   "metadata": {
    "ExecuteTime": {
     "end_time": "2024-10-12T16:27:11.851086Z",
     "start_time": "2024-10-12T16:27:11.682257Z"
    }
   },
   "outputs": [
    {
     "name": "stdout",
     "output_type": "stream",
     "text": [
      "<class 'pandas.core.frame.DataFrame'>\n",
      "RangeIndex: 2428 entries, 0 to 2427\n",
      "Data columns (total 12 columns):\n",
      " #   Column                        Non-Null Count  Dtype  \n",
      "---  ------                        --------------  -----  \n",
      " 0   package_name                  2428 non-null   object \n",
      " 1   category_of_package           2428 non-null   object \n",
      " 2   cities_to_be_visit            2428 non-null   object \n",
      " 3   count_of_cities               2428 non-null   int64  \n",
      " 4   categories_by_days            2428 non-null   object \n",
      " 5   no_of_nights                  2428 non-null   int64  \n",
      " 6   no_of_days                    2428 non-null   int64  \n",
      " 7   categories_by_price           2428 non-null   object \n",
      " 8   accommodation_facility        2428 non-null   object \n",
      " 9   price                         2428 non-null   float64\n",
      " 10  tokenized_cities_to_be_visit  2428 non-null   object \n",
      " 11  tokenized_package_name        2428 non-null   object \n",
      "dtypes: float64(1), int64(3), object(8)\n",
      "memory usage: 227.8+ KB\n"
     ]
    }
   ],
   "source": [
    "df.info()"
   ]
  },
  {
   "cell_type": "code",
   "execution_count": 4,
   "id": "0b935f96",
   "metadata": {
    "ExecuteTime": {
     "end_time": "2024-10-12T16:27:11.948785Z",
     "start_time": "2024-10-12T16:27:11.858045Z"
    }
   },
   "outputs": [
    {
     "data": {
      "text/plain": [
       "(2428, 12)"
      ]
     },
     "execution_count": 4,
     "metadata": {},
     "output_type": "execute_result"
    }
   ],
   "source": [
    "df.shape"
   ]
  },
  {
   "cell_type": "code",
   "execution_count": 5,
   "id": "8135b669",
   "metadata": {
    "ExecuteTime": {
     "end_time": "2024-10-12T16:27:12.079666Z",
     "start_time": "2024-10-12T16:27:11.967301Z"
    }
   },
   "outputs": [
    {
     "data": {
      "text/html": [
       "<div>\n",
       "<style scoped>\n",
       "    .dataframe tbody tr th:only-of-type {\n",
       "        vertical-align: middle;\n",
       "    }\n",
       "\n",
       "    .dataframe tbody tr th {\n",
       "        vertical-align: top;\n",
       "    }\n",
       "\n",
       "    .dataframe thead th {\n",
       "        text-align: right;\n",
       "    }\n",
       "</style>\n",
       "<table border=\"1\" class=\"dataframe\">\n",
       "  <thead>\n",
       "    <tr style=\"text-align: right;\">\n",
       "      <th></th>\n",
       "      <th>package_name</th>\n",
       "      <th>category_of_package</th>\n",
       "      <th>cities_to_be_visit</th>\n",
       "      <th>count_of_cities</th>\n",
       "      <th>categories_by_days</th>\n",
       "      <th>no_of_nights</th>\n",
       "      <th>no_of_days</th>\n",
       "      <th>categories_by_price</th>\n",
       "      <th>accommodation_facility</th>\n",
       "      <th>price</th>\n",
       "      <th>tokenized_cities_to_be_visit</th>\n",
       "      <th>tokenized_package_name</th>\n",
       "    </tr>\n",
       "  </thead>\n",
       "  <tbody>\n",
       "    <tr>\n",
       "      <th>0</th>\n",
       "      <td>amazing amaravathi</td>\n",
       "      <td>holiday_package</td>\n",
       "      <td>amaravathi</td>\n",
       "      <td>1</td>\n",
       "      <td>short trip</td>\n",
       "      <td>2</td>\n",
       "      <td>3</td>\n",
       "      <td>budget</td>\n",
       "      <td>low-cost apartment</td>\n",
       "      <td>8000.0</td>\n",
       "      <td>['amaravathi']</td>\n",
       "      <td>['Amazing', 'Amaravathi']</td>\n",
       "    </tr>\n",
       "    <tr>\n",
       "      <th>1</th>\n",
       "      <td>alluring amaravathi and vijayawada</td>\n",
       "      <td>holiday_package</td>\n",
       "      <td>amaravathi ,  vijaywada</td>\n",
       "      <td>2</td>\n",
       "      <td>medium trip</td>\n",
       "      <td>3</td>\n",
       "      <td>4</td>\n",
       "      <td>budget</td>\n",
       "      <td>budget hotel</td>\n",
       "      <td>10000.0</td>\n",
       "      <td>['amaravathi', 'vijaywada']</td>\n",
       "      <td>['Alluring', 'Amaravathi', 'and', 'Vijayawada']</td>\n",
       "    </tr>\n",
       "    <tr>\n",
       "      <th>2</th>\n",
       "      <td>awesome amaravathi, vijaywada &amp; kakinada</td>\n",
       "      <td>holiday_package</td>\n",
       "      <td>amaravathi ,  vijaywada ,  kakinada</td>\n",
       "      <td>3</td>\n",
       "      <td>medium trip</td>\n",
       "      <td>4</td>\n",
       "      <td>5</td>\n",
       "      <td>budget</td>\n",
       "      <td>budget hotel</td>\n",
       "      <td>12499.0</td>\n",
       "      <td>['amaravathi', 'vijaywada', 'kakinada']</td>\n",
       "      <td>['Awesome', 'Amaravathi', 'Vijaywada', 'Kakina...</td>\n",
       "    </tr>\n",
       "    <tr>\n",
       "      <th>3</th>\n",
       "      <td>delights of andhra pradesh including amaravathi</td>\n",
       "      <td>holiday_package</td>\n",
       "      <td>tirupati ,  nellore ,  amaravathi ,  vijaywada...</td>\n",
       "      <td>6</td>\n",
       "      <td>medium trip</td>\n",
       "      <td>6</td>\n",
       "      <td>7</td>\n",
       "      <td>standard</td>\n",
       "      <td>3-star hotel</td>\n",
       "      <td>20000.0</td>\n",
       "      <td>['tirupati', 'nellore', 'amaravathi', 'vijaywa...</td>\n",
       "      <td>['Delights', 'of', 'Andhra', 'Pradesh', 'inclu...</td>\n",
       "    </tr>\n",
       "    <tr>\n",
       "      <th>4</th>\n",
       "      <td>gems of andhra pradesh including amaravathi an...</td>\n",
       "      <td>offbeat_package</td>\n",
       "      <td>tirupati ,  nellore ,  amaravathi ,  vijaywada...</td>\n",
       "      <td>7</td>\n",
       "      <td>long trip</td>\n",
       "      <td>7</td>\n",
       "      <td>8</td>\n",
       "      <td>standard</td>\n",
       "      <td>standard hotel</td>\n",
       "      <td>23500.0</td>\n",
       "      <td>['tirupati', 'nellore', 'amaravathi', 'vijaywa...</td>\n",
       "      <td>['Gems', 'of', 'Andhra', 'Pradesh', 'Including...</td>\n",
       "    </tr>\n",
       "  </tbody>\n",
       "</table>\n",
       "</div>"
      ],
      "text/plain": [
       "                                        package_name category_of_package  \\\n",
       "0                                 amazing amaravathi     holiday_package   \n",
       "1                 alluring amaravathi and vijayawada     holiday_package   \n",
       "2           awesome amaravathi, vijaywada & kakinada     holiday_package   \n",
       "3    delights of andhra pradesh including amaravathi     holiday_package   \n",
       "4  gems of andhra pradesh including amaravathi an...     offbeat_package   \n",
       "\n",
       "                                  cities_to_be_visit  count_of_cities  \\\n",
       "0                                         amaravathi                1   \n",
       "1                            amaravathi ,  vijaywada                2   \n",
       "2                amaravathi ,  vijaywada ,  kakinada                3   \n",
       "3  tirupati ,  nellore ,  amaravathi ,  vijaywada...                6   \n",
       "4  tirupati ,  nellore ,  amaravathi ,  vijaywada...                7   \n",
       "\n",
       "  categories_by_days  no_of_nights  no_of_days categories_by_price  \\\n",
       "0         short trip             2           3              budget   \n",
       "1        medium trip             3           4              budget   \n",
       "2        medium trip             4           5              budget   \n",
       "3        medium trip             6           7            standard   \n",
       "4          long trip             7           8            standard   \n",
       "\n",
       "  accommodation_facility    price  \\\n",
       "0     low-cost apartment   8000.0   \n",
       "1           budget hotel  10000.0   \n",
       "2           budget hotel  12499.0   \n",
       "3           3-star hotel  20000.0   \n",
       "4         standard hotel  23500.0   \n",
       "\n",
       "                        tokenized_cities_to_be_visit  \\\n",
       "0                                     ['amaravathi']   \n",
       "1                        ['amaravathi', 'vijaywada']   \n",
       "2            ['amaravathi', 'vijaywada', 'kakinada']   \n",
       "3  ['tirupati', 'nellore', 'amaravathi', 'vijaywa...   \n",
       "4  ['tirupati', 'nellore', 'amaravathi', 'vijaywa...   \n",
       "\n",
       "                              tokenized_package_name  \n",
       "0                          ['Amazing', 'Amaravathi']  \n",
       "1    ['Alluring', 'Amaravathi', 'and', 'Vijayawada']  \n",
       "2  ['Awesome', 'Amaravathi', 'Vijaywada', 'Kakina...  \n",
       "3  ['Delights', 'of', 'Andhra', 'Pradesh', 'inclu...  \n",
       "4  ['Gems', 'of', 'Andhra', 'Pradesh', 'Including...  "
      ]
     },
     "execution_count": 5,
     "metadata": {},
     "output_type": "execute_result"
    }
   ],
   "source": [
    "df.head()"
   ]
  },
  {
   "cell_type": "code",
   "execution_count": 6,
   "id": "76e3a73d",
   "metadata": {
    "ExecuteTime": {
     "end_time": "2024-10-12T16:27:12.165315Z",
     "start_time": "2024-10-12T16:27:12.079666Z"
    }
   },
   "outputs": [],
   "source": [
    "df.drop(columns=['package_name','tokenized_cities_to_be_visit','tokenized_package_name','cities_to_be_visit'],inplace=True)"
   ]
  },
  {
   "cell_type": "code",
   "execution_count": 7,
   "id": "1d3ca2ff",
   "metadata": {
    "ExecuteTime": {
     "end_time": "2024-10-12T16:27:12.267990Z",
     "start_time": "2024-10-12T16:27:12.173002Z"
    }
   },
   "outputs": [
    {
     "data": {
      "text/html": [
       "<div>\n",
       "<style scoped>\n",
       "    .dataframe tbody tr th:only-of-type {\n",
       "        vertical-align: middle;\n",
       "    }\n",
       "\n",
       "    .dataframe tbody tr th {\n",
       "        vertical-align: top;\n",
       "    }\n",
       "\n",
       "    .dataframe thead th {\n",
       "        text-align: right;\n",
       "    }\n",
       "</style>\n",
       "<table border=\"1\" class=\"dataframe\">\n",
       "  <thead>\n",
       "    <tr style=\"text-align: right;\">\n",
       "      <th></th>\n",
       "      <th>category_of_package</th>\n",
       "      <th>count_of_cities</th>\n",
       "      <th>categories_by_days</th>\n",
       "      <th>no_of_nights</th>\n",
       "      <th>no_of_days</th>\n",
       "      <th>categories_by_price</th>\n",
       "      <th>accommodation_facility</th>\n",
       "      <th>price</th>\n",
       "    </tr>\n",
       "  </thead>\n",
       "  <tbody>\n",
       "    <tr>\n",
       "      <th>0</th>\n",
       "      <td>holiday_package</td>\n",
       "      <td>1</td>\n",
       "      <td>short trip</td>\n",
       "      <td>2</td>\n",
       "      <td>3</td>\n",
       "      <td>budget</td>\n",
       "      <td>low-cost apartment</td>\n",
       "      <td>8000.0</td>\n",
       "    </tr>\n",
       "    <tr>\n",
       "      <th>1</th>\n",
       "      <td>holiday_package</td>\n",
       "      <td>2</td>\n",
       "      <td>medium trip</td>\n",
       "      <td>3</td>\n",
       "      <td>4</td>\n",
       "      <td>budget</td>\n",
       "      <td>budget hotel</td>\n",
       "      <td>10000.0</td>\n",
       "    </tr>\n",
       "    <tr>\n",
       "      <th>2</th>\n",
       "      <td>holiday_package</td>\n",
       "      <td>3</td>\n",
       "      <td>medium trip</td>\n",
       "      <td>4</td>\n",
       "      <td>5</td>\n",
       "      <td>budget</td>\n",
       "      <td>budget hotel</td>\n",
       "      <td>12499.0</td>\n",
       "    </tr>\n",
       "    <tr>\n",
       "      <th>3</th>\n",
       "      <td>holiday_package</td>\n",
       "      <td>6</td>\n",
       "      <td>medium trip</td>\n",
       "      <td>6</td>\n",
       "      <td>7</td>\n",
       "      <td>standard</td>\n",
       "      <td>3-star hotel</td>\n",
       "      <td>20000.0</td>\n",
       "    </tr>\n",
       "    <tr>\n",
       "      <th>4</th>\n",
       "      <td>offbeat_package</td>\n",
       "      <td>7</td>\n",
       "      <td>long trip</td>\n",
       "      <td>7</td>\n",
       "      <td>8</td>\n",
       "      <td>standard</td>\n",
       "      <td>standard hotel</td>\n",
       "      <td>23500.0</td>\n",
       "    </tr>\n",
       "  </tbody>\n",
       "</table>\n",
       "</div>"
      ],
      "text/plain": [
       "  category_of_package  count_of_cities categories_by_days  no_of_nights  \\\n",
       "0     holiday_package                1         short trip             2   \n",
       "1     holiday_package                2        medium trip             3   \n",
       "2     holiday_package                3        medium trip             4   \n",
       "3     holiday_package                6        medium trip             6   \n",
       "4     offbeat_package                7          long trip             7   \n",
       "\n",
       "   no_of_days categories_by_price accommodation_facility    price  \n",
       "0           3              budget     low-cost apartment   8000.0  \n",
       "1           4              budget           budget hotel  10000.0  \n",
       "2           5              budget           budget hotel  12499.0  \n",
       "3           7            standard           3-star hotel  20000.0  \n",
       "4           8            standard         standard hotel  23500.0  "
      ]
     },
     "execution_count": 7,
     "metadata": {},
     "output_type": "execute_result"
    }
   ],
   "source": [
    "df.head()"
   ]
  },
  {
   "cell_type": "code",
   "execution_count": 8,
   "id": "e76d11da",
   "metadata": {
    "ExecuteTime": {
     "end_time": "2024-10-12T16:27:12.399873Z",
     "start_time": "2024-10-12T16:27:12.272868Z"
    }
   },
   "outputs": [
    {
     "data": {
      "text/plain": [
       "category_of_package\n",
       "holiday_package       1204\n",
       "honeymoon_package      404\n",
       "spiritual packages     228\n",
       "family_package         120\n",
       "nature_package          89\n",
       "beach_holiday           70\n",
       "adventure_package       68\n",
       "luxury_package          63\n",
       "weekend_package         55\n",
       "offbeat_package         49\n",
       "cultural_package        39\n",
       "budget_package          37\n",
       "wellness_package         2\n",
       "Name: count, dtype: int64"
      ]
     },
     "execution_count": 8,
     "metadata": {},
     "output_type": "execute_result"
    }
   ],
   "source": [
    "df['category_of_package'].value_counts()"
   ]
  },
  {
   "cell_type": "code",
   "execution_count": 9,
   "id": "ab98b954",
   "metadata": {
    "ExecuteTime": {
     "end_time": "2024-10-12T16:27:12.515541Z",
     "start_time": "2024-10-12T16:27:12.406041Z"
    }
   },
   "outputs": [
    {
     "data": {
      "text/plain": [
       "(13,)"
      ]
     },
     "execution_count": 9,
     "metadata": {},
     "output_type": "execute_result"
    }
   ],
   "source": [
    "df['category_of_package'].value_counts().shape"
   ]
  },
  {
   "cell_type": "code",
   "execution_count": 10,
   "id": "6507e0b7",
   "metadata": {
    "ExecuteTime": {
     "end_time": "2024-10-12T16:27:12.614286Z",
     "start_time": "2024-10-12T16:27:12.522327Z"
    }
   },
   "outputs": [
    {
     "data": {
      "text/plain": [
       "count_of_cities\n",
       "3     512\n",
       "4     505\n",
       "5     386\n",
       "2     341\n",
       "6     233\n",
       "1     180\n",
       "7     134\n",
       "8      72\n",
       "9      43\n",
       "10     22\n",
       "Name: count, dtype: int64"
      ]
     },
     "execution_count": 10,
     "metadata": {},
     "output_type": "execute_result"
    }
   ],
   "source": [
    "df['count_of_cities'].value_counts()"
   ]
  },
  {
   "cell_type": "code",
   "execution_count": 11,
   "id": "def603b2",
   "metadata": {
    "ExecuteTime": {
     "end_time": "2024-10-12T16:27:12.693791Z",
     "start_time": "2024-10-12T16:27:12.625879Z"
    }
   },
   "outputs": [
    {
     "data": {
      "text/plain": [
       "(10,)"
      ]
     },
     "execution_count": 11,
     "metadata": {},
     "output_type": "execute_result"
    }
   ],
   "source": [
    "df['count_of_cities'].value_counts().shape"
   ]
  },
  {
   "cell_type": "code",
   "execution_count": 12,
   "id": "65002703",
   "metadata": {
    "ExecuteTime": {
     "end_time": "2024-10-12T16:27:12.796432Z",
     "start_time": "2024-10-12T16:27:12.706673Z"
    }
   },
   "outputs": [
    {
     "data": {
      "text/plain": [
       "categories_by_days\n",
       "medium trip    1599\n",
       "long trip       556\n",
       "short trip      273\n",
       "Name: count, dtype: int64"
      ]
     },
     "execution_count": 12,
     "metadata": {},
     "output_type": "execute_result"
    }
   ],
   "source": [
    "df['categories_by_days'].value_counts()"
   ]
  },
  {
   "cell_type": "code",
   "execution_count": 13,
   "id": "b5d7e1e6",
   "metadata": {
    "ExecuteTime": {
     "end_time": "2024-10-12T16:27:12.877557Z",
     "start_time": "2024-10-12T16:27:12.805857Z"
    }
   },
   "outputs": [
    {
     "data": {
      "text/plain": [
       "(3,)"
      ]
     },
     "execution_count": 13,
     "metadata": {},
     "output_type": "execute_result"
    }
   ],
   "source": [
    "df['categories_by_days'].value_counts().shape"
   ]
  },
  {
   "cell_type": "code",
   "execution_count": 14,
   "id": "03fca420",
   "metadata": {
    "ExecuteTime": {
     "end_time": "2024-10-12T16:27:13.005712Z",
     "start_time": "2024-10-12T16:27:12.885556Z"
    }
   },
   "outputs": [
    {
     "data": {
      "text/plain": [
       "no_of_days\n",
       "6     456\n",
       "5     411\n",
       "7     403\n",
       "4     329\n",
       "8     273\n",
       "3     246\n",
       "9     128\n",
       "10     94\n",
       "11     34\n",
       "2      27\n",
       "12     27\n",
       "Name: count, dtype: int64"
      ]
     },
     "execution_count": 14,
     "metadata": {},
     "output_type": "execute_result"
    }
   ],
   "source": [
    "df['no_of_days'].value_counts()"
   ]
  },
  {
   "cell_type": "code",
   "execution_count": 15,
   "id": "f4c06427",
   "metadata": {
    "ExecuteTime": {
     "end_time": "2024-10-12T16:27:13.152136Z",
     "start_time": "2024-10-12T16:27:13.007882Z"
    }
   },
   "outputs": [
    {
     "data": {
      "text/plain": [
       "(11,)"
      ]
     },
     "execution_count": 15,
     "metadata": {},
     "output_type": "execute_result"
    }
   ],
   "source": [
    "df['no_of_days'].value_counts().shape"
   ]
  },
  {
   "cell_type": "code",
   "execution_count": 16,
   "id": "caf52198",
   "metadata": {
    "ExecuteTime": {
     "end_time": "2024-10-12T16:27:13.313388Z",
     "start_time": "2024-10-12T16:27:13.155852Z"
    }
   },
   "outputs": [
    {
     "data": {
      "text/plain": [
       "categories_by_price\n",
       "standard    1148\n",
       "budget       743\n",
       "premium      423\n",
       "luxury       114\n",
       "Name: count, dtype: int64"
      ]
     },
     "execution_count": 16,
     "metadata": {},
     "output_type": "execute_result"
    }
   ],
   "source": [
    "df['categories_by_price'].value_counts()"
   ]
  },
  {
   "cell_type": "code",
   "execution_count": 17,
   "id": "cf13c504",
   "metadata": {
    "ExecuteTime": {
     "end_time": "2024-10-12T16:27:13.450581Z",
     "start_time": "2024-10-12T16:27:13.321132Z"
    }
   },
   "outputs": [
    {
     "data": {
      "text/plain": [
       "(4,)"
      ]
     },
     "execution_count": 17,
     "metadata": {},
     "output_type": "execute_result"
    }
   ],
   "source": [
    "df['categories_by_price'].value_counts().shape"
   ]
  },
  {
   "cell_type": "code",
   "execution_count": 18,
   "id": "f823163c",
   "metadata": {
    "ExecuteTime": {
     "end_time": "2024-10-12T16:27:13.556560Z",
     "start_time": "2024-10-12T16:27:13.473383Z"
    }
   },
   "outputs": [
    {
     "data": {
      "text/plain": [
       "accommodation_facility\n",
       "3-star hotel                      961\n",
       "budget hotel                      483\n",
       "4-star hotel                      289\n",
       "low-cost apartment                247\n",
       "standard hotel                    166\n",
       "5-star hotel                      131\n",
       "5-star resort                      88\n",
       "high-end luxury resort             24\n",
       "serviced apartment                 21\n",
       "hostel room                        13\n",
       "premium serviced apartment          3\n",
       "private villa/luxury apartment      2\n",
       "Name: count, dtype: int64"
      ]
     },
     "execution_count": 18,
     "metadata": {},
     "output_type": "execute_result"
    }
   ],
   "source": [
    "df['accommodation_facility'].value_counts()"
   ]
  },
  {
   "cell_type": "code",
   "execution_count": 19,
   "id": "6a596929",
   "metadata": {
    "ExecuteTime": {
     "end_time": "2024-10-12T16:27:13.705470Z",
     "start_time": "2024-10-12T16:27:13.565185Z"
    }
   },
   "outputs": [
    {
     "data": {
      "text/plain": [
       "(12,)"
      ]
     },
     "execution_count": 19,
     "metadata": {},
     "output_type": "execute_result"
    }
   ],
   "source": [
    "df['accommodation_facility'].value_counts().shape"
   ]
  },
  {
   "cell_type": "code",
   "execution_count": 20,
   "id": "54a2f543",
   "metadata": {
    "ExecuteTime": {
     "end_time": "2024-10-12T16:27:13.843264Z",
     "start_time": "2024-10-12T16:27:13.715387Z"
    }
   },
   "outputs": [
    {
     "data": {
      "text/plain": [
       "price\n",
       "15000.0    37\n",
       "12000.0    35\n",
       "21000.0    33\n",
       "25000.0    26\n",
       "20000.0    26\n",
       "           ..\n",
       "50916.0     1\n",
       "14975.0     1\n",
       "20700.0     1\n",
       "25199.0     1\n",
       "10630.0     1\n",
       "Name: count, Length: 868, dtype: int64"
      ]
     },
     "execution_count": 20,
     "metadata": {},
     "output_type": "execute_result"
    }
   ],
   "source": [
    "df['price'].value_counts()"
   ]
  },
  {
   "cell_type": "code",
   "execution_count": 21,
   "id": "9b145189",
   "metadata": {
    "ExecuteTime": {
     "end_time": "2024-10-12T16:27:13.947303Z",
     "start_time": "2024-10-12T16:27:13.851268Z"
    }
   },
   "outputs": [
    {
     "data": {
      "text/plain": [
       "(868,)"
      ]
     },
     "execution_count": 21,
     "metadata": {},
     "output_type": "execute_result"
    }
   ],
   "source": [
    "df['price'].value_counts().shape"
   ]
  },
  {
   "cell_type": "code",
   "execution_count": 22,
   "id": "1dfd6647",
   "metadata": {
    "ExecuteTime": {
     "end_time": "2024-10-12T16:27:14.073119Z",
     "start_time": "2024-10-12T16:27:13.955311Z"
    }
   },
   "outputs": [
    {
     "data": {
      "text/plain": [
       "accommodation_facility\n",
       "3-star hotel                      961\n",
       "budget hotel                      483\n",
       "4-star hotel                      289\n",
       "low-cost apartment                247\n",
       "standard hotel                    166\n",
       "5-star hotel                      131\n",
       "5-star resort                      88\n",
       "high-end luxury resort             24\n",
       "serviced apartment                 21\n",
       "hostel room                        13\n",
       "premium serviced apartment          3\n",
       "private villa/luxury apartment      2\n",
       "Name: count, dtype: int64"
      ]
     },
     "execution_count": 22,
     "metadata": {},
     "output_type": "execute_result"
    }
   ],
   "source": [
    "df['accommodation_facility'].value_counts()"
   ]
  },
  {
   "cell_type": "code",
   "execution_count": 23,
   "id": "b6ead484",
   "metadata": {
    "ExecuteTime": {
     "end_time": "2024-10-12T16:27:14.163527Z",
     "start_time": "2024-10-12T16:27:14.081119Z"
    }
   },
   "outputs": [],
   "source": [
    "five_star = ['5-star hotel', '5-star resort', 'high-end luxury resort', 'private villa/luxury apartment']\n",
    "four_star = ['4-star hotel','premium serviced apartment']\n",
    "three_star = ['3-star hotel','standard hotel']\n",
    "two_star = ['serviced apartment']\n",
    "one_star = ['budget hotel', 'low-cost apartment', 'hostel room']\n"
   ]
  },
  {
   "cell_type": "code",
   "execution_count": 24,
   "id": "d0f5937f",
   "metadata": {
    "ExecuteTime": {
     "end_time": "2024-10-12T16:27:14.279548Z",
     "start_time": "2024-10-12T16:27:14.170767Z"
    }
   },
   "outputs": [],
   "source": [
    "def get_accommodation_facility(accommodation):\n",
    "    if accommodation in five_star:\n",
    "        return '5 star'\n",
    "    elif accommodation in four_star:\n",
    "        return '4 star'\n",
    "    elif accommodation in three_star:\n",
    "        return '3 star'\n",
    "    elif accommodation in two_star:\n",
    "        return '2 star'\n",
    "    elif accommodation in one_star:\n",
    "        return '1 star'\n",
    "    return 'not defined'"
   ]
  },
  {
   "cell_type": "code",
   "execution_count": 25,
   "id": "e8739ef3",
   "metadata": {
    "ExecuteTime": {
     "end_time": "2024-10-12T16:27:14.375062Z",
     "start_time": "2024-10-12T16:27:14.287277Z"
    }
   },
   "outputs": [],
   "source": [
    "df['accommodation_facility'] = df['accommodation_facility'].apply(get_accommodation_facility)"
   ]
  },
  {
   "cell_type": "code",
   "execution_count": 26,
   "id": "bb09a26a",
   "metadata": {
    "ExecuteTime": {
     "end_time": "2024-10-12T16:27:14.476275Z",
     "start_time": "2024-10-12T16:27:14.383066Z"
    }
   },
   "outputs": [],
   "source": [
    "pd.set_option('display.max_rows',None)"
   ]
  },
  {
   "cell_type": "code",
   "execution_count": 27,
   "id": "16a94057",
   "metadata": {
    "ExecuteTime": {
     "end_time": "2024-10-12T16:27:14.585932Z",
     "start_time": "2024-10-12T16:27:14.485961Z"
    }
   },
   "outputs": [
    {
     "data": {
      "text/plain": [
       "accommodation_facility\n",
       "3 star    1127\n",
       "1 star     743\n",
       "4 star     292\n",
       "5 star     245\n",
       "2 star      21\n",
       "Name: count, dtype: int64"
      ]
     },
     "execution_count": 27,
     "metadata": {},
     "output_type": "execute_result"
    }
   ],
   "source": [
    "df['accommodation_facility'].value_counts()"
   ]
  },
  {
   "cell_type": "code",
   "execution_count": 28,
   "id": "c4bf443b",
   "metadata": {
    "ExecuteTime": {
     "end_time": "2024-10-12T16:27:14.704855Z",
     "start_time": "2024-10-12T16:27:14.589513Z"
    }
   },
   "outputs": [
    {
     "data": {
      "text/html": [
       "<div>\n",
       "<style scoped>\n",
       "    .dataframe tbody tr th:only-of-type {\n",
       "        vertical-align: middle;\n",
       "    }\n",
       "\n",
       "    .dataframe tbody tr th {\n",
       "        vertical-align: top;\n",
       "    }\n",
       "\n",
       "    .dataframe thead th {\n",
       "        text-align: right;\n",
       "    }\n",
       "</style>\n",
       "<table border=\"1\" class=\"dataframe\">\n",
       "  <thead>\n",
       "    <tr style=\"text-align: right;\">\n",
       "      <th></th>\n",
       "      <th>category_of_package</th>\n",
       "      <th>count_of_cities</th>\n",
       "      <th>categories_by_days</th>\n",
       "      <th>no_of_nights</th>\n",
       "      <th>no_of_days</th>\n",
       "      <th>categories_by_price</th>\n",
       "      <th>accommodation_facility</th>\n",
       "      <th>price</th>\n",
       "    </tr>\n",
       "  </thead>\n",
       "  <tbody>\n",
       "    <tr>\n",
       "      <th>0</th>\n",
       "      <td>holiday_package</td>\n",
       "      <td>1</td>\n",
       "      <td>short trip</td>\n",
       "      <td>2</td>\n",
       "      <td>3</td>\n",
       "      <td>budget</td>\n",
       "      <td>1 star</td>\n",
       "      <td>8000.0</td>\n",
       "    </tr>\n",
       "    <tr>\n",
       "      <th>1</th>\n",
       "      <td>holiday_package</td>\n",
       "      <td>2</td>\n",
       "      <td>medium trip</td>\n",
       "      <td>3</td>\n",
       "      <td>4</td>\n",
       "      <td>budget</td>\n",
       "      <td>1 star</td>\n",
       "      <td>10000.0</td>\n",
       "    </tr>\n",
       "    <tr>\n",
       "      <th>2</th>\n",
       "      <td>holiday_package</td>\n",
       "      <td>3</td>\n",
       "      <td>medium trip</td>\n",
       "      <td>4</td>\n",
       "      <td>5</td>\n",
       "      <td>budget</td>\n",
       "      <td>1 star</td>\n",
       "      <td>12499.0</td>\n",
       "    </tr>\n",
       "    <tr>\n",
       "      <th>3</th>\n",
       "      <td>holiday_package</td>\n",
       "      <td>6</td>\n",
       "      <td>medium trip</td>\n",
       "      <td>6</td>\n",
       "      <td>7</td>\n",
       "      <td>standard</td>\n",
       "      <td>3 star</td>\n",
       "      <td>20000.0</td>\n",
       "    </tr>\n",
       "    <tr>\n",
       "      <th>4</th>\n",
       "      <td>offbeat_package</td>\n",
       "      <td>7</td>\n",
       "      <td>long trip</td>\n",
       "      <td>7</td>\n",
       "      <td>8</td>\n",
       "      <td>standard</td>\n",
       "      <td>3 star</td>\n",
       "      <td>23500.0</td>\n",
       "    </tr>\n",
       "  </tbody>\n",
       "</table>\n",
       "</div>"
      ],
      "text/plain": [
       "  category_of_package  count_of_cities categories_by_days  no_of_nights  \\\n",
       "0     holiday_package                1         short trip             2   \n",
       "1     holiday_package                2        medium trip             3   \n",
       "2     holiday_package                3        medium trip             4   \n",
       "3     holiday_package                6        medium trip             6   \n",
       "4     offbeat_package                7          long trip             7   \n",
       "\n",
       "   no_of_days categories_by_price accommodation_facility    price  \n",
       "0           3              budget                 1 star   8000.0  \n",
       "1           4              budget                 1 star  10000.0  \n",
       "2           5              budget                 1 star  12499.0  \n",
       "3           7            standard                 3 star  20000.0  \n",
       "4           8            standard                 3 star  23500.0  "
      ]
     },
     "execution_count": 28,
     "metadata": {},
     "output_type": "execute_result"
    }
   ],
   "source": [
    "df.head()"
   ]
  },
  {
   "cell_type": "code",
   "execution_count": 29,
   "id": "20ff21e2",
   "metadata": {
    "ExecuteTime": {
     "end_time": "2024-10-12T16:27:14.794992Z",
     "start_time": "2024-10-12T16:27:14.712859Z"
    }
   },
   "outputs": [
    {
     "data": {
      "text/plain": [
       "price              1.000000\n",
       "no_of_nights       0.735656\n",
       "no_of_days         0.735656\n",
       "count_of_cities    0.575057\n",
       "Name: price, dtype: float64"
      ]
     },
     "execution_count": 29,
     "metadata": {},
     "output_type": "execute_result"
    }
   ],
   "source": [
    "df.corr(numeric_only= True)['price'].sort_values(ascending=False)"
   ]
  },
  {
   "cell_type": "code",
   "execution_count": 30,
   "id": "fe34029c",
   "metadata": {
    "ExecuteTime": {
     "end_time": "2024-10-12T16:27:15.357034Z",
     "start_time": "2024-10-12T16:27:14.802133Z"
    }
   },
   "outputs": [
    {
     "data": {
      "text/plain": [
       "<Axes: >"
      ]
     },
     "execution_count": 30,
     "metadata": {},
     "output_type": "execute_result"
    },
    {
     "data": {
      "image/png": "[encoded data removed]",
      "text/plain": [
       "<Figure size 640x480 with 2 Axes>"
      ]
     },
     "metadata": {},
     "output_type": "display_data"
    }
   ],
   "source": [
    "sns.heatmap(df.corr(numeric_only=True))"
   ]
  },
  {
   "cell_type": "code",
   "execution_count": 31,
   "id": "d747acea",
   "metadata": {
    "ExecuteTime": {
     "end_time": "2024-10-12T16:27:15.851036Z",
     "start_time": "2024-10-12T16:27:15.368863Z"
    }
   },
   "outputs": [
    {
     "name": "stdout",
     "output_type": "stream",
     "text": [
      "[array(['adventure_package', 'beach_holiday', 'budget_package',\n",
      "       'cultural_package', 'family_package', 'holiday_package',\n",
      "       'honeymoon_package', 'luxury_package', 'nature_package',\n",
      "       'offbeat_package', 'spiritual packages', 'weekend_package',\n",
      "       'wellness_package'], dtype=object)]\n",
      "[array(['long trip', 'medium trip', 'short trip'], dtype=object)]\n",
      "[array(['budget', 'luxury', 'premium', 'standard'], dtype=object)]\n",
      "[array(['1 star', '2 star', '3 star', '4 star', '5 star'], dtype=object)]\n"
     ]
    }
   ],
   "source": [
    "from sklearn.preprocessing import OrdinalEncoder\n",
    "\n",
    "# Create a copy of the original data for label encoding\n",
    "data_label_encoded = df.copy()\n",
    "\n",
    "categorical_cols = df.select_dtypes(include=['object']).columns\n",
    "\n",
    "# Apply label encoding to categorical columns\n",
    "for col in categorical_cols:\n",
    "    oe = OrdinalEncoder()\n",
    "    data_label_encoded[col] = oe.fit_transform(data_label_encoded[[col]])\n",
    "    print(oe.categories_)\n",
    "\n",
    "# Splitting the dataset into training and testing sets\n",
    "X_label = data_label_encoded.drop('price', axis=1)\n",
    "y_label = data_label_encoded['price']"
   ]
  },
  {
   "cell_type": "code",
   "execution_count": 32,
   "id": "1b09aeb6",
   "metadata": {
    "ExecuteTime": {
     "end_time": "2024-10-12T16:27:15.887404Z",
     "start_time": "2024-10-12T16:27:15.851036Z"
    }
   },
   "outputs": [
    {
     "data": {
      "text/html": [
       "<div>\n",
       "<style scoped>\n",
       "    .dataframe tbody tr th:only-of-type {\n",
       "        vertical-align: middle;\n",
       "    }\n",
       "\n",
       "    .dataframe tbody tr th {\n",
       "        vertical-align: top;\n",
       "    }\n",
       "\n",
       "    .dataframe thead th {\n",
       "        text-align: right;\n",
       "    }\n",
       "</style>\n",
       "<table border=\"1\" class=\"dataframe\">\n",
       "  <thead>\n",
       "    <tr style=\"text-align: right;\">\n",
       "      <th></th>\n",
       "      <th>category_of_package</th>\n",
       "      <th>count_of_cities</th>\n",
       "      <th>categories_by_days</th>\n",
       "      <th>no_of_nights</th>\n",
       "      <th>no_of_days</th>\n",
       "      <th>categories_by_price</th>\n",
       "      <th>accommodation_facility</th>\n",
       "    </tr>\n",
       "  </thead>\n",
       "  <tbody>\n",
       "    <tr>\n",
       "      <th>0</th>\n",
       "      <td>5.0</td>\n",
       "      <td>1</td>\n",
       "      <td>2.0</td>\n",
       "      <td>2</td>\n",
       "      <td>3</td>\n",
       "      <td>0.0</td>\n",
       "      <td>0.0</td>\n",
       "    </tr>\n",
       "    <tr>\n",
       "      <th>1</th>\n",
       "      <td>5.0</td>\n",
       "      <td>2</td>\n",
       "      <td>1.0</td>\n",
       "      <td>3</td>\n",
       "      <td>4</td>\n",
       "      <td>0.0</td>\n",
       "      <td>0.0</td>\n",
       "    </tr>\n",
       "    <tr>\n",
       "      <th>2</th>\n",
       "      <td>5.0</td>\n",
       "      <td>3</td>\n",
       "      <td>1.0</td>\n",
       "      <td>4</td>\n",
       "      <td>5</td>\n",
       "      <td>0.0</td>\n",
       "      <td>0.0</td>\n",
       "    </tr>\n",
       "    <tr>\n",
       "      <th>3</th>\n",
       "      <td>5.0</td>\n",
       "      <td>6</td>\n",
       "      <td>1.0</td>\n",
       "      <td>6</td>\n",
       "      <td>7</td>\n",
       "      <td>3.0</td>\n",
       "      <td>2.0</td>\n",
       "    </tr>\n",
       "    <tr>\n",
       "      <th>4</th>\n",
       "      <td>9.0</td>\n",
       "      <td>7</td>\n",
       "      <td>0.0</td>\n",
       "      <td>7</td>\n",
       "      <td>8</td>\n",
       "      <td>3.0</td>\n",
       "      <td>2.0</td>\n",
       "    </tr>\n",
       "  </tbody>\n",
       "</table>\n",
       "</div>"
      ],
      "text/plain": [
       "   category_of_package  count_of_cities  categories_by_days  no_of_nights  \\\n",
       "0                  5.0                1                 2.0             2   \n",
       "1                  5.0                2                 1.0             3   \n",
       "2                  5.0                3                 1.0             4   \n",
       "3                  5.0                6                 1.0             6   \n",
       "4                  9.0                7                 0.0             7   \n",
       "\n",
       "   no_of_days  categories_by_price  accommodation_facility  \n",
       "0           3                  0.0                     0.0  \n",
       "1           4                  0.0                     0.0  \n",
       "2           5                  0.0                     0.0  \n",
       "3           7                  3.0                     2.0  \n",
       "4           8                  3.0                     2.0  "
      ]
     },
     "execution_count": 32,
     "metadata": {},
     "output_type": "execute_result"
    }
   ],
   "source": [
    "X_label.head()"
   ]
  },
  {
   "cell_type": "code",
   "execution_count": 33,
   "id": "7c07e543",
   "metadata": {
    "ExecuteTime": {
     "end_time": "2024-10-12T16:27:15.982405Z",
     "start_time": "2024-10-12T16:27:15.889719Z"
    }
   },
   "outputs": [
    {
     "data": {
      "text/plain": [
       "0     8000.0\n",
       "1    10000.0\n",
       "2    12499.0\n",
       "3    20000.0\n",
       "4    23500.0\n",
       "Name: price, dtype: float64"
      ]
     },
     "execution_count": 33,
     "metadata": {},
     "output_type": "execute_result"
    }
   ],
   "source": [
    "y_label.head()"
   ]
  },
  {
   "cell_type": "markdown",
   "id": "a19fc3f1",
   "metadata": {},
   "source": [
    "#  Technique  Correlation Analysis"
   ]
  },
  {
   "cell_type": "code",
   "execution_count": 34,
   "id": "ee335c64",
   "metadata": {
    "ExecuteTime": {
     "end_time": "2024-10-12T16:27:16.524499Z",
     "start_time": "2024-10-12T16:27:15.990458Z"
    }
   },
   "outputs": [
    {
     "data": {
      "text/plain": [
       "<Axes: >"
      ]
     },
     "execution_count": 34,
     "metadata": {},
     "output_type": "execute_result"
    },
    {
     "data": {
      "image/png": "[encoded data removed]",
      "text/plain": [
       "<Figure size 640x480 with 2 Axes>"
      ]
     },
     "metadata": {},
     "output_type": "display_data"
    }
   ],
   "source": [
    "sns.heatmap(data_label_encoded.corr())"
   ]
  },
  {
   "cell_type": "code",
   "execution_count": 35,
   "id": "52df8eb9",
   "metadata": {
    "ExecuteTime": {
     "end_time": "2024-10-12T16:27:16.545553Z",
     "start_time": "2024-10-12T16:27:16.532726Z"
    }
   },
   "outputs": [],
   "source": [
    "fi_df1 = data_label_encoded.corr()['price'].iloc[1:].to_frame().reset_index().rename(columns={'index':'feature','price':'corr_coeff'})"
   ]
  },
  {
   "cell_type": "code",
   "execution_count": 36,
   "id": "fbc11f3e",
   "metadata": {
    "ExecuteTime": {
     "end_time": "2024-10-12T16:27:16.877221Z",
     "start_time": "2024-10-12T16:27:16.549448Z"
    }
   },
   "outputs": [
    {
     "data": {
      "text/html": [
       "<div>\n",
       "<style scoped>\n",
       "    .dataframe tbody tr th:only-of-type {\n",
       "        vertical-align: middle;\n",
       "    }\n",
       "\n",
       "    .dataframe tbody tr th {\n",
       "        vertical-align: top;\n",
       "    }\n",
       "\n",
       "    .dataframe thead th {\n",
       "        text-align: right;\n",
       "    }\n",
       "</style>\n",
       "<table border=\"1\" class=\"dataframe\">\n",
       "  <thead>\n",
       "    <tr style=\"text-align: right;\">\n",
       "      <th></th>\n",
       "      <th>feature</th>\n",
       "      <th>corr_coeff</th>\n",
       "    </tr>\n",
       "  </thead>\n",
       "  <tbody>\n",
       "    <tr>\n",
       "      <th>0</th>\n",
       "      <td>count_of_cities</td>\n",
       "      <td>0.575057</td>\n",
       "    </tr>\n",
       "    <tr>\n",
       "      <th>1</th>\n",
       "      <td>categories_by_days</td>\n",
       "      <td>-0.609219</td>\n",
       "    </tr>\n",
       "    <tr>\n",
       "      <th>2</th>\n",
       "      <td>no_of_nights</td>\n",
       "      <td>0.735656</td>\n",
       "    </tr>\n",
       "    <tr>\n",
       "      <th>3</th>\n",
       "      <td>no_of_days</td>\n",
       "      <td>0.735656</td>\n",
       "    </tr>\n",
       "    <tr>\n",
       "      <th>4</th>\n",
       "      <td>categories_by_price</td>\n",
       "      <td>0.299630</td>\n",
       "    </tr>\n",
       "    <tr>\n",
       "      <th>5</th>\n",
       "      <td>accommodation_facility</td>\n",
       "      <td>0.837886</td>\n",
       "    </tr>\n",
       "    <tr>\n",
       "      <th>6</th>\n",
       "      <td>price</td>\n",
       "      <td>1.000000</td>\n",
       "    </tr>\n",
       "  </tbody>\n",
       "</table>\n",
       "</div>"
      ],
      "text/plain": [
       "                  feature  corr_coeff\n",
       "0         count_of_cities    0.575057\n",
       "1      categories_by_days   -0.609219\n",
       "2            no_of_nights    0.735656\n",
       "3              no_of_days    0.735656\n",
       "4     categories_by_price    0.299630\n",
       "5  accommodation_facility    0.837886\n",
       "6                   price    1.000000"
      ]
     },
     "execution_count": 36,
     "metadata": {},
     "output_type": "execute_result"
    }
   ],
   "source": [
    "fi_df1"
   ]
  },
  {
   "cell_type": "markdown",
   "id": "301bf64f",
   "metadata": {},
   "source": [
    "# Technique 2 - Random Forest Feature Importance"
   ]
  },
  {
   "cell_type": "code",
   "execution_count": 37,
   "id": "ff17cd7f",
   "metadata": {
    "ExecuteTime": {
     "end_time": "2024-10-12T16:27:17.977063Z",
     "start_time": "2024-10-12T16:27:16.882099Z"
    }
   },
   "outputs": [
    {
     "data": {
      "text/html": [
       "<div>\n",
       "<style scoped>\n",
       "    .dataframe tbody tr th:only-of-type {\n",
       "        vertical-align: middle;\n",
       "    }\n",
       "\n",
       "    .dataframe tbody tr th {\n",
       "        vertical-align: top;\n",
       "    }\n",
       "\n",
       "    .dataframe thead th {\n",
       "        text-align: right;\n",
       "    }\n",
       "</style>\n",
       "<table border=\"1\" class=\"dataframe\">\n",
       "  <thead>\n",
       "    <tr style=\"text-align: right;\">\n",
       "      <th></th>\n",
       "      <th>feature</th>\n",
       "      <th>rf_importance</th>\n",
       "    </tr>\n",
       "  </thead>\n",
       "  <tbody>\n",
       "    <tr>\n",
       "      <th>6</th>\n",
       "      <td>accommodation_facility</td>\n",
       "      <td>0.695163</td>\n",
       "    </tr>\n",
       "    <tr>\n",
       "      <th>5</th>\n",
       "      <td>categories_by_price</td>\n",
       "      <td>0.213525</td>\n",
       "    </tr>\n",
       "    <tr>\n",
       "      <th>1</th>\n",
       "      <td>count_of_cities</td>\n",
       "      <td>0.025736</td>\n",
       "    </tr>\n",
       "    <tr>\n",
       "      <th>0</th>\n",
       "      <td>category_of_package</td>\n",
       "      <td>0.021889</td>\n",
       "    </tr>\n",
       "    <tr>\n",
       "      <th>3</th>\n",
       "      <td>no_of_nights</td>\n",
       "      <td>0.021514</td>\n",
       "    </tr>\n",
       "    <tr>\n",
       "      <th>4</th>\n",
       "      <td>no_of_days</td>\n",
       "      <td>0.019789</td>\n",
       "    </tr>\n",
       "    <tr>\n",
       "      <th>2</th>\n",
       "      <td>categories_by_days</td>\n",
       "      <td>0.002384</td>\n",
       "    </tr>\n",
       "  </tbody>\n",
       "</table>\n",
       "</div>"
      ],
      "text/plain": [
       "                  feature  rf_importance\n",
       "6  accommodation_facility       0.695163\n",
       "5     categories_by_price       0.213525\n",
       "1         count_of_cities       0.025736\n",
       "0     category_of_package       0.021889\n",
       "3            no_of_nights       0.021514\n",
       "4              no_of_days       0.019789\n",
       "2      categories_by_days       0.002384"
      ]
     },
     "execution_count": 37,
     "metadata": {},
     "output_type": "execute_result"
    }
   ],
   "source": [
    "from sklearn.ensemble import RandomForestRegressor\n",
    "\n",
    "# Train a Random Forest regressor on label encoded data\n",
    "rf_label = RandomForestRegressor(n_estimators=100, random_state=42)\n",
    "rf_label.fit(X_label, y_label)\n",
    "\n",
    "# Extract feature importance scores for label encoded data\n",
    "fi_df2 = pd.DataFrame({\n",
    "    'feature': X_label.columns,\n",
    "    'rf_importance': rf_label.feature_importances_\n",
    "}).sort_values(by='rf_importance', ascending=False)\n",
    "\n",
    "fi_df2"
   ]
  },
  {
   "cell_type": "markdown",
   "id": "78346257",
   "metadata": {},
   "source": [
    "# Technique 3 - Gradient Boosting Feature importances"
   ]
  },
  {
   "cell_type": "code",
   "execution_count": 38,
   "id": "1da53fdd",
   "metadata": {
    "ExecuteTime": {
     "end_time": "2024-10-12T16:27:18.209945Z",
     "start_time": "2024-10-12T16:27:17.985744Z"
    }
   },
   "outputs": [
    {
     "data": {
      "text/html": [
       "<div>\n",
       "<style scoped>\n",
       "    .dataframe tbody tr th:only-of-type {\n",
       "        vertical-align: middle;\n",
       "    }\n",
       "\n",
       "    .dataframe tbody tr th {\n",
       "        vertical-align: top;\n",
       "    }\n",
       "\n",
       "    .dataframe thead th {\n",
       "        text-align: right;\n",
       "    }\n",
       "</style>\n",
       "<table border=\"1\" class=\"dataframe\">\n",
       "  <thead>\n",
       "    <tr style=\"text-align: right;\">\n",
       "      <th></th>\n",
       "      <th>feature</th>\n",
       "      <th>gb_importance</th>\n",
       "    </tr>\n",
       "  </thead>\n",
       "  <tbody>\n",
       "    <tr>\n",
       "      <th>6</th>\n",
       "      <td>accommodation_facility</td>\n",
       "      <td>0.717241</td>\n",
       "    </tr>\n",
       "    <tr>\n",
       "      <th>5</th>\n",
       "      <td>categories_by_price</td>\n",
       "      <td>0.229675</td>\n",
       "    </tr>\n",
       "    <tr>\n",
       "      <th>4</th>\n",
       "      <td>no_of_days</td>\n",
       "      <td>0.021403</td>\n",
       "    </tr>\n",
       "    <tr>\n",
       "      <th>3</th>\n",
       "      <td>no_of_nights</td>\n",
       "      <td>0.012374</td>\n",
       "    </tr>\n",
       "    <tr>\n",
       "      <th>1</th>\n",
       "      <td>count_of_cities</td>\n",
       "      <td>0.012093</td>\n",
       "    </tr>\n",
       "    <tr>\n",
       "      <th>0</th>\n",
       "      <td>category_of_package</td>\n",
       "      <td>0.004681</td>\n",
       "    </tr>\n",
       "    <tr>\n",
       "      <th>2</th>\n",
       "      <td>categories_by_days</td>\n",
       "      <td>0.002533</td>\n",
       "    </tr>\n",
       "  </tbody>\n",
       "</table>\n",
       "</div>"
      ],
      "text/plain": [
       "                  feature  gb_importance\n",
       "6  accommodation_facility       0.717241\n",
       "5     categories_by_price       0.229675\n",
       "4              no_of_days       0.021403\n",
       "3            no_of_nights       0.012374\n",
       "1         count_of_cities       0.012093\n",
       "0     category_of_package       0.004681\n",
       "2      categories_by_days       0.002533"
      ]
     },
     "execution_count": 38,
     "metadata": {},
     "output_type": "execute_result"
    }
   ],
   "source": [
    "from sklearn.ensemble import GradientBoostingRegressor\n",
    "\n",
    "# Train a Random Forest regressor on label encoded data\n",
    "gb_label = GradientBoostingRegressor()\n",
    "gb_label.fit(X_label, y_label)\n",
    "\n",
    "# Extract feature importance scores for label encoded data\n",
    "fi_df3 = pd.DataFrame({\n",
    "    'feature': X_label.columns,\n",
    "    'gb_importance': gb_label.feature_importances_\n",
    "}).sort_values(by='gb_importance', ascending=False)\n",
    "\n",
    "fi_df3"
   ]
  },
  {
   "cell_type": "markdown",
   "id": "6f12d0e1",
   "metadata": {},
   "source": [
    "# Technique 4 - Permutation Importance"
   ]
  },
  {
   "cell_type": "code",
   "execution_count": 39,
   "id": "2ae2c9f6",
   "metadata": {
    "ExecuteTime": {
     "end_time": "2024-10-12T16:27:23.689574Z",
     "start_time": "2024-10-12T16:27:18.213359Z"
    }
   },
   "outputs": [
    {
     "data": {
      "text/html": [
       "<div>\n",
       "<style scoped>\n",
       "    .dataframe tbody tr th:only-of-type {\n",
       "        vertical-align: middle;\n",
       "    }\n",
       "\n",
       "    .dataframe tbody tr th {\n",
       "        vertical-align: top;\n",
       "    }\n",
       "\n",
       "    .dataframe thead th {\n",
       "        text-align: right;\n",
       "    }\n",
       "</style>\n",
       "<table border=\"1\" class=\"dataframe\">\n",
       "  <thead>\n",
       "    <tr style=\"text-align: right;\">\n",
       "      <th></th>\n",
       "      <th>feature</th>\n",
       "      <th>permutation_importance</th>\n",
       "    </tr>\n",
       "  </thead>\n",
       "  <tbody>\n",
       "    <tr>\n",
       "      <th>6</th>\n",
       "      <td>accommodation_facility</td>\n",
       "      <td>2.088525</td>\n",
       "    </tr>\n",
       "    <tr>\n",
       "      <th>5</th>\n",
       "      <td>categories_by_price</td>\n",
       "      <td>0.355248</td>\n",
       "    </tr>\n",
       "    <tr>\n",
       "      <th>1</th>\n",
       "      <td>count_of_cities</td>\n",
       "      <td>0.032709</td>\n",
       "    </tr>\n",
       "    <tr>\n",
       "      <th>0</th>\n",
       "      <td>category_of_package</td>\n",
       "      <td>0.021128</td>\n",
       "    </tr>\n",
       "    <tr>\n",
       "      <th>3</th>\n",
       "      <td>no_of_nights</td>\n",
       "      <td>0.012878</td>\n",
       "    </tr>\n",
       "    <tr>\n",
       "      <th>4</th>\n",
       "      <td>no_of_days</td>\n",
       "      <td>0.010620</td>\n",
       "    </tr>\n",
       "    <tr>\n",
       "      <th>2</th>\n",
       "      <td>categories_by_days</td>\n",
       "      <td>0.001804</td>\n",
       "    </tr>\n",
       "  </tbody>\n",
       "</table>\n",
       "</div>"
      ],
      "text/plain": [
       "                  feature  permutation_importance\n",
       "6  accommodation_facility                2.088525\n",
       "5     categories_by_price                0.355248\n",
       "1         count_of_cities                0.032709\n",
       "0     category_of_package                0.021128\n",
       "3            no_of_nights                0.012878\n",
       "4              no_of_days                0.010620\n",
       "2      categories_by_days                0.001804"
      ]
     },
     "execution_count": 39,
     "metadata": {},
     "output_type": "execute_result"
    }
   ],
   "source": [
    "from sklearn.inspection import permutation_importance\n",
    "from sklearn.model_selection import train_test_split\n",
    "\n",
    "X_train_label, X_test_label, y_train_label, y_test_label = train_test_split(X_label, y_label, test_size=0.2, random_state=42)\n",
    "\n",
    "rf_label = RandomForestRegressor(n_estimators=100, random_state=42)\n",
    "rf_label.fit(X_train_label, y_train_label)\n",
    "\n",
    "\n",
    "perm_importance = permutation_importance(rf_label, X_test_label, y_test_label, n_repeats=30, random_state=42)\n",
    "\n",
    "\n",
    "fi_df4 = pd.DataFrame({\n",
    "    'feature': X_label.columns,\n",
    "    'permutation_importance': perm_importance.importances_mean\n",
    "}).sort_values(by='permutation_importance', ascending=False)\n",
    "\n",
    "fi_df4"
   ]
  },
  {
   "cell_type": "markdown",
   "id": "4940290e",
   "metadata": {},
   "source": [
    "# Technique 5 - LASSO"
   ]
  },
  {
   "cell_type": "code",
   "execution_count": 40,
   "id": "a46740f8",
   "metadata": {
    "ExecuteTime": {
     "end_time": "2024-10-12T16:27:23.732321Z",
     "start_time": "2024-10-12T16:27:23.691180Z"
    }
   },
   "outputs": [
    {
     "data": {
      "text/html": [
       "<div>\n",
       "<style scoped>\n",
       "    .dataframe tbody tr th:only-of-type {\n",
       "        vertical-align: middle;\n",
       "    }\n",
       "\n",
       "    .dataframe tbody tr th {\n",
       "        vertical-align: top;\n",
       "    }\n",
       "\n",
       "    .dataframe thead th {\n",
       "        text-align: right;\n",
       "    }\n",
       "</style>\n",
       "<table border=\"1\" class=\"dataframe\">\n",
       "  <thead>\n",
       "    <tr style=\"text-align: right;\">\n",
       "      <th></th>\n",
       "      <th>feature</th>\n",
       "      <th>lasso_coeff</th>\n",
       "    </tr>\n",
       "  </thead>\n",
       "  <tbody>\n",
       "    <tr>\n",
       "      <th>6</th>\n",
       "      <td>accommodation_facility</td>\n",
       "      <td>11881.860527</td>\n",
       "    </tr>\n",
       "    <tr>\n",
       "      <th>3</th>\n",
       "      <td>no_of_nights</td>\n",
       "      <td>4026.214529</td>\n",
       "    </tr>\n",
       "    <tr>\n",
       "      <th>2</th>\n",
       "      <td>categories_by_days</td>\n",
       "      <td>563.541693</td>\n",
       "    </tr>\n",
       "    <tr>\n",
       "      <th>1</th>\n",
       "      <td>count_of_cities</td>\n",
       "      <td>148.449687</td>\n",
       "    </tr>\n",
       "    <tr>\n",
       "      <th>4</th>\n",
       "      <td>no_of_days</td>\n",
       "      <td>0.000000</td>\n",
       "    </tr>\n",
       "    <tr>\n",
       "      <th>0</th>\n",
       "      <td>category_of_package</td>\n",
       "      <td>-65.872662</td>\n",
       "    </tr>\n",
       "    <tr>\n",
       "      <th>5</th>\n",
       "      <td>categories_by_price</td>\n",
       "      <td>-5004.458198</td>\n",
       "    </tr>\n",
       "  </tbody>\n",
       "</table>\n",
       "</div>"
      ],
      "text/plain": [
       "                  feature   lasso_coeff\n",
       "6  accommodation_facility  11881.860527\n",
       "3            no_of_nights   4026.214529\n",
       "2      categories_by_days    563.541693\n",
       "1         count_of_cities    148.449687\n",
       "4              no_of_days      0.000000\n",
       "0     category_of_package    -65.872662\n",
       "5     categories_by_price  -5004.458198"
      ]
     },
     "execution_count": 40,
     "metadata": {},
     "output_type": "execute_result"
    }
   ],
   "source": [
    "from sklearn.linear_model import Lasso\n",
    "from sklearn.preprocessing import StandardScaler\n",
    "\n",
    "\n",
    "scaler = StandardScaler()\n",
    "X_scaled = scaler.fit_transform(X_label)\n",
    "\n",
    "\n",
    "lasso = Lasso(alpha=0.01, random_state=42)\n",
    "lasso.fit(X_scaled, y_label)\n",
    "\n",
    "\n",
    "fi_df5 = pd.DataFrame({\n",
    "    'feature': X_label.columns,\n",
    "    'lasso_coeff': lasso.coef_\n",
    "}).sort_values(by='lasso_coeff', ascending=False)\n",
    "\n",
    "fi_df5"
   ]
  },
  {
   "cell_type": "markdown",
   "id": "7c7e0485",
   "metadata": {},
   "source": [
    "# Technique 6 - RFE"
   ]
  },
  {
   "cell_type": "code",
   "execution_count": 41,
   "id": "97d0df29",
   "metadata": {
    "ExecuteTime": {
     "end_time": "2024-10-12T16:27:24.659328Z",
     "start_time": "2024-10-12T16:27:23.748455Z"
    }
   },
   "outputs": [
    {
     "data": {
      "text/html": [
       "<div>\n",
       "<style scoped>\n",
       "    .dataframe tbody tr th:only-of-type {\n",
       "        vertical-align: middle;\n",
       "    }\n",
       "\n",
       "    .dataframe tbody tr th {\n",
       "        vertical-align: top;\n",
       "    }\n",
       "\n",
       "    .dataframe thead th {\n",
       "        text-align: right;\n",
       "    }\n",
       "</style>\n",
       "<table border=\"1\" class=\"dataframe\">\n",
       "  <thead>\n",
       "    <tr style=\"text-align: right;\">\n",
       "      <th></th>\n",
       "      <th>feature</th>\n",
       "      <th>rfe_score</th>\n",
       "    </tr>\n",
       "  </thead>\n",
       "  <tbody>\n",
       "    <tr>\n",
       "      <th>6</th>\n",
       "      <td>accommodation_facility</td>\n",
       "      <td>0.678460</td>\n",
       "    </tr>\n",
       "    <tr>\n",
       "      <th>5</th>\n",
       "      <td>categories_by_price</td>\n",
       "      <td>0.229718</td>\n",
       "    </tr>\n",
       "    <tr>\n",
       "      <th>1</th>\n",
       "      <td>count_of_cities</td>\n",
       "      <td>0.026030</td>\n",
       "    </tr>\n",
       "    <tr>\n",
       "      <th>0</th>\n",
       "      <td>category_of_package</td>\n",
       "      <td>0.022066</td>\n",
       "    </tr>\n",
       "    <tr>\n",
       "      <th>3</th>\n",
       "      <td>no_of_nights</td>\n",
       "      <td>0.021693</td>\n",
       "    </tr>\n",
       "    <tr>\n",
       "      <th>4</th>\n",
       "      <td>no_of_days</td>\n",
       "      <td>0.019202</td>\n",
       "    </tr>\n",
       "    <tr>\n",
       "      <th>2</th>\n",
       "      <td>categories_by_days</td>\n",
       "      <td>0.002831</td>\n",
       "    </tr>\n",
       "  </tbody>\n",
       "</table>\n",
       "</div>"
      ],
      "text/plain": [
       "                  feature  rfe_score\n",
       "6  accommodation_facility   0.678460\n",
       "5     categories_by_price   0.229718\n",
       "1         count_of_cities   0.026030\n",
       "0     category_of_package   0.022066\n",
       "3            no_of_nights   0.021693\n",
       "4              no_of_days   0.019202\n",
       "2      categories_by_days   0.002831"
      ]
     },
     "execution_count": 41,
     "metadata": {},
     "output_type": "execute_result"
    }
   ],
   "source": [
    "from sklearn.feature_selection import RFE\n",
    "\n",
    "\n",
    "estimator = RandomForestRegressor()\n",
    "\n",
    "selector_label = RFE(estimator, n_features_to_select=X_label.shape[1], step=1)\n",
    "selector_label = selector_label.fit(X_label, y_label)\n",
    "\n",
    "\n",
    "selected_features = X_label.columns[selector_label.support_]\n",
    "\n",
    "\n",
    "selected_coefficients = selector_label.estimator_.feature_importances_\n",
    "\n",
    "\n",
    "fi_df6 = pd.DataFrame({\n",
    "    'feature': selected_features,\n",
    "    'rfe_score': selected_coefficients\n",
    "}).sort_values(by='rfe_score', ascending=False)\n",
    "\n",
    "fi_df6"
   ]
  },
  {
   "cell_type": "markdown",
   "id": "3602d15f",
   "metadata": {},
   "source": [
    "# Technique 7 - Linear Regression Weights"
   ]
  },
  {
   "cell_type": "code",
   "execution_count": 42,
   "id": "56563b5b",
   "metadata": {
    "ExecuteTime": {
     "end_time": "2024-10-12T16:27:24.690083Z",
     "start_time": "2024-10-12T16:27:24.660437Z"
    }
   },
   "outputs": [
    {
     "data": {
      "text/html": [
       "<div>\n",
       "<style scoped>\n",
       "    .dataframe tbody tr th:only-of-type {\n",
       "        vertical-align: middle;\n",
       "    }\n",
       "\n",
       "    .dataframe tbody tr th {\n",
       "        vertical-align: top;\n",
       "    }\n",
       "\n",
       "    .dataframe thead th {\n",
       "        text-align: right;\n",
       "    }\n",
       "</style>\n",
       "<table border=\"1\" class=\"dataframe\">\n",
       "  <thead>\n",
       "    <tr style=\"text-align: right;\">\n",
       "      <th></th>\n",
       "      <th>feature</th>\n",
       "      <th>reg_coeffs</th>\n",
       "    </tr>\n",
       "  </thead>\n",
       "  <tbody>\n",
       "    <tr>\n",
       "      <th>6</th>\n",
       "      <td>accommodation_facility</td>\n",
       "      <td>11881.883145</td>\n",
       "    </tr>\n",
       "    <tr>\n",
       "      <th>4</th>\n",
       "      <td>no_of_days</td>\n",
       "      <td>2013.132071</td>\n",
       "    </tr>\n",
       "    <tr>\n",
       "      <th>3</th>\n",
       "      <td>no_of_nights</td>\n",
       "      <td>2013.132071</td>\n",
       "    </tr>\n",
       "    <tr>\n",
       "      <th>2</th>\n",
       "      <td>categories_by_days</td>\n",
       "      <td>563.596957</td>\n",
       "    </tr>\n",
       "    <tr>\n",
       "      <th>1</th>\n",
       "      <td>count_of_cities</td>\n",
       "      <td>148.454207</td>\n",
       "    </tr>\n",
       "    <tr>\n",
       "      <th>0</th>\n",
       "      <td>category_of_package</td>\n",
       "      <td>-65.885003</td>\n",
       "    </tr>\n",
       "    <tr>\n",
       "      <th>5</th>\n",
       "      <td>categories_by_price</td>\n",
       "      <td>-5004.488211</td>\n",
       "    </tr>\n",
       "  </tbody>\n",
       "</table>\n",
       "</div>"
      ],
      "text/plain": [
       "                  feature    reg_coeffs\n",
       "6  accommodation_facility  11881.883145\n",
       "4              no_of_days   2013.132071\n",
       "3            no_of_nights   2013.132071\n",
       "2      categories_by_days    563.596957\n",
       "1         count_of_cities    148.454207\n",
       "0     category_of_package    -65.885003\n",
       "5     categories_by_price  -5004.488211"
      ]
     },
     "execution_count": 42,
     "metadata": {},
     "output_type": "execute_result"
    }
   ],
   "source": [
    "from sklearn.linear_model import LinearRegression\n",
    "lin_reg = LinearRegression()\n",
    "lin_reg.fit(X_scaled, y_label)\n",
    "\n",
    "\n",
    "fi_df7 = pd.DataFrame({\n",
    "    'feature': X_label.columns,\n",
    "    'reg_coeffs': lin_reg.coef_\n",
    "}).sort_values(by='reg_coeffs', ascending=False)\n",
    "\n",
    "fi_df7"
   ]
  },
  {
   "cell_type": "markdown",
   "id": "75106724",
   "metadata": {},
   "source": [
    "# Technique 8 - SHAP"
   ]
  },
  {
   "cell_type": "code",
   "execution_count": 43,
   "id": "e6949a64",
   "metadata": {
    "ExecuteTime": {
     "end_time": "2024-10-12T16:28:13.607252Z",
     "start_time": "2024-10-12T16:27:24.690083Z"
    }
   },
   "outputs": [
    {
     "data": {
      "text/plain": [
       "array([[-2.89660365e+02,  2.13096821e+02, -2.88602935e+02, ...,\n",
       "        -8.44305514e+02, -3.17690223e+01, -1.27323516e+04],\n",
       "       [-8.63078264e+01,  2.79734692e+02,  1.49095495e+02, ...,\n",
       "        -5.91510146e+01,  3.03271418e+02, -1.17672687e+04],\n",
       "       [-2.28468735e+02,  5.63883219e+01,  1.07120383e+02, ...,\n",
       "        -2.04038057e+02,  2.94274660e+02, -1.13425975e+04],\n",
       "       ...,\n",
       "       [ 6.28208151e+02, -1.18792925e+02,  5.43336899e+00, ...,\n",
       "        -7.96044471e+02,  8.20646980e+02, -3.24486354e+03],\n",
       "       [ 1.30624276e+03,  1.93982251e+03,  1.03370377e+02, ...,\n",
       "         9.02382119e+01, -1.96106042e+03,  1.56279114e+04],\n",
       "       [ 1.66096271e+02,  7.00329141e+02,  3.36232783e+01, ...,\n",
       "        -1.21577380e+03,  6.91781274e+02, -3.58198023e+03]])"
      ]
     },
     "execution_count": 43,
     "metadata": {},
     "output_type": "execute_result"
    }
   ],
   "source": [
    "import shap\n",
    "\n",
    "\n",
    "rf = RandomForestRegressor(n_estimators=100, random_state=42)\n",
    "rf.fit(X_label, y_label)\n",
    "\n",
    "explainer = shap.TreeExplainer(rf)\n",
    "shap_values = explainer.shap_values(X_label)\n",
    "\n",
    "\n",
    "shap_sum = np.abs(shap_values).mean(axis=0)\n",
    "\n",
    "shap_values"
   ]
  },
  {
   "cell_type": "code",
   "execution_count": 44,
   "id": "db1bfc4b",
   "metadata": {
    "ExecuteTime": {
     "end_time": "2024-10-12T16:28:13.632042Z",
     "start_time": "2024-10-12T16:28:13.609242Z"
    }
   },
   "outputs": [
    {
     "data": {
      "text/html": [
       "<div>\n",
       "<style scoped>\n",
       "    .dataframe tbody tr th:only-of-type {\n",
       "        vertical-align: middle;\n",
       "    }\n",
       "\n",
       "    .dataframe tbody tr th {\n",
       "        vertical-align: top;\n",
       "    }\n",
       "\n",
       "    .dataframe thead th {\n",
       "        text-align: right;\n",
       "    }\n",
       "</style>\n",
       "<table border=\"1\" class=\"dataframe\">\n",
       "  <thead>\n",
       "    <tr style=\"text-align: right;\">\n",
       "      <th></th>\n",
       "      <th>feature</th>\n",
       "      <th>SHAP_score</th>\n",
       "    </tr>\n",
       "  </thead>\n",
       "  <tbody>\n",
       "    <tr>\n",
       "      <th>6</th>\n",
       "      <td>accommodation_facility</td>\n",
       "      <td>8730.513432</td>\n",
       "    </tr>\n",
       "    <tr>\n",
       "      <th>5</th>\n",
       "      <td>categories_by_price</td>\n",
       "      <td>1529.203168</td>\n",
       "    </tr>\n",
       "    <tr>\n",
       "      <th>3</th>\n",
       "      <td>no_of_nights</td>\n",
       "      <td>708.258793</td>\n",
       "    </tr>\n",
       "    <tr>\n",
       "      <th>4</th>\n",
       "      <td>no_of_days</td>\n",
       "      <td>587.896592</td>\n",
       "    </tr>\n",
       "    <tr>\n",
       "      <th>0</th>\n",
       "      <td>category_of_package</td>\n",
       "      <td>545.810616</td>\n",
       "    </tr>\n",
       "    <tr>\n",
       "      <th>1</th>\n",
       "      <td>count_of_cities</td>\n",
       "      <td>524.684751</td>\n",
       "    </tr>\n",
       "    <tr>\n",
       "      <th>2</th>\n",
       "      <td>categories_by_days</td>\n",
       "      <td>104.824507</td>\n",
       "    </tr>\n",
       "  </tbody>\n",
       "</table>\n",
       "</div>"
      ],
      "text/plain": [
       "                  feature   SHAP_score\n",
       "6  accommodation_facility  8730.513432\n",
       "5     categories_by_price  1529.203168\n",
       "3            no_of_nights   708.258793\n",
       "4              no_of_days   587.896592\n",
       "0     category_of_package   545.810616\n",
       "1         count_of_cities   524.684751\n",
       "2      categories_by_days   104.824507"
      ]
     },
     "execution_count": 44,
     "metadata": {},
     "output_type": "execute_result"
    }
   ],
   "source": [
    "fi_df8 = pd.DataFrame({\n",
    "    'feature': X_label.columns,\n",
    "    'SHAP_score': np.abs(shap_values).mean(axis=0)\n",
    "}).sort_values(by='SHAP_score', ascending=False)\n",
    "\n",
    "fi_df8"
   ]
  },
  {
   "cell_type": "code",
   "execution_count": 45,
   "id": "cc4d7e4b",
   "metadata": {
    "ExecuteTime": {
     "end_time": "2024-10-12T16:28:13.780010Z",
     "start_time": "2024-10-12T16:28:13.634698Z"
    }
   },
   "outputs": [],
   "source": [
    "final_fi_df = fi_df1.merge(fi_df2,on='feature').merge(fi_df3,on='feature').merge(fi_df4,on='feature').merge(fi_df5,on='feature').merge(fi_df6,on='feature').merge(fi_df7,on='feature').merge(fi_df8,on='feature').set_index('feature')"
   ]
  },
  {
   "cell_type": "code",
   "execution_count": 46,
   "id": "f544ef6f",
   "metadata": {
    "ExecuteTime": {
     "end_time": "2024-10-12T16:28:13.871341Z",
     "start_time": "2024-10-12T16:28:13.780010Z"
    }
   },
   "outputs": [
    {
     "data": {
      "text/html": [
       "<div>\n",
       "<style scoped>\n",
       "    .dataframe tbody tr th:only-of-type {\n",
       "        vertical-align: middle;\n",
       "    }\n",
       "\n",
       "    .dataframe tbody tr th {\n",
       "        vertical-align: top;\n",
       "    }\n",
       "\n",
       "    .dataframe thead th {\n",
       "        text-align: right;\n",
       "    }\n",
       "</style>\n",
       "<table border=\"1\" class=\"dataframe\">\n",
       "  <thead>\n",
       "    <tr style=\"text-align: right;\">\n",
       "      <th></th>\n",
       "      <th>corr_coeff</th>\n",
       "      <th>rf_importance</th>\n",
       "      <th>gb_importance</th>\n",
       "      <th>permutation_importance</th>\n",
       "      <th>lasso_coeff</th>\n",
       "      <th>rfe_score</th>\n",
       "      <th>reg_coeffs</th>\n",
       "      <th>SHAP_score</th>\n",
       "    </tr>\n",
       "    <tr>\n",
       "      <th>feature</th>\n",
       "      <th></th>\n",
       "      <th></th>\n",
       "      <th></th>\n",
       "      <th></th>\n",
       "      <th></th>\n",
       "      <th></th>\n",
       "      <th></th>\n",
       "      <th></th>\n",
       "    </tr>\n",
       "  </thead>\n",
       "  <tbody>\n",
       "    <tr>\n",
       "      <th>count_of_cities</th>\n",
       "      <td>0.575057</td>\n",
       "      <td>0.025736</td>\n",
       "      <td>0.012093</td>\n",
       "      <td>0.032709</td>\n",
       "      <td>148.449687</td>\n",
       "      <td>0.026030</td>\n",
       "      <td>148.454207</td>\n",
       "      <td>524.684751</td>\n",
       "    </tr>\n",
       "    <tr>\n",
       "      <th>categories_by_days</th>\n",
       "      <td>-0.609219</td>\n",
       "      <td>0.002384</td>\n",
       "      <td>0.002533</td>\n",
       "      <td>0.001804</td>\n",
       "      <td>563.541693</td>\n",
       "      <td>0.002831</td>\n",
       "      <td>563.596957</td>\n",
       "      <td>104.824507</td>\n",
       "    </tr>\n",
       "    <tr>\n",
       "      <th>no_of_nights</th>\n",
       "      <td>0.735656</td>\n",
       "      <td>0.021514</td>\n",
       "      <td>0.012374</td>\n",
       "      <td>0.012878</td>\n",
       "      <td>4026.214529</td>\n",
       "      <td>0.021693</td>\n",
       "      <td>2013.132071</td>\n",
       "      <td>708.258793</td>\n",
       "    </tr>\n",
       "    <tr>\n",
       "      <th>no_of_days</th>\n",
       "      <td>0.735656</td>\n",
       "      <td>0.019789</td>\n",
       "      <td>0.021403</td>\n",
       "      <td>0.010620</td>\n",
       "      <td>0.000000</td>\n",
       "      <td>0.019202</td>\n",
       "      <td>2013.132071</td>\n",
       "      <td>587.896592</td>\n",
       "    </tr>\n",
       "    <tr>\n",
       "      <th>categories_by_price</th>\n",
       "      <td>0.299630</td>\n",
       "      <td>0.213525</td>\n",
       "      <td>0.229675</td>\n",
       "      <td>0.355248</td>\n",
       "      <td>-5004.458198</td>\n",
       "      <td>0.229718</td>\n",
       "      <td>-5004.488211</td>\n",
       "      <td>1529.203168</td>\n",
       "    </tr>\n",
       "    <tr>\n",
       "      <th>accommodation_facility</th>\n",
       "      <td>0.837886</td>\n",
       "      <td>0.695163</td>\n",
       "      <td>0.717241</td>\n",
       "      <td>2.088525</td>\n",
       "      <td>11881.860527</td>\n",
       "      <td>0.678460</td>\n",
       "      <td>11881.883145</td>\n",
       "      <td>8730.513432</td>\n",
       "    </tr>\n",
       "  </tbody>\n",
       "</table>\n",
       "</div>"
      ],
      "text/plain": [
       "                        corr_coeff  rf_importance  gb_importance  \\\n",
       "feature                                                            \n",
       "count_of_cities           0.575057       0.025736       0.012093   \n",
       "categories_by_days       -0.609219       0.002384       0.002533   \n",
       "no_of_nights              0.735656       0.021514       0.012374   \n",
       "no_of_days                0.735656       0.019789       0.021403   \n",
       "categories_by_price       0.299630       0.213525       0.229675   \n",
       "accommodation_facility    0.837886       0.695163       0.717241   \n",
       "\n",
       "                        permutation_importance   lasso_coeff  rfe_score  \\\n",
       "feature                                                                   \n",
       "count_of_cities                       0.032709    148.449687   0.026030   \n",
       "categories_by_days                    0.001804    563.541693   0.002831   \n",
       "no_of_nights                          0.012878   4026.214529   0.021693   \n",
       "no_of_days                            0.010620      0.000000   0.019202   \n",
       "categories_by_price                   0.355248  -5004.458198   0.229718   \n",
       "accommodation_facility                2.088525  11881.860527   0.678460   \n",
       "\n",
       "                          reg_coeffs   SHAP_score  \n",
       "feature                                            \n",
       "count_of_cities           148.454207   524.684751  \n",
       "categories_by_days        563.596957   104.824507  \n",
       "no_of_nights             2013.132071   708.258793  \n",
       "no_of_days               2013.132071   587.896592  \n",
       "categories_by_price     -5004.488211  1529.203168  \n",
       "accommodation_facility  11881.883145  8730.513432  "
      ]
     },
     "execution_count": 46,
     "metadata": {},
     "output_type": "execute_result"
    }
   ],
   "source": [
    "final_fi_df"
   ]
  },
  {
   "cell_type": "code",
   "execution_count": 47,
   "id": "e40fb806",
   "metadata": {
    "ExecuteTime": {
     "end_time": "2024-10-12T16:28:13.966136Z",
     "start_time": "2024-10-12T16:28:13.874813Z"
    }
   },
   "outputs": [],
   "source": [
    "final_fi_df = final_fi_df.divide(final_fi_df.sum(axis=0), axis=1)"
   ]
  },
  {
   "cell_type": "code",
   "execution_count": 48,
   "id": "6ad0af33",
   "metadata": {
    "ExecuteTime": {
     "end_time": "2024-10-12T16:28:14.078785Z",
     "start_time": "2024-10-12T16:28:13.966136Z"
    }
   },
   "outputs": [
    {
     "data": {
      "text/plain": [
       "feature\n",
       "accommodation_facility    0.735278\n",
       "categories_by_price       0.190290\n",
       "count_of_cities           0.024242\n",
       "no_of_nights              0.023976\n",
       "no_of_days                0.022772\n",
       "categories_by_days        0.003440\n",
       "dtype: float64"
      ]
     },
     "execution_count": 48,
     "metadata": {},
     "output_type": "execute_result"
    }
   ],
   "source": [
    "final_fi_df[['rf_importance','gb_importance','permutation_importance','rfe_score','SHAP_score']].mean(axis=1).sort_values(ascending=False)"
   ]
  },
  {
   "cell_type": "code",
   "execution_count": 49,
   "id": "e6203496",
   "metadata": {
    "ExecuteTime": {
     "end_time": "2024-10-12T16:28:14.172628Z",
     "start_time": "2024-10-12T16:28:14.078785Z"
    }
   },
   "outputs": [
    {
     "data": {
      "text/html": [
       "<div>\n",
       "<style scoped>\n",
       "    .dataframe tbody tr th:only-of-type {\n",
       "        vertical-align: middle;\n",
       "    }\n",
       "\n",
       "    .dataframe tbody tr th {\n",
       "        vertical-align: top;\n",
       "    }\n",
       "\n",
       "    .dataframe thead th {\n",
       "        text-align: right;\n",
       "    }\n",
       "</style>\n",
       "<table border=\"1\" class=\"dataframe\">\n",
       "  <thead>\n",
       "    <tr style=\"text-align: right;\">\n",
       "      <th></th>\n",
       "      <th>category_of_package</th>\n",
       "      <th>count_of_cities</th>\n",
       "      <th>categories_by_days</th>\n",
       "      <th>no_of_nights</th>\n",
       "      <th>no_of_days</th>\n",
       "      <th>categories_by_price</th>\n",
       "      <th>accommodation_facility</th>\n",
       "    </tr>\n",
       "  </thead>\n",
       "  <tbody>\n",
       "    <tr>\n",
       "      <th>0</th>\n",
       "      <td>5.0</td>\n",
       "      <td>1</td>\n",
       "      <td>2.0</td>\n",
       "      <td>2</td>\n",
       "      <td>3</td>\n",
       "      <td>0.0</td>\n",
       "      <td>0.0</td>\n",
       "    </tr>\n",
       "    <tr>\n",
       "      <th>1</th>\n",
       "      <td>5.0</td>\n",
       "      <td>2</td>\n",
       "      <td>1.0</td>\n",
       "      <td>3</td>\n",
       "      <td>4</td>\n",
       "      <td>0.0</td>\n",
       "      <td>0.0</td>\n",
       "    </tr>\n",
       "    <tr>\n",
       "      <th>2</th>\n",
       "      <td>5.0</td>\n",
       "      <td>3</td>\n",
       "      <td>1.0</td>\n",
       "      <td>4</td>\n",
       "      <td>5</td>\n",
       "      <td>0.0</td>\n",
       "      <td>0.0</td>\n",
       "    </tr>\n",
       "    <tr>\n",
       "      <th>3</th>\n",
       "      <td>5.0</td>\n",
       "      <td>6</td>\n",
       "      <td>1.0</td>\n",
       "      <td>6</td>\n",
       "      <td>7</td>\n",
       "      <td>3.0</td>\n",
       "      <td>2.0</td>\n",
       "    </tr>\n",
       "    <tr>\n",
       "      <th>4</th>\n",
       "      <td>9.0</td>\n",
       "      <td>7</td>\n",
       "      <td>0.0</td>\n",
       "      <td>7</td>\n",
       "      <td>8</td>\n",
       "      <td>3.0</td>\n",
       "      <td>2.0</td>\n",
       "    </tr>\n",
       "  </tbody>\n",
       "</table>\n",
       "</div>"
      ],
      "text/plain": [
       "   category_of_package  count_of_cities  categories_by_days  no_of_nights  \\\n",
       "0                  5.0                1                 2.0             2   \n",
       "1                  5.0                2                 1.0             3   \n",
       "2                  5.0                3                 1.0             4   \n",
       "3                  5.0                6                 1.0             6   \n",
       "4                  9.0                7                 0.0             7   \n",
       "\n",
       "   no_of_days  categories_by_price  accommodation_facility  \n",
       "0           3                  0.0                     0.0  \n",
       "1           4                  0.0                     0.0  \n",
       "2           5                  0.0                     0.0  \n",
       "3           7                  3.0                     2.0  \n",
       "4           8                  3.0                     2.0  "
      ]
     },
     "execution_count": 49,
     "metadata": {},
     "output_type": "execute_result"
    }
   ],
   "source": [
    "X_label.head()"
   ]
  },
  {
   "cell_type": "code",
   "execution_count": 50,
   "id": "8a300f94",
   "metadata": {
    "ExecuteTime": {
     "end_time": "2024-10-12T16:28:16.751404Z",
     "start_time": "2024-10-12T16:28:14.175604Z"
    }
   },
   "outputs": [],
   "source": [
    "# with all the cols\n",
    "from sklearn.model_selection import cross_val_score\n",
    "\n",
    "rf = RandomForestRegressor(n_estimators=100, random_state=42)\n",
    "\n",
    "scores = cross_val_score(rf, X_label, y_label, cv=5, scoring='r2')"
   ]
  },
  {
   "cell_type": "code",
   "execution_count": 51,
   "id": "ff16341f",
   "metadata": {
    "ExecuteTime": {
     "end_time": "2024-10-12T16:28:16.768971Z",
     "start_time": "2024-10-12T16:28:16.755696Z"
    }
   },
   "outputs": [
    {
     "data": {
      "text/plain": [
       "0.8862686749519574"
      ]
     },
     "execution_count": 51,
     "metadata": {},
     "output_type": "execute_result"
    }
   ],
   "source": [
    "scores.mean()"
   ]
  },
  {
   "cell_type": "code",
   "execution_count": 54,
   "id": "59db4f20",
   "metadata": {
    "ExecuteTime": {
     "end_time": "2024-10-12T16:28:31.122771Z",
     "start_time": "2024-10-12T16:28:28.658877Z"
    }
   },
   "outputs": [],
   "source": [
    "rf = RandomForestRegressor(n_estimators=100, random_state=42)\n",
    "\n",
    "scores = cross_val_score(rf, X_label.drop(columns=['no_of_nights','categories_by_days']), y_label, cv=5, scoring='r2')"
   ]
  },
  {
   "cell_type": "code",
   "execution_count": 55,
   "id": "72ae2910",
   "metadata": {
    "ExecuteTime": {
     "end_time": "2024-10-12T16:28:34.299285Z",
     "start_time": "2024-10-12T16:28:34.291391Z"
    }
   },
   "outputs": [
    {
     "data": {
      "text/plain": [
       "0.8864596476539536"
      ]
     },
     "execution_count": 55,
     "metadata": {},
     "output_type": "execute_result"
    }
   ],
   "source": [
    "scores.mean()"
   ]
  },
  {
   "cell_type": "code",
   "execution_count": 56,
   "id": "61c9f167",
   "metadata": {
    "ExecuteTime": {
     "end_time": "2024-10-12T16:28:40.901252Z",
     "start_time": "2024-10-12T16:28:40.891133Z"
    }
   },
   "outputs": [],
   "source": [
    "export_df = X_label.drop(columns=['no_of_nights','categories_by_days'])\n",
    "export_df['price'] = y_label"
   ]
  },
  {
   "cell_type": "code",
   "execution_count": 57,
   "id": "2092a28d",
   "metadata": {
    "ExecuteTime": {
     "end_time": "2024-10-12T16:28:41.931013Z",
     "start_time": "2024-10-12T16:28:41.907374Z"
    }
   },
   "outputs": [
    {
     "data": {
      "text/html": [
       "<div>\n",
       "<style scoped>\n",
       "    .dataframe tbody tr th:only-of-type {\n",
       "        vertical-align: middle;\n",
       "    }\n",
       "\n",
       "    .dataframe tbody tr th {\n",
       "        vertical-align: top;\n",
       "    }\n",
       "\n",
       "    .dataframe thead th {\n",
       "        text-align: right;\n",
       "    }\n",
       "</style>\n",
       "<table border=\"1\" class=\"dataframe\">\n",
       "  <thead>\n",
       "    <tr style=\"text-align: right;\">\n",
       "      <th></th>\n",
       "      <th>category_of_package</th>\n",
       "      <th>count_of_cities</th>\n",
       "      <th>no_of_days</th>\n",
       "      <th>categories_by_price</th>\n",
       "      <th>accommodation_facility</th>\n",
       "      <th>price</th>\n",
       "    </tr>\n",
       "  </thead>\n",
       "  <tbody>\n",
       "    <tr>\n",
       "      <th>0</th>\n",
       "      <td>5.0</td>\n",
       "      <td>1</td>\n",
       "      <td>3</td>\n",
       "      <td>0.0</td>\n",
       "      <td>0.0</td>\n",
       "      <td>8000.0</td>\n",
       "    </tr>\n",
       "    <tr>\n",
       "      <th>1</th>\n",
       "      <td>5.0</td>\n",
       "      <td>2</td>\n",
       "      <td>4</td>\n",
       "      <td>0.0</td>\n",
       "      <td>0.0</td>\n",
       "      <td>10000.0</td>\n",
       "    </tr>\n",
       "    <tr>\n",
       "      <th>2</th>\n",
       "      <td>5.0</td>\n",
       "      <td>3</td>\n",
       "      <td>5</td>\n",
       "      <td>0.0</td>\n",
       "      <td>0.0</td>\n",
       "      <td>12499.0</td>\n",
       "    </tr>\n",
       "    <tr>\n",
       "      <th>3</th>\n",
       "      <td>5.0</td>\n",
       "      <td>6</td>\n",
       "      <td>7</td>\n",
       "      <td>3.0</td>\n",
       "      <td>2.0</td>\n",
       "      <td>20000.0</td>\n",
       "    </tr>\n",
       "    <tr>\n",
       "      <th>4</th>\n",
       "      <td>9.0</td>\n",
       "      <td>7</td>\n",
       "      <td>8</td>\n",
       "      <td>3.0</td>\n",
       "      <td>2.0</td>\n",
       "      <td>23500.0</td>\n",
       "    </tr>\n",
       "  </tbody>\n",
       "</table>\n",
       "</div>"
      ],
      "text/plain": [
       "   category_of_package  count_of_cities  no_of_days  categories_by_price  \\\n",
       "0                  5.0                1           3                  0.0   \n",
       "1                  5.0                2           4                  0.0   \n",
       "2                  5.0                3           5                  0.0   \n",
       "3                  5.0                6           7                  3.0   \n",
       "4                  9.0                7           8                  3.0   \n",
       "\n",
       "   accommodation_facility    price  \n",
       "0                     0.0   8000.0  \n",
       "1                     0.0  10000.0  \n",
       "2                     0.0  12499.0  \n",
       "3                     2.0  20000.0  \n",
       "4                     2.0  23500.0  "
      ]
     },
     "execution_count": 57,
     "metadata": {},
     "output_type": "execute_result"
    }
   ],
   "source": [
    "export_df.head()"
   ]
  },
  {
   "cell_type": "code",
   "execution_count": 58,
   "id": "df7c72c4",
   "metadata": {
    "ExecuteTime": {
     "end_time": "2024-10-12T16:28:57.585281Z",
     "start_time": "2024-10-12T16:28:57.373804Z"
    }
   },
   "outputs": [],
   "source": [
    "export_df.to_csv('tour_package_post_feature_selection.csv', index=False)"
   ]
  },
  {
   "cell_type": "code",
   "execution_count": null,
   "id": "6a65eec5",
   "metadata": {},
   "outputs": [],
   "source": []
  }
 ],
 "metadata": {
  "kernelspec": {
   "display_name": "Python 3 (ipykernel)",
   "language": "python",
   "name": "python3"
  },
  "language_info": {
   "codemirror_mode": {
    "name": "ipython",
    "version": 3
   },
   "file_extension": ".py",
   "mimetype": "text/x-python",
   "name": "python",
   "nbconvert_exporter": "python",
   "pygments_lexer": "ipython3",
   "version": "3.11.5"
  },
  "toc": {
   "base_numbering": 1,
   "nav_menu": {},
   "number_sections": true,
   "sideBar": true,
   "skip_h1_title": false,
   "title_cell": "Table of Contents",
   "title_sidebar": "Contents",
   "toc_cell": false,
   "toc_position": {},
   "toc_section_display": true,
   "toc_window_display": false
  }
 },
 "nbformat": 4,
 "nbformat_minor": 5
}
