{
 "cells": [
  {
   "cell_type": "code",
   "execution_count": 109,
   "id": "d67d82da",
   "metadata": {
    "ExecuteTime": {
     "end_time": "2024-10-15T08:26:06.729814Z",
     "start_time": "2024-10-15T08:26:06.721652Z"
    }
   },
   "outputs": [],
   "source": [
    "import pandas as pd\n",
    "import numpy as np"
   ]
  },
  {
   "cell_type": "code",
   "execution_count": 110,
   "id": "1c8b59b1",
   "metadata": {
    "ExecuteTime": {
     "end_time": "2024-10-15T08:26:09.522570Z",
     "start_time": "2024-10-15T08:26:07.111386Z"
    }
   },
   "outputs": [],
   "source": [
    "df = pd.read_csv(r'C:\\Users\\HARSHIT JAIN\\Desktop\\data science projects\\visit_and_tour_packages_project\\datasets\\missing_value_imputation_city_state.csv')"
   ]
  },
  {
   "cell_type": "code",
   "execution_count": 111,
   "id": "42f77018",
   "metadata": {
    "ExecuteTime": {
     "end_time": "2024-10-15T08:26:09.695784Z",
     "start_time": "2024-10-15T08:26:09.522570Z"
    }
   },
   "outputs": [
    {
     "data": {
      "text/html": [
       "<div>\n",
       "<style scoped>\n",
       "    .dataframe tbody tr th:only-of-type {\n",
       "        vertical-align: middle;\n",
       "    }\n",
       "\n",
       "    .dataframe tbody tr th {\n",
       "        vertical-align: top;\n",
       "    }\n",
       "\n",
       "    .dataframe thead th {\n",
       "        text-align: right;\n",
       "    }\n",
       "</style>\n",
       "<table border=\"1\" class=\"dataframe\">\n",
       "  <thead>\n",
       "    <tr style=\"text-align: right;\">\n",
       "      <th></th>\n",
       "      <th>visiting_places</th>\n",
       "      <th>visiting_places_rating</th>\n",
       "      <th>distance_from_city_center</th>\n",
       "      <th>cities_name</th>\n",
       "      <th>city_rating</th>\n",
       "      <th>city_type</th>\n",
       "      <th>city_visit_time</th>\n",
       "      <th>no_of_tourist_attration</th>\n",
       "      <th>states_name</th>\n",
       "      <th>state_categories</th>\n",
       "      <th>state_visit_time</th>\n",
       "    </tr>\n",
       "  </thead>\n",
       "  <tbody>\n",
       "    <tr>\n",
       "      <th>0</th>\n",
       "      <td>borra caves</td>\n",
       "      <td>4.60</td>\n",
       "      <td>18.0</td>\n",
       "      <td>araku valley</td>\n",
       "      <td>4.8</td>\n",
       "      <td>hilly type</td>\n",
       "      <td>autumn_to_winter</td>\n",
       "      <td>8.0</td>\n",
       "      <td>andhra pradesh</td>\n",
       "      <td>commercial_and_technological_state</td>\n",
       "      <td>winter</td>\n",
       "    </tr>\n",
       "    <tr>\n",
       "      <th>1</th>\n",
       "      <td>katiki waterfalls</td>\n",
       "      <td>4.10</td>\n",
       "      <td>14.0</td>\n",
       "      <td>araku valley</td>\n",
       "      <td>4.8</td>\n",
       "      <td>hilly type</td>\n",
       "      <td>autumn_to_winter</td>\n",
       "      <td>8.0</td>\n",
       "      <td>andhra pradesh</td>\n",
       "      <td>commercial_and_technological_state</td>\n",
       "      <td>winter</td>\n",
       "    </tr>\n",
       "    <tr>\n",
       "      <th>2</th>\n",
       "      <td>chaparai waterfalls</td>\n",
       "      <td>3.90</td>\n",
       "      <td>13.0</td>\n",
       "      <td>araku valley</td>\n",
       "      <td>4.8</td>\n",
       "      <td>hilly type</td>\n",
       "      <td>autumn_to_winter</td>\n",
       "      <td>8.0</td>\n",
       "      <td>andhra pradesh</td>\n",
       "      <td>commercial_and_technological_state</td>\n",
       "      <td>winter</td>\n",
       "    </tr>\n",
       "    <tr>\n",
       "      <th>3</th>\n",
       "      <td>tadimada waterfalls</td>\n",
       "      <td>3.57</td>\n",
       "      <td>15.0</td>\n",
       "      <td>araku valley</td>\n",
       "      <td>4.8</td>\n",
       "      <td>hilly type</td>\n",
       "      <td>autumn_to_winter</td>\n",
       "      <td>8.0</td>\n",
       "      <td>andhra pradesh</td>\n",
       "      <td>commercial_and_technological_state</td>\n",
       "      <td>winter</td>\n",
       "    </tr>\n",
       "    <tr>\n",
       "      <th>4</th>\n",
       "      <td>matsyagundam</td>\n",
       "      <td>3.57</td>\n",
       "      <td>32.0</td>\n",
       "      <td>araku valley</td>\n",
       "      <td>4.8</td>\n",
       "      <td>hilly type</td>\n",
       "      <td>autumn_to_winter</td>\n",
       "      <td>8.0</td>\n",
       "      <td>andhra pradesh</td>\n",
       "      <td>commercial_and_technological_state</td>\n",
       "      <td>winter</td>\n",
       "    </tr>\n",
       "    <tr>\n",
       "      <th>5</th>\n",
       "      <td>bheemili beach</td>\n",
       "      <td>3.57</td>\n",
       "      <td>78.0</td>\n",
       "      <td>araku valley</td>\n",
       "      <td>4.8</td>\n",
       "      <td>hilly type</td>\n",
       "      <td>autumn_to_winter</td>\n",
       "      <td>8.0</td>\n",
       "      <td>andhra pradesh</td>\n",
       "      <td>commercial_and_technological_state</td>\n",
       "      <td>winter</td>\n",
       "    </tr>\n",
       "    <tr>\n",
       "      <th>6</th>\n",
       "      <td>tribal museum</td>\n",
       "      <td>3.57</td>\n",
       "      <td>3.0</td>\n",
       "      <td>araku valley</td>\n",
       "      <td>4.8</td>\n",
       "      <td>hilly type</td>\n",
       "      <td>autumn_to_winter</td>\n",
       "      <td>8.0</td>\n",
       "      <td>andhra pradesh</td>\n",
       "      <td>commercial_and_technological_state</td>\n",
       "      <td>winter</td>\n",
       "    </tr>\n",
       "    <tr>\n",
       "      <th>7</th>\n",
       "      <td>padmapuram gardens</td>\n",
       "      <td>3.60</td>\n",
       "      <td>15.0</td>\n",
       "      <td>araku valley</td>\n",
       "      <td>4.8</td>\n",
       "      <td>hilly type</td>\n",
       "      <td>autumn_to_winter</td>\n",
       "      <td>8.0</td>\n",
       "      <td>andhra pradesh</td>\n",
       "      <td>commercial_and_technological_state</td>\n",
       "      <td>winter</td>\n",
       "    </tr>\n",
       "    <tr>\n",
       "      <th>8</th>\n",
       "      <td>borra caves</td>\n",
       "      <td>4.20</td>\n",
       "      <td>69.0</td>\n",
       "      <td>visakhapatnam</td>\n",
       "      <td>4.4</td>\n",
       "      <td>metropolitan type</td>\n",
       "      <td>autumn_to_winter</td>\n",
       "      <td>27.0</td>\n",
       "      <td>andhra pradesh</td>\n",
       "      <td>commercial_and_technological_state</td>\n",
       "      <td>winter</td>\n",
       "    </tr>\n",
       "    <tr>\n",
       "      <th>9</th>\n",
       "      <td>submarine museum</td>\n",
       "      <td>3.40</td>\n",
       "      <td>12.0</td>\n",
       "      <td>visakhapatnam</td>\n",
       "      <td>4.4</td>\n",
       "      <td>metropolitan type</td>\n",
       "      <td>autumn_to_winter</td>\n",
       "      <td>27.0</td>\n",
       "      <td>andhra pradesh</td>\n",
       "      <td>commercial_and_technological_state</td>\n",
       "      <td>winter</td>\n",
       "    </tr>\n",
       "  </tbody>\n",
       "</table>\n",
       "</div>"
      ],
      "text/plain": [
       "       visiting_places  visiting_places_rating  distance_from_city_center  \\\n",
       "0          borra caves                    4.60                       18.0   \n",
       "1    katiki waterfalls                    4.10                       14.0   \n",
       "2  chaparai waterfalls                    3.90                       13.0   \n",
       "3  tadimada waterfalls                    3.57                       15.0   \n",
       "4         matsyagundam                    3.57                       32.0   \n",
       "5       bheemili beach                    3.57                       78.0   \n",
       "6        tribal museum                    3.57                        3.0   \n",
       "7   padmapuram gardens                    3.60                       15.0   \n",
       "8          borra caves                    4.20                       69.0   \n",
       "9     submarine museum                    3.40                       12.0   \n",
       "\n",
       "     cities_name  city_rating          city_type   city_visit_time  \\\n",
       "0   araku valley          4.8         hilly type  autumn_to_winter   \n",
       "1   araku valley          4.8         hilly type  autumn_to_winter   \n",
       "2   araku valley          4.8         hilly type  autumn_to_winter   \n",
       "3   araku valley          4.8         hilly type  autumn_to_winter   \n",
       "4   araku valley          4.8         hilly type  autumn_to_winter   \n",
       "5   araku valley          4.8         hilly type  autumn_to_winter   \n",
       "6   araku valley          4.8         hilly type  autumn_to_winter   \n",
       "7   araku valley          4.8         hilly type  autumn_to_winter   \n",
       "8  visakhapatnam          4.4  metropolitan type  autumn_to_winter   \n",
       "9  visakhapatnam          4.4  metropolitan type  autumn_to_winter   \n",
       "\n",
       "   no_of_tourist_attration     states_name  \\\n",
       "0                      8.0  andhra pradesh   \n",
       "1                      8.0  andhra pradesh   \n",
       "2                      8.0  andhra pradesh   \n",
       "3                      8.0  andhra pradesh   \n",
       "4                      8.0  andhra pradesh   \n",
       "5                      8.0  andhra pradesh   \n",
       "6                      8.0  andhra pradesh   \n",
       "7                      8.0  andhra pradesh   \n",
       "8                     27.0  andhra pradesh   \n",
       "9                     27.0  andhra pradesh   \n",
       "\n",
       "                     state_categories state_visit_time  \n",
       "0  commercial_and_technological_state           winter  \n",
       "1  commercial_and_technological_state           winter  \n",
       "2  commercial_and_technological_state           winter  \n",
       "3  commercial_and_technological_state           winter  \n",
       "4  commercial_and_technological_state           winter  \n",
       "5  commercial_and_technological_state           winter  \n",
       "6  commercial_and_technological_state           winter  \n",
       "7  commercial_and_technological_state           winter  \n",
       "8  commercial_and_technological_state           winter  \n",
       "9  commercial_and_technological_state           winter  "
      ]
     },
     "execution_count": 111,
     "metadata": {},
     "output_type": "execute_result"
    }
   ],
   "source": [
    "df.head(10)"
   ]
  },
  {
   "cell_type": "code",
   "execution_count": 112,
   "id": "d0f68ad2",
   "metadata": {
    "ExecuteTime": {
     "end_time": "2024-10-15T08:26:10.516767Z",
     "start_time": "2024-10-15T08:26:09.695784Z"
    }
   },
   "outputs": [
    {
     "name": "stdout",
     "output_type": "stream",
     "text": [
      "<class 'pandas.core.frame.DataFrame'>\n",
      "RangeIndex: 5584 entries, 0 to 5583\n",
      "Data columns (total 11 columns):\n",
      " #   Column                     Non-Null Count  Dtype  \n",
      "---  ------                     --------------  -----  \n",
      " 0   visiting_places            5584 non-null   object \n",
      " 1   visiting_places_rating     5584 non-null   float64\n",
      " 2   distance_from_city_center  5584 non-null   float64\n",
      " 3   cities_name                5584 non-null   object \n",
      " 4   city_rating                5584 non-null   float64\n",
      " 5   city_type                  5584 non-null   object \n",
      " 6   city_visit_time            5584 non-null   object \n",
      " 7   no_of_tourist_attration    5584 non-null   float64\n",
      " 8   states_name                5584 non-null   object \n",
      " 9   state_categories           5584 non-null   object \n",
      " 10  state_visit_time           5584 non-null   object \n",
      "dtypes: float64(4), object(7)\n",
      "memory usage: 480.0+ KB\n"
     ]
    }
   ],
   "source": [
    "df.info()"
   ]
  },
  {
   "cell_type": "code",
   "execution_count": 113,
   "id": "58aac791",
   "metadata": {
    "ExecuteTime": {
     "end_time": "2024-10-15T08:26:10.543574Z",
     "start_time": "2024-10-15T08:26:10.517974Z"
    }
   },
   "outputs": [
    {
     "data": {
      "text/plain": [
       "(5584, 11)"
      ]
     },
     "execution_count": 113,
     "metadata": {},
     "output_type": "execute_result"
    }
   ],
   "source": [
    "df.shape"
   ]
  },
  {
   "cell_type": "code",
   "execution_count": 114,
   "id": "ca4d5bde",
   "metadata": {
    "ExecuteTime": {
     "end_time": "2024-10-15T08:26:10.853209Z",
     "start_time": "2024-10-15T08:26:10.546512Z"
    }
   },
   "outputs": [],
   "source": [
    "df.drop_duplicates(inplace=True)"
   ]
  },
  {
   "cell_type": "code",
   "execution_count": 115,
   "id": "7e4fd32a",
   "metadata": {
    "ExecuteTime": {
     "end_time": "2024-10-15T08:26:10.902921Z",
     "start_time": "2024-10-15T08:26:10.860288Z"
    }
   },
   "outputs": [
    {
     "data": {
      "text/plain": [
       "0"
      ]
     },
     "execution_count": 115,
     "metadata": {},
     "output_type": "execute_result"
    }
   ],
   "source": [
    "df.duplicated().sum()"
   ]
  },
  {
   "cell_type": "markdown",
   "id": "c0595f09",
   "metadata": {},
   "source": [
    "# recommender-system according to city type"
   ]
  },
  {
   "cell_type": "code",
   "execution_count": 116,
   "id": "607d41f1",
   "metadata": {
    "ExecuteTime": {
     "end_time": "2024-10-15T08:26:11.078664Z",
     "start_time": "2024-10-15T08:26:10.907530Z"
    }
   },
   "outputs": [],
   "source": [
    "df_name_type = df[['cities_name',\"city_rating\",'city_type','city_visit_time','states_name','state_categories','state_visit_time']]"
   ]
  },
  {
   "cell_type": "code",
   "execution_count": 117,
   "id": "713c36d0",
   "metadata": {
    "ExecuteTime": {
     "end_time": "2024-10-15T08:26:11.201320Z",
     "start_time": "2024-10-15T08:26:11.078664Z"
    }
   },
   "outputs": [
    {
     "data": {
      "text/plain": [
       "5294"
      ]
     },
     "execution_count": 117,
     "metadata": {},
     "output_type": "execute_result"
    }
   ],
   "source": [
    "df_name_type.duplicated().sum()"
   ]
  },
  {
   "cell_type": "code",
   "execution_count": 118,
   "id": "0262ea11",
   "metadata": {
    "ExecuteTime": {
     "end_time": "2024-10-15T08:26:11.431517Z",
     "start_time": "2024-10-15T08:26:11.206152Z"
    }
   },
   "outputs": [
    {
     "name": "stderr",
     "output_type": "stream",
     "text": [
      "C:\\Users\\HARSHIT JAIN\\AppData\\Local\\Temp\\ipykernel_1040\\822893423.py:1: SettingWithCopyWarning: \n",
      "A value is trying to be set on a copy of a slice from a DataFrame\n",
      "\n",
      "See the caveats in the documentation: https://pandas.pydata.org/pandas-docs/stable/user_guide/indexing.html#returning-a-view-versus-a-copy\n",
      "  df_name_type.drop_duplicates(inplace=True)\n"
     ]
    }
   ],
   "source": [
    "df_name_type.drop_duplicates(inplace=True)"
   ]
  },
  {
   "cell_type": "code",
   "execution_count": 119,
   "id": "ba8c9dbc",
   "metadata": {
    "ExecuteTime": {
     "end_time": "2024-10-15T08:26:11.520049Z",
     "start_time": "2024-10-15T08:26:11.505625Z"
    }
   },
   "outputs": [],
   "source": [
    "pd.set_option('display.max_rows',None)"
   ]
  },
  {
   "cell_type": "code",
   "execution_count": 120,
   "id": "5736cc8e",
   "metadata": {
    "ExecuteTime": {
     "end_time": "2024-10-15T08:26:11.961378Z",
     "start_time": "2024-10-15T08:26:11.871617Z"
    }
   },
   "outputs": [
    {
     "data": {
      "text/html": [
       "<div>\n",
       "<style scoped>\n",
       "    .dataframe tbody tr th:only-of-type {\n",
       "        vertical-align: middle;\n",
       "    }\n",
       "\n",
       "    .dataframe tbody tr th {\n",
       "        vertical-align: top;\n",
       "    }\n",
       "\n",
       "    .dataframe thead th {\n",
       "        text-align: right;\n",
       "    }\n",
       "</style>\n",
       "<table border=\"1\" class=\"dataframe\">\n",
       "  <thead>\n",
       "    <tr style=\"text-align: right;\">\n",
       "      <th></th>\n",
       "      <th>cities_name</th>\n",
       "      <th>city_rating</th>\n",
       "      <th>city_type</th>\n",
       "      <th>city_visit_time</th>\n",
       "      <th>states_name</th>\n",
       "      <th>state_categories</th>\n",
       "      <th>state_visit_time</th>\n",
       "    </tr>\n",
       "  </thead>\n",
       "  <tbody>\n",
       "    <tr>\n",
       "      <th>0</th>\n",
       "      <td>araku valley</td>\n",
       "      <td>4.8</td>\n",
       "      <td>hilly type</td>\n",
       "      <td>autumn_to_winter</td>\n",
       "      <td>andhra pradesh</td>\n",
       "      <td>commercial_and_technological_state</td>\n",
       "      <td>winter</td>\n",
       "    </tr>\n",
       "    <tr>\n",
       "      <th>8</th>\n",
       "      <td>visakhapatnam</td>\n",
       "      <td>4.4</td>\n",
       "      <td>metropolitan type</td>\n",
       "      <td>autumn_to_winter</td>\n",
       "      <td>andhra pradesh</td>\n",
       "      <td>commercial_and_technological_state</td>\n",
       "      <td>winter</td>\n",
       "    </tr>\n",
       "    <tr>\n",
       "      <th>34</th>\n",
       "      <td>tirupati</td>\n",
       "      <td>4.5</td>\n",
       "      <td>spiritual type</td>\n",
       "      <td>autumn_to_winter</td>\n",
       "      <td>andhra pradesh</td>\n",
       "      <td>commercial_and_technological_state</td>\n",
       "      <td>winter</td>\n",
       "    </tr>\n",
       "    <tr>\n",
       "      <th>72</th>\n",
       "      <td>vijayawada</td>\n",
       "      <td>3.9</td>\n",
       "      <td>historical type</td>\n",
       "      <td>autumn_to_winter</td>\n",
       "      <td>andhra pradesh</td>\n",
       "      <td>commercial_and_technological_state</td>\n",
       "      <td>winter</td>\n",
       "    </tr>\n",
       "    <tr>\n",
       "      <th>96</th>\n",
       "      <td>anantapur</td>\n",
       "      <td>3.5</td>\n",
       "      <td>historical type</td>\n",
       "      <td>autumn_to_winter</td>\n",
       "      <td>andhra pradesh</td>\n",
       "      <td>commercial_and_technological_state</td>\n",
       "      <td>winter</td>\n",
       "    </tr>\n",
       "    <tr>\n",
       "      <th>108</th>\n",
       "      <td>srisailam</td>\n",
       "      <td>4.2</td>\n",
       "      <td>spiritual type</td>\n",
       "      <td>autumn_to_winter</td>\n",
       "      <td>andhra pradesh</td>\n",
       "      <td>commercial_and_technological_state</td>\n",
       "      <td>winter</td>\n",
       "    </tr>\n",
       "    <tr>\n",
       "      <th>124</th>\n",
       "      <td>ananthagiri hills</td>\n",
       "      <td>4.3</td>\n",
       "      <td>hilly type</td>\n",
       "      <td>autumn_to_winter</td>\n",
       "      <td>andhra pradesh</td>\n",
       "      <td>commercial_and_technological_state</td>\n",
       "      <td>winter</td>\n",
       "    </tr>\n",
       "    <tr>\n",
       "      <th>132</th>\n",
       "      <td>kurnool</td>\n",
       "      <td>4.6</td>\n",
       "      <td>rural type</td>\n",
       "      <td>autumn_to_winter</td>\n",
       "      <td>andhra pradesh</td>\n",
       "      <td>commercial_and_technological_state</td>\n",
       "      <td>winter</td>\n",
       "    </tr>\n",
       "    <tr>\n",
       "      <th>162</th>\n",
       "      <td>guntur</td>\n",
       "      <td>4.7</td>\n",
       "      <td>rural type</td>\n",
       "      <td>autumn_to_winter</td>\n",
       "      <td>andhra pradesh</td>\n",
       "      <td>commercial_and_technological_state</td>\n",
       "      <td>winter</td>\n",
       "    </tr>\n",
       "    <tr>\n",
       "      <th>175</th>\n",
       "      <td>nellore</td>\n",
       "      <td>4.7</td>\n",
       "      <td>rural type</td>\n",
       "      <td>autumn_to_winter</td>\n",
       "      <td>andhra pradesh</td>\n",
       "      <td>commercial_and_technological_state</td>\n",
       "      <td>winter</td>\n",
       "    </tr>\n",
       "  </tbody>\n",
       "</table>\n",
       "</div>"
      ],
      "text/plain": [
       "           cities_name  city_rating          city_type   city_visit_time  \\\n",
       "0         araku valley          4.8         hilly type  autumn_to_winter   \n",
       "8        visakhapatnam          4.4  metropolitan type  autumn_to_winter   \n",
       "34            tirupati          4.5     spiritual type  autumn_to_winter   \n",
       "72          vijayawada          3.9    historical type  autumn_to_winter   \n",
       "96           anantapur          3.5    historical type  autumn_to_winter   \n",
       "108          srisailam          4.2     spiritual type  autumn_to_winter   \n",
       "124  ananthagiri hills          4.3         hilly type  autumn_to_winter   \n",
       "132            kurnool          4.6         rural type  autumn_to_winter   \n",
       "162             guntur          4.7         rural type  autumn_to_winter   \n",
       "175            nellore          4.7         rural type  autumn_to_winter   \n",
       "\n",
       "        states_name                    state_categories state_visit_time  \n",
       "0    andhra pradesh  commercial_and_technological_state           winter  \n",
       "8    andhra pradesh  commercial_and_technological_state           winter  \n",
       "34   andhra pradesh  commercial_and_technological_state           winter  \n",
       "72   andhra pradesh  commercial_and_technological_state           winter  \n",
       "96   andhra pradesh  commercial_and_technological_state           winter  \n",
       "108  andhra pradesh  commercial_and_technological_state           winter  \n",
       "124  andhra pradesh  commercial_and_technological_state           winter  \n",
       "132  andhra pradesh  commercial_and_technological_state           winter  \n",
       "162  andhra pradesh  commercial_and_technological_state           winter  \n",
       "175  andhra pradesh  commercial_and_technological_state           winter  "
      ]
     },
     "execution_count": 120,
     "metadata": {},
     "output_type": "execute_result"
    }
   ],
   "source": [
    "df_name_type.head(10)"
   ]
  },
  {
   "cell_type": "code",
   "execution_count": 121,
   "id": "308df524",
   "metadata": {
    "ExecuteTime": {
     "end_time": "2024-10-15T08:26:12.735536Z",
     "start_time": "2024-10-15T08:26:12.270746Z"
    }
   },
   "outputs": [],
   "source": [
    "pt = df_name_type.pivot_table(index='cities_name',columns='city_type',values='city_rating')"
   ]
  },
  {
   "cell_type": "code",
   "execution_count": 122,
   "id": "3d6bc75a",
   "metadata": {
    "ExecuteTime": {
     "end_time": "2024-10-15T08:26:12.748972Z",
     "start_time": "2024-10-15T08:26:12.735536Z"
    }
   },
   "outputs": [],
   "source": [
    "pt.fillna(0,inplace=True)"
   ]
  },
  {
   "cell_type": "code",
   "execution_count": 123,
   "id": "ea0935bc",
   "metadata": {
    "ExecuteTime": {
     "end_time": "2024-10-15T08:26:12.916368Z",
     "start_time": "2024-10-15T08:26:12.787439Z"
    }
   },
   "outputs": [
    {
     "data": {
      "text/html": [
       "<div>\n",
       "<style scoped>\n",
       "    .dataframe tbody tr th:only-of-type {\n",
       "        vertical-align: middle;\n",
       "    }\n",
       "\n",
       "    .dataframe tbody tr th {\n",
       "        vertical-align: top;\n",
       "    }\n",
       "\n",
       "    .dataframe thead th {\n",
       "        text-align: right;\n",
       "    }\n",
       "</style>\n",
       "<table border=\"1\" class=\"dataframe\">\n",
       "  <thead>\n",
       "    <tr style=\"text-align: right;\">\n",
       "      <th>city_type</th>\n",
       "      <th>beach type</th>\n",
       "      <th>cultural type</th>\n",
       "      <th>hilly type</th>\n",
       "      <th>historical type</th>\n",
       "      <th>metropolitan type</th>\n",
       "      <th>nature type</th>\n",
       "      <th>other type</th>\n",
       "      <th>rural type</th>\n",
       "      <th>spiritual type</th>\n",
       "    </tr>\n",
       "    <tr>\n",
       "      <th>cities_name</th>\n",
       "      <th></th>\n",
       "      <th></th>\n",
       "      <th></th>\n",
       "      <th></th>\n",
       "      <th></th>\n",
       "      <th></th>\n",
       "      <th></th>\n",
       "      <th></th>\n",
       "      <th></th>\n",
       "    </tr>\n",
       "  </thead>\n",
       "  <tbody>\n",
       "    <tr>\n",
       "      <th>adilabad</th>\n",
       "      <td>0.0</td>\n",
       "      <td>0.0</td>\n",
       "      <td>0.0</td>\n",
       "      <td>0.0</td>\n",
       "      <td>0.0</td>\n",
       "      <td>0.0</td>\n",
       "      <td>5.0</td>\n",
       "      <td>0.0</td>\n",
       "      <td>0.0</td>\n",
       "    </tr>\n",
       "    <tr>\n",
       "      <th>agartala</th>\n",
       "      <td>0.0</td>\n",
       "      <td>0.0</td>\n",
       "      <td>0.0</td>\n",
       "      <td>0.0</td>\n",
       "      <td>0.0</td>\n",
       "      <td>3.8</td>\n",
       "      <td>0.0</td>\n",
       "      <td>0.0</td>\n",
       "      <td>0.0</td>\n",
       "    </tr>\n",
       "    <tr>\n",
       "      <th>agra</th>\n",
       "      <td>0.0</td>\n",
       "      <td>0.0</td>\n",
       "      <td>0.0</td>\n",
       "      <td>4.2</td>\n",
       "      <td>0.0</td>\n",
       "      <td>0.0</td>\n",
       "      <td>0.0</td>\n",
       "      <td>0.0</td>\n",
       "      <td>0.0</td>\n",
       "    </tr>\n",
       "    <tr>\n",
       "      <th>ahmedabad</th>\n",
       "      <td>0.0</td>\n",
       "      <td>0.0</td>\n",
       "      <td>0.0</td>\n",
       "      <td>0.0</td>\n",
       "      <td>4.1</td>\n",
       "      <td>0.0</td>\n",
       "      <td>0.0</td>\n",
       "      <td>0.0</td>\n",
       "      <td>0.0</td>\n",
       "    </tr>\n",
       "    <tr>\n",
       "      <th>aihole</th>\n",
       "      <td>0.0</td>\n",
       "      <td>0.0</td>\n",
       "      <td>0.0</td>\n",
       "      <td>0.0</td>\n",
       "      <td>0.0</td>\n",
       "      <td>0.0</td>\n",
       "      <td>0.0</td>\n",
       "      <td>0.0</td>\n",
       "      <td>4.2</td>\n",
       "    </tr>\n",
       "  </tbody>\n",
       "</table>\n",
       "</div>"
      ],
      "text/plain": [
       "city_type    beach type  cultural type  hilly type  historical type  \\\n",
       "cities_name                                                           \n",
       "adilabad            0.0            0.0         0.0              0.0   \n",
       "agartala            0.0            0.0         0.0              0.0   \n",
       "agra                0.0            0.0         0.0              4.2   \n",
       "ahmedabad           0.0            0.0         0.0              0.0   \n",
       "aihole              0.0            0.0         0.0              0.0   \n",
       "\n",
       "city_type    metropolitan type  nature type  other type  rural type  \\\n",
       "cities_name                                                           \n",
       "adilabad                   0.0          0.0         5.0         0.0   \n",
       "agartala                   0.0          3.8         0.0         0.0   \n",
       "agra                       0.0          0.0         0.0         0.0   \n",
       "ahmedabad                  4.1          0.0         0.0         0.0   \n",
       "aihole                     0.0          0.0         0.0         0.0   \n",
       "\n",
       "city_type    spiritual type  \n",
       "cities_name                  \n",
       "adilabad                0.0  \n",
       "agartala                0.0  \n",
       "agra                    0.0  \n",
       "ahmedabad               0.0  \n",
       "aihole                  4.2  "
      ]
     },
     "execution_count": 123,
     "metadata": {},
     "output_type": "execute_result"
    }
   ],
   "source": [
    "pt.head()"
   ]
  },
  {
   "cell_type": "code",
   "execution_count": 124,
   "id": "0ff39486",
   "metadata": {
    "ExecuteTime": {
     "end_time": "2024-10-15T08:26:13.156595Z",
     "start_time": "2024-10-15T08:26:13.037062Z"
    }
   },
   "outputs": [],
   "source": [
    "from sklearn.metrics.pairwise import cosine_similarity"
   ]
  },
  {
   "cell_type": "code",
   "execution_count": 125,
   "id": "9002d0b9",
   "metadata": {
    "ExecuteTime": {
     "end_time": "2024-10-15T08:26:13.843496Z",
     "start_time": "2024-10-15T08:26:13.286683Z"
    }
   },
   "outputs": [],
   "source": [
    "similarity_scores = cosine_similarity(pt)"
   ]
  },
  {
   "cell_type": "code",
   "execution_count": 126,
   "id": "42da4897",
   "metadata": {
    "ExecuteTime": {
     "end_time": "2024-10-15T08:26:13.876745Z",
     "start_time": "2024-10-15T08:26:13.843496Z"
    }
   },
   "outputs": [
    {
     "data": {
      "text/plain": [
       "(287, 287)"
      ]
     },
     "execution_count": 126,
     "metadata": {},
     "output_type": "execute_result"
    }
   ],
   "source": [
    "similarity_scores.shape"
   ]
  },
  {
   "cell_type": "code",
   "execution_count": 127,
   "id": "1ff99f4b",
   "metadata": {
    "ExecuteTime": {
     "end_time": "2024-10-15T08:26:14.087005Z",
     "start_time": "2024-10-15T08:26:14.035884Z"
    }
   },
   "outputs": [],
   "source": [
    "def recommend_city(city_name, cosine_sim = similarity_scores):\n",
    "    index = np.where(pt.index==city_name)[0][0]\n",
    "    similar_items = sorted(list(enumerate(similarity_scores[index])),key= lambda x:x[1],reverse=True)[1:6]\n",
    "    \n",
    "    for i in similar_items:\n",
    "        print(pt.index[i[0]])\n",
    "        \n",
    "        "
   ]
  },
  {
   "cell_type": "code",
   "execution_count": 128,
   "id": "48795ada",
   "metadata": {
    "ExecuteTime": {
     "end_time": "2024-10-15T08:26:14.453687Z",
     "start_time": "2024-10-15T08:26:14.434175Z"
    }
   },
   "outputs": [
    {
     "name": "stdout",
     "output_type": "stream",
     "text": [
      "almora\n",
      "ananthagiri hills\n",
      "anantnag\n",
      "araku valley\n",
      "badami\n"
     ]
    }
   ],
   "source": [
    "recommend_city('manali')"
   ]
  },
  {
   "cell_type": "code",
   "execution_count": 129,
   "id": "761a87f7",
   "metadata": {
    "ExecuteTime": {
     "end_time": "2024-10-15T08:26:15.025049Z",
     "start_time": "2024-10-15T08:26:14.600622Z"
    }
   },
   "outputs": [
    {
     "data": {
      "text/html": [
       "<div>\n",
       "<style scoped>\n",
       "    .dataframe tbody tr th:only-of-type {\n",
       "        vertical-align: middle;\n",
       "    }\n",
       "\n",
       "    .dataframe tbody tr th {\n",
       "        vertical-align: top;\n",
       "    }\n",
       "\n",
       "    .dataframe thead th {\n",
       "        text-align: right;\n",
       "    }\n",
       "</style>\n",
       "<table border=\"1\" class=\"dataframe\">\n",
       "  <thead>\n",
       "    <tr style=\"text-align: right;\">\n",
       "      <th></th>\n",
       "      <th>cities_name</th>\n",
       "      <th>city_rating</th>\n",
       "      <th>city_type</th>\n",
       "    </tr>\n",
       "  </thead>\n",
       "  <tbody>\n",
       "    <tr>\n",
       "      <th>5053</th>\n",
       "      <td>almora</td>\n",
       "      <td>4.0</td>\n",
       "      <td>hilly type</td>\n",
       "    </tr>\n",
       "  </tbody>\n",
       "</table>\n",
       "</div>"
      ],
      "text/plain": [
       "     cities_name  city_rating   city_type\n",
       "5053      almora          4.0  hilly type"
      ]
     },
     "execution_count": 129,
     "metadata": {},
     "output_type": "execute_result"
    }
   ],
   "source": [
    "df[df['cities_name']=='almora'][['cities_name','city_rating','city_type']].head(1)"
   ]
  },
  {
   "cell_type": "code",
   "execution_count": 130,
   "id": "d143a815",
   "metadata": {
    "ExecuteTime": {
     "end_time": "2024-10-15T08:26:15.207856Z",
     "start_time": "2024-10-15T08:26:15.185849Z"
    }
   },
   "outputs": [
    {
     "data": {
      "text/html": [
       "<div>\n",
       "<style scoped>\n",
       "    .dataframe tbody tr th:only-of-type {\n",
       "        vertical-align: middle;\n",
       "    }\n",
       "\n",
       "    .dataframe tbody tr th {\n",
       "        vertical-align: top;\n",
       "    }\n",
       "\n",
       "    .dataframe thead th {\n",
       "        text-align: right;\n",
       "    }\n",
       "</style>\n",
       "<table border=\"1\" class=\"dataframe\">\n",
       "  <thead>\n",
       "    <tr style=\"text-align: right;\">\n",
       "      <th></th>\n",
       "      <th>cities_name</th>\n",
       "      <th>city_rating</th>\n",
       "      <th>city_type</th>\n",
       "    </tr>\n",
       "  </thead>\n",
       "  <tbody>\n",
       "    <tr>\n",
       "      <th>124</th>\n",
       "      <td>ananthagiri hills</td>\n",
       "      <td>4.3</td>\n",
       "      <td>hilly type</td>\n",
       "    </tr>\n",
       "  </tbody>\n",
       "</table>\n",
       "</div>"
      ],
      "text/plain": [
       "           cities_name  city_rating   city_type\n",
       "124  ananthagiri hills          4.3  hilly type"
      ]
     },
     "execution_count": 130,
     "metadata": {},
     "output_type": "execute_result"
    }
   ],
   "source": [
    "df[df['cities_name']=='ananthagiri hills'][['cities_name','city_rating','city_type']].head(1)"
   ]
  },
  {
   "cell_type": "code",
   "execution_count": 131,
   "id": "b9d83a68",
   "metadata": {
    "ExecuteTime": {
     "end_time": "2024-10-15T08:26:15.908297Z",
     "start_time": "2024-10-15T08:26:15.886340Z"
    }
   },
   "outputs": [
    {
     "data": {
      "text/html": [
       "<div>\n",
       "<style scoped>\n",
       "    .dataframe tbody tr th:only-of-type {\n",
       "        vertical-align: middle;\n",
       "    }\n",
       "\n",
       "    .dataframe tbody tr th {\n",
       "        vertical-align: top;\n",
       "    }\n",
       "\n",
       "    .dataframe thead th {\n",
       "        text-align: right;\n",
       "    }\n",
       "</style>\n",
       "<table border=\"1\" class=\"dataframe\">\n",
       "  <thead>\n",
       "    <tr style=\"text-align: right;\">\n",
       "      <th></th>\n",
       "      <th>cities_name</th>\n",
       "      <th>city_rating</th>\n",
       "      <th>city_type</th>\n",
       "    </tr>\n",
       "  </thead>\n",
       "  <tbody>\n",
       "    <tr>\n",
       "      <th>5557</th>\n",
       "      <td>anantnag</td>\n",
       "      <td>4.0</td>\n",
       "      <td>hilly type</td>\n",
       "    </tr>\n",
       "  </tbody>\n",
       "</table>\n",
       "</div>"
      ],
      "text/plain": [
       "     cities_name  city_rating   city_type\n",
       "5557    anantnag          4.0  hilly type"
      ]
     },
     "execution_count": 131,
     "metadata": {},
     "output_type": "execute_result"
    }
   ],
   "source": [
    "df[df['cities_name']=='anantnag'][['cities_name','city_rating','city_type']].head(1)"
   ]
  },
  {
   "cell_type": "code",
   "execution_count": 132,
   "id": "a2bf37ad",
   "metadata": {
    "ExecuteTime": {
     "end_time": "2024-10-15T08:26:16.461065Z",
     "start_time": "2024-10-15T08:26:16.430657Z"
    }
   },
   "outputs": [
    {
     "data": {
      "text/html": [
       "<div>\n",
       "<style scoped>\n",
       "    .dataframe tbody tr th:only-of-type {\n",
       "        vertical-align: middle;\n",
       "    }\n",
       "\n",
       "    .dataframe tbody tr th {\n",
       "        vertical-align: top;\n",
       "    }\n",
       "\n",
       "    .dataframe thead th {\n",
       "        text-align: right;\n",
       "    }\n",
       "</style>\n",
       "<table border=\"1\" class=\"dataframe\">\n",
       "  <thead>\n",
       "    <tr style=\"text-align: right;\">\n",
       "      <th></th>\n",
       "      <th>cities_name</th>\n",
       "      <th>city_rating</th>\n",
       "      <th>city_type</th>\n",
       "    </tr>\n",
       "  </thead>\n",
       "  <tbody>\n",
       "    <tr>\n",
       "      <th>0</th>\n",
       "      <td>araku valley</td>\n",
       "      <td>4.8</td>\n",
       "      <td>hilly type</td>\n",
       "    </tr>\n",
       "  </tbody>\n",
       "</table>\n",
       "</div>"
      ],
      "text/plain": [
       "    cities_name  city_rating   city_type\n",
       "0  araku valley          4.8  hilly type"
      ]
     },
     "execution_count": 132,
     "metadata": {},
     "output_type": "execute_result"
    }
   ],
   "source": [
    "df[df['cities_name']=='araku valley'][['cities_name','city_rating','city_type']].head(1)"
   ]
  },
  {
   "cell_type": "code",
   "execution_count": 133,
   "id": "6d22a45b",
   "metadata": {
    "ExecuteTime": {
     "end_time": "2024-10-15T08:26:17.498080Z",
     "start_time": "2024-10-15T08:26:16.945660Z"
    }
   },
   "outputs": [
    {
     "data": {
      "text/html": [
       "<div>\n",
       "<style scoped>\n",
       "    .dataframe tbody tr th:only-of-type {\n",
       "        vertical-align: middle;\n",
       "    }\n",
       "\n",
       "    .dataframe tbody tr th {\n",
       "        vertical-align: top;\n",
       "    }\n",
       "\n",
       "    .dataframe thead th {\n",
       "        text-align: right;\n",
       "    }\n",
       "</style>\n",
       "<table border=\"1\" class=\"dataframe\">\n",
       "  <thead>\n",
       "    <tr style=\"text-align: right;\">\n",
       "      <th></th>\n",
       "      <th>cities_name</th>\n",
       "      <th>city_rating</th>\n",
       "      <th>city_type</th>\n",
       "    </tr>\n",
       "  </thead>\n",
       "  <tbody>\n",
       "    <tr>\n",
       "      <th>1590</th>\n",
       "      <td>badami</td>\n",
       "      <td>4.0</td>\n",
       "      <td>hilly type</td>\n",
       "    </tr>\n",
       "  </tbody>\n",
       "</table>\n",
       "</div>"
      ],
      "text/plain": [
       "     cities_name  city_rating   city_type\n",
       "1590      badami          4.0  hilly type"
      ]
     },
     "execution_count": 133,
     "metadata": {},
     "output_type": "execute_result"
    }
   ],
   "source": [
    "df[df['cities_name']=='badami'][['cities_name','city_rating','city_type']].head(1)"
   ]
  },
  {
   "cell_type": "markdown",
   "id": "9f141c96",
   "metadata": {},
   "source": [
    "# recommender-system according to city visit time"
   ]
  },
  {
   "cell_type": "code",
   "execution_count": 134,
   "id": "fa78b2e8",
   "metadata": {
    "ExecuteTime": {
     "end_time": "2024-10-15T08:26:26.505609Z",
     "start_time": "2024-10-15T08:26:26.416341Z"
    }
   },
   "outputs": [],
   "source": [
    "pt_1 = df_name_type.pivot_table(index='cities_name',columns='city_visit_time',values='city_rating')"
   ]
  },
  {
   "cell_type": "code",
   "execution_count": 135,
   "id": "9e94e9df",
   "metadata": {
    "ExecuteTime": {
     "end_time": "2024-10-15T08:26:28.317943Z",
     "start_time": "2024-10-15T08:26:28.310265Z"
    }
   },
   "outputs": [],
   "source": [
    "pt_1.fillna(0,inplace=True)"
   ]
  },
  {
   "cell_type": "code",
   "execution_count": 136,
   "id": "dd257fae",
   "metadata": {
    "ExecuteTime": {
     "end_time": "2024-10-15T08:26:28.858758Z",
     "start_time": "2024-10-15T08:26:28.777525Z"
    }
   },
   "outputs": [
    {
     "data": {
      "text/html": [
       "<div>\n",
       "<style scoped>\n",
       "    .dataframe tbody tr th:only-of-type {\n",
       "        vertical-align: middle;\n",
       "    }\n",
       "\n",
       "    .dataframe tbody tr th {\n",
       "        vertical-align: top;\n",
       "    }\n",
       "\n",
       "    .dataframe thead th {\n",
       "        text-align: right;\n",
       "    }\n",
       "</style>\n",
       "<table border=\"1\" class=\"dataframe\">\n",
       "  <thead>\n",
       "    <tr style=\"text-align: right;\">\n",
       "      <th>city_visit_time</th>\n",
       "      <th>autumn_to_summer</th>\n",
       "      <th>autumn_to_winter</th>\n",
       "      <th>summer_to_autumn</th>\n",
       "      <th>summer_to_winter</th>\n",
       "      <th>throughout_the_year</th>\n",
       "    </tr>\n",
       "    <tr>\n",
       "      <th>cities_name</th>\n",
       "      <th></th>\n",
       "      <th></th>\n",
       "      <th></th>\n",
       "      <th></th>\n",
       "      <th></th>\n",
       "    </tr>\n",
       "  </thead>\n",
       "  <tbody>\n",
       "    <tr>\n",
       "      <th>adilabad</th>\n",
       "      <td>0.0</td>\n",
       "      <td>5.0</td>\n",
       "      <td>0.0</td>\n",
       "      <td>0.0</td>\n",
       "      <td>0.0</td>\n",
       "    </tr>\n",
       "    <tr>\n",
       "      <th>agartala</th>\n",
       "      <td>0.0</td>\n",
       "      <td>0.0</td>\n",
       "      <td>0.0</td>\n",
       "      <td>0.0</td>\n",
       "      <td>3.8</td>\n",
       "    </tr>\n",
       "    <tr>\n",
       "      <th>agra</th>\n",
       "      <td>0.0</td>\n",
       "      <td>4.2</td>\n",
       "      <td>0.0</td>\n",
       "      <td>0.0</td>\n",
       "      <td>0.0</td>\n",
       "    </tr>\n",
       "    <tr>\n",
       "      <th>ahmedabad</th>\n",
       "      <td>0.0</td>\n",
       "      <td>4.1</td>\n",
       "      <td>0.0</td>\n",
       "      <td>0.0</td>\n",
       "      <td>0.0</td>\n",
       "    </tr>\n",
       "    <tr>\n",
       "      <th>aihole</th>\n",
       "      <td>0.0</td>\n",
       "      <td>4.2</td>\n",
       "      <td>0.0</td>\n",
       "      <td>0.0</td>\n",
       "      <td>0.0</td>\n",
       "    </tr>\n",
       "  </tbody>\n",
       "</table>\n",
       "</div>"
      ],
      "text/plain": [
       "city_visit_time  autumn_to_summer  autumn_to_winter  summer_to_autumn  \\\n",
       "cities_name                                                             \n",
       "adilabad                      0.0               5.0               0.0   \n",
       "agartala                      0.0               0.0               0.0   \n",
       "agra                          0.0               4.2               0.0   \n",
       "ahmedabad                     0.0               4.1               0.0   \n",
       "aihole                        0.0               4.2               0.0   \n",
       "\n",
       "city_visit_time  summer_to_winter  throughout_the_year  \n",
       "cities_name                                             \n",
       "adilabad                      0.0                  0.0  \n",
       "agartala                      0.0                  3.8  \n",
       "agra                          0.0                  0.0  \n",
       "ahmedabad                     0.0                  0.0  \n",
       "aihole                        0.0                  0.0  "
      ]
     },
     "execution_count": 136,
     "metadata": {},
     "output_type": "execute_result"
    }
   ],
   "source": [
    "pt_1.head()"
   ]
  },
  {
   "cell_type": "code",
   "execution_count": 137,
   "id": "54eed8a5",
   "metadata": {
    "ExecuteTime": {
     "end_time": "2024-10-15T08:26:30.374410Z",
     "start_time": "2024-10-15T08:26:29.230409Z"
    }
   },
   "outputs": [],
   "source": [
    "similarity_scores_1 = cosine_similarity(pt_1)"
   ]
  },
  {
   "cell_type": "code",
   "execution_count": 138,
   "id": "a5acd747",
   "metadata": {
    "ExecuteTime": {
     "end_time": "2024-10-15T08:26:32.383991Z",
     "start_time": "2024-10-15T08:26:30.977377Z"
    }
   },
   "outputs": [
    {
     "data": {
      "text/plain": [
       "array([[1., 0., 1., ..., 1., 0., 0.],\n",
       "       [0., 1., 0., ..., 0., 0., 0.],\n",
       "       [1., 0., 1., ..., 1., 0., 0.],\n",
       "       ...,\n",
       "       [1., 0., 1., ..., 1., 0., 0.],\n",
       "       [0., 0., 0., ..., 0., 1., 1.],\n",
       "       [0., 0., 0., ..., 0., 1., 1.]])"
      ]
     },
     "execution_count": 138,
     "metadata": {},
     "output_type": "execute_result"
    }
   ],
   "source": [
    "similarity_scores_1"
   ]
  },
  {
   "cell_type": "code",
   "execution_count": 139,
   "id": "d0c3b69a",
   "metadata": {
    "ExecuteTime": {
     "end_time": "2024-10-15T08:26:33.312961Z",
     "start_time": "2024-10-15T08:26:32.387953Z"
    }
   },
   "outputs": [],
   "source": [
    "def recommend_city_time(city_name,cosine_sim = similarity_scores_1):\n",
    "    index = np.where(pt_1.index==city_name)[0][0]\n",
    "    similar_items = sorted(list(enumerate(similarity_scores_1[index])),key= lambda x:x[1],reverse=True)[1:6]\n",
    "    \n",
    "    for i in similar_items:\n",
    "        print(pt_1.index[i[0]])\n",
    "    "
   ]
  },
  {
   "cell_type": "code",
   "execution_count": 140,
   "id": "809a9279",
   "metadata": {
    "ExecuteTime": {
     "end_time": "2024-10-15T08:26:33.451047Z",
     "start_time": "2024-10-15T08:26:33.312961Z"
    }
   },
   "outputs": [
    {
     "name": "stdout",
     "output_type": "stream",
     "text": [
      "bageshwar\n",
      "bongaigaon\n",
      "chamoli\n",
      "champawat\n",
      "dandeli\n"
     ]
    }
   ],
   "source": [
    "recommend_city_time('manali')"
   ]
  },
  {
   "cell_type": "code",
   "execution_count": 141,
   "id": "1b5dd872",
   "metadata": {
    "ExecuteTime": {
     "end_time": "2024-10-15T08:26:37.290227Z",
     "start_time": "2024-10-15T08:26:37.267690Z"
    }
   },
   "outputs": [
    {
     "data": {
      "text/html": [
       "<div>\n",
       "<style scoped>\n",
       "    .dataframe tbody tr th:only-of-type {\n",
       "        vertical-align: middle;\n",
       "    }\n",
       "\n",
       "    .dataframe tbody tr th {\n",
       "        vertical-align: top;\n",
       "    }\n",
       "\n",
       "    .dataframe thead th {\n",
       "        text-align: right;\n",
       "    }\n",
       "</style>\n",
       "<table border=\"1\" class=\"dataframe\">\n",
       "  <thead>\n",
       "    <tr style=\"text-align: right;\">\n",
       "      <th></th>\n",
       "      <th>cities_name</th>\n",
       "      <th>city_rating</th>\n",
       "      <th>city_type</th>\n",
       "      <th>city_visit_time</th>\n",
       "    </tr>\n",
       "  </thead>\n",
       "  <tbody>\n",
       "    <tr>\n",
       "      <th>5110</th>\n",
       "      <td>bageshwar</td>\n",
       "      <td>3.4</td>\n",
       "      <td>nature type</td>\n",
       "      <td>autumn_to_summer</td>\n",
       "    </tr>\n",
       "  </tbody>\n",
       "</table>\n",
       "</div>"
      ],
      "text/plain": [
       "     cities_name  city_rating    city_type   city_visit_time\n",
       "5110   bageshwar          3.4  nature type  autumn_to_summer"
      ]
     },
     "execution_count": 141,
     "metadata": {},
     "output_type": "execute_result"
    }
   ],
   "source": [
    "df[df['cities_name']=='bageshwar'][['cities_name','city_rating','city_type','city_visit_time']].head(1)"
   ]
  },
  {
   "cell_type": "code",
   "execution_count": 142,
   "id": "df2922bf",
   "metadata": {
    "ExecuteTime": {
     "end_time": "2024-10-15T08:26:39.075072Z",
     "start_time": "2024-10-15T08:26:38.028487Z"
    }
   },
   "outputs": [
    {
     "data": {
      "text/html": [
       "<div>\n",
       "<style scoped>\n",
       "    .dataframe tbody tr th:only-of-type {\n",
       "        vertical-align: middle;\n",
       "    }\n",
       "\n",
       "    .dataframe tbody tr th {\n",
       "        vertical-align: top;\n",
       "    }\n",
       "\n",
       "    .dataframe thead th {\n",
       "        text-align: right;\n",
       "    }\n",
       "</style>\n",
       "<table border=\"1\" class=\"dataframe\">\n",
       "  <thead>\n",
       "    <tr style=\"text-align: right;\">\n",
       "      <th></th>\n",
       "      <th>cities_name</th>\n",
       "      <th>city_rating</th>\n",
       "      <th>city_type</th>\n",
       "      <th>city_visit_time</th>\n",
       "    </tr>\n",
       "  </thead>\n",
       "  <tbody>\n",
       "    <tr>\n",
       "      <th>411</th>\n",
       "      <td>bongaigaon</td>\n",
       "      <td>5.0</td>\n",
       "      <td>nature type</td>\n",
       "      <td>autumn_to_summer</td>\n",
       "    </tr>\n",
       "  </tbody>\n",
       "</table>\n",
       "</div>"
      ],
      "text/plain": [
       "    cities_name  city_rating    city_type   city_visit_time\n",
       "411  bongaigaon          5.0  nature type  autumn_to_summer"
      ]
     },
     "execution_count": 142,
     "metadata": {},
     "output_type": "execute_result"
    }
   ],
   "source": [
    "df[df['cities_name']=='bongaigaon'][['cities_name','city_rating','city_type','city_visit_time']].head(1)"
   ]
  },
  {
   "cell_type": "code",
   "execution_count": 143,
   "id": "1c310b38",
   "metadata": {
    "ExecuteTime": {
     "end_time": "2024-10-15T08:26:39.789343Z",
     "start_time": "2024-10-15T08:26:39.767114Z"
    }
   },
   "outputs": [
    {
     "data": {
      "text/html": [
       "<div>\n",
       "<style scoped>\n",
       "    .dataframe tbody tr th:only-of-type {\n",
       "        vertical-align: middle;\n",
       "    }\n",
       "\n",
       "    .dataframe tbody tr th {\n",
       "        vertical-align: top;\n",
       "    }\n",
       "\n",
       "    .dataframe thead th {\n",
       "        text-align: right;\n",
       "    }\n",
       "</style>\n",
       "<table border=\"1\" class=\"dataframe\">\n",
       "  <thead>\n",
       "    <tr style=\"text-align: right;\">\n",
       "      <th></th>\n",
       "      <th>cities_name</th>\n",
       "      <th>city_rating</th>\n",
       "      <th>city_type</th>\n",
       "      <th>city_visit_time</th>\n",
       "    </tr>\n",
       "  </thead>\n",
       "  <tbody>\n",
       "    <tr>\n",
       "      <th>5088</th>\n",
       "      <td>chamoli</td>\n",
       "      <td>4.1</td>\n",
       "      <td>nature type</td>\n",
       "      <td>autumn_to_summer</td>\n",
       "    </tr>\n",
       "  </tbody>\n",
       "</table>\n",
       "</div>"
      ],
      "text/plain": [
       "     cities_name  city_rating    city_type   city_visit_time\n",
       "5088     chamoli          4.1  nature type  autumn_to_summer"
      ]
     },
     "execution_count": 143,
     "metadata": {},
     "output_type": "execute_result"
    }
   ],
   "source": [
    "df[df['cities_name']=='chamoli'][['cities_name','city_rating','city_type','city_visit_time']].head(1)"
   ]
  },
  {
   "cell_type": "code",
   "execution_count": 144,
   "id": "63e0c279",
   "metadata": {
    "ExecuteTime": {
     "end_time": "2024-10-15T08:26:41.837819Z",
     "start_time": "2024-10-15T08:26:41.083059Z"
    }
   },
   "outputs": [
    {
     "data": {
      "text/html": [
       "<div>\n",
       "<style scoped>\n",
       "    .dataframe tbody tr th:only-of-type {\n",
       "        vertical-align: middle;\n",
       "    }\n",
       "\n",
       "    .dataframe tbody tr th {\n",
       "        vertical-align: top;\n",
       "    }\n",
       "\n",
       "    .dataframe thead th {\n",
       "        text-align: right;\n",
       "    }\n",
       "</style>\n",
       "<table border=\"1\" class=\"dataframe\">\n",
       "  <thead>\n",
       "    <tr style=\"text-align: right;\">\n",
       "      <th></th>\n",
       "      <th>cities_name</th>\n",
       "      <th>city_rating</th>\n",
       "      <th>city_type</th>\n",
       "      <th>city_visit_time</th>\n",
       "    </tr>\n",
       "  </thead>\n",
       "  <tbody>\n",
       "    <tr>\n",
       "      <th>5120</th>\n",
       "      <td>champawat</td>\n",
       "      <td>4.0</td>\n",
       "      <td>hilly type</td>\n",
       "      <td>autumn_to_summer</td>\n",
       "    </tr>\n",
       "  </tbody>\n",
       "</table>\n",
       "</div>"
      ],
      "text/plain": [
       "     cities_name  city_rating   city_type   city_visit_time\n",
       "5120   champawat          4.0  hilly type  autumn_to_summer"
      ]
     },
     "execution_count": 144,
     "metadata": {},
     "output_type": "execute_result"
    }
   ],
   "source": [
    "df[df['cities_name']=='champawat'][['cities_name','city_rating','city_type','city_visit_time']].head(1)"
   ]
  },
  {
   "cell_type": "code",
   "execution_count": 145,
   "id": "57c3be82",
   "metadata": {
    "ExecuteTime": {
     "end_time": "2024-10-15T08:26:43.966208Z",
     "start_time": "2024-10-15T08:26:43.947636Z"
    }
   },
   "outputs": [
    {
     "data": {
      "text/html": [
       "<div>\n",
       "<style scoped>\n",
       "    .dataframe tbody tr th:only-of-type {\n",
       "        vertical-align: middle;\n",
       "    }\n",
       "\n",
       "    .dataframe tbody tr th {\n",
       "        vertical-align: top;\n",
       "    }\n",
       "\n",
       "    .dataframe thead th {\n",
       "        text-align: right;\n",
       "    }\n",
       "</style>\n",
       "<table border=\"1\" class=\"dataframe\">\n",
       "  <thead>\n",
       "    <tr style=\"text-align: right;\">\n",
       "      <th></th>\n",
       "      <th>cities_name</th>\n",
       "      <th>city_rating</th>\n",
       "      <th>city_type</th>\n",
       "      <th>city_visit_time</th>\n",
       "    </tr>\n",
       "  </thead>\n",
       "  <tbody>\n",
       "    <tr>\n",
       "      <th>1796</th>\n",
       "      <td>dandeli</td>\n",
       "      <td>4.2</td>\n",
       "      <td>nature type</td>\n",
       "      <td>autumn_to_summer</td>\n",
       "    </tr>\n",
       "  </tbody>\n",
       "</table>\n",
       "</div>"
      ],
      "text/plain": [
       "     cities_name  city_rating    city_type   city_visit_time\n",
       "1796     dandeli          4.2  nature type  autumn_to_summer"
      ]
     },
     "execution_count": 145,
     "metadata": {},
     "output_type": "execute_result"
    }
   ],
   "source": [
    "df[df['cities_name']=='dandeli'][['cities_name','city_rating','city_type','city_visit_time']].head(1)"
   ]
  },
  {
   "cell_type": "markdown",
   "id": "38550ad0",
   "metadata": {},
   "source": [
    "# recommender-system state name"
   ]
  },
  {
   "cell_type": "code",
   "execution_count": 146,
   "id": "606b481b",
   "metadata": {
    "ExecuteTime": {
     "end_time": "2024-10-15T08:26:48.736652Z",
     "start_time": "2024-10-15T08:26:48.678104Z"
    }
   },
   "outputs": [],
   "source": [
    "pt_2 = df_name_type.pivot_table(index='cities_name',columns='states_name',values='city_rating')"
   ]
  },
  {
   "cell_type": "code",
   "execution_count": 147,
   "id": "54fdbfc0",
   "metadata": {
    "ExecuteTime": {
     "end_time": "2024-10-15T08:26:50.716839Z",
     "start_time": "2024-10-15T08:26:49.048205Z"
    }
   },
   "outputs": [],
   "source": [
    "pt_2.fillna(0,inplace=True)"
   ]
  },
  {
   "cell_type": "code",
   "execution_count": 148,
   "id": "02ab8790",
   "metadata": {
    "ExecuteTime": {
     "end_time": "2024-10-15T08:26:51.735970Z",
     "start_time": "2024-10-15T08:26:50.716839Z"
    }
   },
   "outputs": [
    {
     "data": {
      "text/html": [
       "<div>\n",
       "<style scoped>\n",
       "    .dataframe tbody tr th:only-of-type {\n",
       "        vertical-align: middle;\n",
       "    }\n",
       "\n",
       "    .dataframe tbody tr th {\n",
       "        vertical-align: top;\n",
       "    }\n",
       "\n",
       "    .dataframe thead th {\n",
       "        text-align: right;\n",
       "    }\n",
       "</style>\n",
       "<table border=\"1\" class=\"dataframe\">\n",
       "  <thead>\n",
       "    <tr style=\"text-align: right;\">\n",
       "      <th>states_name</th>\n",
       "      <th>andaman and nicobar</th>\n",
       "      <th>andhra pradesh</th>\n",
       "      <th>arunachal pradesh</th>\n",
       "      <th>assam</th>\n",
       "      <th>bihar</th>\n",
       "      <th>chhattisgarh</th>\n",
       "      <th>gujarat</th>\n",
       "      <th>haryana</th>\n",
       "      <th>himachal pradesh</th>\n",
       "      <th>jammu and kashmir</th>\n",
       "      <th>...</th>\n",
       "      <th>odisha</th>\n",
       "      <th>punjab</th>\n",
       "      <th>rajasthan</th>\n",
       "      <th>sikkim</th>\n",
       "      <th>tamil nadu</th>\n",
       "      <th>telangana</th>\n",
       "      <th>tripura</th>\n",
       "      <th>uttar pradesh</th>\n",
       "      <th>uttarakhand</th>\n",
       "      <th>west bengal</th>\n",
       "    </tr>\n",
       "    <tr>\n",
       "      <th>cities_name</th>\n",
       "      <th></th>\n",
       "      <th></th>\n",
       "      <th></th>\n",
       "      <th></th>\n",
       "      <th></th>\n",
       "      <th></th>\n",
       "      <th></th>\n",
       "      <th></th>\n",
       "      <th></th>\n",
       "      <th></th>\n",
       "      <th></th>\n",
       "      <th></th>\n",
       "      <th></th>\n",
       "      <th></th>\n",
       "      <th></th>\n",
       "      <th></th>\n",
       "      <th></th>\n",
       "      <th></th>\n",
       "      <th></th>\n",
       "      <th></th>\n",
       "      <th></th>\n",
       "    </tr>\n",
       "  </thead>\n",
       "  <tbody>\n",
       "    <tr>\n",
       "      <th>adilabad</th>\n",
       "      <td>0.0</td>\n",
       "      <td>0.0</td>\n",
       "      <td>0.0</td>\n",
       "      <td>0.0</td>\n",
       "      <td>0.0</td>\n",
       "      <td>0.0</td>\n",
       "      <td>0.0</td>\n",
       "      <td>0.0</td>\n",
       "      <td>0.0</td>\n",
       "      <td>0.0</td>\n",
       "      <td>...</td>\n",
       "      <td>0.0</td>\n",
       "      <td>0.0</td>\n",
       "      <td>0.0</td>\n",
       "      <td>0.0</td>\n",
       "      <td>0.0</td>\n",
       "      <td>5.0</td>\n",
       "      <td>0.0</td>\n",
       "      <td>0.0</td>\n",
       "      <td>0.0</td>\n",
       "      <td>0.0</td>\n",
       "    </tr>\n",
       "    <tr>\n",
       "      <th>agartala</th>\n",
       "      <td>0.0</td>\n",
       "      <td>0.0</td>\n",
       "      <td>0.0</td>\n",
       "      <td>0.0</td>\n",
       "      <td>0.0</td>\n",
       "      <td>0.0</td>\n",
       "      <td>0.0</td>\n",
       "      <td>0.0</td>\n",
       "      <td>0.0</td>\n",
       "      <td>0.0</td>\n",
       "      <td>...</td>\n",
       "      <td>0.0</td>\n",
       "      <td>0.0</td>\n",
       "      <td>0.0</td>\n",
       "      <td>0.0</td>\n",
       "      <td>0.0</td>\n",
       "      <td>0.0</td>\n",
       "      <td>3.8</td>\n",
       "      <td>0.0</td>\n",
       "      <td>0.0</td>\n",
       "      <td>0.0</td>\n",
       "    </tr>\n",
       "    <tr>\n",
       "      <th>agra</th>\n",
       "      <td>0.0</td>\n",
       "      <td>0.0</td>\n",
       "      <td>0.0</td>\n",
       "      <td>0.0</td>\n",
       "      <td>0.0</td>\n",
       "      <td>0.0</td>\n",
       "      <td>0.0</td>\n",
       "      <td>0.0</td>\n",
       "      <td>0.0</td>\n",
       "      <td>0.0</td>\n",
       "      <td>...</td>\n",
       "      <td>0.0</td>\n",
       "      <td>0.0</td>\n",
       "      <td>0.0</td>\n",
       "      <td>0.0</td>\n",
       "      <td>0.0</td>\n",
       "      <td>0.0</td>\n",
       "      <td>0.0</td>\n",
       "      <td>4.2</td>\n",
       "      <td>0.0</td>\n",
       "      <td>0.0</td>\n",
       "    </tr>\n",
       "    <tr>\n",
       "      <th>ahmedabad</th>\n",
       "      <td>0.0</td>\n",
       "      <td>0.0</td>\n",
       "      <td>0.0</td>\n",
       "      <td>0.0</td>\n",
       "      <td>0.0</td>\n",
       "      <td>0.0</td>\n",
       "      <td>4.1</td>\n",
       "      <td>0.0</td>\n",
       "      <td>0.0</td>\n",
       "      <td>0.0</td>\n",
       "      <td>...</td>\n",
       "      <td>0.0</td>\n",
       "      <td>0.0</td>\n",
       "      <td>0.0</td>\n",
       "      <td>0.0</td>\n",
       "      <td>0.0</td>\n",
       "      <td>0.0</td>\n",
       "      <td>0.0</td>\n",
       "      <td>0.0</td>\n",
       "      <td>0.0</td>\n",
       "      <td>0.0</td>\n",
       "    </tr>\n",
       "    <tr>\n",
       "      <th>aihole</th>\n",
       "      <td>0.0</td>\n",
       "      <td>0.0</td>\n",
       "      <td>0.0</td>\n",
       "      <td>0.0</td>\n",
       "      <td>0.0</td>\n",
       "      <td>0.0</td>\n",
       "      <td>0.0</td>\n",
       "      <td>0.0</td>\n",
       "      <td>0.0</td>\n",
       "      <td>0.0</td>\n",
       "      <td>...</td>\n",
       "      <td>0.0</td>\n",
       "      <td>0.0</td>\n",
       "      <td>0.0</td>\n",
       "      <td>0.0</td>\n",
       "      <td>0.0</td>\n",
       "      <td>0.0</td>\n",
       "      <td>0.0</td>\n",
       "      <td>0.0</td>\n",
       "      <td>0.0</td>\n",
       "      <td>0.0</td>\n",
       "    </tr>\n",
       "  </tbody>\n",
       "</table>\n",
       "<p>5 rows × 29 columns</p>\n",
       "</div>"
      ],
      "text/plain": [
       "states_name  andaman and nicobar  andhra pradesh  arunachal pradesh  assam  \\\n",
       "cities_name                                                                  \n",
       "adilabad                     0.0             0.0                0.0    0.0   \n",
       "agartala                     0.0             0.0                0.0    0.0   \n",
       "agra                         0.0             0.0                0.0    0.0   \n",
       "ahmedabad                    0.0             0.0                0.0    0.0   \n",
       "aihole                       0.0             0.0                0.0    0.0   \n",
       "\n",
       "states_name  bihar  chhattisgarh  gujarat  haryana  himachal pradesh  \\\n",
       "cities_name                                                            \n",
       "adilabad       0.0           0.0      0.0      0.0               0.0   \n",
       "agartala       0.0           0.0      0.0      0.0               0.0   \n",
       "agra           0.0           0.0      0.0      0.0               0.0   \n",
       "ahmedabad      0.0           0.0      4.1      0.0               0.0   \n",
       "aihole         0.0           0.0      0.0      0.0               0.0   \n",
       "\n",
       "states_name  jammu and kashmir  ...  odisha  punjab  rajasthan  sikkim  \\\n",
       "cities_name                     ...                                      \n",
       "adilabad                   0.0  ...     0.0     0.0        0.0     0.0   \n",
       "agartala                   0.0  ...     0.0     0.0        0.0     0.0   \n",
       "agra                       0.0  ...     0.0     0.0        0.0     0.0   \n",
       "ahmedabad                  0.0  ...     0.0     0.0        0.0     0.0   \n",
       "aihole                     0.0  ...     0.0     0.0        0.0     0.0   \n",
       "\n",
       "states_name  tamil nadu  telangana  tripura  uttar pradesh  uttarakhand  \\\n",
       "cities_name                                                               \n",
       "adilabad            0.0        5.0      0.0            0.0          0.0   \n",
       "agartala            0.0        0.0      3.8            0.0          0.0   \n",
       "agra                0.0        0.0      0.0            4.2          0.0   \n",
       "ahmedabad           0.0        0.0      0.0            0.0          0.0   \n",
       "aihole              0.0        0.0      0.0            0.0          0.0   \n",
       "\n",
       "states_name  west bengal  \n",
       "cities_name               \n",
       "adilabad             0.0  \n",
       "agartala             0.0  \n",
       "agra                 0.0  \n",
       "ahmedabad            0.0  \n",
       "aihole               0.0  \n",
       "\n",
       "[5 rows x 29 columns]"
      ]
     },
     "execution_count": 148,
     "metadata": {},
     "output_type": "execute_result"
    }
   ],
   "source": [
    "pt_2.head()"
   ]
  },
  {
   "cell_type": "code",
   "execution_count": 149,
   "id": "2ad838da",
   "metadata": {
    "ExecuteTime": {
     "end_time": "2024-10-15T08:26:51.834265Z",
     "start_time": "2024-10-15T08:26:51.735970Z"
    }
   },
   "outputs": [],
   "source": [
    "similarity_scores_2 = cosine_similarity(pt_2)"
   ]
  },
  {
   "cell_type": "code",
   "execution_count": 150,
   "id": "b564a9f6",
   "metadata": {
    "ExecuteTime": {
     "end_time": "2024-10-15T08:26:51.974858Z",
     "start_time": "2024-10-15T08:26:51.839876Z"
    }
   },
   "outputs": [
    {
     "data": {
      "text/plain": [
       "array([[1., 0., 0., ..., 0., 0., 0.],\n",
       "       [0., 1., 0., ..., 0., 0., 0.],\n",
       "       [0., 0., 1., ..., 0., 0., 0.],\n",
       "       ...,\n",
       "       [0., 0., 0., ..., 1., 1., 0.],\n",
       "       [0., 0., 0., ..., 1., 1., 0.],\n",
       "       [0., 0., 0., ..., 0., 0., 1.]])"
      ]
     },
     "execution_count": 150,
     "metadata": {},
     "output_type": "execute_result"
    }
   ],
   "source": [
    "similarity_scores_2"
   ]
  },
  {
   "cell_type": "code",
   "execution_count": 151,
   "id": "bcc32049",
   "metadata": {
    "ExecuteTime": {
     "end_time": "2024-10-15T08:26:52.064736Z",
     "start_time": "2024-10-15T08:26:51.990088Z"
    }
   },
   "outputs": [],
   "source": [
    "def recommend_city_state(city_name,cosine_sim = similarity_scores_2):\n",
    "    index = np.where(pt_2.index==city_name)[0][0]\n",
    "    similar_items = sorted(list(enumerate(similarity_scores_2[index])),key= lambda x:x[1],reverse=True)[1:6]\n",
    "    \n",
    "    for i in similar_items:\n",
    "        print(pt_2.index[i[0]])"
   ]
  },
  {
   "cell_type": "code",
   "execution_count": 152,
   "id": "ee5851aa",
   "metadata": {
    "ExecuteTime": {
     "end_time": "2024-10-15T08:26:55.268107Z",
     "start_time": "2024-10-15T08:26:55.256632Z"
    }
   },
   "outputs": [
    {
     "name": "stdout",
     "output_type": "stream",
     "text": [
      "dalhousie\n",
      "kalpa\n",
      "kangra\n",
      "kasauli\n",
      "kasol\n"
     ]
    }
   ],
   "source": [
    "recommend_city_state('manali')"
   ]
  },
  {
   "cell_type": "code",
   "execution_count": 153,
   "id": "35e13286",
   "metadata": {
    "ExecuteTime": {
     "end_time": "2024-10-15T08:26:56.460889Z",
     "start_time": "2024-10-15T08:26:56.375524Z"
    }
   },
   "outputs": [
    {
     "data": {
      "text/html": [
       "<div>\n",
       "<style scoped>\n",
       "    .dataframe tbody tr th:only-of-type {\n",
       "        vertical-align: middle;\n",
       "    }\n",
       "\n",
       "    .dataframe tbody tr th {\n",
       "        vertical-align: top;\n",
       "    }\n",
       "\n",
       "    .dataframe thead th {\n",
       "        text-align: right;\n",
       "    }\n",
       "</style>\n",
       "<table border=\"1\" class=\"dataframe\">\n",
       "  <thead>\n",
       "    <tr style=\"text-align: right;\">\n",
       "      <th></th>\n",
       "      <th>cities_name</th>\n",
       "      <th>city_rating</th>\n",
       "      <th>city_type</th>\n",
       "      <th>states_name</th>\n",
       "    </tr>\n",
       "  </thead>\n",
       "  <tbody>\n",
       "    <tr>\n",
       "      <th>1220</th>\n",
       "      <td>dalhousie</td>\n",
       "      <td>4.2</td>\n",
       "      <td>hilly type</td>\n",
       "      <td>himachal pradesh</td>\n",
       "    </tr>\n",
       "  </tbody>\n",
       "</table>\n",
       "</div>"
      ],
      "text/plain": [
       "     cities_name  city_rating   city_type       states_name\n",
       "1220   dalhousie          4.2  hilly type  himachal pradesh"
      ]
     },
     "execution_count": 153,
     "metadata": {},
     "output_type": "execute_result"
    }
   ],
   "source": [
    "df[df['cities_name']=='dalhousie'][['cities_name','city_rating','city_type','states_name']].head(1)"
   ]
  },
  {
   "cell_type": "code",
   "execution_count": 154,
   "id": "ac15ee2a",
   "metadata": {
    "ExecuteTime": {
     "end_time": "2024-10-15T08:26:57.114430Z",
     "start_time": "2024-10-15T08:26:57.093920Z"
    }
   },
   "outputs": [
    {
     "data": {
      "text/html": [
       "<div>\n",
       "<style scoped>\n",
       "    .dataframe tbody tr th:only-of-type {\n",
       "        vertical-align: middle;\n",
       "    }\n",
       "\n",
       "    .dataframe tbody tr th {\n",
       "        vertical-align: top;\n",
       "    }\n",
       "\n",
       "    .dataframe thead th {\n",
       "        text-align: right;\n",
       "    }\n",
       "</style>\n",
       "<table border=\"1\" class=\"dataframe\">\n",
       "  <thead>\n",
       "    <tr style=\"text-align: right;\">\n",
       "      <th></th>\n",
       "      <th>cities_name</th>\n",
       "      <th>city_rating</th>\n",
       "      <th>city_type</th>\n",
       "      <th>states_name</th>\n",
       "    </tr>\n",
       "  </thead>\n",
       "  <tbody>\n",
       "    <tr>\n",
       "      <th>1352</th>\n",
       "      <td>kalpa</td>\n",
       "      <td>4.1</td>\n",
       "      <td>hilly type</td>\n",
       "      <td>himachal pradesh</td>\n",
       "    </tr>\n",
       "  </tbody>\n",
       "</table>\n",
       "</div>"
      ],
      "text/plain": [
       "     cities_name  city_rating   city_type       states_name\n",
       "1352       kalpa          4.1  hilly type  himachal pradesh"
      ]
     },
     "execution_count": 154,
     "metadata": {},
     "output_type": "execute_result"
    }
   ],
   "source": [
    "df[df['cities_name']=='kalpa'][['cities_name','city_rating','city_type','states_name']].head(1)"
   ]
  },
  {
   "cell_type": "code",
   "execution_count": 155,
   "id": "32fc3261",
   "metadata": {
    "ExecuteTime": {
     "end_time": "2024-10-15T08:26:58.478149Z",
     "start_time": "2024-10-15T08:26:58.050822Z"
    }
   },
   "outputs": [
    {
     "data": {
      "text/html": [
       "<div>\n",
       "<style scoped>\n",
       "    .dataframe tbody tr th:only-of-type {\n",
       "        vertical-align: middle;\n",
       "    }\n",
       "\n",
       "    .dataframe tbody tr th {\n",
       "        vertical-align: top;\n",
       "    }\n",
       "\n",
       "    .dataframe thead th {\n",
       "        text-align: right;\n",
       "    }\n",
       "</style>\n",
       "<table border=\"1\" class=\"dataframe\">\n",
       "  <thead>\n",
       "    <tr style=\"text-align: right;\">\n",
       "      <th></th>\n",
       "      <th>cities_name</th>\n",
       "      <th>city_rating</th>\n",
       "      <th>city_type</th>\n",
       "      <th>states_name</th>\n",
       "    </tr>\n",
       "  </thead>\n",
       "  <tbody>\n",
       "    <tr>\n",
       "      <th>1374</th>\n",
       "      <td>kangra</td>\n",
       "      <td>3.7</td>\n",
       "      <td>hilly type</td>\n",
       "      <td>himachal pradesh</td>\n",
       "    </tr>\n",
       "  </tbody>\n",
       "</table>\n",
       "</div>"
      ],
      "text/plain": [
       "     cities_name  city_rating   city_type       states_name\n",
       "1374      kangra          3.7  hilly type  himachal pradesh"
      ]
     },
     "execution_count": 155,
     "metadata": {},
     "output_type": "execute_result"
    }
   ],
   "source": [
    "df[df['cities_name']=='kangra'][['cities_name','city_rating','city_type','states_name']].head(1)"
   ]
  },
  {
   "cell_type": "code",
   "execution_count": 156,
   "id": "9105e217",
   "metadata": {
    "ExecuteTime": {
     "end_time": "2024-10-15T08:26:59.573108Z",
     "start_time": "2024-10-15T08:26:59.550110Z"
    }
   },
   "outputs": [
    {
     "data": {
      "text/html": [
       "<div>\n",
       "<style scoped>\n",
       "    .dataframe tbody tr th:only-of-type {\n",
       "        vertical-align: middle;\n",
       "    }\n",
       "\n",
       "    .dataframe tbody tr th {\n",
       "        vertical-align: top;\n",
       "    }\n",
       "\n",
       "    .dataframe thead th {\n",
       "        text-align: right;\n",
       "    }\n",
       "</style>\n",
       "<table border=\"1\" class=\"dataframe\">\n",
       "  <thead>\n",
       "    <tr style=\"text-align: right;\">\n",
       "      <th></th>\n",
       "      <th>cities_name</th>\n",
       "      <th>city_rating</th>\n",
       "      <th>city_type</th>\n",
       "      <th>states_name</th>\n",
       "    </tr>\n",
       "  </thead>\n",
       "  <tbody>\n",
       "    <tr>\n",
       "      <th>1209</th>\n",
       "      <td>kasauli</td>\n",
       "      <td>4.0</td>\n",
       "      <td>hilly type</td>\n",
       "      <td>himachal pradesh</td>\n",
       "    </tr>\n",
       "  </tbody>\n",
       "</table>\n",
       "</div>"
      ],
      "text/plain": [
       "     cities_name  city_rating   city_type       states_name\n",
       "1209     kasauli          4.0  hilly type  himachal pradesh"
      ]
     },
     "execution_count": 156,
     "metadata": {},
     "output_type": "execute_result"
    }
   ],
   "source": [
    "df[df['cities_name']=='kasauli'][['cities_name','city_rating','city_type','states_name']].head(1)"
   ]
  },
  {
   "cell_type": "code",
   "execution_count": 157,
   "id": "8dab0638",
   "metadata": {
    "ExecuteTime": {
     "end_time": "2024-10-15T08:27:01.839228Z",
     "start_time": "2024-10-15T08:27:01.818544Z"
    }
   },
   "outputs": [
    {
     "data": {
      "text/html": [
       "<div>\n",
       "<style scoped>\n",
       "    .dataframe tbody tr th:only-of-type {\n",
       "        vertical-align: middle;\n",
       "    }\n",
       "\n",
       "    .dataframe tbody tr th {\n",
       "        vertical-align: top;\n",
       "    }\n",
       "\n",
       "    .dataframe thead th {\n",
       "        text-align: right;\n",
       "    }\n",
       "</style>\n",
       "<table border=\"1\" class=\"dataframe\">\n",
       "  <thead>\n",
       "    <tr style=\"text-align: right;\">\n",
       "      <th></th>\n",
       "      <th>cities_name</th>\n",
       "      <th>city_rating</th>\n",
       "      <th>city_type</th>\n",
       "      <th>states_name</th>\n",
       "    </tr>\n",
       "  </thead>\n",
       "  <tbody>\n",
       "    <tr>\n",
       "      <th>1145</th>\n",
       "      <td>kasol</td>\n",
       "      <td>4.4</td>\n",
       "      <td>hilly type</td>\n",
       "      <td>himachal pradesh</td>\n",
       "    </tr>\n",
       "  </tbody>\n",
       "</table>\n",
       "</div>"
      ],
      "text/plain": [
       "     cities_name  city_rating   city_type       states_name\n",
       "1145       kasol          4.4  hilly type  himachal pradesh"
      ]
     },
     "execution_count": 157,
     "metadata": {},
     "output_type": "execute_result"
    }
   ],
   "source": [
    "df[df['cities_name']=='kasol'][['cities_name','city_rating','city_type','states_name']].head(1)"
   ]
  },
  {
   "cell_type": "markdown",
   "id": "74699aab",
   "metadata": {},
   "source": [
    "# recommender-system state categories"
   ]
  },
  {
   "cell_type": "code",
   "execution_count": 158,
   "id": "1d318d9f",
   "metadata": {
    "ExecuteTime": {
     "end_time": "2024-10-15T08:27:04.067138Z",
     "start_time": "2024-10-15T08:27:03.808051Z"
    }
   },
   "outputs": [],
   "source": [
    "pt_3 = df_name_type.pivot_table(index='cities_name',columns='state_categories',values='city_rating')"
   ]
  },
  {
   "cell_type": "code",
   "execution_count": 159,
   "id": "eadb8bd1",
   "metadata": {
    "ExecuteTime": {
     "end_time": "2024-10-15T08:27:04.243430Z",
     "start_time": "2024-10-15T08:27:04.170776Z"
    }
   },
   "outputs": [],
   "source": [
    "pt_3.fillna(0,inplace=True)"
   ]
  },
  {
   "cell_type": "code",
   "execution_count": 160,
   "id": "a4118d4b",
   "metadata": {
    "ExecuteTime": {
     "end_time": "2024-10-15T08:27:04.583168Z",
     "start_time": "2024-10-15T08:27:04.553867Z"
    }
   },
   "outputs": [
    {
     "data": {
      "text/html": [
       "<div>\n",
       "<style scoped>\n",
       "    .dataframe tbody tr th:only-of-type {\n",
       "        vertical-align: middle;\n",
       "    }\n",
       "\n",
       "    .dataframe tbody tr th {\n",
       "        vertical-align: top;\n",
       "    }\n",
       "\n",
       "    .dataframe thead th {\n",
       "        text-align: right;\n",
       "    }\n",
       "</style>\n",
       "<table border=\"1\" class=\"dataframe\">\n",
       "  <thead>\n",
       "    <tr style=\"text-align: right;\">\n",
       "      <th>state_categories</th>\n",
       "      <th>commercial_and_technological_state</th>\n",
       "      <th>cultural_and_heritage_state</th>\n",
       "      <th>natural_and_scenic_state</th>\n",
       "      <th>spiritual_and_historical_state</th>\n",
       "    </tr>\n",
       "    <tr>\n",
       "      <th>cities_name</th>\n",
       "      <th></th>\n",
       "      <th></th>\n",
       "      <th></th>\n",
       "      <th></th>\n",
       "    </tr>\n",
       "  </thead>\n",
       "  <tbody>\n",
       "    <tr>\n",
       "      <th>adilabad</th>\n",
       "      <td>5.0</td>\n",
       "      <td>0.0</td>\n",
       "      <td>0.0</td>\n",
       "      <td>0.0</td>\n",
       "    </tr>\n",
       "    <tr>\n",
       "      <th>agartala</th>\n",
       "      <td>0.0</td>\n",
       "      <td>0.0</td>\n",
       "      <td>3.8</td>\n",
       "      <td>0.0</td>\n",
       "    </tr>\n",
       "    <tr>\n",
       "      <th>agra</th>\n",
       "      <td>0.0</td>\n",
       "      <td>0.0</td>\n",
       "      <td>0.0</td>\n",
       "      <td>4.2</td>\n",
       "    </tr>\n",
       "    <tr>\n",
       "      <th>ahmedabad</th>\n",
       "      <td>4.1</td>\n",
       "      <td>0.0</td>\n",
       "      <td>0.0</td>\n",
       "      <td>0.0</td>\n",
       "    </tr>\n",
       "    <tr>\n",
       "      <th>aihole</th>\n",
       "      <td>4.2</td>\n",
       "      <td>0.0</td>\n",
       "      <td>0.0</td>\n",
       "      <td>0.0</td>\n",
       "    </tr>\n",
       "  </tbody>\n",
       "</table>\n",
       "</div>"
      ],
      "text/plain": [
       "state_categories  commercial_and_technological_state  \\\n",
       "cities_name                                            \n",
       "adilabad                                         5.0   \n",
       "agartala                                         0.0   \n",
       "agra                                             0.0   \n",
       "ahmedabad                                        4.1   \n",
       "aihole                                           4.2   \n",
       "\n",
       "state_categories  cultural_and_heritage_state  natural_and_scenic_state  \\\n",
       "cities_name                                                               \n",
       "adilabad                                  0.0                       0.0   \n",
       "agartala                                  0.0                       3.8   \n",
       "agra                                      0.0                       0.0   \n",
       "ahmedabad                                 0.0                       0.0   \n",
       "aihole                                    0.0                       0.0   \n",
       "\n",
       "state_categories  spiritual_and_historical_state  \n",
       "cities_name                                       \n",
       "adilabad                                     0.0  \n",
       "agartala                                     0.0  \n",
       "agra                                         4.2  \n",
       "ahmedabad                                    0.0  \n",
       "aihole                                       0.0  "
      ]
     },
     "execution_count": 160,
     "metadata": {},
     "output_type": "execute_result"
    }
   ],
   "source": [
    "pt_3.head()"
   ]
  },
  {
   "cell_type": "code",
   "execution_count": 161,
   "id": "9b8038b7",
   "metadata": {
    "ExecuteTime": {
     "end_time": "2024-10-15T08:27:07.220221Z",
     "start_time": "2024-10-15T08:27:07.210755Z"
    }
   },
   "outputs": [],
   "source": [
    "similarity_scores_3 = cosine_similarity(pt_3)"
   ]
  },
  {
   "cell_type": "code",
   "execution_count": 162,
   "id": "54ae17c5",
   "metadata": {
    "ExecuteTime": {
     "end_time": "2024-10-15T08:27:07.954849Z",
     "start_time": "2024-10-15T08:27:07.567880Z"
    }
   },
   "outputs": [
    {
     "data": {
      "text/plain": [
       "array([[1., 0., 0., ..., 0., 0., 0.],\n",
       "       [0., 1., 0., ..., 0., 0., 1.],\n",
       "       [0., 0., 1., ..., 0., 0., 0.],\n",
       "       ...,\n",
       "       [0., 0., 0., ..., 1., 1., 0.],\n",
       "       [0., 0., 0., ..., 1., 1., 0.],\n",
       "       [0., 1., 0., ..., 0., 0., 1.]])"
      ]
     },
     "execution_count": 162,
     "metadata": {},
     "output_type": "execute_result"
    }
   ],
   "source": [
    "similarity_scores_3"
   ]
  },
  {
   "cell_type": "code",
   "execution_count": 163,
   "id": "a56fe374",
   "metadata": {
    "ExecuteTime": {
     "end_time": "2024-10-15T08:27:08.060586Z",
     "start_time": "2024-10-15T08:27:07.958487Z"
    }
   },
   "outputs": [],
   "source": [
    "def recommend_city_state_categories(city_name,cosine_sim = similarity_scores_3):\n",
    "    index = np.where(pt_3.index==city_name)[0][0]\n",
    "    similar_items = sorted(list(enumerate(similarity_scores_3[index])),key= lambda x:x[1],reverse=True)[1:6]\n",
    "    \n",
    "    for i in similar_items:\n",
    "        print(pt_3.index[i[0]])"
   ]
  },
  {
   "cell_type": "code",
   "execution_count": 164,
   "id": "7ca2667e",
   "metadata": {
    "ExecuteTime": {
     "end_time": "2024-10-15T08:27:08.312499Z",
     "start_time": "2024-10-15T08:27:08.301220Z"
    }
   },
   "outputs": [
    {
     "name": "stdout",
     "output_type": "stream",
     "text": [
      "aizawl\n",
      "almora\n",
      "anantnag\n",
      "bageshwar\n",
      "bhalukpong\n"
     ]
    }
   ],
   "source": [
    "recommend_city_state_categories('manali')"
   ]
  },
  {
   "cell_type": "code",
   "execution_count": 165,
   "id": "a42233ec",
   "metadata": {
    "ExecuteTime": {
     "end_time": "2024-10-15T08:27:11.184829Z",
     "start_time": "2024-10-15T08:27:11.165670Z"
    }
   },
   "outputs": [
    {
     "data": {
      "text/html": [
       "<div>\n",
       "<style scoped>\n",
       "    .dataframe tbody tr th:only-of-type {\n",
       "        vertical-align: middle;\n",
       "    }\n",
       "\n",
       "    .dataframe tbody tr th {\n",
       "        vertical-align: top;\n",
       "    }\n",
       "\n",
       "    .dataframe thead th {\n",
       "        text-align: right;\n",
       "    }\n",
       "</style>\n",
       "<table border=\"1\" class=\"dataframe\">\n",
       "  <thead>\n",
       "    <tr style=\"text-align: right;\">\n",
       "      <th></th>\n",
       "      <th>cities_name</th>\n",
       "      <th>city_rating</th>\n",
       "      <th>city_type</th>\n",
       "      <th>states_name</th>\n",
       "      <th>state_categories</th>\n",
       "    </tr>\n",
       "  </thead>\n",
       "  <tbody>\n",
       "    <tr>\n",
       "      <th>3404</th>\n",
       "      <td>aizawl</td>\n",
       "      <td>4.2</td>\n",
       "      <td>hilly type</td>\n",
       "      <td>mizoram</td>\n",
       "      <td>natural_and_scenic_state</td>\n",
       "    </tr>\n",
       "  </tbody>\n",
       "</table>\n",
       "</div>"
      ],
      "text/plain": [
       "     cities_name  city_rating   city_type states_name  \\\n",
       "3404      aizawl          4.2  hilly type     mizoram   \n",
       "\n",
       "              state_categories  \n",
       "3404  natural_and_scenic_state  "
      ]
     },
     "execution_count": 165,
     "metadata": {},
     "output_type": "execute_result"
    }
   ],
   "source": [
    "df[df['cities_name']=='aizawl'][['cities_name','city_rating','city_type','states_name','state_categories']].head(1)"
   ]
  },
  {
   "cell_type": "code",
   "execution_count": 166,
   "id": "7b543dc4",
   "metadata": {
    "ExecuteTime": {
     "end_time": "2024-10-15T08:27:11.759079Z",
     "start_time": "2024-10-15T08:27:11.734568Z"
    }
   },
   "outputs": [
    {
     "data": {
      "text/html": [
       "<div>\n",
       "<style scoped>\n",
       "    .dataframe tbody tr th:only-of-type {\n",
       "        vertical-align: middle;\n",
       "    }\n",
       "\n",
       "    .dataframe tbody tr th {\n",
       "        vertical-align: top;\n",
       "    }\n",
       "\n",
       "    .dataframe thead th {\n",
       "        text-align: right;\n",
       "    }\n",
       "</style>\n",
       "<table border=\"1\" class=\"dataframe\">\n",
       "  <thead>\n",
       "    <tr style=\"text-align: right;\">\n",
       "      <th></th>\n",
       "      <th>cities_name</th>\n",
       "      <th>city_rating</th>\n",
       "      <th>city_type</th>\n",
       "      <th>states_name</th>\n",
       "      <th>state_categories</th>\n",
       "    </tr>\n",
       "  </thead>\n",
       "  <tbody>\n",
       "    <tr>\n",
       "      <th>5053</th>\n",
       "      <td>almora</td>\n",
       "      <td>4.0</td>\n",
       "      <td>hilly type</td>\n",
       "      <td>uttarakhand</td>\n",
       "      <td>natural_and_scenic_state</td>\n",
       "    </tr>\n",
       "  </tbody>\n",
       "</table>\n",
       "</div>"
      ],
      "text/plain": [
       "     cities_name  city_rating   city_type  states_name  \\\n",
       "5053      almora          4.0  hilly type  uttarakhand   \n",
       "\n",
       "              state_categories  \n",
       "5053  natural_and_scenic_state  "
      ]
     },
     "execution_count": 166,
     "metadata": {},
     "output_type": "execute_result"
    }
   ],
   "source": [
    "df[df['cities_name']=='almora'][['cities_name','city_rating','city_type','states_name','state_categories']].head(1)"
   ]
  },
  {
   "cell_type": "code",
   "execution_count": 167,
   "id": "4d30bc0f",
   "metadata": {
    "ExecuteTime": {
     "end_time": "2024-10-15T08:27:13.572217Z",
     "start_time": "2024-10-15T08:27:12.341010Z"
    }
   },
   "outputs": [
    {
     "data": {
      "text/html": [
       "<div>\n",
       "<style scoped>\n",
       "    .dataframe tbody tr th:only-of-type {\n",
       "        vertical-align: middle;\n",
       "    }\n",
       "\n",
       "    .dataframe tbody tr th {\n",
       "        vertical-align: top;\n",
       "    }\n",
       "\n",
       "    .dataframe thead th {\n",
       "        text-align: right;\n",
       "    }\n",
       "</style>\n",
       "<table border=\"1\" class=\"dataframe\">\n",
       "  <thead>\n",
       "    <tr style=\"text-align: right;\">\n",
       "      <th></th>\n",
       "      <th>cities_name</th>\n",
       "      <th>city_rating</th>\n",
       "      <th>city_type</th>\n",
       "      <th>states_name</th>\n",
       "      <th>state_categories</th>\n",
       "    </tr>\n",
       "  </thead>\n",
       "  <tbody>\n",
       "    <tr>\n",
       "      <th>5557</th>\n",
       "      <td>anantnag</td>\n",
       "      <td>4.0</td>\n",
       "      <td>hilly type</td>\n",
       "      <td>jammu and kashmir</td>\n",
       "      <td>natural_and_scenic_state</td>\n",
       "    </tr>\n",
       "  </tbody>\n",
       "</table>\n",
       "</div>"
      ],
      "text/plain": [
       "     cities_name  city_rating   city_type        states_name  \\\n",
       "5557    anantnag          4.0  hilly type  jammu and kashmir   \n",
       "\n",
       "              state_categories  \n",
       "5557  natural_and_scenic_state  "
      ]
     },
     "execution_count": 167,
     "metadata": {},
     "output_type": "execute_result"
    }
   ],
   "source": [
    "df[df['cities_name']=='anantnag'][['cities_name','city_rating','city_type','states_name','state_categories']].head(1)"
   ]
  },
  {
   "cell_type": "code",
   "execution_count": 168,
   "id": "65452bb9",
   "metadata": {
    "ExecuteTime": {
     "end_time": "2024-10-15T08:27:14.269156Z",
     "start_time": "2024-10-15T08:27:14.253753Z"
    }
   },
   "outputs": [
    {
     "data": {
      "text/html": [
       "<div>\n",
       "<style scoped>\n",
       "    .dataframe tbody tr th:only-of-type {\n",
       "        vertical-align: middle;\n",
       "    }\n",
       "\n",
       "    .dataframe tbody tr th {\n",
       "        vertical-align: top;\n",
       "    }\n",
       "\n",
       "    .dataframe thead th {\n",
       "        text-align: right;\n",
       "    }\n",
       "</style>\n",
       "<table border=\"1\" class=\"dataframe\">\n",
       "  <thead>\n",
       "    <tr style=\"text-align: right;\">\n",
       "      <th></th>\n",
       "      <th>cities_name</th>\n",
       "      <th>city_rating</th>\n",
       "      <th>city_type</th>\n",
       "      <th>states_name</th>\n",
       "      <th>state_categories</th>\n",
       "    </tr>\n",
       "  </thead>\n",
       "  <tbody>\n",
       "    <tr>\n",
       "      <th>5110</th>\n",
       "      <td>bageshwar</td>\n",
       "      <td>3.4</td>\n",
       "      <td>nature type</td>\n",
       "      <td>uttarakhand</td>\n",
       "      <td>natural_and_scenic_state</td>\n",
       "    </tr>\n",
       "  </tbody>\n",
       "</table>\n",
       "</div>"
      ],
      "text/plain": [
       "     cities_name  city_rating    city_type  states_name  \\\n",
       "5110   bageshwar          3.4  nature type  uttarakhand   \n",
       "\n",
       "              state_categories  \n",
       "5110  natural_and_scenic_state  "
      ]
     },
     "execution_count": 168,
     "metadata": {},
     "output_type": "execute_result"
    }
   ],
   "source": [
    "df[df['cities_name']=='bageshwar'][['cities_name','city_rating','city_type','states_name','state_categories']].head(1)"
   ]
  },
  {
   "cell_type": "code",
   "execution_count": 169,
   "id": "70b728f1",
   "metadata": {
    "ExecuteTime": {
     "end_time": "2024-10-15T08:27:16.671672Z",
     "start_time": "2024-10-15T08:27:16.652749Z"
    }
   },
   "outputs": [
    {
     "data": {
      "text/html": [
       "<div>\n",
       "<style scoped>\n",
       "    .dataframe tbody tr th:only-of-type {\n",
       "        vertical-align: middle;\n",
       "    }\n",
       "\n",
       "    .dataframe tbody tr th {\n",
       "        vertical-align: top;\n",
       "    }\n",
       "\n",
       "    .dataframe thead th {\n",
       "        text-align: right;\n",
       "    }\n",
       "</style>\n",
       "<table border=\"1\" class=\"dataframe\">\n",
       "  <thead>\n",
       "    <tr style=\"text-align: right;\">\n",
       "      <th></th>\n",
       "      <th>cities_name</th>\n",
       "      <th>city_rating</th>\n",
       "      <th>city_type</th>\n",
       "      <th>states_name</th>\n",
       "      <th>state_categories</th>\n",
       "    </tr>\n",
       "  </thead>\n",
       "  <tbody>\n",
       "    <tr>\n",
       "      <th>301</th>\n",
       "      <td>bhalukpong</td>\n",
       "      <td>4.5</td>\n",
       "      <td>rural type</td>\n",
       "      <td>arunachal pradesh</td>\n",
       "      <td>natural_and_scenic_state</td>\n",
       "    </tr>\n",
       "  </tbody>\n",
       "</table>\n",
       "</div>"
      ],
      "text/plain": [
       "    cities_name  city_rating   city_type        states_name  \\\n",
       "301  bhalukpong          4.5  rural type  arunachal pradesh   \n",
       "\n",
       "             state_categories  \n",
       "301  natural_and_scenic_state  "
      ]
     },
     "execution_count": 169,
     "metadata": {},
     "output_type": "execute_result"
    }
   ],
   "source": [
    "df[df['cities_name']=='bhalukpong'][['cities_name','city_rating','city_type','states_name','state_categories']].head(1)"
   ]
  },
  {
   "cell_type": "markdown",
   "id": "4d1c6775",
   "metadata": {},
   "source": [
    "# final recommender-system combine all"
   ]
  },
  {
   "cell_type": "code",
   "execution_count": 170,
   "id": "e7504a2a",
   "metadata": {
    "ExecuteTime": {
     "end_time": "2024-10-15T08:27:19.258085Z",
     "start_time": "2024-10-15T08:27:19.004361Z"
    }
   },
   "outputs": [],
   "source": [
    "def recommend_city_combined(city_name, top_n=5, w1=0, w2=0, w3=0, w4=0):\n",
    "    \n",
    "    combined_similarity_matrix = w1 * similarity_scores + w2 * similarity_scores_1 + w3 * similarity_scores_2 + w4 * similarity_scores_3\n",
    "    \n",
    "    index = np.where(pt.index == city_name)[0][0]\n",
    "    \n",
    "    sim_scores = list(enumerate(combined_similarity_matrix[index]))\n",
    "    \n",
    "\n",
    "    sorted_scores = sorted(sim_scores, key=lambda x: x[1], reverse=True)[1:top_n+1]\n",
    "    \n",
    "\n",
    "    top_indices = [i[0] for i in sorted_scores]\n",
    "    \n",
    "    \n",
    "    top_cities = pt.index[top_indices].tolist()\n",
    "    \n",
    "\n",
    "    top_scores = [i[1] for i in sorted_scores]\n",
    "    \n",
    "    recommendations_df = pd.DataFrame({\n",
    "        'CityName': top_cities,\n",
    "    })\n",
    "    \n",
    "    return recommendations_df\n",
    "\n",
    "\n"
   ]
  },
  {
   "cell_type": "code",
   "execution_count": 171,
   "id": "10bcd980",
   "metadata": {
    "ExecuteTime": {
     "end_time": "2024-10-15T08:27:21.311190Z",
     "start_time": "2024-10-15T08:27:21.291688Z"
    }
   },
   "outputs": [
    {
     "data": {
      "text/html": [
       "<div>\n",
       "<style scoped>\n",
       "    .dataframe tbody tr th:only-of-type {\n",
       "        vertical-align: middle;\n",
       "    }\n",
       "\n",
       "    .dataframe tbody tr th {\n",
       "        vertical-align: top;\n",
       "    }\n",
       "\n",
       "    .dataframe thead th {\n",
       "        text-align: right;\n",
       "    }\n",
       "</style>\n",
       "<table border=\"1\" class=\"dataframe\">\n",
       "  <thead>\n",
       "    <tr style=\"text-align: right;\">\n",
       "      <th></th>\n",
       "      <th>CityName</th>\n",
       "    </tr>\n",
       "  </thead>\n",
       "  <tbody>\n",
       "    <tr>\n",
       "      <th>0</th>\n",
       "      <td>aizawl</td>\n",
       "    </tr>\n",
       "    <tr>\n",
       "      <th>1</th>\n",
       "      <td>almora</td>\n",
       "    </tr>\n",
       "    <tr>\n",
       "      <th>2</th>\n",
       "      <td>anantnag</td>\n",
       "    </tr>\n",
       "    <tr>\n",
       "      <th>3</th>\n",
       "      <td>bageshwar</td>\n",
       "    </tr>\n",
       "    <tr>\n",
       "      <th>4</th>\n",
       "      <td>bhalukpong</td>\n",
       "    </tr>\n",
       "  </tbody>\n",
       "</table>\n",
       "</div>"
      ],
      "text/plain": [
       "     CityName\n",
       "0      aizawl\n",
       "1      almora\n",
       "2    anantnag\n",
       "3   bageshwar\n",
       "4  bhalukpong"
      ]
     },
     "execution_count": 171,
     "metadata": {},
     "output_type": "execute_result"
    }
   ],
   "source": [
    "recommend_city_combined('manali', top_n=5, w1=0, w2=0, w3=0, w4=1)"
   ]
  },
  {
   "cell_type": "code",
   "execution_count": 172,
   "id": "d3b465ad",
   "metadata": {
    "ExecuteTime": {
     "end_time": "2024-10-15T08:27:23.730633Z",
     "start_time": "2024-10-15T08:27:23.694868Z"
    }
   },
   "outputs": [
    {
     "data": {
      "text/html": [
       "<div>\n",
       "<style scoped>\n",
       "    .dataframe tbody tr th:only-of-type {\n",
       "        vertical-align: middle;\n",
       "    }\n",
       "\n",
       "    .dataframe tbody tr th {\n",
       "        vertical-align: top;\n",
       "    }\n",
       "\n",
       "    .dataframe thead th {\n",
       "        text-align: right;\n",
       "    }\n",
       "</style>\n",
       "<table border=\"1\" class=\"dataframe\">\n",
       "  <thead>\n",
       "    <tr style=\"text-align: right;\">\n",
       "      <th>city_type</th>\n",
       "      <th>beach type</th>\n",
       "      <th>cultural type</th>\n",
       "      <th>hilly type</th>\n",
       "      <th>historical type</th>\n",
       "      <th>metropolitan type</th>\n",
       "      <th>nature type</th>\n",
       "      <th>other type</th>\n",
       "      <th>rural type</th>\n",
       "      <th>spiritual type</th>\n",
       "    </tr>\n",
       "    <tr>\n",
       "      <th>cities_name</th>\n",
       "      <th></th>\n",
       "      <th></th>\n",
       "      <th></th>\n",
       "      <th></th>\n",
       "      <th></th>\n",
       "      <th></th>\n",
       "      <th></th>\n",
       "      <th></th>\n",
       "      <th></th>\n",
       "    </tr>\n",
       "  </thead>\n",
       "  <tbody>\n",
       "    <tr>\n",
       "      <th>adilabad</th>\n",
       "      <td>0.0</td>\n",
       "      <td>0.0</td>\n",
       "      <td>0.0</td>\n",
       "      <td>0.0</td>\n",
       "      <td>0.0</td>\n",
       "      <td>0.0</td>\n",
       "      <td>5.0</td>\n",
       "      <td>0.0</td>\n",
       "      <td>0.0</td>\n",
       "    </tr>\n",
       "    <tr>\n",
       "      <th>agartala</th>\n",
       "      <td>0.0</td>\n",
       "      <td>0.0</td>\n",
       "      <td>0.0</td>\n",
       "      <td>0.0</td>\n",
       "      <td>0.0</td>\n",
       "      <td>3.8</td>\n",
       "      <td>0.0</td>\n",
       "      <td>0.0</td>\n",
       "      <td>0.0</td>\n",
       "    </tr>\n",
       "    <tr>\n",
       "      <th>agra</th>\n",
       "      <td>0.0</td>\n",
       "      <td>0.0</td>\n",
       "      <td>0.0</td>\n",
       "      <td>4.2</td>\n",
       "      <td>0.0</td>\n",
       "      <td>0.0</td>\n",
       "      <td>0.0</td>\n",
       "      <td>0.0</td>\n",
       "      <td>0.0</td>\n",
       "    </tr>\n",
       "    <tr>\n",
       "      <th>ahmedabad</th>\n",
       "      <td>0.0</td>\n",
       "      <td>0.0</td>\n",
       "      <td>0.0</td>\n",
       "      <td>0.0</td>\n",
       "      <td>4.1</td>\n",
       "      <td>0.0</td>\n",
       "      <td>0.0</td>\n",
       "      <td>0.0</td>\n",
       "      <td>0.0</td>\n",
       "    </tr>\n",
       "    <tr>\n",
       "      <th>aihole</th>\n",
       "      <td>0.0</td>\n",
       "      <td>0.0</td>\n",
       "      <td>0.0</td>\n",
       "      <td>0.0</td>\n",
       "      <td>0.0</td>\n",
       "      <td>0.0</td>\n",
       "      <td>0.0</td>\n",
       "      <td>0.0</td>\n",
       "      <td>4.2</td>\n",
       "    </tr>\n",
       "  </tbody>\n",
       "</table>\n",
       "</div>"
      ],
      "text/plain": [
       "city_type    beach type  cultural type  hilly type  historical type  \\\n",
       "cities_name                                                           \n",
       "adilabad            0.0            0.0         0.0              0.0   \n",
       "agartala            0.0            0.0         0.0              0.0   \n",
       "agra                0.0            0.0         0.0              4.2   \n",
       "ahmedabad           0.0            0.0         0.0              0.0   \n",
       "aihole              0.0            0.0         0.0              0.0   \n",
       "\n",
       "city_type    metropolitan type  nature type  other type  rural type  \\\n",
       "cities_name                                                           \n",
       "adilabad                   0.0          0.0         5.0         0.0   \n",
       "agartala                   0.0          3.8         0.0         0.0   \n",
       "agra                       0.0          0.0         0.0         0.0   \n",
       "ahmedabad                  4.1          0.0         0.0         0.0   \n",
       "aihole                     0.0          0.0         0.0         0.0   \n",
       "\n",
       "city_type    spiritual type  \n",
       "cities_name                  \n",
       "adilabad                0.0  \n",
       "agartala                0.0  \n",
       "agra                    0.0  \n",
       "ahmedabad               0.0  \n",
       "aihole                  4.2  "
      ]
     },
     "execution_count": 172,
     "metadata": {},
     "output_type": "execute_result"
    }
   ],
   "source": [
    "pt.head()"
   ]
  },
  {
   "cell_type": "code",
   "execution_count": 84,
   "id": "068eb086",
   "metadata": {
    "ExecuteTime": {
     "end_time": "2024-10-15T08:13:41.538057Z",
     "start_time": "2024-10-15T08:13:40.964936Z"
    }
   },
   "outputs": [],
   "source": [
    "import pickle \n",
    "pickle.dump(pt,open(\"pt.pkl\",\"wb\"))"
   ]
  },
  {
   "cell_type": "code",
   "execution_count": 85,
   "id": "7e1ff9a0",
   "metadata": {
    "ExecuteTime": {
     "end_time": "2024-10-15T08:16:18.599529Z",
     "start_time": "2024-10-15T08:16:17.439643Z"
    }
   },
   "outputs": [],
   "source": [
    "pickle.dump(similarity_scores,open(\"cosine_sim.pkl\",\"wb\"))"
   ]
  },
  {
   "cell_type": "code",
   "execution_count": 86,
   "id": "14d19923",
   "metadata": {
    "ExecuteTime": {
     "end_time": "2024-10-15T08:16:19.413799Z",
     "start_time": "2024-10-15T08:16:19.286556Z"
    }
   },
   "outputs": [],
   "source": [
    "pickle.dump(similarity_scores_1,open(\"cosine_sim1.pkl\",\"wb\"))"
   ]
  },
  {
   "cell_type": "code",
   "execution_count": 87,
   "id": "8b3a5de9",
   "metadata": {
    "ExecuteTime": {
     "end_time": "2024-10-15T08:16:20.040632Z",
     "start_time": "2024-10-15T08:16:20.028878Z"
    }
   },
   "outputs": [],
   "source": [
    "pickle.dump(similarity_scores_2,open(\"cosine_sim2.pkl\",\"wb\"))"
   ]
  },
  {
   "cell_type": "code",
   "execution_count": 88,
   "id": "d314203b",
   "metadata": {
    "ExecuteTime": {
     "end_time": "2024-10-15T08:16:22.023371Z",
     "start_time": "2024-10-15T08:16:20.712096Z"
    }
   },
   "outputs": [],
   "source": [
    "pickle.dump(similarity_scores_3,open(\"cosine_sim3.pkl\",\"wb\"))"
   ]
  },
  {
   "cell_type": "code",
   "execution_count": null,
   "id": "1cd197b4",
   "metadata": {},
   "outputs": [],
   "source": []
  }
 ],
 "metadata": {
  "kernelspec": {
   "display_name": "Python 3 (ipykernel)",
   "language": "python",
   "name": "python3"
  },
  "language_info": {
   "codemirror_mode": {
    "name": "ipython",
    "version": 3
   },
   "file_extension": ".py",
   "mimetype": "text/x-python",
   "name": "python",
   "nbconvert_exporter": "python",
   "pygments_lexer": "ipython3",
   "version": "3.11.5"
  },
  "toc": {
   "base_numbering": 1,
   "nav_menu": {},
   "number_sections": true,
   "sideBar": true,
   "skip_h1_title": false,
   "title_cell": "Table of Contents",
   "title_sidebar": "Contents",
   "toc_cell": false,
   "toc_position": {},
   "toc_section_display": true,
   "toc_window_display": false
  }
 },
 "nbformat": 4,
 "nbformat_minor": 5
}
