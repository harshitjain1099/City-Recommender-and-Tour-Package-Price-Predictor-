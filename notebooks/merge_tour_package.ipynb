{
 "cells": [
  {
   "cell_type": "code",
   "execution_count": 1,
   "id": "7eefc03f",
   "metadata": {
    "ExecuteTime": {
     "end_time": "2024-10-02T09:59:35.122256Z",
     "start_time": "2024-10-02T09:59:27.358056Z"
    }
   },
   "outputs": [
    {
     "name": "stderr",
     "output_type": "stream",
     "text": [
      "C:\\Users\\HARSHIT JAIN\\anaconda3\\Lib\\site-packages\\pandas\\core\\arrays\\masked.py:60: UserWarning: Pandas requires version '1.3.6' or newer of 'bottleneck' (version '1.3.5' currently installed).\n",
      "  from pandas.core import (\n"
     ]
    }
   ],
   "source": [
    "import pandas as pd\n",
    "import numpy as np"
   ]
  },
  {
   "cell_type": "code",
   "execution_count": 2,
   "id": "e0c493d1",
   "metadata": {
    "ExecuteTime": {
     "end_time": "2024-10-02T10:02:22.843597Z",
     "start_time": "2024-10-02T10:02:20.996294Z"
    }
   },
   "outputs": [],
   "source": [
    "df1 = pd.read_csv(r\"C:\\Users\\HARSHIT JAIN\\Desktop\\data science projects\\visit_and_tour_packages_project\\datasets\\tour_packages.csv\")\n",
    "df2 = pd.read_csv(r\"C:\\Users\\HARSHIT JAIN\\Desktop\\data science projects\\visit_and_tour_packages_project\\datasets\\tour_packages_1.csv\")\n",
    "df3 = pd.read_csv(r\"C:\\Users\\HARSHIT JAIN\\Desktop\\data science projects\\visit_and_tour_packages_project\\datasets\\tour_packages_2.csv\")\n",
    "df4 = pd.read_csv(r\"C:\\Users\\HARSHIT JAIN\\Desktop\\data science projects\\visit_and_tour_packages_project\\datasets\\tour_packages_3.csv\")"
   ]
  },
  {
   "cell_type": "code",
   "execution_count": 3,
   "id": "2c54ba74",
   "metadata": {
    "ExecuteTime": {
     "end_time": "2024-10-02T10:02:30.672564Z",
     "start_time": "2024-10-02T10:02:28.959443Z"
    }
   },
   "outputs": [
    {
     "data": {
      "text/html": [
       "<div>\n",
       "<style scoped>\n",
       "    .dataframe tbody tr th:only-of-type {\n",
       "        vertical-align: middle;\n",
       "    }\n",
       "\n",
       "    .dataframe tbody tr th {\n",
       "        vertical-align: top;\n",
       "    }\n",
       "\n",
       "    .dataframe thead th {\n",
       "        text-align: right;\n",
       "    }\n",
       "</style>\n",
       "<table border=\"1\" class=\"dataframe\">\n",
       "  <thead>\n",
       "    <tr style=\"text-align: right;\">\n",
       "      <th></th>\n",
       "      <th>package_name</th>\n",
       "      <th>duration</th>\n",
       "      <th>city_list</th>\n",
       "      <th>price</th>\n",
       "      <th>persons</th>\n",
       "    </tr>\n",
       "  </thead>\n",
       "  <tbody>\n",
       "    <tr>\n",
       "      <th>0</th>\n",
       "      <td>Amazing Amaravathi</td>\n",
       "      <td>2 Nights / 3 Days</td>\n",
       "      <td>Amaravathi(2N)</td>\n",
       "      <td>₹ 8,000*\\n                \\n                pe...</td>\n",
       "      <td>per adult on twin sharing</td>\n",
       "    </tr>\n",
       "    <tr>\n",
       "      <th>1</th>\n",
       "      <td>Alluring Amaravathi and Vijayawada</td>\n",
       "      <td>3 Nights / 4 Days</td>\n",
       "      <td>Amaravathi(1N) → Vijaywada(2N)</td>\n",
       "      <td>₹ 10,000*\\n                \\n                p...</td>\n",
       "      <td>per adult on twin sharing</td>\n",
       "    </tr>\n",
       "    <tr>\n",
       "      <th>2</th>\n",
       "      <td>Awesome Amaravathi, Vijaywada &amp; Kakinada</td>\n",
       "      <td>4 Nights / 5 Days</td>\n",
       "      <td>Amaravathi(1N) → Vijaywada(1N) → Kakinada(2N)</td>\n",
       "      <td>₹ 12,499*\\n                \\n                p...</td>\n",
       "      <td>per adult on twin sharing</td>\n",
       "    </tr>\n",
       "    <tr>\n",
       "      <th>3</th>\n",
       "      <td>Delights of Andhra Pradesh including Amaravathi</td>\n",
       "      <td>6 Nights / 7 Days</td>\n",
       "      <td>Tirupati(1N) → Nellore(1N) → Amaravathi(1N) → ...</td>\n",
       "      <td>₹ 20,000*\\n                \\n                p...</td>\n",
       "      <td>per adult on twin sharing</td>\n",
       "    </tr>\n",
       "    <tr>\n",
       "      <th>4</th>\n",
       "      <td>Gems of Andhra Pradesh Including Amaravathi an...</td>\n",
       "      <td>7 Nights / 8 Days</td>\n",
       "      <td>Tirupati(1N) → Nellore(1N) → Amaravathi(1N) → ...</td>\n",
       "      <td>₹ 23,500*\\n                \\n                p...</td>\n",
       "      <td>per adult on twin sharing</td>\n",
       "    </tr>\n",
       "    <tr>\n",
       "      <th>...</th>\n",
       "      <td>...</td>\n",
       "      <td>...</td>\n",
       "      <td>...</td>\n",
       "      <td>...</td>\n",
       "      <td>...</td>\n",
       "    </tr>\n",
       "    <tr>\n",
       "      <th>3529</th>\n",
       "      <td>Ladakh &amp; Kargil Honeymoon Package for Explorer...</td>\n",
       "      <td>8 Nights / 9 Days</td>\n",
       "      <td>Srinagar(1N) →  Kargil(1N) →  Leh(4N) →  Nubra...</td>\n",
       "      <td>₹ 38,870*\\n                \\n                p...</td>\n",
       "      <td>per adult on twin sharing</td>\n",
       "    </tr>\n",
       "    <tr>\n",
       "      <th>3530</th>\n",
       "      <td>Dazzling Srinagar, Kargil &amp; More</td>\n",
       "      <td>9 Nights / 10 Days</td>\n",
       "      <td>Srinagar(2N) → Kargil(1N) → Ladakh(1N) → Nubra...</td>\n",
       "      <td>₹ 40,500*\\n                \\n                p...</td>\n",
       "      <td>per adult on twin sharing</td>\n",
       "    </tr>\n",
       "    <tr>\n",
       "      <th>3531</th>\n",
       "      <td>Incredible Ladakh, Manali, Nubra &amp; More</td>\n",
       "      <td>9 Nights / 10 Days</td>\n",
       "      <td>Manali(1N) → Srinagar(2N) → Kargil(1N) → Ladak...</td>\n",
       "      <td>₹ 42,000*\\n                \\n                p...</td>\n",
       "      <td>per adult on twin sharing</td>\n",
       "    </tr>\n",
       "    <tr>\n",
       "      <th>3532</th>\n",
       "      <td>Srinagar Ladakh Adventure Tour Package</td>\n",
       "      <td>7 Nights / 8 Days</td>\n",
       "      <td>Srinagar(1N) →  Kargil(1N) →  Leh(3N) →  Nubra...</td>\n",
       "      <td>₹ 23,900*\\n                \\n                p...</td>\n",
       "      <td>per adult on twin sharing</td>\n",
       "    </tr>\n",
       "    <tr>\n",
       "      <th>3533</th>\n",
       "      <td>Shimla to Jammu Ultimate Tour Package for 12 n...</td>\n",
       "      <td>12 Nights / 13 Days</td>\n",
       "      <td>Manali(1N) →  Jispa(1N) →  Leh(3N) →  Nubra Va...</td>\n",
       "      <td>₹ 38,000*\\n                \\n                p...</td>\n",
       "      <td>per adult on twin sharing</td>\n",
       "    </tr>\n",
       "  </tbody>\n",
       "</table>\n",
       "<p>3534 rows × 5 columns</p>\n",
       "</div>"
      ],
      "text/plain": [
       "                                           package_name             duration  \\\n",
       "0                                    Amazing Amaravathi    2 Nights / 3 Days   \n",
       "1                    Alluring Amaravathi and Vijayawada    3 Nights / 4 Days   \n",
       "2              Awesome Amaravathi, Vijaywada & Kakinada    4 Nights / 5 Days   \n",
       "3       Delights of Andhra Pradesh including Amaravathi    6 Nights / 7 Days   \n",
       "4     Gems of Andhra Pradesh Including Amaravathi an...    7 Nights / 8 Days   \n",
       "...                                                 ...                  ...   \n",
       "3529  Ladakh & Kargil Honeymoon Package for Explorer...    8 Nights / 9 Days   \n",
       "3530                   Dazzling Srinagar, Kargil & More   9 Nights / 10 Days   \n",
       "3531            Incredible Ladakh, Manali, Nubra & More   9 Nights / 10 Days   \n",
       "3532             Srinagar Ladakh Adventure Tour Package    7 Nights / 8 Days   \n",
       "3533  Shimla to Jammu Ultimate Tour Package for 12 n...  12 Nights / 13 Days   \n",
       "\n",
       "                                              city_list  \\\n",
       "0                                        Amaravathi(2N)   \n",
       "1                        Amaravathi(1N) → Vijaywada(2N)   \n",
       "2         Amaravathi(1N) → Vijaywada(1N) → Kakinada(2N)   \n",
       "3     Tirupati(1N) → Nellore(1N) → Amaravathi(1N) → ...   \n",
       "4     Tirupati(1N) → Nellore(1N) → Amaravathi(1N) → ...   \n",
       "...                                                 ...   \n",
       "3529  Srinagar(1N) →  Kargil(1N) →  Leh(4N) →  Nubra...   \n",
       "3530  Srinagar(2N) → Kargil(1N) → Ladakh(1N) → Nubra...   \n",
       "3531  Manali(1N) → Srinagar(2N) → Kargil(1N) → Ladak...   \n",
       "3532  Srinagar(1N) →  Kargil(1N) →  Leh(3N) →  Nubra...   \n",
       "3533  Manali(1N) →  Jispa(1N) →  Leh(3N) →  Nubra Va...   \n",
       "\n",
       "                                                  price  \\\n",
       "0     ₹ 8,000*\\n                \\n                pe...   \n",
       "1     ₹ 10,000*\\n                \\n                p...   \n",
       "2     ₹ 12,499*\\n                \\n                p...   \n",
       "3     ₹ 20,000*\\n                \\n                p...   \n",
       "4     ₹ 23,500*\\n                \\n                p...   \n",
       "...                                                 ...   \n",
       "3529  ₹ 38,870*\\n                \\n                p...   \n",
       "3530  ₹ 40,500*\\n                \\n                p...   \n",
       "3531  ₹ 42,000*\\n                \\n                p...   \n",
       "3532  ₹ 23,900*\\n                \\n                p...   \n",
       "3533  ₹ 38,000*\\n                \\n                p...   \n",
       "\n",
       "                        persons  \n",
       "0     per adult on twin sharing  \n",
       "1     per adult on twin sharing  \n",
       "2     per adult on twin sharing  \n",
       "3     per adult on twin sharing  \n",
       "4     per adult on twin sharing  \n",
       "...                         ...  \n",
       "3529  per adult on twin sharing  \n",
       "3530  per adult on twin sharing  \n",
       "3531  per adult on twin sharing  \n",
       "3532  per adult on twin sharing  \n",
       "3533  per adult on twin sharing  \n",
       "\n",
       "[3534 rows x 5 columns]"
      ]
     },
     "execution_count": 3,
     "metadata": {},
     "output_type": "execute_result"
    }
   ],
   "source": [
    "df1"
   ]
  },
  {
   "cell_type": "code",
   "execution_count": 4,
   "id": "e9824ef0",
   "metadata": {
    "ExecuteTime": {
     "end_time": "2024-10-02T10:02:42.162675Z",
     "start_time": "2024-10-02T10:02:42.153457Z"
    }
   },
   "outputs": [
    {
     "data": {
      "text/plain": [
       "(3534, 5)"
      ]
     },
     "execution_count": 4,
     "metadata": {},
     "output_type": "execute_result"
    }
   ],
   "source": [
    "df1.shape"
   ]
  },
  {
   "cell_type": "code",
   "execution_count": 11,
   "id": "0bf020e5",
   "metadata": {
    "ExecuteTime": {
     "end_time": "2024-10-02T10:04:08.186126Z",
     "start_time": "2024-10-02T10:04:05.890561Z"
    }
   },
   "outputs": [
    {
     "name": "stdout",
     "output_type": "stream",
     "text": [
      "<class 'pandas.core.frame.DataFrame'>\n",
      "RangeIndex: 3534 entries, 0 to 3533\n",
      "Data columns (total 5 columns):\n",
      " #   Column        Non-Null Count  Dtype \n",
      "---  ------        --------------  ----- \n",
      " 0   package_name  3534 non-null   object\n",
      " 1   duration      3534 non-null   object\n",
      " 2   city_list     3532 non-null   object\n",
      " 3   price         3534 non-null   object\n",
      " 4   persons       3534 non-null   object\n",
      "dtypes: object(5)\n",
      "memory usage: 138.2+ KB\n"
     ]
    }
   ],
   "source": [
    "df1.info()"
   ]
  },
  {
   "cell_type": "code",
   "execution_count": 5,
   "id": "46ccd57b",
   "metadata": {
    "ExecuteTime": {
     "end_time": "2024-10-02T10:02:46.097306Z",
     "start_time": "2024-10-02T10:02:46.075892Z"
    }
   },
   "outputs": [
    {
     "data": {
      "text/html": [
       "<div>\n",
       "<style scoped>\n",
       "    .dataframe tbody tr th:only-of-type {\n",
       "        vertical-align: middle;\n",
       "    }\n",
       "\n",
       "    .dataframe tbody tr th {\n",
       "        vertical-align: top;\n",
       "    }\n",
       "\n",
       "    .dataframe thead th {\n",
       "        text-align: right;\n",
       "    }\n",
       "</style>\n",
       "<table border=\"1\" class=\"dataframe\">\n",
       "  <thead>\n",
       "    <tr style=\"text-align: right;\">\n",
       "      <th></th>\n",
       "      <th>package_name</th>\n",
       "      <th>duration</th>\n",
       "      <th>city_list</th>\n",
       "      <th>price</th>\n",
       "      <th>persons</th>\n",
       "    </tr>\n",
       "  </thead>\n",
       "  <tbody>\n",
       "    <tr>\n",
       "      <th>0</th>\n",
       "      <td>Escape to Tawang Dirang and Bomdila Group Package</td>\n",
       "      <td>6 Nights / 7 Days</td>\n",
       "      <td>Bhalukpong(1N) →  Dirang(1N) →  Tawang(3N) →  ...</td>\n",
       "      <td>₹ 19,999*\\n                \\n                p...</td>\n",
       "      <td>per adult on twin sharing</td>\n",
       "    </tr>\n",
       "    <tr>\n",
       "      <th>1</th>\n",
       "      <td>Fascinating Arunachal Pradesh Tour Itinerary 6...</td>\n",
       "      <td>5 Nights / 6 Days</td>\n",
       "      <td>Guwahati(1N) →  Bhalukpong(1N) →  Bomdila(1N) ...</td>\n",
       "      <td>₹ 23,000*\\n                \\n                p...</td>\n",
       "      <td>per adult on twin sharing</td>\n",
       "    </tr>\n",
       "    <tr>\n",
       "      <th>2</th>\n",
       "      <td>Arunachal Pradesh Tour Package for Family</td>\n",
       "      <td>7 Nights / 8 Days</td>\n",
       "      <td>Bhalukpong (1N) →  Dirang (1N) →  Tawang (3N) ...</td>\n",
       "      <td>₹ 33,222*\\n                \\n                p...</td>\n",
       "      <td>per adult on twin sharing</td>\n",
       "    </tr>\n",
       "    <tr>\n",
       "      <th>3</th>\n",
       "      <td>Ziro Valley Tour Package - 5 Nights 6 Days</td>\n",
       "      <td>5 Nights / 6 Days</td>\n",
       "      <td>Guwahati(0N) →  Itanagar(1N) →  Ziro(3N) →  It...</td>\n",
       "      <td>₹ 22,000*\\n                \\n                p...</td>\n",
       "      <td>per adult on twin sharing</td>\n",
       "    </tr>\n",
       "    <tr>\n",
       "      <th>4</th>\n",
       "      <td>Arunachal Pradesh Tour Itinerary 5 Days</td>\n",
       "      <td>4 Nights / 5 Days</td>\n",
       "      <td>Guwahati(0N) →  Bhalukpong(1N) →  Dirang(1N) →...</td>\n",
       "      <td>₹ 19,000*\\n                \\n                p...</td>\n",
       "      <td>per adult on twin sharing</td>\n",
       "    </tr>\n",
       "    <tr>\n",
       "      <th>...</th>\n",
       "      <td>...</td>\n",
       "      <td>...</td>\n",
       "      <td>...</td>\n",
       "      <td>...</td>\n",
       "      <td>...</td>\n",
       "    </tr>\n",
       "    <tr>\n",
       "      <th>1013</th>\n",
       "      <td>Kashmir with Mata Vaishno Devi 7 Night 8 Days ...</td>\n",
       "      <td>7 Nights / 8 Days</td>\n",
       "      <td>Katra(2N) →  Srinagar(3N) →  Srinagar(1N) →  P...</td>\n",
       "      <td>₹ 52,000*\\n                \\n                p...</td>\n",
       "      <td>per adult on twin sharing</td>\n",
       "    </tr>\n",
       "    <tr>\n",
       "      <th>1014</th>\n",
       "      <td>Kashmir Winter Special 2024 Package</td>\n",
       "      <td>5 Nights / 6 Days</td>\n",
       "      <td>Srinagar(3N) →  Pahalgam(1N) →  Srinagar(1N)</td>\n",
       "      <td>₹ 22,000*\\n                \\n                p...</td>\n",
       "      <td>per adult on twin sharing</td>\n",
       "    </tr>\n",
       "    <tr>\n",
       "      <th>1015</th>\n",
       "      <td>Kashmir Deluxe Package: 6 Nights 7 Days Tour</td>\n",
       "      <td>6 Nights / 7 Days</td>\n",
       "      <td>Srinagar(4N) →  Pahalgam(1N) →  Srinagar(1N)</td>\n",
       "      <td>₹ 15,500*\\n                \\n                p...</td>\n",
       "      <td>per adult on twin sharing</td>\n",
       "    </tr>\n",
       "    <tr>\n",
       "      <th>1016</th>\n",
       "      <td>5 Nights Kashmir Tour Package</td>\n",
       "      <td>5 Nights / 6 Days</td>\n",
       "      <td>Srinagar(4N) →  Pahalgam(1N)</td>\n",
       "      <td>₹ 12,499*\\n                \\n                p...</td>\n",
       "      <td>per adult on twin sharing</td>\n",
       "    </tr>\n",
       "    <tr>\n",
       "      <th>1017</th>\n",
       "      <td>Amritsar and Katra Tour Package with Vaishno Devi</td>\n",
       "      <td>4 Nights / 5 Days</td>\n",
       "      <td>Amritsar(2N) →  Katra(2N)</td>\n",
       "      <td>₹ 17,600*\\n                \\n                p...</td>\n",
       "      <td>per adult on twin sharing</td>\n",
       "    </tr>\n",
       "  </tbody>\n",
       "</table>\n",
       "<p>1018 rows × 5 columns</p>\n",
       "</div>"
      ],
      "text/plain": [
       "                                           package_name           duration  \\\n",
       "0     Escape to Tawang Dirang and Bomdila Group Package  6 Nights / 7 Days   \n",
       "1     Fascinating Arunachal Pradesh Tour Itinerary 6...  5 Nights / 6 Days   \n",
       "2             Arunachal Pradesh Tour Package for Family  7 Nights / 8 Days   \n",
       "3            Ziro Valley Tour Package - 5 Nights 6 Days  5 Nights / 6 Days   \n",
       "4               Arunachal Pradesh Tour Itinerary 5 Days  4 Nights / 5 Days   \n",
       "...                                                 ...                ...   \n",
       "1013  Kashmir with Mata Vaishno Devi 7 Night 8 Days ...  7 Nights / 8 Days   \n",
       "1014                Kashmir Winter Special 2024 Package  5 Nights / 6 Days   \n",
       "1015       Kashmir Deluxe Package: 6 Nights 7 Days Tour  6 Nights / 7 Days   \n",
       "1016                      5 Nights Kashmir Tour Package  5 Nights / 6 Days   \n",
       "1017  Amritsar and Katra Tour Package with Vaishno Devi  4 Nights / 5 Days   \n",
       "\n",
       "                                              city_list  \\\n",
       "0     Bhalukpong(1N) →  Dirang(1N) →  Tawang(3N) →  ...   \n",
       "1     Guwahati(1N) →  Bhalukpong(1N) →  Bomdila(1N) ...   \n",
       "2     Bhalukpong (1N) →  Dirang (1N) →  Tawang (3N) ...   \n",
       "3     Guwahati(0N) →  Itanagar(1N) →  Ziro(3N) →  It...   \n",
       "4     Guwahati(0N) →  Bhalukpong(1N) →  Dirang(1N) →...   \n",
       "...                                                 ...   \n",
       "1013  Katra(2N) →  Srinagar(3N) →  Srinagar(1N) →  P...   \n",
       "1014       Srinagar(3N) →  Pahalgam(1N) →  Srinagar(1N)   \n",
       "1015       Srinagar(4N) →  Pahalgam(1N) →  Srinagar(1N)   \n",
       "1016                       Srinagar(4N) →  Pahalgam(1N)   \n",
       "1017                          Amritsar(2N) →  Katra(2N)   \n",
       "\n",
       "                                                  price  \\\n",
       "0     ₹ 19,999*\\n                \\n                p...   \n",
       "1     ₹ 23,000*\\n                \\n                p...   \n",
       "2     ₹ 33,222*\\n                \\n                p...   \n",
       "3     ₹ 22,000*\\n                \\n                p...   \n",
       "4     ₹ 19,000*\\n                \\n                p...   \n",
       "...                                                 ...   \n",
       "1013  ₹ 52,000*\\n                \\n                p...   \n",
       "1014  ₹ 22,000*\\n                \\n                p...   \n",
       "1015  ₹ 15,500*\\n                \\n                p...   \n",
       "1016  ₹ 12,499*\\n                \\n                p...   \n",
       "1017  ₹ 17,600*\\n                \\n                p...   \n",
       "\n",
       "                        persons  \n",
       "0     per adult on twin sharing  \n",
       "1     per adult on twin sharing  \n",
       "2     per adult on twin sharing  \n",
       "3     per adult on twin sharing  \n",
       "4     per adult on twin sharing  \n",
       "...                         ...  \n",
       "1013  per adult on twin sharing  \n",
       "1014  per adult on twin sharing  \n",
       "1015  per adult on twin sharing  \n",
       "1016  per adult on twin sharing  \n",
       "1017  per adult on twin sharing  \n",
       "\n",
       "[1018 rows x 5 columns]"
      ]
     },
     "execution_count": 5,
     "metadata": {},
     "output_type": "execute_result"
    }
   ],
   "source": [
    "df2"
   ]
  },
  {
   "cell_type": "code",
   "execution_count": 6,
   "id": "75e3fda2",
   "metadata": {
    "ExecuteTime": {
     "end_time": "2024-10-02T10:03:00.840803Z",
     "start_time": "2024-10-02T10:03:00.821880Z"
    }
   },
   "outputs": [
    {
     "data": {
      "text/plain": [
       "(1018, 5)"
      ]
     },
     "execution_count": 6,
     "metadata": {},
     "output_type": "execute_result"
    }
   ],
   "source": [
    "df2.shape"
   ]
  },
  {
   "cell_type": "code",
   "execution_count": 12,
   "id": "0aef6da6",
   "metadata": {
    "ExecuteTime": {
     "end_time": "2024-10-02T10:04:28.608333Z",
     "start_time": "2024-10-02T10:04:28.590957Z"
    }
   },
   "outputs": [
    {
     "name": "stdout",
     "output_type": "stream",
     "text": [
      "<class 'pandas.core.frame.DataFrame'>\n",
      "RangeIndex: 1018 entries, 0 to 1017\n",
      "Data columns (total 5 columns):\n",
      " #   Column        Non-Null Count  Dtype \n",
      "---  ------        --------------  ----- \n",
      " 0   package_name  1018 non-null   object\n",
      " 1   duration      1018 non-null   object\n",
      " 2   city_list     1018 non-null   object\n",
      " 3   price         1018 non-null   object\n",
      " 4   persons       1018 non-null   object\n",
      "dtypes: object(5)\n",
      "memory usage: 39.9+ KB\n"
     ]
    }
   ],
   "source": [
    "df2.info()"
   ]
  },
  {
   "cell_type": "code",
   "execution_count": 7,
   "id": "f31e83de",
   "metadata": {
    "ExecuteTime": {
     "end_time": "2024-10-02T10:03:09.832175Z",
     "start_time": "2024-10-02T10:03:09.808714Z"
    }
   },
   "outputs": [
    {
     "data": {
      "text/html": [
       "<div>\n",
       "<style scoped>\n",
       "    .dataframe tbody tr th:only-of-type {\n",
       "        vertical-align: middle;\n",
       "    }\n",
       "\n",
       "    .dataframe tbody tr th {\n",
       "        vertical-align: top;\n",
       "    }\n",
       "\n",
       "    .dataframe thead th {\n",
       "        text-align: right;\n",
       "    }\n",
       "</style>\n",
       "<table border=\"1\" class=\"dataframe\">\n",
       "  <thead>\n",
       "    <tr style=\"text-align: right;\">\n",
       "      <th></th>\n",
       "      <th>package_name</th>\n",
       "      <th>duration</th>\n",
       "      <th>city_list</th>\n",
       "      <th>price</th>\n",
       "      <th>persons</th>\n",
       "    </tr>\n",
       "  </thead>\n",
       "  <tbody>\n",
       "    <tr>\n",
       "      <th>0</th>\n",
       "      <td>Delhi Agra Jaipur Tour Package 4 Days</td>\n",
       "      <td>3 Nights / 4 Days</td>\n",
       "      <td>Delhi(1N) →  Agra(1N) →  Jaipur(1N)</td>\n",
       "      <td>₹ 12,900*\\n                \\n                p...</td>\n",
       "      <td>per adult on twin sharing</td>\n",
       "    </tr>\n",
       "    <tr>\n",
       "      <th>1</th>\n",
       "      <td>2 Nights 3 Days Jaipur Agra Tour Package from ...</td>\n",
       "      <td>2 Nights / 3 Days</td>\n",
       "      <td>Delhi(0N) →  Agra(1N) →  Jaipur(1N)</td>\n",
       "      <td>₹ 8,500*\\n                \\n                pe...</td>\n",
       "      <td>per adult on twin sharing</td>\n",
       "    </tr>\n",
       "    <tr>\n",
       "      <th>2</th>\n",
       "      <td>Delhi, Agra, Jaipur Tour Package:  Golden Tria...</td>\n",
       "      <td>5 Nights / 6 Days</td>\n",
       "      <td>Delhi(2N) →  Agra(1N) →  Jaipur(2N)</td>\n",
       "      <td>₹ 19,099*\\n                \\n                p...</td>\n",
       "      <td>per adult on twin sharing</td>\n",
       "    </tr>\n",
       "    <tr>\n",
       "      <th>3</th>\n",
       "      <td>Super Saver Delhi Agra Jaipur Varanasi Tour Pa...</td>\n",
       "      <td>6 Nights / 7 Days</td>\n",
       "      <td>Delhi(1N) →  Jaipur(1N) →  Agra(2N) →  Varanas...</td>\n",
       "      <td>₹ 24,000*\\n                \\n                p...</td>\n",
       "      <td>per adult on twin sharing</td>\n",
       "    </tr>\n",
       "    <tr>\n",
       "      <th>4</th>\n",
       "      <td>Delhi Agra Jaipur Tour Package 5 Days with Mat...</td>\n",
       "      <td>4 Nights / 5 Days</td>\n",
       "      <td>Delhi(1N) →  Mathura(0N) →  Agra(1N) →  Jaipur...</td>\n",
       "      <td>₹ 18,100*\\n                \\n                p...</td>\n",
       "      <td>per adult on twin sharing</td>\n",
       "    </tr>\n",
       "    <tr>\n",
       "      <th>...</th>\n",
       "      <td>...</td>\n",
       "      <td>...</td>\n",
       "      <td>...</td>\n",
       "      <td>...</td>\n",
       "      <td>...</td>\n",
       "    </tr>\n",
       "    <tr>\n",
       "      <th>2875</th>\n",
       "      <td>Ladakh &amp; Kargil Honeymoon Package for Explorer...</td>\n",
       "      <td>8 Nights / 9 Days</td>\n",
       "      <td>Srinagar(1N) →  Kargil(1N) →  Leh(4N) →  Nubra...</td>\n",
       "      <td>₹ 38,870*\\n                \\n                p...</td>\n",
       "      <td>per adult on twin sharing</td>\n",
       "    </tr>\n",
       "    <tr>\n",
       "      <th>2876</th>\n",
       "      <td>Dazzling Srinagar, Kargil &amp; More</td>\n",
       "      <td>9 Nights / 10 Days</td>\n",
       "      <td>Srinagar(2N) → Kargil(1N) → Ladakh(1N) → Nubra...</td>\n",
       "      <td>₹ 40,500*\\n                \\n                p...</td>\n",
       "      <td>per adult on twin sharing</td>\n",
       "    </tr>\n",
       "    <tr>\n",
       "      <th>2877</th>\n",
       "      <td>Incredible Ladakh, Manali, Nubra &amp; More</td>\n",
       "      <td>9 Nights / 10 Days</td>\n",
       "      <td>Manali(1N) → Srinagar(2N) → Kargil(1N) → Ladak...</td>\n",
       "      <td>₹ 42,000*\\n                \\n                p...</td>\n",
       "      <td>per adult on twin sharing</td>\n",
       "    </tr>\n",
       "    <tr>\n",
       "      <th>2878</th>\n",
       "      <td>Srinagar Ladakh Adventure Tour Package</td>\n",
       "      <td>7 Nights / 8 Days</td>\n",
       "      <td>Srinagar(1N) →  Kargil(1N) →  Leh(3N) →  Nubra...</td>\n",
       "      <td>₹ 23,900*\\n                \\n                p...</td>\n",
       "      <td>per adult on twin sharing</td>\n",
       "    </tr>\n",
       "    <tr>\n",
       "      <th>2879</th>\n",
       "      <td>Shimla to Jammu Ultimate Tour Package for 12 n...</td>\n",
       "      <td>12 Nights / 13 Days</td>\n",
       "      <td>Manali(1N) →  Jispa(1N) →  Leh(3N) →  Nubra Va...</td>\n",
       "      <td>₹ 38,000*\\n                \\n                p...</td>\n",
       "      <td>per adult on twin sharing</td>\n",
       "    </tr>\n",
       "  </tbody>\n",
       "</table>\n",
       "<p>2880 rows × 5 columns</p>\n",
       "</div>"
      ],
      "text/plain": [
       "                                           package_name             duration  \\\n",
       "0                 Delhi Agra Jaipur Tour Package 4 Days    3 Nights / 4 Days   \n",
       "1     2 Nights 3 Days Jaipur Agra Tour Package from ...    2 Nights / 3 Days   \n",
       "2     Delhi, Agra, Jaipur Tour Package:  Golden Tria...    5 Nights / 6 Days   \n",
       "3     Super Saver Delhi Agra Jaipur Varanasi Tour Pa...    6 Nights / 7 Days   \n",
       "4     Delhi Agra Jaipur Tour Package 5 Days with Mat...    4 Nights / 5 Days   \n",
       "...                                                 ...                  ...   \n",
       "2875  Ladakh & Kargil Honeymoon Package for Explorer...    8 Nights / 9 Days   \n",
       "2876                   Dazzling Srinagar, Kargil & More   9 Nights / 10 Days   \n",
       "2877            Incredible Ladakh, Manali, Nubra & More   9 Nights / 10 Days   \n",
       "2878             Srinagar Ladakh Adventure Tour Package    7 Nights / 8 Days   \n",
       "2879  Shimla to Jammu Ultimate Tour Package for 12 n...  12 Nights / 13 Days   \n",
       "\n",
       "                                              city_list  \\\n",
       "0                   Delhi(1N) →  Agra(1N) →  Jaipur(1N)   \n",
       "1                   Delhi(0N) →  Agra(1N) →  Jaipur(1N)   \n",
       "2                   Delhi(2N) →  Agra(1N) →  Jaipur(2N)   \n",
       "3     Delhi(1N) →  Jaipur(1N) →  Agra(2N) →  Varanas...   \n",
       "4     Delhi(1N) →  Mathura(0N) →  Agra(1N) →  Jaipur...   \n",
       "...                                                 ...   \n",
       "2875  Srinagar(1N) →  Kargil(1N) →  Leh(4N) →  Nubra...   \n",
       "2876  Srinagar(2N) → Kargil(1N) → Ladakh(1N) → Nubra...   \n",
       "2877  Manali(1N) → Srinagar(2N) → Kargil(1N) → Ladak...   \n",
       "2878  Srinagar(1N) →  Kargil(1N) →  Leh(3N) →  Nubra...   \n",
       "2879  Manali(1N) →  Jispa(1N) →  Leh(3N) →  Nubra Va...   \n",
       "\n",
       "                                                  price  \\\n",
       "0     ₹ 12,900*\\n                \\n                p...   \n",
       "1     ₹ 8,500*\\n                \\n                pe...   \n",
       "2     ₹ 19,099*\\n                \\n                p...   \n",
       "3     ₹ 24,000*\\n                \\n                p...   \n",
       "4     ₹ 18,100*\\n                \\n                p...   \n",
       "...                                                 ...   \n",
       "2875  ₹ 38,870*\\n                \\n                p...   \n",
       "2876  ₹ 40,500*\\n                \\n                p...   \n",
       "2877  ₹ 42,000*\\n                \\n                p...   \n",
       "2878  ₹ 23,900*\\n                \\n                p...   \n",
       "2879  ₹ 38,000*\\n                \\n                p...   \n",
       "\n",
       "                        persons  \n",
       "0     per adult on twin sharing  \n",
       "1     per adult on twin sharing  \n",
       "2     per adult on twin sharing  \n",
       "3     per adult on twin sharing  \n",
       "4     per adult on twin sharing  \n",
       "...                         ...  \n",
       "2875  per adult on twin sharing  \n",
       "2876  per adult on twin sharing  \n",
       "2877  per adult on twin sharing  \n",
       "2878  per adult on twin sharing  \n",
       "2879  per adult on twin sharing  \n",
       "\n",
       "[2880 rows x 5 columns]"
      ]
     },
     "execution_count": 7,
     "metadata": {},
     "output_type": "execute_result"
    }
   ],
   "source": [
    "df3"
   ]
  },
  {
   "cell_type": "code",
   "execution_count": 8,
   "id": "d52c8e74",
   "metadata": {
    "ExecuteTime": {
     "end_time": "2024-10-02T10:03:23.756811Z",
     "start_time": "2024-10-02T10:03:23.748068Z"
    }
   },
   "outputs": [
    {
     "data": {
      "text/plain": [
       "(2880, 5)"
      ]
     },
     "execution_count": 8,
     "metadata": {},
     "output_type": "execute_result"
    }
   ],
   "source": [
    "df3.shape"
   ]
  },
  {
   "cell_type": "code",
   "execution_count": 13,
   "id": "94991953",
   "metadata": {
    "ExecuteTime": {
     "end_time": "2024-10-02T10:04:57.368969Z",
     "start_time": "2024-10-02T10:04:57.350282Z"
    }
   },
   "outputs": [
    {
     "name": "stdout",
     "output_type": "stream",
     "text": [
      "<class 'pandas.core.frame.DataFrame'>\n",
      "RangeIndex: 2880 entries, 0 to 2879\n",
      "Data columns (total 5 columns):\n",
      " #   Column        Non-Null Count  Dtype \n",
      "---  ------        --------------  ----- \n",
      " 0   package_name  2880 non-null   object\n",
      " 1   duration      2880 non-null   object\n",
      " 2   city_list     2880 non-null   object\n",
      " 3   price         2880 non-null   object\n",
      " 4   persons       2880 non-null   object\n",
      "dtypes: object(5)\n",
      "memory usage: 112.6+ KB\n"
     ]
    }
   ],
   "source": [
    "df3.info()"
   ]
  },
  {
   "cell_type": "code",
   "execution_count": 9,
   "id": "a304d759",
   "metadata": {
    "ExecuteTime": {
     "end_time": "2024-10-02T10:03:43.685047Z",
     "start_time": "2024-10-02T10:03:43.662050Z"
    }
   },
   "outputs": [
    {
     "data": {
      "text/html": [
       "<div>\n",
       "<style scoped>\n",
       "    .dataframe tbody tr th:only-of-type {\n",
       "        vertical-align: middle;\n",
       "    }\n",
       "\n",
       "    .dataframe tbody tr th {\n",
       "        vertical-align: top;\n",
       "    }\n",
       "\n",
       "    .dataframe thead th {\n",
       "        text-align: right;\n",
       "    }\n",
       "</style>\n",
       "<table border=\"1\" class=\"dataframe\">\n",
       "  <thead>\n",
       "    <tr style=\"text-align: right;\">\n",
       "      <th></th>\n",
       "      <th>package_name</th>\n",
       "      <th>duration</th>\n",
       "      <th>city_list</th>\n",
       "      <th>price</th>\n",
       "      <th>persons</th>\n",
       "    </tr>\n",
       "  </thead>\n",
       "  <tbody>\n",
       "    <tr>\n",
       "      <th>0</th>\n",
       "      <td>Amazing Amaravathi</td>\n",
       "      <td>2 Nights / 3 Days</td>\n",
       "      <td>Amaravathi(2N)</td>\n",
       "      <td>₹ 8,000*\\n                \\n                pe...</td>\n",
       "      <td>per adult on twin sharing</td>\n",
       "    </tr>\n",
       "    <tr>\n",
       "      <th>1</th>\n",
       "      <td>Alluring Amaravathi and Vijayawada</td>\n",
       "      <td>3 Nights / 4 Days</td>\n",
       "      <td>Amaravathi(1N) → Vijaywada(2N)</td>\n",
       "      <td>₹ 10,000*\\n                \\n                p...</td>\n",
       "      <td>per adult on twin sharing</td>\n",
       "    </tr>\n",
       "    <tr>\n",
       "      <th>2</th>\n",
       "      <td>Awesome Amaravathi, Vijaywada &amp; Kakinada</td>\n",
       "      <td>4 Nights / 5 Days</td>\n",
       "      <td>Amaravathi(1N) → Vijaywada(1N) → Kakinada(2N)</td>\n",
       "      <td>₹ 12,499*\\n                \\n                p...</td>\n",
       "      <td>per adult on twin sharing</td>\n",
       "    </tr>\n",
       "    <tr>\n",
       "      <th>3</th>\n",
       "      <td>Delights of Andhra Pradesh including Amaravathi</td>\n",
       "      <td>6 Nights / 7 Days</td>\n",
       "      <td>Tirupati(1N) → Nellore(1N) → Amaravathi(1N) → ...</td>\n",
       "      <td>₹ 20,000*\\n                \\n                p...</td>\n",
       "      <td>per adult on twin sharing</td>\n",
       "    </tr>\n",
       "    <tr>\n",
       "      <th>4</th>\n",
       "      <td>Gems of Andhra Pradesh Including Amaravathi an...</td>\n",
       "      <td>7 Nights / 8 Days</td>\n",
       "      <td>Tirupati(1N) → Nellore(1N) → Amaravathi(1N) → ...</td>\n",
       "      <td>₹ 23,500*\\n                \\n                p...</td>\n",
       "      <td>per adult on twin sharing</td>\n",
       "    </tr>\n",
       "    <tr>\n",
       "      <th>...</th>\n",
       "      <td>...</td>\n",
       "      <td>...</td>\n",
       "      <td>...</td>\n",
       "      <td>...</td>\n",
       "      <td>...</td>\n",
       "    </tr>\n",
       "    <tr>\n",
       "      <th>4733</th>\n",
       "      <td>Ladakh &amp; Kargil Honeymoon Package for Explorer...</td>\n",
       "      <td>8 Nights / 9 Days</td>\n",
       "      <td>Srinagar(1N) →  Kargil(1N) →  Leh(4N) →  Nubra...</td>\n",
       "      <td>₹ 38,870*\\n                \\n                p...</td>\n",
       "      <td>per adult on twin sharing</td>\n",
       "    </tr>\n",
       "    <tr>\n",
       "      <th>4734</th>\n",
       "      <td>Dazzling Srinagar, Kargil &amp; More</td>\n",
       "      <td>9 Nights / 10 Days</td>\n",
       "      <td>Srinagar(2N) → Kargil(1N) → Ladakh(1N) → Nubra...</td>\n",
       "      <td>₹ 40,500*\\n                \\n                p...</td>\n",
       "      <td>per adult on twin sharing</td>\n",
       "    </tr>\n",
       "    <tr>\n",
       "      <th>4735</th>\n",
       "      <td>Incredible Ladakh, Manali, Nubra &amp; More</td>\n",
       "      <td>9 Nights / 10 Days</td>\n",
       "      <td>Manali(1N) → Srinagar(2N) → Kargil(1N) → Ladak...</td>\n",
       "      <td>₹ 42,000*\\n                \\n                p...</td>\n",
       "      <td>per adult on twin sharing</td>\n",
       "    </tr>\n",
       "    <tr>\n",
       "      <th>4736</th>\n",
       "      <td>Srinagar Ladakh Adventure Tour Package</td>\n",
       "      <td>7 Nights / 8 Days</td>\n",
       "      <td>Srinagar(1N) →  Kargil(1N) →  Leh(3N) →  Nubra...</td>\n",
       "      <td>₹ 23,900*\\n                \\n                p...</td>\n",
       "      <td>per adult on twin sharing</td>\n",
       "    </tr>\n",
       "    <tr>\n",
       "      <th>4737</th>\n",
       "      <td>Shimla to Jammu Ultimate Tour Package for 12 n...</td>\n",
       "      <td>12 Nights / 13 Days</td>\n",
       "      <td>Manali(1N) →  Jispa(1N) →  Leh(3N) →  Nubra Va...</td>\n",
       "      <td>₹ 38,000*\\n                \\n                p...</td>\n",
       "      <td>per adult on twin sharing</td>\n",
       "    </tr>\n",
       "  </tbody>\n",
       "</table>\n",
       "<p>4738 rows × 5 columns</p>\n",
       "</div>"
      ],
      "text/plain": [
       "                                           package_name             duration  \\\n",
       "0                                    Amazing Amaravathi    2 Nights / 3 Days   \n",
       "1                    Alluring Amaravathi and Vijayawada    3 Nights / 4 Days   \n",
       "2              Awesome Amaravathi, Vijaywada & Kakinada    4 Nights / 5 Days   \n",
       "3       Delights of Andhra Pradesh including Amaravathi    6 Nights / 7 Days   \n",
       "4     Gems of Andhra Pradesh Including Amaravathi an...    7 Nights / 8 Days   \n",
       "...                                                 ...                  ...   \n",
       "4733  Ladakh & Kargil Honeymoon Package for Explorer...    8 Nights / 9 Days   \n",
       "4734                   Dazzling Srinagar, Kargil & More   9 Nights / 10 Days   \n",
       "4735            Incredible Ladakh, Manali, Nubra & More   9 Nights / 10 Days   \n",
       "4736             Srinagar Ladakh Adventure Tour Package    7 Nights / 8 Days   \n",
       "4737  Shimla to Jammu Ultimate Tour Package for 12 n...  12 Nights / 13 Days   \n",
       "\n",
       "                                              city_list  \\\n",
       "0                                        Amaravathi(2N)   \n",
       "1                        Amaravathi(1N) → Vijaywada(2N)   \n",
       "2         Amaravathi(1N) → Vijaywada(1N) → Kakinada(2N)   \n",
       "3     Tirupati(1N) → Nellore(1N) → Amaravathi(1N) → ...   \n",
       "4     Tirupati(1N) → Nellore(1N) → Amaravathi(1N) → ...   \n",
       "...                                                 ...   \n",
       "4733  Srinagar(1N) →  Kargil(1N) →  Leh(4N) →  Nubra...   \n",
       "4734  Srinagar(2N) → Kargil(1N) → Ladakh(1N) → Nubra...   \n",
       "4735  Manali(1N) → Srinagar(2N) → Kargil(1N) → Ladak...   \n",
       "4736  Srinagar(1N) →  Kargil(1N) →  Leh(3N) →  Nubra...   \n",
       "4737  Manali(1N) →  Jispa(1N) →  Leh(3N) →  Nubra Va...   \n",
       "\n",
       "                                                  price  \\\n",
       "0     ₹ 8,000*\\n                \\n                pe...   \n",
       "1     ₹ 10,000*\\n                \\n                p...   \n",
       "2     ₹ 12,499*\\n                \\n                p...   \n",
       "3     ₹ 20,000*\\n                \\n                p...   \n",
       "4     ₹ 23,500*\\n                \\n                p...   \n",
       "...                                                 ...   \n",
       "4733  ₹ 38,870*\\n                \\n                p...   \n",
       "4734  ₹ 40,500*\\n                \\n                p...   \n",
       "4735  ₹ 42,000*\\n                \\n                p...   \n",
       "4736  ₹ 23,900*\\n                \\n                p...   \n",
       "4737  ₹ 38,000*\\n                \\n                p...   \n",
       "\n",
       "                        persons  \n",
       "0     per adult on twin sharing  \n",
       "1     per adult on twin sharing  \n",
       "2     per adult on twin sharing  \n",
       "3     per adult on twin sharing  \n",
       "4     per adult on twin sharing  \n",
       "...                         ...  \n",
       "4733  per adult on twin sharing  \n",
       "4734  per adult on twin sharing  \n",
       "4735  per adult on twin sharing  \n",
       "4736  per adult on twin sharing  \n",
       "4737  per adult on twin sharing  \n",
       "\n",
       "[4738 rows x 5 columns]"
      ]
     },
     "execution_count": 9,
     "metadata": {},
     "output_type": "execute_result"
    }
   ],
   "source": [
    "df4"
   ]
  },
  {
   "cell_type": "code",
   "execution_count": 10,
   "id": "f6a2683b",
   "metadata": {
    "ExecuteTime": {
     "end_time": "2024-10-02T10:03:49.599197Z",
     "start_time": "2024-10-02T10:03:49.591214Z"
    }
   },
   "outputs": [
    {
     "data": {
      "text/plain": [
       "(4738, 5)"
      ]
     },
     "execution_count": 10,
     "metadata": {},
     "output_type": "execute_result"
    }
   ],
   "source": [
    "df4.shape"
   ]
  },
  {
   "cell_type": "code",
   "execution_count": 14,
   "id": "d4262e73",
   "metadata": {
    "ExecuteTime": {
     "end_time": "2024-10-02T10:05:07.564920Z",
     "start_time": "2024-10-02T10:05:07.549219Z"
    }
   },
   "outputs": [
    {
     "name": "stdout",
     "output_type": "stream",
     "text": [
      "<class 'pandas.core.frame.DataFrame'>\n",
      "RangeIndex: 4738 entries, 0 to 4737\n",
      "Data columns (total 5 columns):\n",
      " #   Column        Non-Null Count  Dtype \n",
      "---  ------        --------------  ----- \n",
      " 0   package_name  4738 non-null   object\n",
      " 1   duration      4738 non-null   object\n",
      " 2   city_list     4735 non-null   object\n",
      " 3   price         4738 non-null   object\n",
      " 4   persons       4738 non-null   object\n",
      "dtypes: object(5)\n",
      "memory usage: 185.2+ KB\n"
     ]
    }
   ],
   "source": [
    "df4.info()"
   ]
  },
  {
   "cell_type": "code",
   "execution_count": 15,
   "id": "765cb7a2",
   "metadata": {
    "ExecuteTime": {
     "end_time": "2024-10-02T10:06:18.848015Z",
     "start_time": "2024-10-02T10:06:18.795208Z"
    }
   },
   "outputs": [],
   "source": [
    "df5 = pd.concat([df1, df2], ignore_index=True)"
   ]
  },
  {
   "cell_type": "code",
   "execution_count": 17,
   "id": "cd17765d",
   "metadata": {
    "ExecuteTime": {
     "end_time": "2024-10-02T10:07:22.246313Z",
     "start_time": "2024-10-02T10:07:22.239354Z"
    }
   },
   "outputs": [],
   "source": [
    "df6 = pd.concat([df5, df3], ignore_index=True)"
   ]
  },
  {
   "cell_type": "code",
   "execution_count": 19,
   "id": "611979ef",
   "metadata": {
    "ExecuteTime": {
     "end_time": "2024-10-02T10:08:31.436236Z",
     "start_time": "2024-10-02T10:08:31.428606Z"
    }
   },
   "outputs": [],
   "source": [
    "final_df = pd.concat([df6, df4], ignore_index=True)"
   ]
  },
  {
   "cell_type": "code",
   "execution_count": 20,
   "id": "dc0d83aa",
   "metadata": {
    "ExecuteTime": {
     "end_time": "2024-10-02T10:08:38.123704Z",
     "start_time": "2024-10-02T10:08:38.100868Z"
    }
   },
   "outputs": [
    {
     "data": {
      "text/html": [
       "<div>\n",
       "<style scoped>\n",
       "    .dataframe tbody tr th:only-of-type {\n",
       "        vertical-align: middle;\n",
       "    }\n",
       "\n",
       "    .dataframe tbody tr th {\n",
       "        vertical-align: top;\n",
       "    }\n",
       "\n",
       "    .dataframe thead th {\n",
       "        text-align: right;\n",
       "    }\n",
       "</style>\n",
       "<table border=\"1\" class=\"dataframe\">\n",
       "  <thead>\n",
       "    <tr style=\"text-align: right;\">\n",
       "      <th></th>\n",
       "      <th>package_name</th>\n",
       "      <th>duration</th>\n",
       "      <th>city_list</th>\n",
       "      <th>price</th>\n",
       "      <th>persons</th>\n",
       "    </tr>\n",
       "  </thead>\n",
       "  <tbody>\n",
       "    <tr>\n",
       "      <th>0</th>\n",
       "      <td>Amazing Amaravathi</td>\n",
       "      <td>2 Nights / 3 Days</td>\n",
       "      <td>Amaravathi(2N)</td>\n",
       "      <td>₹ 8,000*\\n                \\n                pe...</td>\n",
       "      <td>per adult on twin sharing</td>\n",
       "    </tr>\n",
       "    <tr>\n",
       "      <th>1</th>\n",
       "      <td>Alluring Amaravathi and Vijayawada</td>\n",
       "      <td>3 Nights / 4 Days</td>\n",
       "      <td>Amaravathi(1N) → Vijaywada(2N)</td>\n",
       "      <td>₹ 10,000*\\n                \\n                p...</td>\n",
       "      <td>per adult on twin sharing</td>\n",
       "    </tr>\n",
       "    <tr>\n",
       "      <th>2</th>\n",
       "      <td>Awesome Amaravathi, Vijaywada &amp; Kakinada</td>\n",
       "      <td>4 Nights / 5 Days</td>\n",
       "      <td>Amaravathi(1N) → Vijaywada(1N) → Kakinada(2N)</td>\n",
       "      <td>₹ 12,499*\\n                \\n                p...</td>\n",
       "      <td>per adult on twin sharing</td>\n",
       "    </tr>\n",
       "    <tr>\n",
       "      <th>3</th>\n",
       "      <td>Delights of Andhra Pradesh including Amaravathi</td>\n",
       "      <td>6 Nights / 7 Days</td>\n",
       "      <td>Tirupati(1N) → Nellore(1N) → Amaravathi(1N) → ...</td>\n",
       "      <td>₹ 20,000*\\n                \\n                p...</td>\n",
       "      <td>per adult on twin sharing</td>\n",
       "    </tr>\n",
       "    <tr>\n",
       "      <th>4</th>\n",
       "      <td>Gems of Andhra Pradesh Including Amaravathi an...</td>\n",
       "      <td>7 Nights / 8 Days</td>\n",
       "      <td>Tirupati(1N) → Nellore(1N) → Amaravathi(1N) → ...</td>\n",
       "      <td>₹ 23,500*\\n                \\n                p...</td>\n",
       "      <td>per adult on twin sharing</td>\n",
       "    </tr>\n",
       "    <tr>\n",
       "      <th>...</th>\n",
       "      <td>...</td>\n",
       "      <td>...</td>\n",
       "      <td>...</td>\n",
       "      <td>...</td>\n",
       "      <td>...</td>\n",
       "    </tr>\n",
       "    <tr>\n",
       "      <th>12165</th>\n",
       "      <td>Ladakh &amp; Kargil Honeymoon Package for Explorer...</td>\n",
       "      <td>8 Nights / 9 Days</td>\n",
       "      <td>Srinagar(1N) →  Kargil(1N) →  Leh(4N) →  Nubra...</td>\n",
       "      <td>₹ 38,870*\\n                \\n                p...</td>\n",
       "      <td>per adult on twin sharing</td>\n",
       "    </tr>\n",
       "    <tr>\n",
       "      <th>12166</th>\n",
       "      <td>Dazzling Srinagar, Kargil &amp; More</td>\n",
       "      <td>9 Nights / 10 Days</td>\n",
       "      <td>Srinagar(2N) → Kargil(1N) → Ladakh(1N) → Nubra...</td>\n",
       "      <td>₹ 40,500*\\n                \\n                p...</td>\n",
       "      <td>per adult on twin sharing</td>\n",
       "    </tr>\n",
       "    <tr>\n",
       "      <th>12167</th>\n",
       "      <td>Incredible Ladakh, Manali, Nubra &amp; More</td>\n",
       "      <td>9 Nights / 10 Days</td>\n",
       "      <td>Manali(1N) → Srinagar(2N) → Kargil(1N) → Ladak...</td>\n",
       "      <td>₹ 42,000*\\n                \\n                p...</td>\n",
       "      <td>per adult on twin sharing</td>\n",
       "    </tr>\n",
       "    <tr>\n",
       "      <th>12168</th>\n",
       "      <td>Srinagar Ladakh Adventure Tour Package</td>\n",
       "      <td>7 Nights / 8 Days</td>\n",
       "      <td>Srinagar(1N) →  Kargil(1N) →  Leh(3N) →  Nubra...</td>\n",
       "      <td>₹ 23,900*\\n                \\n                p...</td>\n",
       "      <td>per adult on twin sharing</td>\n",
       "    </tr>\n",
       "    <tr>\n",
       "      <th>12169</th>\n",
       "      <td>Shimla to Jammu Ultimate Tour Package for 12 n...</td>\n",
       "      <td>12 Nights / 13 Days</td>\n",
       "      <td>Manali(1N) →  Jispa(1N) →  Leh(3N) →  Nubra Va...</td>\n",
       "      <td>₹ 38,000*\\n                \\n                p...</td>\n",
       "      <td>per adult on twin sharing</td>\n",
       "    </tr>\n",
       "  </tbody>\n",
       "</table>\n",
       "<p>12170 rows × 5 columns</p>\n",
       "</div>"
      ],
      "text/plain": [
       "                                            package_name             duration  \\\n",
       "0                                     Amazing Amaravathi    2 Nights / 3 Days   \n",
       "1                     Alluring Amaravathi and Vijayawada    3 Nights / 4 Days   \n",
       "2               Awesome Amaravathi, Vijaywada & Kakinada    4 Nights / 5 Days   \n",
       "3        Delights of Andhra Pradesh including Amaravathi    6 Nights / 7 Days   \n",
       "4      Gems of Andhra Pradesh Including Amaravathi an...    7 Nights / 8 Days   \n",
       "...                                                  ...                  ...   \n",
       "12165  Ladakh & Kargil Honeymoon Package for Explorer...    8 Nights / 9 Days   \n",
       "12166                   Dazzling Srinagar, Kargil & More   9 Nights / 10 Days   \n",
       "12167            Incredible Ladakh, Manali, Nubra & More   9 Nights / 10 Days   \n",
       "12168             Srinagar Ladakh Adventure Tour Package    7 Nights / 8 Days   \n",
       "12169  Shimla to Jammu Ultimate Tour Package for 12 n...  12 Nights / 13 Days   \n",
       "\n",
       "                                               city_list  \\\n",
       "0                                         Amaravathi(2N)   \n",
       "1                         Amaravathi(1N) → Vijaywada(2N)   \n",
       "2          Amaravathi(1N) → Vijaywada(1N) → Kakinada(2N)   \n",
       "3      Tirupati(1N) → Nellore(1N) → Amaravathi(1N) → ...   \n",
       "4      Tirupati(1N) → Nellore(1N) → Amaravathi(1N) → ...   \n",
       "...                                                  ...   \n",
       "12165  Srinagar(1N) →  Kargil(1N) →  Leh(4N) →  Nubra...   \n",
       "12166  Srinagar(2N) → Kargil(1N) → Ladakh(1N) → Nubra...   \n",
       "12167  Manali(1N) → Srinagar(2N) → Kargil(1N) → Ladak...   \n",
       "12168  Srinagar(1N) →  Kargil(1N) →  Leh(3N) →  Nubra...   \n",
       "12169  Manali(1N) →  Jispa(1N) →  Leh(3N) →  Nubra Va...   \n",
       "\n",
       "                                                   price  \\\n",
       "0      ₹ 8,000*\\n                \\n                pe...   \n",
       "1      ₹ 10,000*\\n                \\n                p...   \n",
       "2      ₹ 12,499*\\n                \\n                p...   \n",
       "3      ₹ 20,000*\\n                \\n                p...   \n",
       "4      ₹ 23,500*\\n                \\n                p...   \n",
       "...                                                  ...   \n",
       "12165  ₹ 38,870*\\n                \\n                p...   \n",
       "12166  ₹ 40,500*\\n                \\n                p...   \n",
       "12167  ₹ 42,000*\\n                \\n                p...   \n",
       "12168  ₹ 23,900*\\n                \\n                p...   \n",
       "12169  ₹ 38,000*\\n                \\n                p...   \n",
       "\n",
       "                         persons  \n",
       "0      per adult on twin sharing  \n",
       "1      per adult on twin sharing  \n",
       "2      per adult on twin sharing  \n",
       "3      per adult on twin sharing  \n",
       "4      per adult on twin sharing  \n",
       "...                          ...  \n",
       "12165  per adult on twin sharing  \n",
       "12166  per adult on twin sharing  \n",
       "12167  per adult on twin sharing  \n",
       "12168  per adult on twin sharing  \n",
       "12169  per adult on twin sharing  \n",
       "\n",
       "[12170 rows x 5 columns]"
      ]
     },
     "execution_count": 20,
     "metadata": {},
     "output_type": "execute_result"
    }
   ],
   "source": [
    "final_df"
   ]
  },
  {
   "cell_type": "code",
   "execution_count": 21,
   "id": "13cf172b",
   "metadata": {
    "ExecuteTime": {
     "end_time": "2024-10-02T10:09:47.668094Z",
     "start_time": "2024-10-02T10:09:47.659406Z"
    }
   },
   "outputs": [
    {
     "data": {
      "text/plain": [
       "(12170, 5)"
      ]
     },
     "execution_count": 21,
     "metadata": {},
     "output_type": "execute_result"
    }
   ],
   "source": [
    "final_df.shape"
   ]
  },
  {
   "cell_type": "code",
   "execution_count": 22,
   "id": "60d19896",
   "metadata": {
    "ExecuteTime": {
     "end_time": "2024-10-02T10:09:59.144212Z",
     "start_time": "2024-10-02T10:09:59.114224Z"
    }
   },
   "outputs": [
    {
     "name": "stdout",
     "output_type": "stream",
     "text": [
      "<class 'pandas.core.frame.DataFrame'>\n",
      "RangeIndex: 12170 entries, 0 to 12169\n",
      "Data columns (total 5 columns):\n",
      " #   Column        Non-Null Count  Dtype \n",
      "---  ------        --------------  ----- \n",
      " 0   package_name  12170 non-null  object\n",
      " 1   duration      12170 non-null  object\n",
      " 2   city_list     12165 non-null  object\n",
      " 3   price         12170 non-null  object\n",
      " 4   persons       12170 non-null  object\n",
      "dtypes: object(5)\n",
      "memory usage: 475.5+ KB\n"
     ]
    }
   ],
   "source": [
    "final_df.info()"
   ]
  },
  {
   "cell_type": "code",
   "execution_count": 25,
   "id": "d5a2c12c",
   "metadata": {
    "ExecuteTime": {
     "end_time": "2024-10-02T10:11:11.480012Z",
     "start_time": "2024-10-02T10:11:11.456200Z"
    }
   },
   "outputs": [
    {
     "data": {
      "text/plain": [
       "9675"
      ]
     },
     "execution_count": 25,
     "metadata": {},
     "output_type": "execute_result"
    }
   ],
   "source": [
    "final_df.duplicated().sum()"
   ]
  },
  {
   "cell_type": "code",
   "execution_count": 24,
   "id": "1b9e0754",
   "metadata": {
    "ExecuteTime": {
     "end_time": "2024-10-02T10:10:42.935124Z",
     "start_time": "2024-10-02T10:10:42.797085Z"
    }
   },
   "outputs": [
    {
     "data": {
      "text/html": [
       "<div>\n",
       "<style scoped>\n",
       "    .dataframe tbody tr th:only-of-type {\n",
       "        vertical-align: middle;\n",
       "    }\n",
       "\n",
       "    .dataframe tbody tr th {\n",
       "        vertical-align: top;\n",
       "    }\n",
       "\n",
       "    .dataframe thead th {\n",
       "        text-align: right;\n",
       "    }\n",
       "</style>\n",
       "<table border=\"1\" class=\"dataframe\">\n",
       "  <thead>\n",
       "    <tr style=\"text-align: right;\">\n",
       "      <th></th>\n",
       "      <th>package_name</th>\n",
       "      <th>duration</th>\n",
       "      <th>city_list</th>\n",
       "      <th>price</th>\n",
       "      <th>persons</th>\n",
       "    </tr>\n",
       "  </thead>\n",
       "  <tbody>\n",
       "    <tr>\n",
       "      <th>55</th>\n",
       "      <td>Arunachal Pradesh Tour Itinerary - 8 Nights Pa...</td>\n",
       "      <td>8 Nights / 9 Days</td>\n",
       "      <td>Guwahati(0N) →  Bhalukpong(1N) →  Dirang(1N) →...</td>\n",
       "      <td>₹ 37,000*\\n                \\n                p...</td>\n",
       "      <td>per adult on twin sharing</td>\n",
       "    </tr>\n",
       "    <tr>\n",
       "      <th>60</th>\n",
       "      <td>Group Tour to Arunachal Pradesh Package</td>\n",
       "      <td>7 Nights / 8 Days</td>\n",
       "      <td>Guwahati(0N) → Dirang(1N) → Tawang(2N) → Bomdi...</td>\n",
       "      <td>₹ 29,999*\\n                \\n                p...</td>\n",
       "      <td>per adult on twin sharing</td>\n",
       "    </tr>\n",
       "    <tr>\n",
       "      <th>61</th>\n",
       "      <td>7N/8D Tawang Bomdila Ziro Itanagar Group Tour ...</td>\n",
       "      <td>7 Nights / 8 Days</td>\n",
       "      <td>Dirang(1N) →  Tawang(2N) →  Bomdila(1N) →  Zir...</td>\n",
       "      <td>₹ 29,999*\\n                \\n                p...</td>\n",
       "      <td>per adult on twin sharing</td>\n",
       "    </tr>\n",
       "    <tr>\n",
       "      <th>62</th>\n",
       "      <td>Group Tour to Arunachal Pradesh Package</td>\n",
       "      <td>7 Nights / 8 Days</td>\n",
       "      <td>Guwahati(0N) → Dirang(1N) → Tawang(2N) → Bomdi...</td>\n",
       "      <td>₹ 29,999*\\n                \\n                p...</td>\n",
       "      <td>per adult on twin sharing</td>\n",
       "    </tr>\n",
       "    <tr>\n",
       "      <th>64</th>\n",
       "      <td>Arunachal Pradesh Tour Itinerary - 8 Nights Pa...</td>\n",
       "      <td>8 Nights / 9 Days</td>\n",
       "      <td>Guwahati(0N) →  Bhalukpong(1N) →  Dirang(1N) →...</td>\n",
       "      <td>₹ 37,000*\\n                \\n                p...</td>\n",
       "      <td>per adult on twin sharing</td>\n",
       "    </tr>\n",
       "    <tr>\n",
       "      <th>...</th>\n",
       "      <td>...</td>\n",
       "      <td>...</td>\n",
       "      <td>...</td>\n",
       "      <td>...</td>\n",
       "      <td>...</td>\n",
       "    </tr>\n",
       "    <tr>\n",
       "      <th>12165</th>\n",
       "      <td>Ladakh &amp; Kargil Honeymoon Package for Explorer...</td>\n",
       "      <td>8 Nights / 9 Days</td>\n",
       "      <td>Srinagar(1N) →  Kargil(1N) →  Leh(4N) →  Nubra...</td>\n",
       "      <td>₹ 38,870*\\n                \\n                p...</td>\n",
       "      <td>per adult on twin sharing</td>\n",
       "    </tr>\n",
       "    <tr>\n",
       "      <th>12166</th>\n",
       "      <td>Dazzling Srinagar, Kargil &amp; More</td>\n",
       "      <td>9 Nights / 10 Days</td>\n",
       "      <td>Srinagar(2N) → Kargil(1N) → Ladakh(1N) → Nubra...</td>\n",
       "      <td>₹ 40,500*\\n                \\n                p...</td>\n",
       "      <td>per adult on twin sharing</td>\n",
       "    </tr>\n",
       "    <tr>\n",
       "      <th>12167</th>\n",
       "      <td>Incredible Ladakh, Manali, Nubra &amp; More</td>\n",
       "      <td>9 Nights / 10 Days</td>\n",
       "      <td>Manali(1N) → Srinagar(2N) → Kargil(1N) → Ladak...</td>\n",
       "      <td>₹ 42,000*\\n                \\n                p...</td>\n",
       "      <td>per adult on twin sharing</td>\n",
       "    </tr>\n",
       "    <tr>\n",
       "      <th>12168</th>\n",
       "      <td>Srinagar Ladakh Adventure Tour Package</td>\n",
       "      <td>7 Nights / 8 Days</td>\n",
       "      <td>Srinagar(1N) →  Kargil(1N) →  Leh(3N) →  Nubra...</td>\n",
       "      <td>₹ 23,900*\\n                \\n                p...</td>\n",
       "      <td>per adult on twin sharing</td>\n",
       "    </tr>\n",
       "    <tr>\n",
       "      <th>12169</th>\n",
       "      <td>Shimla to Jammu Ultimate Tour Package for 12 n...</td>\n",
       "      <td>12 Nights / 13 Days</td>\n",
       "      <td>Manali(1N) →  Jispa(1N) →  Leh(3N) →  Nubra Va...</td>\n",
       "      <td>₹ 38,000*\\n                \\n                p...</td>\n",
       "      <td>per adult on twin sharing</td>\n",
       "    </tr>\n",
       "  </tbody>\n",
       "</table>\n",
       "<p>9675 rows × 5 columns</p>\n",
       "</div>"
      ],
      "text/plain": [
       "                                            package_name             duration  \\\n",
       "55     Arunachal Pradesh Tour Itinerary - 8 Nights Pa...    8 Nights / 9 Days   \n",
       "60               Group Tour to Arunachal Pradesh Package    7 Nights / 8 Days   \n",
       "61     7N/8D Tawang Bomdila Ziro Itanagar Group Tour ...    7 Nights / 8 Days   \n",
       "62               Group Tour to Arunachal Pradesh Package    7 Nights / 8 Days   \n",
       "64     Arunachal Pradesh Tour Itinerary - 8 Nights Pa...    8 Nights / 9 Days   \n",
       "...                                                  ...                  ...   \n",
       "12165  Ladakh & Kargil Honeymoon Package for Explorer...    8 Nights / 9 Days   \n",
       "12166                   Dazzling Srinagar, Kargil & More   9 Nights / 10 Days   \n",
       "12167            Incredible Ladakh, Manali, Nubra & More   9 Nights / 10 Days   \n",
       "12168             Srinagar Ladakh Adventure Tour Package    7 Nights / 8 Days   \n",
       "12169  Shimla to Jammu Ultimate Tour Package for 12 n...  12 Nights / 13 Days   \n",
       "\n",
       "                                               city_list  \\\n",
       "55     Guwahati(0N) →  Bhalukpong(1N) →  Dirang(1N) →...   \n",
       "60     Guwahati(0N) → Dirang(1N) → Tawang(2N) → Bomdi...   \n",
       "61     Dirang(1N) →  Tawang(2N) →  Bomdila(1N) →  Zir...   \n",
       "62     Guwahati(0N) → Dirang(1N) → Tawang(2N) → Bomdi...   \n",
       "64     Guwahati(0N) →  Bhalukpong(1N) →  Dirang(1N) →...   \n",
       "...                                                  ...   \n",
       "12165  Srinagar(1N) →  Kargil(1N) →  Leh(4N) →  Nubra...   \n",
       "12166  Srinagar(2N) → Kargil(1N) → Ladakh(1N) → Nubra...   \n",
       "12167  Manali(1N) → Srinagar(2N) → Kargil(1N) → Ladak...   \n",
       "12168  Srinagar(1N) →  Kargil(1N) →  Leh(3N) →  Nubra...   \n",
       "12169  Manali(1N) →  Jispa(1N) →  Leh(3N) →  Nubra Va...   \n",
       "\n",
       "                                                   price  \\\n",
       "55     ₹ 37,000*\\n                \\n                p...   \n",
       "60     ₹ 29,999*\\n                \\n                p...   \n",
       "61     ₹ 29,999*\\n                \\n                p...   \n",
       "62     ₹ 29,999*\\n                \\n                p...   \n",
       "64     ₹ 37,000*\\n                \\n                p...   \n",
       "...                                                  ...   \n",
       "12165  ₹ 38,870*\\n                \\n                p...   \n",
       "12166  ₹ 40,500*\\n                \\n                p...   \n",
       "12167  ₹ 42,000*\\n                \\n                p...   \n",
       "12168  ₹ 23,900*\\n                \\n                p...   \n",
       "12169  ₹ 38,000*\\n                \\n                p...   \n",
       "\n",
       "                         persons  \n",
       "55     per adult on twin sharing  \n",
       "60     per adult on twin sharing  \n",
       "61     per adult on twin sharing  \n",
       "62     per adult on twin sharing  \n",
       "64     per adult on twin sharing  \n",
       "...                          ...  \n",
       "12165  per adult on twin sharing  \n",
       "12166  per adult on twin sharing  \n",
       "12167  per adult on twin sharing  \n",
       "12168  per adult on twin sharing  \n",
       "12169  per adult on twin sharing  \n",
       "\n",
       "[9675 rows x 5 columns]"
      ]
     },
     "execution_count": 24,
     "metadata": {},
     "output_type": "execute_result"
    }
   ],
   "source": [
    "final_df[final_df.duplicated()]"
   ]
  },
  {
   "cell_type": "code",
   "execution_count": 33,
   "id": "02e61e36",
   "metadata": {
    "ExecuteTime": {
     "end_time": "2024-10-02T10:14:43.679248Z",
     "start_time": "2024-10-02T10:14:43.657330Z"
    }
   },
   "outputs": [
    {
     "data": {
      "text/html": [
       "<div>\n",
       "<style scoped>\n",
       "    .dataframe tbody tr th:only-of-type {\n",
       "        vertical-align: middle;\n",
       "    }\n",
       "\n",
       "    .dataframe tbody tr th {\n",
       "        vertical-align: top;\n",
       "    }\n",
       "\n",
       "    .dataframe thead th {\n",
       "        text-align: right;\n",
       "    }\n",
       "</style>\n",
       "<table border=\"1\" class=\"dataframe\">\n",
       "  <thead>\n",
       "    <tr style=\"text-align: right;\">\n",
       "      <th></th>\n",
       "      <th>package_name</th>\n",
       "      <th>duration</th>\n",
       "      <th>city_list</th>\n",
       "      <th>price</th>\n",
       "      <th>persons</th>\n",
       "    </tr>\n",
       "  </thead>\n",
       "  <tbody>\n",
       "    <tr>\n",
       "      <th>3153</th>\n",
       "      <td>Srinagar Ladakh Adventure Tour Package</td>\n",
       "      <td>7 Nights / 8 Days</td>\n",
       "      <td>Srinagar(1N) →  Kargil(1N) →  Leh(3N) →  Nubra...</td>\n",
       "      <td>₹ 23,900*\\n                \\n                p...</td>\n",
       "      <td>per adult on twin sharing</td>\n",
       "    </tr>\n",
       "    <tr>\n",
       "      <th>3347</th>\n",
       "      <td>Srinagar Ladakh Adventure Tour Package</td>\n",
       "      <td>7 Nights / 8 Days</td>\n",
       "      <td>Srinagar(1N) →  Kargil(1N) →  Leh(3N) →  Nubra...</td>\n",
       "      <td>₹ 23,900*\\n                \\n                p...</td>\n",
       "      <td>per adult on twin sharing</td>\n",
       "    </tr>\n",
       "    <tr>\n",
       "      <th>3460</th>\n",
       "      <td>Srinagar Ladakh Adventure Tour Package</td>\n",
       "      <td>7 Nights / 8 Days</td>\n",
       "      <td>Srinagar(1N) →  Kargil(1N) →  Leh(3N) →  Nubra...</td>\n",
       "      <td>₹ 23,900*\\n                \\n                p...</td>\n",
       "      <td>per adult on twin sharing</td>\n",
       "    </tr>\n",
       "    <tr>\n",
       "      <th>3532</th>\n",
       "      <td>Srinagar Ladakh Adventure Tour Package</td>\n",
       "      <td>7 Nights / 8 Days</td>\n",
       "      <td>Srinagar(1N) →  Kargil(1N) →  Leh(3N) →  Nubra...</td>\n",
       "      <td>₹ 23,900*\\n                \\n                p...</td>\n",
       "      <td>per adult on twin sharing</td>\n",
       "    </tr>\n",
       "    <tr>\n",
       "      <th>6434</th>\n",
       "      <td>Srinagar Ladakh Adventure Tour Package</td>\n",
       "      <td>7 Nights / 8 Days</td>\n",
       "      <td>Srinagar(1N) →  Kargil(1N) →  Leh(3N) →  Nubra...</td>\n",
       "      <td>₹ 23,900*\\n                \\n                p...</td>\n",
       "      <td>per adult on twin sharing</td>\n",
       "    </tr>\n",
       "    <tr>\n",
       "      <th>6725</th>\n",
       "      <td>Srinagar Ladakh Adventure Tour Package</td>\n",
       "      <td>7 Nights / 8 Days</td>\n",
       "      <td>Srinagar(1N) →  Kargil(1N) →  Leh(3N) →  Nubra...</td>\n",
       "      <td>₹ 23,900*\\n                \\n                p...</td>\n",
       "      <td>per adult on twin sharing</td>\n",
       "    </tr>\n",
       "    <tr>\n",
       "      <th>6936</th>\n",
       "      <td>Srinagar Ladakh Adventure Tour Package</td>\n",
       "      <td>7 Nights / 8 Days</td>\n",
       "      <td>Srinagar(1N) →  Kargil(1N) →  Leh(3N) →  Nubra...</td>\n",
       "      <td>₹ 23,900*\\n                \\n                p...</td>\n",
       "      <td>per adult on twin sharing</td>\n",
       "    </tr>\n",
       "    <tr>\n",
       "      <th>7430</th>\n",
       "      <td>Srinagar Ladakh Adventure Tour Package</td>\n",
       "      <td>7 Nights / 8 Days</td>\n",
       "      <td>Srinagar(1N) →  Kargil(1N) →  Leh(3N) →  Nubra...</td>\n",
       "      <td>₹ 23,900*\\n                \\n                p...</td>\n",
       "      <td>per adult on twin sharing</td>\n",
       "    </tr>\n",
       "    <tr>\n",
       "      <th>11550</th>\n",
       "      <td>Srinagar Ladakh Adventure Tour Package</td>\n",
       "      <td>7 Nights / 8 Days</td>\n",
       "      <td>Srinagar(1N) →  Kargil(1N) →  Leh(3N) →  Nubra...</td>\n",
       "      <td>₹ 23,900*\\n                \\n                p...</td>\n",
       "      <td>per adult on twin sharing</td>\n",
       "    </tr>\n",
       "    <tr>\n",
       "      <th>11943</th>\n",
       "      <td>Srinagar Ladakh Adventure Tour Package</td>\n",
       "      <td>7 Nights / 8 Days</td>\n",
       "      <td>Srinagar(1N) →  Kargil(1N) →  Leh(3N) →  Nubra...</td>\n",
       "      <td>₹ 23,900*\\n                \\n                p...</td>\n",
       "      <td>per adult on twin sharing</td>\n",
       "    </tr>\n",
       "    <tr>\n",
       "      <th>11952</th>\n",
       "      <td>Srinagar Ladakh Adventure Tour Package</td>\n",
       "      <td>7 Nights / 8 Days</td>\n",
       "      <td>Srinagar(1N) →  Kargil(1N) →  Leh(3N) →  Nubra...</td>\n",
       "      <td>₹ 23,900*\\n                \\n                p...</td>\n",
       "      <td>per adult on twin sharing</td>\n",
       "    </tr>\n",
       "    <tr>\n",
       "      <th>12089</th>\n",
       "      <td>Srinagar Ladakh Adventure Tour Package</td>\n",
       "      <td>7 Nights / 8 Days</td>\n",
       "      <td>Srinagar(1N) →  Kargil(1N) →  Leh(3N) →  Nubra...</td>\n",
       "      <td>₹ 23,900*\\n                \\n                p...</td>\n",
       "      <td>per adult on twin sharing</td>\n",
       "    </tr>\n",
       "    <tr>\n",
       "      <th>12144</th>\n",
       "      <td>Srinagar Ladakh Adventure Tour Package</td>\n",
       "      <td>7 Nights / 8 Days</td>\n",
       "      <td>Srinagar(1N) →  Kargil(1N) →  Leh(3N) →  Nubra...</td>\n",
       "      <td>₹ 23,900*\\n                \\n                p...</td>\n",
       "      <td>per adult on twin sharing</td>\n",
       "    </tr>\n",
       "    <tr>\n",
       "      <th>12168</th>\n",
       "      <td>Srinagar Ladakh Adventure Tour Package</td>\n",
       "      <td>7 Nights / 8 Days</td>\n",
       "      <td>Srinagar(1N) →  Kargil(1N) →  Leh(3N) →  Nubra...</td>\n",
       "      <td>₹ 23,900*\\n                \\n                p...</td>\n",
       "      <td>per adult on twin sharing</td>\n",
       "    </tr>\n",
       "  </tbody>\n",
       "</table>\n",
       "</div>"
      ],
      "text/plain": [
       "                                 package_name           duration  \\\n",
       "3153   Srinagar Ladakh Adventure Tour Package  7 Nights / 8 Days   \n",
       "3347   Srinagar Ladakh Adventure Tour Package  7 Nights / 8 Days   \n",
       "3460   Srinagar Ladakh Adventure Tour Package  7 Nights / 8 Days   \n",
       "3532   Srinagar Ladakh Adventure Tour Package  7 Nights / 8 Days   \n",
       "6434   Srinagar Ladakh Adventure Tour Package  7 Nights / 8 Days   \n",
       "6725   Srinagar Ladakh Adventure Tour Package  7 Nights / 8 Days   \n",
       "6936   Srinagar Ladakh Adventure Tour Package  7 Nights / 8 Days   \n",
       "7430   Srinagar Ladakh Adventure Tour Package  7 Nights / 8 Days   \n",
       "11550  Srinagar Ladakh Adventure Tour Package  7 Nights / 8 Days   \n",
       "11943  Srinagar Ladakh Adventure Tour Package  7 Nights / 8 Days   \n",
       "11952  Srinagar Ladakh Adventure Tour Package  7 Nights / 8 Days   \n",
       "12089  Srinagar Ladakh Adventure Tour Package  7 Nights / 8 Days   \n",
       "12144  Srinagar Ladakh Adventure Tour Package  7 Nights / 8 Days   \n",
       "12168  Srinagar Ladakh Adventure Tour Package  7 Nights / 8 Days   \n",
       "\n",
       "                                               city_list  \\\n",
       "3153   Srinagar(1N) →  Kargil(1N) →  Leh(3N) →  Nubra...   \n",
       "3347   Srinagar(1N) →  Kargil(1N) →  Leh(3N) →  Nubra...   \n",
       "3460   Srinagar(1N) →  Kargil(1N) →  Leh(3N) →  Nubra...   \n",
       "3532   Srinagar(1N) →  Kargil(1N) →  Leh(3N) →  Nubra...   \n",
       "6434   Srinagar(1N) →  Kargil(1N) →  Leh(3N) →  Nubra...   \n",
       "6725   Srinagar(1N) →  Kargil(1N) →  Leh(3N) →  Nubra...   \n",
       "6936   Srinagar(1N) →  Kargil(1N) →  Leh(3N) →  Nubra...   \n",
       "7430   Srinagar(1N) →  Kargil(1N) →  Leh(3N) →  Nubra...   \n",
       "11550  Srinagar(1N) →  Kargil(1N) →  Leh(3N) →  Nubra...   \n",
       "11943  Srinagar(1N) →  Kargil(1N) →  Leh(3N) →  Nubra...   \n",
       "11952  Srinagar(1N) →  Kargil(1N) →  Leh(3N) →  Nubra...   \n",
       "12089  Srinagar(1N) →  Kargil(1N) →  Leh(3N) →  Nubra...   \n",
       "12144  Srinagar(1N) →  Kargil(1N) →  Leh(3N) →  Nubra...   \n",
       "12168  Srinagar(1N) →  Kargil(1N) →  Leh(3N) →  Nubra...   \n",
       "\n",
       "                                                   price  \\\n",
       "3153   ₹ 23,900*\\n                \\n                p...   \n",
       "3347   ₹ 23,900*\\n                \\n                p...   \n",
       "3460   ₹ 23,900*\\n                \\n                p...   \n",
       "3532   ₹ 23,900*\\n                \\n                p...   \n",
       "6434   ₹ 23,900*\\n                \\n                p...   \n",
       "6725   ₹ 23,900*\\n                \\n                p...   \n",
       "6936   ₹ 23,900*\\n                \\n                p...   \n",
       "7430   ₹ 23,900*\\n                \\n                p...   \n",
       "11550  ₹ 23,900*\\n                \\n                p...   \n",
       "11943  ₹ 23,900*\\n                \\n                p...   \n",
       "11952  ₹ 23,900*\\n                \\n                p...   \n",
       "12089  ₹ 23,900*\\n                \\n                p...   \n",
       "12144  ₹ 23,900*\\n                \\n                p...   \n",
       "12168  ₹ 23,900*\\n                \\n                p...   \n",
       "\n",
       "                         persons  \n",
       "3153   per adult on twin sharing  \n",
       "3347   per adult on twin sharing  \n",
       "3460   per adult on twin sharing  \n",
       "3532   per adult on twin sharing  \n",
       "6434   per adult on twin sharing  \n",
       "6725   per adult on twin sharing  \n",
       "6936   per adult on twin sharing  \n",
       "7430   per adult on twin sharing  \n",
       "11550  per adult on twin sharing  \n",
       "11943  per adult on twin sharing  \n",
       "11952  per adult on twin sharing  \n",
       "12089  per adult on twin sharing  \n",
       "12144  per adult on twin sharing  \n",
       "12168  per adult on twin sharing  "
      ]
     },
     "execution_count": 33,
     "metadata": {},
     "output_type": "execute_result"
    }
   ],
   "source": [
    "final_df[final_df[\"package_name\"]== \"Srinagar Ladakh Adventure Tour Package\"]"
   ]
  },
  {
   "cell_type": "code",
   "execution_count": 34,
   "id": "5ab4795f",
   "metadata": {
    "ExecuteTime": {
     "end_time": "2024-10-02T10:15:39.200173Z",
     "start_time": "2024-10-02T10:15:39.177271Z"
    }
   },
   "outputs": [],
   "source": [
    "final_df.drop_duplicates(inplace=True)"
   ]
  },
  {
   "cell_type": "code",
   "execution_count": 35,
   "id": "3ea0f596",
   "metadata": {
    "ExecuteTime": {
     "end_time": "2024-10-02T10:15:47.184166Z",
     "start_time": "2024-10-02T10:15:47.167543Z"
    }
   },
   "outputs": [
    {
     "data": {
      "text/html": [
       "<div>\n",
       "<style scoped>\n",
       "    .dataframe tbody tr th:only-of-type {\n",
       "        vertical-align: middle;\n",
       "    }\n",
       "\n",
       "    .dataframe tbody tr th {\n",
       "        vertical-align: top;\n",
       "    }\n",
       "\n",
       "    .dataframe thead th {\n",
       "        text-align: right;\n",
       "    }\n",
       "</style>\n",
       "<table border=\"1\" class=\"dataframe\">\n",
       "  <thead>\n",
       "    <tr style=\"text-align: right;\">\n",
       "      <th></th>\n",
       "      <th>package_name</th>\n",
       "      <th>duration</th>\n",
       "      <th>city_list</th>\n",
       "      <th>price</th>\n",
       "      <th>persons</th>\n",
       "    </tr>\n",
       "  </thead>\n",
       "  <tbody>\n",
       "    <tr>\n",
       "      <th>0</th>\n",
       "      <td>Amazing Amaravathi</td>\n",
       "      <td>2 Nights / 3 Days</td>\n",
       "      <td>Amaravathi(2N)</td>\n",
       "      <td>₹ 8,000*\\n                \\n                pe...</td>\n",
       "      <td>per adult on twin sharing</td>\n",
       "    </tr>\n",
       "    <tr>\n",
       "      <th>1</th>\n",
       "      <td>Alluring Amaravathi and Vijayawada</td>\n",
       "      <td>3 Nights / 4 Days</td>\n",
       "      <td>Amaravathi(1N) → Vijaywada(2N)</td>\n",
       "      <td>₹ 10,000*\\n                \\n                p...</td>\n",
       "      <td>per adult on twin sharing</td>\n",
       "    </tr>\n",
       "    <tr>\n",
       "      <th>2</th>\n",
       "      <td>Awesome Amaravathi, Vijaywada &amp; Kakinada</td>\n",
       "      <td>4 Nights / 5 Days</td>\n",
       "      <td>Amaravathi(1N) → Vijaywada(1N) → Kakinada(2N)</td>\n",
       "      <td>₹ 12,499*\\n                \\n                p...</td>\n",
       "      <td>per adult on twin sharing</td>\n",
       "    </tr>\n",
       "    <tr>\n",
       "      <th>3</th>\n",
       "      <td>Delights of Andhra Pradesh including Amaravathi</td>\n",
       "      <td>6 Nights / 7 Days</td>\n",
       "      <td>Tirupati(1N) → Nellore(1N) → Amaravathi(1N) → ...</td>\n",
       "      <td>₹ 20,000*\\n                \\n                p...</td>\n",
       "      <td>per adult on twin sharing</td>\n",
       "    </tr>\n",
       "    <tr>\n",
       "      <th>4</th>\n",
       "      <td>Gems of Andhra Pradesh Including Amaravathi an...</td>\n",
       "      <td>7 Nights / 8 Days</td>\n",
       "      <td>Tirupati(1N) → Nellore(1N) → Amaravathi(1N) → ...</td>\n",
       "      <td>₹ 23,500*\\n                \\n                p...</td>\n",
       "      <td>per adult on twin sharing</td>\n",
       "    </tr>\n",
       "    <tr>\n",
       "      <th>...</th>\n",
       "      <td>...</td>\n",
       "      <td>...</td>\n",
       "      <td>...</td>\n",
       "      <td>...</td>\n",
       "      <td>...</td>\n",
       "    </tr>\n",
       "    <tr>\n",
       "      <th>11365</th>\n",
       "      <td>Fun Fiesta in Andaman Tour Package</td>\n",
       "      <td>4 Nights / 5 Days</td>\n",
       "      <td>Port Blair(3N) →  Havelock(1N)</td>\n",
       "      <td>₹ 10,193*\\n                \\n                p...</td>\n",
       "      <td>per adult on twin sharing</td>\n",
       "    </tr>\n",
       "    <tr>\n",
       "      <th>11371</th>\n",
       "      <td>Fun 'N' Andaman: Honeymoon Tour Package</td>\n",
       "      <td>4 Nights / 5 Days</td>\n",
       "      <td>Port Blair (2N) →  Havelock Island (2N)</td>\n",
       "      <td>₹ 10,630*\\n                \\n                p...</td>\n",
       "      <td>per adult on twin sharing</td>\n",
       "    </tr>\n",
       "    <tr>\n",
       "      <th>11372</th>\n",
       "      <td>Family Tour to Port Blair and Havelock</td>\n",
       "      <td>3 Nights / 4 Days</td>\n",
       "      <td>Port Blair(2N) →  Havelock(1N)</td>\n",
       "      <td>₹ 21,360*\\n                \\n                p...</td>\n",
       "      <td>per adult on twin sharing</td>\n",
       "    </tr>\n",
       "    <tr>\n",
       "      <th>11761</th>\n",
       "      <td>Winter Gulmarg Tour Package: Scenic Kashmir La...</td>\n",
       "      <td>7 Nights / 8 Days</td>\n",
       "      <td>Srinagar Houseboat(1N) →  Srinagar(3N) →  Sona...</td>\n",
       "      <td>₹ 41,000*\\n                \\n                p...</td>\n",
       "      <td>per adult on twin sharing</td>\n",
       "    </tr>\n",
       "    <tr>\n",
       "      <th>11788</th>\n",
       "      <td>Gulmarg Honeymoon Package with Skiing (Winter ...</td>\n",
       "      <td>3 Nights / 4 Days</td>\n",
       "      <td>Gulmarg(3N)</td>\n",
       "      <td>₹ 15,100*\\n                \\n                p...</td>\n",
       "      <td>per adult on twin sharing</td>\n",
       "    </tr>\n",
       "  </tbody>\n",
       "</table>\n",
       "<p>2495 rows × 5 columns</p>\n",
       "</div>"
      ],
      "text/plain": [
       "                                            package_name           duration  \\\n",
       "0                                     Amazing Amaravathi  2 Nights / 3 Days   \n",
       "1                     Alluring Amaravathi and Vijayawada  3 Nights / 4 Days   \n",
       "2               Awesome Amaravathi, Vijaywada & Kakinada  4 Nights / 5 Days   \n",
       "3        Delights of Andhra Pradesh including Amaravathi  6 Nights / 7 Days   \n",
       "4      Gems of Andhra Pradesh Including Amaravathi an...  7 Nights / 8 Days   \n",
       "...                                                  ...                ...   \n",
       "11365                 Fun Fiesta in Andaman Tour Package  4 Nights / 5 Days   \n",
       "11371            Fun 'N' Andaman: Honeymoon Tour Package  4 Nights / 5 Days   \n",
       "11372             Family Tour to Port Blair and Havelock  3 Nights / 4 Days   \n",
       "11761  Winter Gulmarg Tour Package: Scenic Kashmir La...  7 Nights / 8 Days   \n",
       "11788  Gulmarg Honeymoon Package with Skiing (Winter ...  3 Nights / 4 Days   \n",
       "\n",
       "                                               city_list  \\\n",
       "0                                         Amaravathi(2N)   \n",
       "1                         Amaravathi(1N) → Vijaywada(2N)   \n",
       "2          Amaravathi(1N) → Vijaywada(1N) → Kakinada(2N)   \n",
       "3      Tirupati(1N) → Nellore(1N) → Amaravathi(1N) → ...   \n",
       "4      Tirupati(1N) → Nellore(1N) → Amaravathi(1N) → ...   \n",
       "...                                                  ...   \n",
       "11365                     Port Blair(3N) →  Havelock(1N)   \n",
       "11371            Port Blair (2N) →  Havelock Island (2N)   \n",
       "11372                     Port Blair(2N) →  Havelock(1N)   \n",
       "11761  Srinagar Houseboat(1N) →  Srinagar(3N) →  Sona...   \n",
       "11788                                        Gulmarg(3N)   \n",
       "\n",
       "                                                   price  \\\n",
       "0      ₹ 8,000*\\n                \\n                pe...   \n",
       "1      ₹ 10,000*\\n                \\n                p...   \n",
       "2      ₹ 12,499*\\n                \\n                p...   \n",
       "3      ₹ 20,000*\\n                \\n                p...   \n",
       "4      ₹ 23,500*\\n                \\n                p...   \n",
       "...                                                  ...   \n",
       "11365  ₹ 10,193*\\n                \\n                p...   \n",
       "11371  ₹ 10,630*\\n                \\n                p...   \n",
       "11372  ₹ 21,360*\\n                \\n                p...   \n",
       "11761  ₹ 41,000*\\n                \\n                p...   \n",
       "11788  ₹ 15,100*\\n                \\n                p...   \n",
       "\n",
       "                         persons  \n",
       "0      per adult on twin sharing  \n",
       "1      per adult on twin sharing  \n",
       "2      per adult on twin sharing  \n",
       "3      per adult on twin sharing  \n",
       "4      per adult on twin sharing  \n",
       "...                          ...  \n",
       "11365  per adult on twin sharing  \n",
       "11371  per adult on twin sharing  \n",
       "11372  per adult on twin sharing  \n",
       "11761  per adult on twin sharing  \n",
       "11788  per adult on twin sharing  \n",
       "\n",
       "[2495 rows x 5 columns]"
      ]
     },
     "execution_count": 35,
     "metadata": {},
     "output_type": "execute_result"
    }
   ],
   "source": [
    "final_df"
   ]
  },
  {
   "cell_type": "code",
   "execution_count": 36,
   "id": "747cb196",
   "metadata": {
    "ExecuteTime": {
     "end_time": "2024-10-02T10:16:44.755983Z",
     "start_time": "2024-10-02T10:16:44.742462Z"
    }
   },
   "outputs": [
    {
     "name": "stdout",
     "output_type": "stream",
     "text": [
      "<class 'pandas.core.frame.DataFrame'>\n",
      "Index: 2495 entries, 0 to 11788\n",
      "Data columns (total 5 columns):\n",
      " #   Column        Non-Null Count  Dtype \n",
      "---  ------        --------------  ----- \n",
      " 0   package_name  2495 non-null   object\n",
      " 1   duration      2495 non-null   object\n",
      " 2   city_list     2494 non-null   object\n",
      " 3   price         2495 non-null   object\n",
      " 4   persons       2495 non-null   object\n",
      "dtypes: object(5)\n",
      "memory usage: 117.0+ KB\n"
     ]
    }
   ],
   "source": [
    "final_df.info()"
   ]
  },
  {
   "cell_type": "code",
   "execution_count": 40,
   "id": "6d20ade6",
   "metadata": {
    "ExecuteTime": {
     "end_time": "2024-10-02T10:18:06.817636Z",
     "start_time": "2024-10-02T10:18:06.807496Z"
    }
   },
   "outputs": [
    {
     "data": {
      "text/plain": [
       "1"
      ]
     },
     "execution_count": 40,
     "metadata": {},
     "output_type": "execute_result"
    }
   ],
   "source": [
    "final_df['city_list'].isnull().sum()"
   ]
  },
  {
   "cell_type": "code",
   "execution_count": 41,
   "id": "12bdb8ab",
   "metadata": {
    "ExecuteTime": {
     "end_time": "2024-10-02T10:18:28.720926Z",
     "start_time": "2024-10-02T10:18:28.702253Z"
    }
   },
   "outputs": [],
   "source": [
    "final_df.dropna(inplace=True)"
   ]
  },
  {
   "cell_type": "code",
   "execution_count": 43,
   "id": "644a3ccf",
   "metadata": {
    "ExecuteTime": {
     "end_time": "2024-10-02T10:18:55.282602Z",
     "start_time": "2024-10-02T10:18:55.276087Z"
    }
   },
   "outputs": [
    {
     "data": {
      "text/plain": [
       "(2494, 5)"
      ]
     },
     "execution_count": 43,
     "metadata": {},
     "output_type": "execute_result"
    }
   ],
   "source": [
    "final_df.shape"
   ]
  },
  {
   "cell_type": "code",
   "execution_count": 42,
   "id": "567719bc",
   "metadata": {
    "ExecuteTime": {
     "end_time": "2024-10-02T10:18:39.921749Z",
     "start_time": "2024-10-02T10:18:39.906051Z"
    }
   },
   "outputs": [
    {
     "name": "stdout",
     "output_type": "stream",
     "text": [
      "<class 'pandas.core.frame.DataFrame'>\n",
      "Index: 2494 entries, 0 to 11788\n",
      "Data columns (total 5 columns):\n",
      " #   Column        Non-Null Count  Dtype \n",
      "---  ------        --------------  ----- \n",
      " 0   package_name  2494 non-null   object\n",
      " 1   duration      2494 non-null   object\n",
      " 2   city_list     2494 non-null   object\n",
      " 3   price         2494 non-null   object\n",
      " 4   persons       2494 non-null   object\n",
      "dtypes: object(5)\n",
      "memory usage: 116.9+ KB\n"
     ]
    }
   ],
   "source": [
    "final_df.info()"
   ]
  },
  {
   "cell_type": "code",
   "execution_count": 44,
   "id": "38dd43e0",
   "metadata": {
    "ExecuteTime": {
     "end_time": "2024-10-02T10:21:49.239532Z",
     "start_time": "2024-10-02T10:21:48.860410Z"
    }
   },
   "outputs": [],
   "source": [
    "final_df.to_csv(\"merge_tour_package.csv\",index=False)"
   ]
  },
  {
   "cell_type": "code",
   "execution_count": null,
   "id": "77418700",
   "metadata": {},
   "outputs": [],
   "source": []
  }
 ],
 "metadata": {
  "kernelspec": {
   "display_name": "Python 3 (ipykernel)",
   "language": "python",
   "name": "python3"
  },
  "language_info": {
   "codemirror_mode": {
    "name": "ipython",
    "version": 3
   },
   "file_extension": ".py",
   "mimetype": "text/x-python",
   "name": "python",
   "nbconvert_exporter": "python",
   "pygments_lexer": "ipython3",
   "version": "3.11.5"
  },
  "toc": {
   "base_numbering": 1,
   "nav_menu": {},
   "number_sections": true,
   "sideBar": true,
   "skip_h1_title": false,
   "title_cell": "Table of Contents",
   "title_sidebar": "Contents",
   "toc_cell": false,
   "toc_position": {},
   "toc_section_display": true,
   "toc_window_display": false
  }
 },
 "nbformat": 4,
 "nbformat_minor": 5
}
