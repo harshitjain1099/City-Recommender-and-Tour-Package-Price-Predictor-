{
 "cells": [
  {
   "cell_type": "code",
   "execution_count": 1,
   "id": "e152fd7b",
   "metadata": {
    "ExecuteTime": {
     "end_time": "2024-10-13T11:42:03.140049Z",
     "start_time": "2024-10-13T11:41:47.293866Z"
    }
   },
   "outputs": [
    {
     "name": "stderr",
     "output_type": "stream",
     "text": [
      "C:\\Users\\HARSHIT JAIN\\anaconda3\\Lib\\site-packages\\pandas\\core\\arrays\\masked.py:60: UserWarning: Pandas requires version '1.3.6' or newer of 'bottleneck' (version '1.3.5' currently installed).\n",
      "  from pandas.core import (\n"
     ]
    }
   ],
   "source": [
    "import pandas as pd\n",
    "import numpy as np"
   ]
  },
  {
   "cell_type": "code",
   "execution_count": 2,
   "id": "c6eb8fb4",
   "metadata": {
    "ExecuteTime": {
     "end_time": "2024-10-13T11:42:03.962881Z",
     "start_time": "2024-10-13T11:42:03.143976Z"
    }
   },
   "outputs": [],
   "source": [
    "df = pd.read_csv(r'C:\\Users\\HARSHIT JAIN\\Desktop\\data science projects\\visit_and_tour_packages_project\\datasets\\tour-package-outlier-treated.csv')"
   ]
  },
  {
   "cell_type": "code",
   "execution_count": 3,
   "id": "c0527896",
   "metadata": {
    "ExecuteTime": {
     "end_time": "2024-10-13T11:42:04.181978Z",
     "start_time": "2024-10-13T11:42:03.962881Z"
    }
   },
   "outputs": [
    {
     "name": "stdout",
     "output_type": "stream",
     "text": [
      "<class 'pandas.core.frame.DataFrame'>\n",
      "RangeIndex: 2428 entries, 0 to 2427\n",
      "Data columns (total 12 columns):\n",
      " #   Column                        Non-Null Count  Dtype  \n",
      "---  ------                        --------------  -----  \n",
      " 0   package_name                  2428 non-null   object \n",
      " 1   category_of_package           2428 non-null   object \n",
      " 2   cities_to_be_visit            2428 non-null   object \n",
      " 3   count_of_cities               2428 non-null   int64  \n",
      " 4   categories_by_days            2428 non-null   object \n",
      " 5   no_of_nights                  2428 non-null   int64  \n",
      " 6   no_of_days                    2428 non-null   int64  \n",
      " 7   categories_by_price           2428 non-null   object \n",
      " 8   accommodation_facility        2428 non-null   object \n",
      " 9   price                         2428 non-null   float64\n",
      " 10  tokenized_cities_to_be_visit  2428 non-null   object \n",
      " 11  tokenized_package_name        2428 non-null   object \n",
      "dtypes: float64(1), int64(3), object(8)\n",
      "memory usage: 227.8+ KB\n"
     ]
    }
   ],
   "source": [
    "df.info()"
   ]
  },
  {
   "cell_type": "code",
   "execution_count": 4,
   "id": "c97b9b65",
   "metadata": {
    "ExecuteTime": {
     "end_time": "2024-10-13T11:42:04.201862Z",
     "start_time": "2024-10-13T11:42:04.184061Z"
    }
   },
   "outputs": [
    {
     "data": {
      "text/plain": [
       "(2428, 12)"
      ]
     },
     "execution_count": 4,
     "metadata": {},
     "output_type": "execute_result"
    }
   ],
   "source": [
    "df.shape"
   ]
  },
  {
   "cell_type": "code",
   "execution_count": 5,
   "id": "850c4487",
   "metadata": {
    "ExecuteTime": {
     "end_time": "2024-10-13T11:42:04.532800Z",
     "start_time": "2024-10-13T11:42:04.217796Z"
    }
   },
   "outputs": [
    {
     "data": {
      "text/html": [
       "<div>\n",
       "<style scoped>\n",
       "    .dataframe tbody tr th:only-of-type {\n",
       "        vertical-align: middle;\n",
       "    }\n",
       "\n",
       "    .dataframe tbody tr th {\n",
       "        vertical-align: top;\n",
       "    }\n",
       "\n",
       "    .dataframe thead th {\n",
       "        text-align: right;\n",
       "    }\n",
       "</style>\n",
       "<table border=\"1\" class=\"dataframe\">\n",
       "  <thead>\n",
       "    <tr style=\"text-align: right;\">\n",
       "      <th></th>\n",
       "      <th>package_name</th>\n",
       "      <th>category_of_package</th>\n",
       "      <th>cities_to_be_visit</th>\n",
       "      <th>count_of_cities</th>\n",
       "      <th>categories_by_days</th>\n",
       "      <th>no_of_nights</th>\n",
       "      <th>no_of_days</th>\n",
       "      <th>categories_by_price</th>\n",
       "      <th>accommodation_facility</th>\n",
       "      <th>price</th>\n",
       "      <th>tokenized_cities_to_be_visit</th>\n",
       "      <th>tokenized_package_name</th>\n",
       "    </tr>\n",
       "  </thead>\n",
       "  <tbody>\n",
       "    <tr>\n",
       "      <th>0</th>\n",
       "      <td>amazing amaravathi</td>\n",
       "      <td>holiday_package</td>\n",
       "      <td>amaravathi</td>\n",
       "      <td>1</td>\n",
       "      <td>short trip</td>\n",
       "      <td>2</td>\n",
       "      <td>3</td>\n",
       "      <td>budget</td>\n",
       "      <td>low-cost apartment</td>\n",
       "      <td>8000.0</td>\n",
       "      <td>['amaravathi']</td>\n",
       "      <td>['Amazing', 'Amaravathi']</td>\n",
       "    </tr>\n",
       "    <tr>\n",
       "      <th>1</th>\n",
       "      <td>alluring amaravathi and vijayawada</td>\n",
       "      <td>holiday_package</td>\n",
       "      <td>amaravathi ,  vijaywada</td>\n",
       "      <td>2</td>\n",
       "      <td>medium trip</td>\n",
       "      <td>3</td>\n",
       "      <td>4</td>\n",
       "      <td>budget</td>\n",
       "      <td>budget hotel</td>\n",
       "      <td>10000.0</td>\n",
       "      <td>['amaravathi', 'vijaywada']</td>\n",
       "      <td>['Alluring', 'Amaravathi', 'and', 'Vijayawada']</td>\n",
       "    </tr>\n",
       "    <tr>\n",
       "      <th>2</th>\n",
       "      <td>awesome amaravathi, vijaywada &amp; kakinada</td>\n",
       "      <td>holiday_package</td>\n",
       "      <td>amaravathi ,  vijaywada ,  kakinada</td>\n",
       "      <td>3</td>\n",
       "      <td>medium trip</td>\n",
       "      <td>4</td>\n",
       "      <td>5</td>\n",
       "      <td>budget</td>\n",
       "      <td>budget hotel</td>\n",
       "      <td>12499.0</td>\n",
       "      <td>['amaravathi', 'vijaywada', 'kakinada']</td>\n",
       "      <td>['Awesome', 'Amaravathi', 'Vijaywada', 'Kakina...</td>\n",
       "    </tr>\n",
       "    <tr>\n",
       "      <th>3</th>\n",
       "      <td>delights of andhra pradesh including amaravathi</td>\n",
       "      <td>holiday_package</td>\n",
       "      <td>tirupati ,  nellore ,  amaravathi ,  vijaywada...</td>\n",
       "      <td>6</td>\n",
       "      <td>medium trip</td>\n",
       "      <td>6</td>\n",
       "      <td>7</td>\n",
       "      <td>standard</td>\n",
       "      <td>3-star hotel</td>\n",
       "      <td>20000.0</td>\n",
       "      <td>['tirupati', 'nellore', 'amaravathi', 'vijaywa...</td>\n",
       "      <td>['Delights', 'of', 'Andhra', 'Pradesh', 'inclu...</td>\n",
       "    </tr>\n",
       "    <tr>\n",
       "      <th>4</th>\n",
       "      <td>gems of andhra pradesh including amaravathi an...</td>\n",
       "      <td>offbeat_package</td>\n",
       "      <td>tirupati ,  nellore ,  amaravathi ,  vijaywada...</td>\n",
       "      <td>7</td>\n",
       "      <td>long trip</td>\n",
       "      <td>7</td>\n",
       "      <td>8</td>\n",
       "      <td>standard</td>\n",
       "      <td>standard hotel</td>\n",
       "      <td>23500.0</td>\n",
       "      <td>['tirupati', 'nellore', 'amaravathi', 'vijaywa...</td>\n",
       "      <td>['Gems', 'of', 'Andhra', 'Pradesh', 'Including...</td>\n",
       "    </tr>\n",
       "  </tbody>\n",
       "</table>\n",
       "</div>"
      ],
      "text/plain": [
       "                                        package_name category_of_package  \\\n",
       "0                                 amazing amaravathi     holiday_package   \n",
       "1                 alluring amaravathi and vijayawada     holiday_package   \n",
       "2           awesome amaravathi, vijaywada & kakinada     holiday_package   \n",
       "3    delights of andhra pradesh including amaravathi     holiday_package   \n",
       "4  gems of andhra pradesh including amaravathi an...     offbeat_package   \n",
       "\n",
       "                                  cities_to_be_visit  count_of_cities  \\\n",
       "0                                         amaravathi                1   \n",
       "1                            amaravathi ,  vijaywada                2   \n",
       "2                amaravathi ,  vijaywada ,  kakinada                3   \n",
       "3  tirupati ,  nellore ,  amaravathi ,  vijaywada...                6   \n",
       "4  tirupati ,  nellore ,  amaravathi ,  vijaywada...                7   \n",
       "\n",
       "  categories_by_days  no_of_nights  no_of_days categories_by_price  \\\n",
       "0         short trip             2           3              budget   \n",
       "1        medium trip             3           4              budget   \n",
       "2        medium trip             4           5              budget   \n",
       "3        medium trip             6           7            standard   \n",
       "4          long trip             7           8            standard   \n",
       "\n",
       "  accommodation_facility    price  \\\n",
       "0     low-cost apartment   8000.0   \n",
       "1           budget hotel  10000.0   \n",
       "2           budget hotel  12499.0   \n",
       "3           3-star hotel  20000.0   \n",
       "4         standard hotel  23500.0   \n",
       "\n",
       "                        tokenized_cities_to_be_visit  \\\n",
       "0                                     ['amaravathi']   \n",
       "1                        ['amaravathi', 'vijaywada']   \n",
       "2            ['amaravathi', 'vijaywada', 'kakinada']   \n",
       "3  ['tirupati', 'nellore', 'amaravathi', 'vijaywa...   \n",
       "4  ['tirupati', 'nellore', 'amaravathi', 'vijaywa...   \n",
       "\n",
       "                              tokenized_package_name  \n",
       "0                          ['Amazing', 'Amaravathi']  \n",
       "1    ['Alluring', 'Amaravathi', 'and', 'Vijayawada']  \n",
       "2  ['Awesome', 'Amaravathi', 'Vijaywada', 'Kakina...  \n",
       "3  ['Delights', 'of', 'Andhra', 'Pradesh', 'inclu...  \n",
       "4  ['Gems', 'of', 'Andhra', 'Pradesh', 'Including...  "
      ]
     },
     "execution_count": 5,
     "metadata": {},
     "output_type": "execute_result"
    }
   ],
   "source": [
    "df.head()"
   ]
  },
  {
   "cell_type": "code",
   "execution_count": 6,
   "id": "dcf019a2",
   "metadata": {
    "ExecuteTime": {
     "end_time": "2024-10-13T11:42:04.638323Z",
     "start_time": "2024-10-13T11:42:04.534968Z"
    }
   },
   "outputs": [],
   "source": [
    "df.drop(columns=['package_name','tokenized_cities_to_be_visit','tokenized_package_name','cities_to_be_visit','no_of_nights','categories_by_days'],inplace=True)"
   ]
  },
  {
   "cell_type": "code",
   "execution_count": 7,
   "id": "a41ccb9b",
   "metadata": {
    "ExecuteTime": {
     "end_time": "2024-10-13T11:42:04.779548Z",
     "start_time": "2024-10-13T11:42:04.638323Z"
    }
   },
   "outputs": [
    {
     "data": {
      "text/html": [
       "<div>\n",
       "<style scoped>\n",
       "    .dataframe tbody tr th:only-of-type {\n",
       "        vertical-align: middle;\n",
       "    }\n",
       "\n",
       "    .dataframe tbody tr th {\n",
       "        vertical-align: top;\n",
       "    }\n",
       "\n",
       "    .dataframe thead th {\n",
       "        text-align: right;\n",
       "    }\n",
       "</style>\n",
       "<table border=\"1\" class=\"dataframe\">\n",
       "  <thead>\n",
       "    <tr style=\"text-align: right;\">\n",
       "      <th></th>\n",
       "      <th>category_of_package</th>\n",
       "      <th>count_of_cities</th>\n",
       "      <th>no_of_days</th>\n",
       "      <th>categories_by_price</th>\n",
       "      <th>accommodation_facility</th>\n",
       "      <th>price</th>\n",
       "    </tr>\n",
       "  </thead>\n",
       "  <tbody>\n",
       "    <tr>\n",
       "      <th>0</th>\n",
       "      <td>holiday_package</td>\n",
       "      <td>1</td>\n",
       "      <td>3</td>\n",
       "      <td>budget</td>\n",
       "      <td>low-cost apartment</td>\n",
       "      <td>8000.0</td>\n",
       "    </tr>\n",
       "    <tr>\n",
       "      <th>1</th>\n",
       "      <td>holiday_package</td>\n",
       "      <td>2</td>\n",
       "      <td>4</td>\n",
       "      <td>budget</td>\n",
       "      <td>budget hotel</td>\n",
       "      <td>10000.0</td>\n",
       "    </tr>\n",
       "    <tr>\n",
       "      <th>2</th>\n",
       "      <td>holiday_package</td>\n",
       "      <td>3</td>\n",
       "      <td>5</td>\n",
       "      <td>budget</td>\n",
       "      <td>budget hotel</td>\n",
       "      <td>12499.0</td>\n",
       "    </tr>\n",
       "    <tr>\n",
       "      <th>3</th>\n",
       "      <td>holiday_package</td>\n",
       "      <td>6</td>\n",
       "      <td>7</td>\n",
       "      <td>standard</td>\n",
       "      <td>3-star hotel</td>\n",
       "      <td>20000.0</td>\n",
       "    </tr>\n",
       "    <tr>\n",
       "      <th>4</th>\n",
       "      <td>offbeat_package</td>\n",
       "      <td>7</td>\n",
       "      <td>8</td>\n",
       "      <td>standard</td>\n",
       "      <td>standard hotel</td>\n",
       "      <td>23500.0</td>\n",
       "    </tr>\n",
       "  </tbody>\n",
       "</table>\n",
       "</div>"
      ],
      "text/plain": [
       "  category_of_package  count_of_cities  no_of_days categories_by_price  \\\n",
       "0     holiday_package                1           3              budget   \n",
       "1     holiday_package                2           4              budget   \n",
       "2     holiday_package                3           5              budget   \n",
       "3     holiday_package                6           7            standard   \n",
       "4     offbeat_package                7           8            standard   \n",
       "\n",
       "  accommodation_facility    price  \n",
       "0     low-cost apartment   8000.0  \n",
       "1           budget hotel  10000.0  \n",
       "2           budget hotel  12499.0  \n",
       "3           3-star hotel  20000.0  \n",
       "4         standard hotel  23500.0  "
      ]
     },
     "execution_count": 7,
     "metadata": {},
     "output_type": "execute_result"
    }
   ],
   "source": [
    "df.head()"
   ]
  },
  {
   "cell_type": "code",
   "execution_count": 8,
   "id": "75450c69",
   "metadata": {
    "ExecuteTime": {
     "end_time": "2024-10-13T11:42:04.923565Z",
     "start_time": "2024-10-13T11:42:04.783074Z"
    }
   },
   "outputs": [
    {
     "data": {
      "text/plain": [
       "(13,)"
      ]
     },
     "execution_count": 8,
     "metadata": {},
     "output_type": "execute_result"
    }
   ],
   "source": [
    "df['category_of_package'].value_counts().shape"
   ]
  },
  {
   "cell_type": "code",
   "execution_count": 9,
   "id": "41a08e81",
   "metadata": {
    "ExecuteTime": {
     "end_time": "2024-10-13T11:42:05.082729Z",
     "start_time": "2024-10-13T11:42:04.923565Z"
    }
   },
   "outputs": [
    {
     "data": {
      "text/plain": [
       "category_of_package\n",
       "holiday_package       1204\n",
       "honeymoon_package      404\n",
       "spiritual packages     228\n",
       "family_package         120\n",
       "nature_package          89\n",
       "beach_holiday           70\n",
       "adventure_package       68\n",
       "luxury_package          63\n",
       "weekend_package         55\n",
       "offbeat_package         49\n",
       "cultural_package        39\n",
       "budget_package          37\n",
       "wellness_package         2\n",
       "Name: count, dtype: int64"
      ]
     },
     "execution_count": 9,
     "metadata": {},
     "output_type": "execute_result"
    }
   ],
   "source": [
    "df['category_of_package'].value_counts()"
   ]
  },
  {
   "cell_type": "code",
   "execution_count": 12,
   "id": "e9f4da48",
   "metadata": {
    "ExecuteTime": {
     "end_time": "2024-10-13T11:47:49.815650Z",
     "start_time": "2024-10-13T11:47:49.783190Z"
    }
   },
   "outputs": [],
   "source": [
    "df['category_of_package'] = df['category_of_package'].replace('wellness_package','spiritual packages')"
   ]
  },
  {
   "cell_type": "code",
   "execution_count": 13,
   "id": "97308df4",
   "metadata": {
    "ExecuteTime": {
     "end_time": "2024-10-13T11:47:59.268961Z",
     "start_time": "2024-10-13T11:47:59.254462Z"
    }
   },
   "outputs": [
    {
     "data": {
      "text/plain": [
       "category_of_package\n",
       "holiday_package       1204\n",
       "honeymoon_package      404\n",
       "spiritual packages     230\n",
       "family_package         120\n",
       "nature_package          89\n",
       "beach_holiday           70\n",
       "adventure_package       68\n",
       "luxury_package          63\n",
       "weekend_package         55\n",
       "offbeat_package         49\n",
       "cultural_package        39\n",
       "budget_package          37\n",
       "Name: count, dtype: int64"
      ]
     },
     "execution_count": 13,
     "metadata": {},
     "output_type": "execute_result"
    }
   ],
   "source": [
    "df['category_of_package'].value_counts()"
   ]
  },
  {
   "cell_type": "code",
   "execution_count": 14,
   "id": "eb9e11fc",
   "metadata": {
    "ExecuteTime": {
     "end_time": "2024-10-13T11:49:06.672738Z",
     "start_time": "2024-10-13T11:49:06.576849Z"
    }
   },
   "outputs": [
    {
     "data": {
      "text/plain": [
       "(10,)"
      ]
     },
     "execution_count": 14,
     "metadata": {},
     "output_type": "execute_result"
    }
   ],
   "source": [
    "df['count_of_cities'].value_counts().shape"
   ]
  },
  {
   "cell_type": "code",
   "execution_count": 15,
   "id": "0284b389",
   "metadata": {
    "ExecuteTime": {
     "end_time": "2024-10-13T11:49:07.165617Z",
     "start_time": "2024-10-13T11:49:07.155829Z"
    }
   },
   "outputs": [
    {
     "data": {
      "text/plain": [
       "(11,)"
      ]
     },
     "execution_count": 15,
     "metadata": {},
     "output_type": "execute_result"
    }
   ],
   "source": [
    "df['no_of_days'].value_counts().shape"
   ]
  },
  {
   "cell_type": "code",
   "execution_count": 16,
   "id": "50851271",
   "metadata": {
    "ExecuteTime": {
     "end_time": "2024-10-13T11:49:07.706453Z",
     "start_time": "2024-10-13T11:49:07.692752Z"
    }
   },
   "outputs": [
    {
     "data": {
      "text/plain": [
       "(4,)"
      ]
     },
     "execution_count": 16,
     "metadata": {},
     "output_type": "execute_result"
    }
   ],
   "source": [
    "df['categories_by_price'].value_counts().shape"
   ]
  },
  {
   "cell_type": "code",
   "execution_count": 17,
   "id": "3ad1897d",
   "metadata": {
    "ExecuteTime": {
     "end_time": "2024-10-13T11:49:08.241600Z",
     "start_time": "2024-10-13T11:49:08.228009Z"
    }
   },
   "outputs": [
    {
     "data": {
      "text/plain": [
       "(12,)"
      ]
     },
     "execution_count": 17,
     "metadata": {},
     "output_type": "execute_result"
    }
   ],
   "source": [
    "df['accommodation_facility'].value_counts().shape"
   ]
  },
  {
   "cell_type": "code",
   "execution_count": 18,
   "id": "935fe94e",
   "metadata": {
    "ExecuteTime": {
     "end_time": "2024-10-13T11:49:08.755827Z",
     "start_time": "2024-10-13T11:49:08.740832Z"
    }
   },
   "outputs": [
    {
     "data": {
      "text/plain": [
       "accommodation_facility\n",
       "3-star hotel                      961\n",
       "budget hotel                      483\n",
       "4-star hotel                      289\n",
       "low-cost apartment                247\n",
       "standard hotel                    166\n",
       "5-star hotel                      131\n",
       "5-star resort                      88\n",
       "high-end luxury resort             24\n",
       "serviced apartment                 21\n",
       "hostel room                        13\n",
       "premium serviced apartment          3\n",
       "private villa/luxury apartment      2\n",
       "Name: count, dtype: int64"
      ]
     },
     "execution_count": 18,
     "metadata": {},
     "output_type": "execute_result"
    }
   ],
   "source": [
    "df['accommodation_facility'].value_counts()"
   ]
  },
  {
   "cell_type": "code",
   "execution_count": 19,
   "id": "1b939fc1",
   "metadata": {
    "ExecuteTime": {
     "end_time": "2024-10-13T11:49:11.498758Z",
     "start_time": "2024-10-13T11:49:11.489314Z"
    }
   },
   "outputs": [],
   "source": [
    "five_star = ['5-star hotel', '5-star resort', 'high-end luxury resort', 'private villa/luxury apartment']\n",
    "four_star = ['4-star hotel','premium serviced apartment']\n",
    "three_star = ['3-star hotel','standard hotel']\n",
    "two_star = ['serviced apartment']\n",
    "one_star = ['budget hotel', 'low-cost apartment', 'hostel room']"
   ]
  },
  {
   "cell_type": "code",
   "execution_count": 20,
   "id": "bf645351",
   "metadata": {
    "ExecuteTime": {
     "end_time": "2024-10-13T11:49:12.047292Z",
     "start_time": "2024-10-13T11:49:12.033674Z"
    }
   },
   "outputs": [],
   "source": [
    "def get_accommodation_facility(accommodation):\n",
    "    if accommodation in five_star:\n",
    "        return '5 star'\n",
    "    elif accommodation in four_star:\n",
    "        return '4 star'\n",
    "    elif accommodation in three_star:\n",
    "        return '3 star'\n",
    "    elif accommodation in two_star:\n",
    "        return '2 star'\n",
    "    elif accommodation in one_star:\n",
    "        return '1 star'\n",
    "    return 'not defined'"
   ]
  },
  {
   "cell_type": "code",
   "execution_count": 21,
   "id": "9f8ae229",
   "metadata": {
    "ExecuteTime": {
     "end_time": "2024-10-13T11:49:12.571446Z",
     "start_time": "2024-10-13T11:49:12.560220Z"
    }
   },
   "outputs": [],
   "source": [
    "df['accommodation_facility'] = df['accommodation_facility'].apply(get_accommodation_facility)"
   ]
  },
  {
   "cell_type": "code",
   "execution_count": 22,
   "id": "823f1c5d",
   "metadata": {
    "ExecuteTime": {
     "end_time": "2024-10-13T11:49:15.268528Z",
     "start_time": "2024-10-13T11:49:15.245988Z"
    }
   },
   "outputs": [
    {
     "data": {
      "text/html": [
       "<div>\n",
       "<style scoped>\n",
       "    .dataframe tbody tr th:only-of-type {\n",
       "        vertical-align: middle;\n",
       "    }\n",
       "\n",
       "    .dataframe tbody tr th {\n",
       "        vertical-align: top;\n",
       "    }\n",
       "\n",
       "    .dataframe thead th {\n",
       "        text-align: right;\n",
       "    }\n",
       "</style>\n",
       "<table border=\"1\" class=\"dataframe\">\n",
       "  <thead>\n",
       "    <tr style=\"text-align: right;\">\n",
       "      <th></th>\n",
       "      <th>category_of_package</th>\n",
       "      <th>count_of_cities</th>\n",
       "      <th>no_of_days</th>\n",
       "      <th>categories_by_price</th>\n",
       "      <th>accommodation_facility</th>\n",
       "      <th>price</th>\n",
       "    </tr>\n",
       "  </thead>\n",
       "  <tbody>\n",
       "    <tr>\n",
       "      <th>0</th>\n",
       "      <td>holiday_package</td>\n",
       "      <td>1</td>\n",
       "      <td>3</td>\n",
       "      <td>budget</td>\n",
       "      <td>1 star</td>\n",
       "      <td>8000.0</td>\n",
       "    </tr>\n",
       "    <tr>\n",
       "      <th>1</th>\n",
       "      <td>holiday_package</td>\n",
       "      <td>2</td>\n",
       "      <td>4</td>\n",
       "      <td>budget</td>\n",
       "      <td>1 star</td>\n",
       "      <td>10000.0</td>\n",
       "    </tr>\n",
       "    <tr>\n",
       "      <th>2</th>\n",
       "      <td>holiday_package</td>\n",
       "      <td>3</td>\n",
       "      <td>5</td>\n",
       "      <td>budget</td>\n",
       "      <td>1 star</td>\n",
       "      <td>12499.0</td>\n",
       "    </tr>\n",
       "    <tr>\n",
       "      <th>3</th>\n",
       "      <td>holiday_package</td>\n",
       "      <td>6</td>\n",
       "      <td>7</td>\n",
       "      <td>standard</td>\n",
       "      <td>3 star</td>\n",
       "      <td>20000.0</td>\n",
       "    </tr>\n",
       "    <tr>\n",
       "      <th>4</th>\n",
       "      <td>offbeat_package</td>\n",
       "      <td>7</td>\n",
       "      <td>8</td>\n",
       "      <td>standard</td>\n",
       "      <td>3 star</td>\n",
       "      <td>23500.0</td>\n",
       "    </tr>\n",
       "  </tbody>\n",
       "</table>\n",
       "</div>"
      ],
      "text/plain": [
       "  category_of_package  count_of_cities  no_of_days categories_by_price  \\\n",
       "0     holiday_package                1           3              budget   \n",
       "1     holiday_package                2           4              budget   \n",
       "2     holiday_package                3           5              budget   \n",
       "3     holiday_package                6           7            standard   \n",
       "4     offbeat_package                7           8            standard   \n",
       "\n",
       "  accommodation_facility    price  \n",
       "0                 1 star   8000.0  \n",
       "1                 1 star  10000.0  \n",
       "2                 1 star  12499.0  \n",
       "3                 3 star  20000.0  \n",
       "4                 3 star  23500.0  "
      ]
     },
     "execution_count": 22,
     "metadata": {},
     "output_type": "execute_result"
    }
   ],
   "source": [
    "df.head()"
   ]
  },
  {
   "cell_type": "code",
   "execution_count": 23,
   "id": "af938c6c",
   "metadata": {
    "ExecuteTime": {
     "end_time": "2024-10-13T11:49:15.766261Z",
     "start_time": "2024-10-13T11:49:15.758703Z"
    }
   },
   "outputs": [
    {
     "data": {
      "text/plain": [
       "(2428, 6)"
      ]
     },
     "execution_count": 23,
     "metadata": {},
     "output_type": "execute_result"
    }
   ],
   "source": [
    "df.shape"
   ]
  },
  {
   "cell_type": "code",
   "execution_count": 24,
   "id": "8a250a9b",
   "metadata": {
    "ExecuteTime": {
     "end_time": "2024-10-13T11:49:16.339247Z",
     "start_time": "2024-10-13T11:49:16.316387Z"
    }
   },
   "outputs": [
    {
     "name": "stdout",
     "output_type": "stream",
     "text": [
      "<class 'pandas.core.frame.DataFrame'>\n",
      "RangeIndex: 2428 entries, 0 to 2427\n",
      "Data columns (total 6 columns):\n",
      " #   Column                  Non-Null Count  Dtype  \n",
      "---  ------                  --------------  -----  \n",
      " 0   category_of_package     2428 non-null   object \n",
      " 1   count_of_cities         2428 non-null   int64  \n",
      " 2   no_of_days              2428 non-null   int64  \n",
      " 3   categories_by_price     2428 non-null   object \n",
      " 4   accommodation_facility  2428 non-null   object \n",
      " 5   price                   2428 non-null   float64\n",
      "dtypes: float64(1), int64(2), object(3)\n",
      "memory usage: 113.9+ KB\n"
     ]
    }
   ],
   "source": [
    "df.info()"
   ]
  },
  {
   "cell_type": "code",
   "execution_count": 25,
   "id": "2eb190e9",
   "metadata": {
    "ExecuteTime": {
     "end_time": "2024-10-13T11:49:19.157168Z",
     "start_time": "2024-10-13T11:49:18.842460Z"
    }
   },
   "outputs": [],
   "source": [
    "df.to_csv('tour_package_post_feature_selection_2.csv', index=False)"
   ]
  },
  {
   "cell_type": "code",
   "execution_count": null,
   "id": "763f80c9",
   "metadata": {},
   "outputs": [],
   "source": []
  }
 ],
 "metadata": {
  "kernelspec": {
   "display_name": "Python 3 (ipykernel)",
   "language": "python",
   "name": "python3"
  },
  "language_info": {
   "codemirror_mode": {
    "name": "ipython",
    "version": 3
   },
   "file_extension": ".py",
   "mimetype": "text/x-python",
   "name": "python",
   "nbconvert_exporter": "python",
   "pygments_lexer": "ipython3",
   "version": "3.11.5"
  },
  "toc": {
   "base_numbering": 1,
   "nav_menu": {},
   "number_sections": true,
   "sideBar": true,
   "skip_h1_title": false,
   "title_cell": "Table of Contents",
   "title_sidebar": "Contents",
   "toc_cell": false,
   "toc_position": {},
   "toc_section_display": true,
   "toc_window_display": false
  }
 },
 "nbformat": 4,
 "nbformat_minor": 5
}
